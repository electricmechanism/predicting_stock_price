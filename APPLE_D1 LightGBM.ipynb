{
 "cells": [
  {
   "attachments": {},
   "cell_type": "markdown",
   "metadata": {},
   "source": [
    "## Подготовка"
   ]
  },
  {
   "cell_type": "code",
   "execution_count": 1,
   "metadata": {},
   "outputs": [],
   "source": [
    "import warnings\n",
    "\n",
    "warnings.filterwarnings('ignore')\n",
    "\n",
    "import lightgbm as lgb\n",
    "import numpy as np\n",
    "import optuna\n",
    "import pandas as pd\n",
    "from sklearn.decomposition import PCA\n",
    "from sklearn.metrics import classification_report, precision_score\n",
    "from sklearn.model_selection import train_test_split\n",
    "from sklearn.preprocessing import MinMaxScaler"
   ]
  },
  {
   "cell_type": "code",
   "execution_count": 2,
   "metadata": {},
   "outputs": [],
   "source": [
    "data = pd.read_csv('APLE_PERIOD_D1.csv', index_col=[0], parse_dates=[0])"
   ]
  },
  {
   "cell_type": "code",
   "execution_count": 3,
   "metadata": {},
   "outputs": [
    {
     "data": {
      "text/html": [
       "<div>\n",
       "<style scoped>\n",
       "    .dataframe tbody tr th:only-of-type {\n",
       "        vertical-align: middle;\n",
       "    }\n",
       "\n",
       "    .dataframe tbody tr th {\n",
       "        vertical-align: top;\n",
       "    }\n",
       "\n",
       "    .dataframe thead th {\n",
       "        text-align: right;\n",
       "    }\n",
       "</style>\n",
       "<table border=\"1\" class=\"dataframe\">\n",
       "  <thead>\n",
       "    <tr style=\"text-align: right;\">\n",
       "      <th></th>\n",
       "      <th>A1</th>\n",
       "      <th>A2</th>\n",
       "      <th>A3</th>\n",
       "      <th>A4</th>\n",
       "      <th>A5</th>\n",
       "      <th>A6</th>\n",
       "      <th>A7</th>\n",
       "      <th>A8</th>\n",
       "      <th>A9</th>\n",
       "      <th>A10</th>\n",
       "      <th>...</th>\n",
       "      <th>A30</th>\n",
       "      <th>A31</th>\n",
       "      <th>A32</th>\n",
       "      <th>A33</th>\n",
       "      <th>A34</th>\n",
       "      <th>A35</th>\n",
       "      <th>A36</th>\n",
       "      <th>A37</th>\n",
       "      <th>A38</th>\n",
       "      <th>Close</th>\n",
       "    </tr>\n",
       "    <tr>\n",
       "      <th>data</th>\n",
       "      <th></th>\n",
       "      <th></th>\n",
       "      <th></th>\n",
       "      <th></th>\n",
       "      <th></th>\n",
       "      <th></th>\n",
       "      <th></th>\n",
       "      <th></th>\n",
       "      <th></th>\n",
       "      <th></th>\n",
       "      <th></th>\n",
       "      <th></th>\n",
       "      <th></th>\n",
       "      <th></th>\n",
       "      <th></th>\n",
       "      <th></th>\n",
       "      <th></th>\n",
       "      <th></th>\n",
       "      <th></th>\n",
       "      <th></th>\n",
       "      <th></th>\n",
       "    </tr>\n",
       "  </thead>\n",
       "  <tbody>\n",
       "    <tr>\n",
       "      <th>2017-11-30</th>\n",
       "      <td>0.035</td>\n",
       "      <td>-0.015</td>\n",
       "      <td>0.0875</td>\n",
       "      <td>0.0075</td>\n",
       "      <td>-0.0175</td>\n",
       "      <td>-0.0375</td>\n",
       "      <td>0.0875</td>\n",
       "      <td>0.0075</td>\n",
       "      <td>1.000000e-02</td>\n",
       "      <td>7.105427e-15</td>\n",
       "      <td>...</td>\n",
       "      <td>-0.06</td>\n",
       "      <td>0.000050</td>\n",
       "      <td>-0.029931</td>\n",
       "      <td>0.000000</td>\n",
       "      <td>0.000000</td>\n",
       "      <td>0.03</td>\n",
       "      <td>0.03</td>\n",
       "      <td>3.552714e-15</td>\n",
       "      <td>-0.037431</td>\n",
       "      <td>1</td>\n",
       "    </tr>\n",
       "    <tr>\n",
       "      <th>2017-12-01</th>\n",
       "      <td>-0.015</td>\n",
       "      <td>-0.045</td>\n",
       "      <td>0.0075</td>\n",
       "      <td>0.0225</td>\n",
       "      <td>-0.0375</td>\n",
       "      <td>-0.1125</td>\n",
       "      <td>0.0075</td>\n",
       "      <td>0.0225</td>\n",
       "      <td>7.105427e-15</td>\n",
       "      <td>-6.000000e-02</td>\n",
       "      <td>...</td>\n",
       "      <td>-0.15</td>\n",
       "      <td>-0.029931</td>\n",
       "      <td>0.000069</td>\n",
       "      <td>0.000000</td>\n",
       "      <td>0.000000</td>\n",
       "      <td>0.00</td>\n",
       "      <td>0.00</td>\n",
       "      <td>1.500000e-01</td>\n",
       "      <td>-0.022431</td>\n",
       "      <td>0</td>\n",
       "    </tr>\n",
       "    <tr>\n",
       "      <th>2017-12-04</th>\n",
       "      <td>-0.045</td>\n",
       "      <td>0.060</td>\n",
       "      <td>0.0225</td>\n",
       "      <td>0.1500</td>\n",
       "      <td>-0.1125</td>\n",
       "      <td>-0.0300</td>\n",
       "      <td>0.0225</td>\n",
       "      <td>0.1500</td>\n",
       "      <td>-6.000000e-02</td>\n",
       "      <td>7.500000e-02</td>\n",
       "      <td>...</td>\n",
       "      <td>-0.03</td>\n",
       "      <td>0.000069</td>\n",
       "      <td>-0.029912</td>\n",
       "      <td>0.000000</td>\n",
       "      <td>0.000000</td>\n",
       "      <td>0.03</td>\n",
       "      <td>0.03</td>\n",
       "      <td>3.750000e-02</td>\n",
       "      <td>-0.179912</td>\n",
       "      <td>1</td>\n",
       "    </tr>\n",
       "    <tr>\n",
       "      <th>2017-12-05</th>\n",
       "      <td>0.060</td>\n",
       "      <td>-0.060</td>\n",
       "      <td>0.1500</td>\n",
       "      <td>0.0300</td>\n",
       "      <td>-0.0300</td>\n",
       "      <td>-0.1500</td>\n",
       "      <td>0.1500</td>\n",
       "      <td>0.0300</td>\n",
       "      <td>7.500000e-02</td>\n",
       "      <td>-7.500000e-02</td>\n",
       "      <td>...</td>\n",
       "      <td>-0.09</td>\n",
       "      <td>-0.029912</td>\n",
       "      <td>0.000088</td>\n",
       "      <td>0.000000</td>\n",
       "      <td>0.000000</td>\n",
       "      <td>0.00</td>\n",
       "      <td>0.00</td>\n",
       "      <td>1.875000e-01</td>\n",
       "      <td>-0.029912</td>\n",
       "      <td>0</td>\n",
       "    </tr>\n",
       "    <tr>\n",
       "      <th>2017-12-06</th>\n",
       "      <td>-0.060</td>\n",
       "      <td>0.045</td>\n",
       "      <td>0.0300</td>\n",
       "      <td>0.1125</td>\n",
       "      <td>-0.1500</td>\n",
       "      <td>-0.0225</td>\n",
       "      <td>0.0300</td>\n",
       "      <td>0.1125</td>\n",
       "      <td>-7.500000e-02</td>\n",
       "      <td>4.500000e-02</td>\n",
       "      <td>...</td>\n",
       "      <td>0.00</td>\n",
       "      <td>0.000088</td>\n",
       "      <td>0.000088</td>\n",
       "      <td>0.000000</td>\n",
       "      <td>0.000000</td>\n",
       "      <td>0.00</td>\n",
       "      <td>0.00</td>\n",
       "      <td>2.250000e-02</td>\n",
       "      <td>-0.112412</td>\n",
       "      <td>1</td>\n",
       "    </tr>\n",
       "    <tr>\n",
       "      <th>...</th>\n",
       "      <td>...</td>\n",
       "      <td>...</td>\n",
       "      <td>...</td>\n",
       "      <td>...</td>\n",
       "      <td>...</td>\n",
       "      <td>...</td>\n",
       "      <td>...</td>\n",
       "      <td>...</td>\n",
       "      <td>...</td>\n",
       "      <td>...</td>\n",
       "      <td>...</td>\n",
       "      <td>...</td>\n",
       "      <td>...</td>\n",
       "      <td>...</td>\n",
       "      <td>...</td>\n",
       "      <td>...</td>\n",
       "      <td>...</td>\n",
       "      <td>...</td>\n",
       "      <td>...</td>\n",
       "      <td>...</td>\n",
       "      <td>...</td>\n",
       "    </tr>\n",
       "    <tr>\n",
       "      <th>2024-03-15</th>\n",
       "      <td>0.075</td>\n",
       "      <td>0.165</td>\n",
       "      <td>0.1875</td>\n",
       "      <td>0.4125</td>\n",
       "      <td>-0.0375</td>\n",
       "      <td>-0.0825</td>\n",
       "      <td>0.3250</td>\n",
       "      <td>0.2375</td>\n",
       "      <td>1.350000e-01</td>\n",
       "      <td>1.100000e-01</td>\n",
       "      <td>...</td>\n",
       "      <td>-0.24</td>\n",
       "      <td>0.026316</td>\n",
       "      <td>0.056391</td>\n",
       "      <td>0.094411</td>\n",
       "      <td>0.014286</td>\n",
       "      <td>-0.09</td>\n",
       "      <td>0.32</td>\n",
       "      <td>6.928571e-02</td>\n",
       "      <td>-0.356109</td>\n",
       "      <td>0</td>\n",
       "    </tr>\n",
       "    <tr>\n",
       "      <th>2024-03-18</th>\n",
       "      <td>0.165</td>\n",
       "      <td>0.070</td>\n",
       "      <td>0.4125</td>\n",
       "      <td>0.1750</td>\n",
       "      <td>-0.0825</td>\n",
       "      <td>-0.0350</td>\n",
       "      <td>0.2375</td>\n",
       "      <td>0.1500</td>\n",
       "      <td>1.100000e-01</td>\n",
       "      <td>6.500000e-02</td>\n",
       "      <td>...</td>\n",
       "      <td>-0.12</td>\n",
       "      <td>0.056391</td>\n",
       "      <td>-0.033477</td>\n",
       "      <td>0.014286</td>\n",
       "      <td>-0.085777</td>\n",
       "      <td>0.02</td>\n",
       "      <td>0.31</td>\n",
       "      <td>-5.327694e-02</td>\n",
       "      <td>-0.208477</td>\n",
       "      <td>1</td>\n",
       "    </tr>\n",
       "    <tr>\n",
       "      <th>2024-03-19</th>\n",
       "      <td>0.070</td>\n",
       "      <td>-0.095</td>\n",
       "      <td>0.1750</td>\n",
       "      <td>0.0475</td>\n",
       "      <td>-0.0350</td>\n",
       "      <td>-0.2375</td>\n",
       "      <td>0.1500</td>\n",
       "      <td>0.0725</td>\n",
       "      <td>6.500000e-02</td>\n",
       "      <td>-5.000000e-02</td>\n",
       "      <td>...</td>\n",
       "      <td>-0.31</td>\n",
       "      <td>-0.033477</td>\n",
       "      <td>-0.183252</td>\n",
       "      <td>-0.085777</td>\n",
       "      <td>-0.145802</td>\n",
       "      <td>0.27</td>\n",
       "      <td>0.40</td>\n",
       "      <td>-2.080201e-02</td>\n",
       "      <td>-0.230752</td>\n",
       "      <td>1</td>\n",
       "    </tr>\n",
       "    <tr>\n",
       "      <th>2024-03-20</th>\n",
       "      <td>-0.095</td>\n",
       "      <td>0.010</td>\n",
       "      <td>0.0475</td>\n",
       "      <td>0.0250</td>\n",
       "      <td>-0.2375</td>\n",
       "      <td>-0.0050</td>\n",
       "      <td>0.0725</td>\n",
       "      <td>0.0100</td>\n",
       "      <td>-5.000000e-02</td>\n",
       "      <td>-1.050000e-01</td>\n",
       "      <td>...</td>\n",
       "      <td>-0.35</td>\n",
       "      <td>-0.183252</td>\n",
       "      <td>0.056823</td>\n",
       "      <td>-0.145802</td>\n",
       "      <td>-0.135833</td>\n",
       "      <td>0.09</td>\n",
       "      <td>0.17</td>\n",
       "      <td>1.266667e-01</td>\n",
       "      <td>0.031823</td>\n",
       "      <td>1</td>\n",
       "    </tr>\n",
       "    <tr>\n",
       "      <th>2024-03-21</th>\n",
       "      <td>0.010</td>\n",
       "      <td>-0.005</td>\n",
       "      <td>0.0250</td>\n",
       "      <td>0.0025</td>\n",
       "      <td>-0.0050</td>\n",
       "      <td>-0.0125</td>\n",
       "      <td>0.0100</td>\n",
       "      <td>0.0025</td>\n",
       "      <td>-1.050000e-01</td>\n",
       "      <td>2.500000e-02</td>\n",
       "      <td>...</td>\n",
       "      <td>-0.36</td>\n",
       "      <td>0.056823</td>\n",
       "      <td>0.026917</td>\n",
       "      <td>-0.135833</td>\n",
       "      <td>-0.105883</td>\n",
       "      <td>0.12</td>\n",
       "      <td>0.23</td>\n",
       "      <td>-9.338346e-02</td>\n",
       "      <td>0.024417</td>\n",
       "      <td>0</td>\n",
       "    </tr>\n",
       "  </tbody>\n",
       "</table>\n",
       "<p>1586 rows × 39 columns</p>\n",
       "</div>"
      ],
      "text/plain": [
       "               A1     A2      A3      A4      A5      A6      A7      A8  \\\n",
       "data                                                                       \n",
       "2017-11-30  0.035 -0.015  0.0875  0.0075 -0.0175 -0.0375  0.0875  0.0075   \n",
       "2017-12-01 -0.015 -0.045  0.0075  0.0225 -0.0375 -0.1125  0.0075  0.0225   \n",
       "2017-12-04 -0.045  0.060  0.0225  0.1500 -0.1125 -0.0300  0.0225  0.1500   \n",
       "2017-12-05  0.060 -0.060  0.1500  0.0300 -0.0300 -0.1500  0.1500  0.0300   \n",
       "2017-12-06 -0.060  0.045  0.0300  0.1125 -0.1500 -0.0225  0.0300  0.1125   \n",
       "...           ...    ...     ...     ...     ...     ...     ...     ...   \n",
       "2024-03-15  0.075  0.165  0.1875  0.4125 -0.0375 -0.0825  0.3250  0.2375   \n",
       "2024-03-18  0.165  0.070  0.4125  0.1750 -0.0825 -0.0350  0.2375  0.1500   \n",
       "2024-03-19  0.070 -0.095  0.1750  0.0475 -0.0350 -0.2375  0.1500  0.0725   \n",
       "2024-03-20 -0.095  0.010  0.0475  0.0250 -0.2375 -0.0050  0.0725  0.0100   \n",
       "2024-03-21  0.010 -0.005  0.0250  0.0025 -0.0050 -0.0125  0.0100  0.0025   \n",
       "\n",
       "                      A9           A10  ...   A30       A31       A32  \\\n",
       "data                                    ...                             \n",
       "2017-11-30  1.000000e-02  7.105427e-15  ... -0.06  0.000050 -0.029931   \n",
       "2017-12-01  7.105427e-15 -6.000000e-02  ... -0.15 -0.029931  0.000069   \n",
       "2017-12-04 -6.000000e-02  7.500000e-02  ... -0.03  0.000069 -0.029912   \n",
       "2017-12-05  7.500000e-02 -7.500000e-02  ... -0.09 -0.029912  0.000088   \n",
       "2017-12-06 -7.500000e-02  4.500000e-02  ...  0.00  0.000088  0.000088   \n",
       "...                  ...           ...  ...   ...       ...       ...   \n",
       "2024-03-15  1.350000e-01  1.100000e-01  ... -0.24  0.026316  0.056391   \n",
       "2024-03-18  1.100000e-01  6.500000e-02  ... -0.12  0.056391 -0.033477   \n",
       "2024-03-19  6.500000e-02 -5.000000e-02  ... -0.31 -0.033477 -0.183252   \n",
       "2024-03-20 -5.000000e-02 -1.050000e-01  ... -0.35 -0.183252  0.056823   \n",
       "2024-03-21 -1.050000e-01  2.500000e-02  ... -0.36  0.056823  0.026917   \n",
       "\n",
       "                 A33       A34   A35   A36           A37       A38  Close  \n",
       "data                                                                       \n",
       "2017-11-30  0.000000  0.000000  0.03  0.03  3.552714e-15 -0.037431      1  \n",
       "2017-12-01  0.000000  0.000000  0.00  0.00  1.500000e-01 -0.022431      0  \n",
       "2017-12-04  0.000000  0.000000  0.03  0.03  3.750000e-02 -0.179912      1  \n",
       "2017-12-05  0.000000  0.000000  0.00  0.00  1.875000e-01 -0.029912      0  \n",
       "2017-12-06  0.000000  0.000000  0.00  0.00  2.250000e-02 -0.112412      1  \n",
       "...              ...       ...   ...   ...           ...       ...    ...  \n",
       "2024-03-15  0.094411  0.014286 -0.09  0.32  6.928571e-02 -0.356109      0  \n",
       "2024-03-18  0.014286 -0.085777  0.02  0.31 -5.327694e-02 -0.208477      1  \n",
       "2024-03-19 -0.085777 -0.145802  0.27  0.40 -2.080201e-02 -0.230752      1  \n",
       "2024-03-20 -0.145802 -0.135833  0.09  0.17  1.266667e-01  0.031823      1  \n",
       "2024-03-21 -0.135833 -0.105883  0.12  0.23 -9.338346e-02  0.024417      0  \n",
       "\n",
       "[1586 rows x 39 columns]"
      ]
     },
     "execution_count": 3,
     "metadata": {},
     "output_type": "execute_result"
    }
   ],
   "source": [
    "data = data.iloc[::-1]\n",
    "data"
   ]
  },
  {
   "cell_type": "code",
   "execution_count": 4,
   "metadata": {},
   "outputs": [
    {
     "name": "stdout",
     "output_type": "stream",
     "text": [
      "<class 'pandas.core.frame.DataFrame'>\n",
      "DatetimeIndex: 1586 entries, 2017-11-30 to 2024-03-21\n",
      "Data columns (total 39 columns):\n",
      " #   Column  Non-Null Count  Dtype  \n",
      "---  ------  --------------  -----  \n",
      " 0   A1      1586 non-null   float64\n",
      " 1   A2      1586 non-null   float64\n",
      " 2   A3      1586 non-null   float64\n",
      " 3   A4      1586 non-null   float64\n",
      " 4   A5      1586 non-null   float64\n",
      " 5   A6      1586 non-null   float64\n",
      " 6   A7      1586 non-null   float64\n",
      " 7   A8      1586 non-null   float64\n",
      " 8   A9      1586 non-null   float64\n",
      " 9   A10     1586 non-null   float64\n",
      " 10  A11     1586 non-null   float64\n",
      " 11  A12     1586 non-null   float64\n",
      " 12  A13     1586 non-null   float64\n",
      " 13  A14     1586 non-null   float64\n",
      " 14  A15     1586 non-null   float64\n",
      " 15  A16     1586 non-null   float64\n",
      " 16  A17     1586 non-null   float64\n",
      " 17  A18     1586 non-null   float64\n",
      " 18  A19     1586 non-null   float64\n",
      " 19  A20     1586 non-null   float64\n",
      " 20  A21     1586 non-null   float64\n",
      " 21  A22     1586 non-null   float64\n",
      " 22  A23     1586 non-null   float64\n",
      " 23  A24     1586 non-null   float64\n",
      " 24  A25     1586 non-null   float64\n",
      " 25  A26     1586 non-null   float64\n",
      " 26  A27     1586 non-null   float64\n",
      " 27  A28     1586 non-null   float64\n",
      " 28  A29     1586 non-null   float64\n",
      " 29  A30     1586 non-null   float64\n",
      " 30  A31     1586 non-null   float64\n",
      " 31  A32     1586 non-null   float64\n",
      " 32  A33     1586 non-null   float64\n",
      " 33  A34     1586 non-null   float64\n",
      " 34  A35     1586 non-null   float64\n",
      " 35  A36     1586 non-null   float64\n",
      " 36  A37     1586 non-null   float64\n",
      " 37  A38     1586 non-null   float64\n",
      " 38  Close   1586 non-null   int64  \n",
      "dtypes: float64(38), int64(1)\n",
      "memory usage: 495.6 KB\n"
     ]
    }
   ],
   "source": [
    "data.info()"
   ]
  },
  {
   "attachments": {},
   "cell_type": "markdown",
   "metadata": {},
   "source": [
    "## Обучение"
   ]
  },
  {
   "cell_type": "code",
   "execution_count": 5,
   "metadata": {},
   "outputs": [],
   "source": [
    "X = data.drop('Close', axis=1)\n",
    "y = data[['Close']]"
   ]
  },
  {
   "cell_type": "code",
   "execution_count": 6,
   "metadata": {},
   "outputs": [],
   "source": [
    "X_train, X_test, y_train, y_test = train_test_split(X, y, shuffle=False, random_state=42)"
   ]
  },
  {
   "cell_type": "code",
   "execution_count": 7,
   "metadata": {},
   "outputs": [],
   "source": [
    "scaler = MinMaxScaler()\n",
    "X_train_scaled = scaler.fit_transform(X_train)\n",
    "X_test_scaled = scaler.transform(X_test)"
   ]
  },
  {
   "cell_type": "code",
   "execution_count": 8,
   "metadata": {},
   "outputs": [],
   "source": [
    "pca = PCA(n_components=7)\n",
    "X_train_pca = pca.fit_transform(X_train_scaled)\n",
    "X_test_pca = pca.transform(X_test_scaled)"
   ]
  },
  {
   "cell_type": "code",
   "execution_count": 9,
   "metadata": {},
   "outputs": [
    {
     "data": {
      "text/plain": [
       "array([0.57315351, 0.09923983, 0.08368575, 0.07269912, 0.03499105,\n",
       "       0.02666934, 0.02303646])"
      ]
     },
     "execution_count": 9,
     "metadata": {},
     "output_type": "execute_result"
    }
   ],
   "source": [
    "pca.explained_variance_ratio_"
   ]
  },
  {
   "cell_type": "code",
   "execution_count": 10,
   "metadata": {},
   "outputs": [
    {
     "name": "stdout",
     "output_type": "stream",
     "text": [
      "Суммарная доля объяснённой дисперсии: 0.9134750655407532\n"
     ]
    }
   ],
   "source": [
    "cumulative_variance = np.cumsum(pca.explained_variance_ratio_)\n",
    "print(\"Суммарная доля объяснённой дисперсии:\", cumulative_variance[-1])"
   ]
  },
  {
   "cell_type": "markdown",
   "metadata": {},
   "source": [
    "#### Модель LightGBM"
   ]
  },
  {
   "cell_type": "code",
   "execution_count": 11,
   "metadata": {},
   "outputs": [
    {
     "name": "stdout",
     "output_type": "stream",
     "text": [
      "Training until validation scores don't improve for 50 rounds\n",
      "[10]\ttrain's binary_logloss: 0.562629\tvalid's binary_logloss: 0.632678\n",
      "[20]\ttrain's binary_logloss: 0.483412\tvalid's binary_logloss: 0.617783\n",
      "[30]\ttrain's binary_logloss: 0.425084\tvalid's binary_logloss: 0.618664\n",
      "[40]\ttrain's binary_logloss: 0.373981\tvalid's binary_logloss: 0.621302\n",
      "[50]\ttrain's binary_logloss: 0.329234\tvalid's binary_logloss: 0.627306\n",
      "[60]\ttrain's binary_logloss: 0.291211\tvalid's binary_logloss: 0.638099\n",
      "[70]\ttrain's binary_logloss: 0.258406\tvalid's binary_logloss: 0.647431\n",
      "Early stopping, best iteration is:\n",
      "[27]\ttrain's binary_logloss: 0.441735\tvalid's binary_logloss: 0.617009\n"
     ]
    }
   ],
   "source": [
    "train_set = lgb.Dataset(X_train, label=y_train)\n",
    "test_set = lgb.Dataset(X_test, label=y_test, reference=train_set)\n",
    "params = {\n",
    "    'objective': 'binary',\n",
    "    'metric': 'binary_logloss',\n",
    "    'boosting_type': 'gbdt',\n",
    "    'num_leaves': 31,\n",
    "    'learning_rate': 0.05,\n",
    "    'verbose': -1\n",
    "}\n",
    "early_stopping_cb = lgb.early_stopping(stopping_rounds=50)\n",
    "model = lgb.train(\n",
    "    params=params,\n",
    "    train_set=train_set,\n",
    "    num_boost_round=500,\n",
    "    valid_sets=[train_set, test_set],\n",
    "    valid_names=['train', 'valid'],\n",
    "    callbacks=[early_stopping_cb, lgb.log_evaluation(10)]\n",
    ")\n",
    "y_pred = model.predict(X_test)\n",
    "y_pred_binary = [1 if prob > 0.5 else 0 for prob in y_pred]"
   ]
  },
  {
   "cell_type": "code",
   "execution_count": 12,
   "metadata": {},
   "outputs": [
    {
     "name": "stdout",
     "output_type": "stream",
     "text": [
      "              precision    recall  f1-score   support\n",
      "\n",
      "           0       0.71      0.70      0.71       200\n",
      "           1       0.70      0.71      0.70       197\n",
      "\n",
      "    accuracy                           0.71       397\n",
      "   macro avg       0.71      0.71      0.71       397\n",
      "weighted avg       0.71      0.71      0.71       397\n",
      "\n"
     ]
    }
   ],
   "source": [
    "print(classification_report(y_test, y_pred_binary))"
   ]
  },
  {
   "cell_type": "markdown",
   "metadata": {},
   "source": [
    "#### Подбор параметров"
   ]
  },
  {
   "cell_type": "code",
   "execution_count": 13,
   "metadata": {},
   "outputs": [],
   "source": [
    "def objective(trial):\n",
    "    params = {\n",
    "        'objective': 'binary',\n",
    "        'metric': 'precision',\n",
    "        'boosting_type': 'gbdt',\n",
    "        'num_leaves': trial.suggest_int('num_leaves', 20, 150),\n",
    "        'learning_rate': trial.suggest_float('learning_rate', 0.01, 0.1),\n",
    "        'max_depth': trial.suggest_int('max_depth', 3, 15),\n",
    "        'n_estimators': trial.suggest_int('n_estimators', 100, 1000),\n",
    "        'random_state': 42\n",
    "    }\n",
    "    model = lgb.LGBMClassifier(**params)\n",
    "    model.fit(X_train, y_train)\n",
    "    y_pred = model.predict(X_test)\n",
    "    return precision_score(y_test, y_pred, average='weighted')"
   ]
  },
  {
   "cell_type": "code",
   "execution_count": 14,
   "metadata": {},
   "outputs": [
    {
     "name": "stderr",
     "output_type": "stream",
     "text": []
    }
   ],
   "source": [
    "study = optuna.create_study(direction='maximize')\n",
    "study.optimize(objective, n_trials=1000)"
   ]
  },
  {
   "cell_type": "code",
   "execution_count": 15,
   "metadata": {},
   "outputs": [
    {
     "name": "stdout",
     "output_type": "stream",
     "text": [
      "{'num_leaves': 148, 'learning_rate': 0.010207755877428068, 'max_depth': 3, 'n_estimators': 186}\n"
     ]
    }
   ],
   "source": [
    "best_params = study.best_params\n",
    "print(best_params)"
   ]
  },
  {
   "cell_type": "code",
   "execution_count": 16,
   "metadata": {},
   "outputs": [],
   "source": [
    "best_params.update({\n",
    "    'objective': 'binary',\n",
    "    'metric': 'binary_logloss',\n",
    "    'boosting_type': 'gbdt',\n",
    "})"
   ]
  },
  {
   "cell_type": "markdown",
   "metadata": {},
   "source": [
    "#### Обучение с лучшими параметрами"
   ]
  },
  {
   "cell_type": "code",
   "execution_count": 17,
   "metadata": {},
   "outputs": [
    {
     "name": "stdout",
     "output_type": "stream",
     "text": [
      "Training until validation scores don't improve for 50 rounds\n",
      "[10]\ttrain's binary_logloss: 0.674266\tvalid's binary_logloss: 0.678678\n",
      "[20]\ttrain's binary_logloss: 0.657982\tvalid's binary_logloss: 0.66623\n",
      "[30]\ttrain's binary_logloss: 0.644061\tvalid's binary_logloss: 0.65573\n",
      "[40]\ttrain's binary_logloss: 0.632032\tvalid's binary_logloss: 0.646854\n",
      "[50]\ttrain's binary_logloss: 0.621436\tvalid's binary_logloss: 0.639611\n",
      "[60]\ttrain's binary_logloss: 0.612153\tvalid's binary_logloss: 0.633503\n",
      "[70]\ttrain's binary_logloss: 0.603926\tvalid's binary_logloss: 0.627939\n",
      "[80]\ttrain's binary_logloss: 0.596468\tvalid's binary_logloss: 0.623316\n",
      "[90]\ttrain's binary_logloss: 0.589607\tvalid's binary_logloss: 0.620328\n",
      "[100]\ttrain's binary_logloss: 0.583217\tvalid's binary_logloss: 0.617306\n",
      "[110]\ttrain's binary_logloss: 0.577404\tvalid's binary_logloss: 0.614691\n",
      "[120]\ttrain's binary_logloss: 0.572131\tvalid's binary_logloss: 0.612431\n",
      "[130]\ttrain's binary_logloss: 0.567175\tvalid's binary_logloss: 0.610491\n",
      "[140]\ttrain's binary_logloss: 0.562436\tvalid's binary_logloss: 0.608894\n",
      "[150]\ttrain's binary_logloss: 0.557941\tvalid's binary_logloss: 0.607598\n",
      "[160]\ttrain's binary_logloss: 0.553811\tvalid's binary_logloss: 0.606654\n",
      "[170]\ttrain's binary_logloss: 0.549865\tvalid's binary_logloss: 0.605095\n",
      "[180]\ttrain's binary_logloss: 0.546322\tvalid's binary_logloss: 0.603721\n",
      "Did not meet early stopping. Best iteration is:\n",
      "[186]\ttrain's binary_logloss: 0.544132\tvalid's binary_logloss: 0.602731\n"
     ]
    }
   ],
   "source": [
    "model_best = lgb.train(\n",
    "    params=best_params,\n",
    "    train_set=train_set,\n",
    "    num_boost_round=500,\n",
    "    valid_sets=[train_set, test_set],\n",
    "    valid_names=['train', 'valid'],\n",
    "    callbacks=[early_stopping_cb, lgb.log_evaluation(10)]\n",
    ")\n",
    "y_pred_best = model_best.predict(X_test)\n",
    "y_pred_binary_best = [1 if prob > 0.5 else 0 for prob in y_pred_best]"
   ]
  },
  {
   "cell_type": "code",
   "execution_count": 18,
   "metadata": {},
   "outputs": [
    {
     "name": "stdout",
     "output_type": "stream",
     "text": [
      "              precision    recall  f1-score   support\n",
      "\n",
      "           0       0.74      0.71      0.73       200\n",
      "           1       0.72      0.75      0.73       197\n",
      "\n",
      "    accuracy                           0.73       397\n",
      "   macro avg       0.73      0.73      0.73       397\n",
      "weighted avg       0.73      0.73      0.73       397\n",
      "\n"
     ]
    }
   ],
   "source": [
    "print(classification_report(y_test, y_pred_binary_best))"
   ]
  }
 ],
 "metadata": {
  "ExecuteTimeLog": [
   {
    "duration": 1476,
    "start_time": "2022-12-27T20:59:27.668Z"
   },
   {
    "duration": 155,
    "start_time": "2022-12-27T20:59:39.941Z"
   },
   {
    "duration": 5,
    "start_time": "2022-12-27T20:59:47.270Z"
   },
   {
    "duration": 9,
    "start_time": "2022-12-27T20:59:56.274Z"
   },
   {
    "duration": 10,
    "start_time": "2022-12-27T21:00:07.599Z"
   },
   {
    "duration": 251,
    "start_time": "2022-12-27T21:00:44.875Z"
   },
   {
    "duration": 301,
    "start_time": "2022-12-27T21:02:13.897Z"
   },
   {
    "duration": 238,
    "start_time": "2022-12-27T21:02:20.849Z"
   },
   {
    "duration": 230,
    "start_time": "2022-12-27T21:02:27.654Z"
   },
   {
    "duration": 217,
    "start_time": "2022-12-27T21:02:38.139Z"
   },
   {
    "duration": 225,
    "start_time": "2022-12-27T21:02:45.905Z"
   },
   {
    "duration": 6,
    "start_time": "2022-12-27T21:10:10.358Z"
   },
   {
    "duration": 111,
    "start_time": "2022-12-27T21:10:12.170Z"
   },
   {
    "duration": 10,
    "start_time": "2022-12-27T21:10:17.463Z"
   },
   {
    "duration": 190,
    "start_time": "2022-12-27T21:11:10.968Z"
   },
   {
    "duration": 291,
    "start_time": "2022-12-27T21:13:12.013Z"
   },
   {
    "duration": 212,
    "start_time": "2022-12-27T21:13:28.727Z"
   },
   {
    "duration": 49,
    "start_time": "2022-12-27T21:13:46.907Z"
   },
   {
    "duration": 227,
    "start_time": "2022-12-27T21:13:50.879Z"
   },
   {
    "duration": 198,
    "start_time": "2022-12-27T21:14:00.906Z"
   },
   {
    "duration": 9,
    "start_time": "2022-12-27T21:14:25.329Z"
   },
   {
    "duration": 11,
    "start_time": "2022-12-27T21:15:04.670Z"
   },
   {
    "duration": 4,
    "start_time": "2022-12-27T21:15:58.509Z"
   },
   {
    "duration": 45,
    "start_time": "2022-12-27T21:16:00.287Z"
   },
   {
    "duration": 570,
    "start_time": "2022-12-27T21:16:04.630Z"
   },
   {
    "duration": 673,
    "start_time": "2022-12-27T21:16:18.508Z"
   },
   {
    "duration": 185,
    "start_time": "2022-12-27T21:16:25.788Z"
   },
   {
    "duration": 10,
    "start_time": "2022-12-27T21:16:31.059Z"
   },
   {
    "duration": 4,
    "start_time": "2022-12-27T21:16:46.980Z"
   },
   {
    "duration": 46,
    "start_time": "2022-12-27T21:16:47.413Z"
   },
   {
    "duration": 193,
    "start_time": "2022-12-27T21:16:50.583Z"
   },
   {
    "duration": 565,
    "start_time": "2022-12-27T21:16:51.306Z"
   },
   {
    "duration": 322,
    "start_time": "2022-12-27T21:16:54.952Z"
   },
   {
    "duration": 17,
    "start_time": "2022-12-27T21:18:46.138Z"
   },
   {
    "duration": 4,
    "start_time": "2022-12-27T21:19:36.140Z"
   },
   {
    "duration": 54,
    "start_time": "2022-12-27T21:19:36.604Z"
   },
   {
    "duration": 17,
    "start_time": "2022-12-27T21:19:42.868Z"
   },
   {
    "duration": 11,
    "start_time": "2022-12-27T21:19:51.255Z"
   },
   {
    "duration": 908,
    "start_time": "2022-12-27T21:21:25.125Z"
   },
   {
    "duration": 854,
    "start_time": "2022-12-27T21:21:59.919Z"
   },
   {
    "duration": 604,
    "start_time": "2022-12-27T22:09:29.827Z"
   },
   {
    "duration": 4,
    "start_time": "2022-12-27T22:24:17.255Z"
   },
   {
    "duration": 180,
    "start_time": "2022-12-27T22:33:52.178Z"
   },
   {
    "duration": 13,
    "start_time": "2022-12-27T22:35:18.869Z"
   },
   {
    "duration": 1354,
    "start_time": "2022-12-27T22:35:33.777Z"
   },
   {
    "duration": 3,
    "start_time": "2022-12-27T22:35:58.195Z"
   },
   {
    "duration": 7,
    "start_time": "2022-12-27T22:42:28.439Z"
   },
   {
    "duration": 249,
    "start_time": "2022-12-27T22:42:55.213Z"
   },
   {
    "duration": 145,
    "start_time": "2022-12-27T22:43:41.490Z"
   },
   {
    "duration": 208,
    "start_time": "2022-12-27T22:44:30.858Z"
   },
   {
    "duration": 239,
    "start_time": "2022-12-27T22:44:39.720Z"
   },
   {
    "duration": 223,
    "start_time": "2022-12-27T22:46:05.941Z"
   },
   {
    "duration": 257,
    "start_time": "2022-12-27T22:46:17.397Z"
   },
   {
    "duration": 139,
    "start_time": "2022-12-27T22:48:20.815Z"
   },
   {
    "duration": 371,
    "start_time": "2022-12-27T22:48:32.951Z"
   },
   {
    "duration": 234,
    "start_time": "2022-12-27T22:48:47.432Z"
   },
   {
    "duration": 285,
    "start_time": "2022-12-27T22:48:52.704Z"
   },
   {
    "duration": 257,
    "start_time": "2022-12-27T22:49:03.428Z"
   },
   {
    "duration": 219,
    "start_time": "2022-12-27T22:49:10.045Z"
   },
   {
    "duration": 223,
    "start_time": "2022-12-27T22:51:01.947Z"
   },
   {
    "duration": 249,
    "start_time": "2022-12-27T22:51:08.221Z"
   },
   {
    "duration": 198,
    "start_time": "2022-12-27T22:51:14.366Z"
   },
   {
    "duration": 324,
    "start_time": "2022-12-27T22:51:22.323Z"
   },
   {
    "duration": 334,
    "start_time": "2022-12-27T22:51:29.307Z"
   },
   {
    "duration": 268,
    "start_time": "2022-12-27T22:51:40.825Z"
   },
   {
    "duration": 278,
    "start_time": "2022-12-27T22:53:34.475Z"
   },
   {
    "duration": 232,
    "start_time": "2022-12-27T22:53:41.738Z"
   },
   {
    "duration": 256,
    "start_time": "2022-12-27T22:55:28.586Z"
   },
   {
    "duration": 12,
    "start_time": "2022-12-27T22:58:01.676Z"
   },
   {
    "duration": 311,
    "start_time": "2022-12-27T23:00:06.345Z"
   },
   {
    "duration": 248,
    "start_time": "2022-12-27T23:00:20.531Z"
   },
   {
    "duration": 262,
    "start_time": "2022-12-27T23:00:28.305Z"
   },
   {
    "duration": 224,
    "start_time": "2022-12-27T23:04:48.552Z"
   },
   {
    "duration": 809,
    "start_time": "2022-12-27T23:05:15.162Z"
   },
   {
    "duration": 4083,
    "start_time": "2022-12-27T23:05:21.044Z"
   },
   {
    "duration": 2633,
    "start_time": "2022-12-27T23:05:40.005Z"
   },
   {
    "duration": 485,
    "start_time": "2022-12-27T23:05:50.400Z"
   },
   {
    "duration": 2796,
    "start_time": "2022-12-27T23:06:04.279Z"
   },
   {
    "duration": 4181,
    "start_time": "2022-12-27T23:06:15.504Z"
   },
   {
    "duration": 13595,
    "start_time": "2022-12-27T23:06:39.665Z"
   },
   {
    "duration": 12296,
    "start_time": "2022-12-27T23:07:08.504Z"
   },
   {
    "duration": 16729,
    "start_time": "2022-12-27T23:07:31.688Z"
   },
   {
    "duration": 154,
    "start_time": "2022-12-27T23:09:00.171Z"
   },
   {
    "duration": 115,
    "start_time": "2022-12-27T23:12:07.259Z"
   },
   {
    "duration": 125,
    "start_time": "2022-12-27T23:12:18.931Z"
   },
   {
    "duration": 15979,
    "start_time": "2022-12-27T23:13:03.020Z"
   },
   {
    "duration": 15160,
    "start_time": "2022-12-27T23:13:56.747Z"
   },
   {
    "duration": 103,
    "start_time": "2022-12-27T23:16:38.869Z"
   },
   {
    "duration": 6,
    "start_time": "2022-12-27T23:19:38.702Z"
   },
   {
    "duration": 562,
    "start_time": "2022-12-27T23:20:11.377Z"
   },
   {
    "duration": 333,
    "start_time": "2022-12-27T23:20:23.202Z"
   },
   {
    "duration": 306,
    "start_time": "2022-12-27T23:20:28.766Z"
   },
   {
    "duration": 250,
    "start_time": "2022-12-27T23:20:35.950Z"
   },
   {
    "duration": 299,
    "start_time": "2022-12-27T23:20:44.113Z"
   },
   {
    "duration": 297,
    "start_time": "2022-12-27T23:22:22.309Z"
   },
   {
    "duration": 266,
    "start_time": "2022-12-27T23:22:32.717Z"
   },
   {
    "duration": 271,
    "start_time": "2022-12-27T23:22:42.111Z"
   },
   {
    "duration": 242,
    "start_time": "2022-12-27T23:23:17.441Z"
   },
   {
    "duration": 1624,
    "start_time": "2022-12-27T23:43:25.099Z"
   },
   {
    "duration": 73,
    "start_time": "2022-12-27T23:55:23.216Z"
   },
   {
    "duration": 74,
    "start_time": "2022-12-27T23:55:33.823Z"
   },
   {
    "duration": 2544,
    "start_time": "2022-12-27T23:55:41.773Z"
   },
   {
    "duration": 12,
    "start_time": "2022-12-28T10:21:28.967Z"
   },
   {
    "duration": 6,
    "start_time": "2022-12-28T10:22:49.697Z"
   },
   {
    "duration": 6,
    "start_time": "2022-12-28T10:22:56.388Z"
   },
   {
    "duration": 45,
    "start_time": "2022-12-28T10:29:13.608Z"
   },
   {
    "duration": 7,
    "start_time": "2022-12-28T10:29:36.229Z"
   },
   {
    "duration": 1992,
    "start_time": "2022-12-28T10:29:44.214Z"
   },
   {
    "duration": 199,
    "start_time": "2022-12-28T10:29:46.209Z"
   },
   {
    "duration": 7,
    "start_time": "2022-12-28T10:29:46.411Z"
   },
   {
    "duration": 16,
    "start_time": "2022-12-28T10:29:46.420Z"
   },
   {
    "duration": 24,
    "start_time": "2022-12-28T10:29:46.438Z"
   },
   {
    "duration": 5,
    "start_time": "2022-12-28T10:29:46.728Z"
   },
   {
    "duration": 12,
    "start_time": "2022-12-28T10:29:47.033Z"
   },
   {
    "duration": 293,
    "start_time": "2022-12-28T10:29:47.293Z"
   },
   {
    "duration": 261,
    "start_time": "2022-12-28T10:29:47.588Z"
   },
   {
    "duration": 663,
    "start_time": "2022-12-28T10:29:47.851Z"
   },
   {
    "duration": 6,
    "start_time": "2022-12-28T10:29:48.516Z"
   },
   {
    "duration": 999,
    "start_time": "2022-12-28T10:29:48.524Z"
   },
   {
    "duration": 603,
    "start_time": "2022-12-28T10:29:49.525Z"
   },
   {
    "duration": 1524,
    "start_time": "2022-12-28T10:29:50.180Z"
   },
   {
    "duration": 379,
    "start_time": "2022-12-28T10:29:51.798Z"
   },
   {
    "duration": 9,
    "start_time": "2022-12-28T10:29:54.141Z"
   },
   {
    "duration": 120,
    "start_time": "2022-12-28T10:29:54.813Z"
   },
   {
    "duration": 7,
    "start_time": "2022-12-28T10:31:01.292Z"
   },
   {
    "duration": 32,
    "start_time": "2022-12-28T10:31:02.773Z"
   },
   {
    "duration": 3,
    "start_time": "2022-12-28T10:34:58.971Z"
   },
   {
    "duration": 7,
    "start_time": "2022-12-28T10:34:59.392Z"
   },
   {
    "duration": 33,
    "start_time": "2022-12-28T10:35:00.879Z"
   },
   {
    "duration": 34,
    "start_time": "2022-12-28T10:35:08.827Z"
   },
   {
    "duration": 38,
    "start_time": "2022-12-28T10:42:04.013Z"
   },
   {
    "duration": 35,
    "start_time": "2022-12-28T10:42:04.545Z"
   },
   {
    "duration": 15,
    "start_time": "2022-12-28T10:43:35.918Z"
   },
   {
    "duration": 29,
    "start_time": "2022-12-28T10:43:51.209Z"
   },
   {
    "duration": 6,
    "start_time": "2022-12-28T10:45:53.457Z"
   },
   {
    "duration": 29,
    "start_time": "2022-12-28T10:45:54.670Z"
   },
   {
    "duration": 34,
    "start_time": "2022-12-28T10:45:55.310Z"
   },
   {
    "duration": 384,
    "start_time": "2022-12-28T10:46:02.908Z"
   },
   {
    "duration": 378,
    "start_time": "2022-12-28T10:46:29.247Z"
   },
   {
    "duration": 3,
    "start_time": "2022-12-28T10:48:11.874Z"
   },
   {
    "duration": 6,
    "start_time": "2022-12-28T10:48:14.968Z"
   },
   {
    "duration": 28,
    "start_time": "2022-12-28T10:48:15.605Z"
   },
   {
    "duration": 34,
    "start_time": "2022-12-28T10:48:16.305Z"
   },
   {
    "duration": 3,
    "start_time": "2022-12-28T10:55:15.361Z"
   },
   {
    "duration": 136,
    "start_time": "2022-12-28T10:56:51.965Z"
   },
   {
    "duration": 187,
    "start_time": "2022-12-28T10:58:44.212Z"
   },
   {
    "duration": 6,
    "start_time": "2022-12-28T10:58:44.774Z"
   },
   {
    "duration": 197,
    "start_time": "2022-12-28T10:58:52.435Z"
   },
   {
    "duration": 39,
    "start_time": "2022-12-28T11:03:53.062Z"
   },
   {
    "duration": 22,
    "start_time": "2022-12-28T11:04:11.914Z"
   },
   {
    "duration": 10,
    "start_time": "2022-12-28T11:04:15.570Z"
   },
   {
    "duration": 5,
    "start_time": "2022-12-28T11:04:16.029Z"
   },
   {
    "duration": 31,
    "start_time": "2022-12-28T11:04:45.380Z"
   },
   {
    "duration": 51,
    "start_time": "2022-12-28T11:04:53.153Z"
   },
   {
    "duration": 14,
    "start_time": "2022-12-28T11:05:22.215Z"
   },
   {
    "duration": 37,
    "start_time": "2022-12-28T11:05:22.779Z"
   },
   {
    "duration": 6,
    "start_time": "2022-12-28T11:05:50.510Z"
   },
   {
    "duration": 39,
    "start_time": "2022-12-28T11:05:57.777Z"
   },
   {
    "duration": 149,
    "start_time": "2022-12-28T13:41:14.437Z"
   },
   {
    "duration": 9,
    "start_time": "2022-12-28T13:41:27.534Z"
   },
   {
    "duration": 481,
    "start_time": "2022-12-28T13:42:01.231Z"
   },
   {
    "duration": 420,
    "start_time": "2022-12-28T13:42:38.426Z"
   },
   {
    "duration": 7,
    "start_time": "2022-12-28T13:43:06.822Z"
   },
   {
    "duration": 12,
    "start_time": "2022-12-28T13:43:08.127Z"
   },
   {
    "duration": 8,
    "start_time": "2022-12-28T13:43:20.867Z"
   },
   {
    "duration": 5,
    "start_time": "2022-12-28T13:43:21.276Z"
   },
   {
    "duration": 137,
    "start_time": "2022-12-28T13:43:39.860Z"
   },
   {
    "duration": 5,
    "start_time": "2022-12-28T13:43:40.355Z"
   },
   {
    "duration": 4,
    "start_time": "2022-12-28T13:44:35.850Z"
   },
   {
    "duration": 69,
    "start_time": "2022-12-28T13:44:40.345Z"
   },
   {
    "duration": 5,
    "start_time": "2022-12-28T13:44:40.929Z"
   },
   {
    "duration": 7,
    "start_time": "2022-12-28T13:45:24.743Z"
   },
   {
    "duration": 15,
    "start_time": "2022-12-28T13:45:56.572Z"
   },
   {
    "duration": 12,
    "start_time": "2022-12-28T13:46:06.638Z"
   },
   {
    "duration": 16,
    "start_time": "2022-12-28T13:46:18.684Z"
   },
   {
    "duration": 5,
    "start_time": "2022-12-28T13:46:40.836Z"
   },
   {
    "duration": 63,
    "start_time": "2022-12-28T13:46:41.225Z"
   },
   {
    "duration": 5,
    "start_time": "2022-12-28T13:46:41.532Z"
   },
   {
    "duration": 10,
    "start_time": "2022-12-28T13:46:41.755Z"
   },
   {
    "duration": 11,
    "start_time": "2022-12-28T13:46:41.981Z"
   },
   {
    "duration": 5,
    "start_time": "2022-12-28T13:46:42.929Z"
   },
   {
    "duration": 24,
    "start_time": "2022-12-28T13:46:43.184Z"
   },
   {
    "duration": 266,
    "start_time": "2022-12-28T13:46:43.440Z"
   },
   {
    "duration": 303,
    "start_time": "2022-12-28T13:46:43.760Z"
   },
   {
    "duration": 785,
    "start_time": "2022-12-28T13:46:44.066Z"
   },
   {
    "duration": 7,
    "start_time": "2022-12-28T13:46:44.853Z"
   },
   {
    "duration": 918,
    "start_time": "2022-12-28T13:46:44.862Z"
   },
   {
    "duration": 684,
    "start_time": "2022-12-28T13:46:45.783Z"
   },
   {
    "duration": 4650,
    "start_time": "2022-12-28T13:46:46.469Z"
   },
   {
    "duration": 388,
    "start_time": "2022-12-28T13:46:51.201Z"
   },
   {
    "duration": 4,
    "start_time": "2022-12-28T13:46:51.592Z"
   },
   {
    "duration": 26,
    "start_time": "2022-12-28T13:46:51.598Z"
   },
   {
    "duration": 9,
    "start_time": "2022-12-28T13:46:51.626Z"
   },
   {
    "duration": 36,
    "start_time": "2022-12-28T13:46:51.636Z"
   },
   {
    "duration": 37,
    "start_time": "2022-12-28T13:46:51.861Z"
   },
   {
    "duration": 34,
    "start_time": "2022-12-28T13:46:53.569Z"
   },
   {
    "duration": 44,
    "start_time": "2022-12-28T13:46:54.671Z"
   },
   {
    "duration": 29,
    "start_time": "2022-12-28T13:47:01.821Z"
   },
   {
    "duration": 68,
    "start_time": "2022-12-28T13:47:09.332Z"
   },
   {
    "duration": 6,
    "start_time": "2022-12-28T13:47:10.081Z"
   },
   {
    "duration": 197,
    "start_time": "2022-12-28T13:47:12.844Z"
   },
   {
    "duration": 26,
    "start_time": "2022-12-28T13:47:29.334Z"
   },
   {
    "duration": 1919,
    "start_time": "2022-12-28T13:55:56.715Z"
   },
   {
    "duration": 54,
    "start_time": "2022-12-28T13:55:58.636Z"
   },
   {
    "duration": 6,
    "start_time": "2022-12-28T13:55:58.691Z"
   },
   {
    "duration": 16,
    "start_time": "2022-12-28T13:55:58.700Z"
   },
   {
    "duration": 38,
    "start_time": "2022-12-28T13:55:58.718Z"
   },
   {
    "duration": 6,
    "start_time": "2022-12-28T13:55:59.150Z"
   },
   {
    "duration": 18,
    "start_time": "2022-12-28T13:55:59.437Z"
   },
   {
    "duration": 299,
    "start_time": "2022-12-28T13:55:59.724Z"
   },
   {
    "duration": 283,
    "start_time": "2022-12-28T13:56:00.025Z"
   },
   {
    "duration": 700,
    "start_time": "2022-12-28T13:56:00.310Z"
   },
   {
    "duration": 8,
    "start_time": "2022-12-28T13:56:01.012Z"
   },
   {
    "duration": 1063,
    "start_time": "2022-12-28T13:56:01.022Z"
   },
   {
    "duration": 689,
    "start_time": "2022-12-28T13:56:02.088Z"
   },
   {
    "duration": 1231,
    "start_time": "2022-12-28T13:56:02.779Z"
   },
   {
    "duration": 285,
    "start_time": "2022-12-28T13:56:07.625Z"
   },
   {
    "duration": 3,
    "start_time": "2022-12-28T13:56:10.521Z"
   },
   {
    "duration": 4,
    "start_time": "2022-12-28T13:56:10.999Z"
   },
   {
    "duration": 6,
    "start_time": "2022-12-28T13:56:13.109Z"
   },
   {
    "duration": 26,
    "start_time": "2022-12-28T13:56:14.193Z"
   },
   {
    "duration": 47,
    "start_time": "2022-12-28T13:56:15.113Z"
   },
   {
    "duration": 34,
    "start_time": "2022-12-28T13:56:19.369Z"
   },
   {
    "duration": 25,
    "start_time": "2022-12-28T13:56:19.968Z"
   },
   {
    "duration": 27,
    "start_time": "2022-12-28T13:56:27.425Z"
   },
   {
    "duration": 123,
    "start_time": "2022-12-28T13:56:30.685Z"
   },
   {
    "duration": 5,
    "start_time": "2022-12-28T13:56:31.158Z"
   },
   {
    "duration": 10,
    "start_time": "2022-12-28T21:28:18.398Z"
   },
   {
    "duration": 51,
    "start_time": "2022-12-28T21:28:19.484Z"
   },
   {
    "duration": 1987,
    "start_time": "2022-12-28T21:28:29.780Z"
   },
   {
    "duration": 112,
    "start_time": "2022-12-28T21:28:31.769Z"
   },
   {
    "duration": 5,
    "start_time": "2022-12-28T21:28:31.883Z"
   },
   {
    "duration": 11,
    "start_time": "2022-12-28T21:28:31.889Z"
   },
   {
    "duration": 10,
    "start_time": "2022-12-28T21:28:32.182Z"
   },
   {
    "duration": 4,
    "start_time": "2022-12-28T21:28:33.840Z"
   },
   {
    "duration": 12,
    "start_time": "2022-12-28T21:28:34.224Z"
   },
   {
    "duration": 377,
    "start_time": "2022-12-28T21:28:34.644Z"
   },
   {
    "duration": 231,
    "start_time": "2022-12-28T21:28:35.074Z"
   },
   {
    "duration": 645,
    "start_time": "2022-12-28T21:28:35.476Z"
   },
   {
    "duration": 7,
    "start_time": "2022-12-28T21:28:36.124Z"
   },
   {
    "duration": 957,
    "start_time": "2022-12-28T21:28:36.299Z"
   },
   {
    "duration": 562,
    "start_time": "2022-12-28T21:28:37.487Z"
   },
   {
    "duration": 1767,
    "start_time": "2022-12-28T21:28:38.916Z"
   },
   {
    "duration": 269,
    "start_time": "2022-12-28T21:28:41.300Z"
   },
   {
    "duration": 3,
    "start_time": "2022-12-28T21:28:44.084Z"
   },
   {
    "duration": 2,
    "start_time": "2022-12-28T21:28:44.640Z"
   },
   {
    "duration": 6,
    "start_time": "2022-12-28T21:28:45.691Z"
   },
   {
    "duration": 807,
    "start_time": "2022-12-28T21:28:47.344Z"
   },
   {
    "duration": 1681,
    "start_time": "2022-12-28T21:31:33.847Z"
   },
   {
    "duration": 67,
    "start_time": "2022-12-28T21:31:35.530Z"
   },
   {
    "duration": 5,
    "start_time": "2022-12-28T21:31:35.599Z"
   },
   {
    "duration": 10,
    "start_time": "2022-12-28T21:31:35.606Z"
   },
   {
    "duration": 10,
    "start_time": "2022-12-28T21:31:35.618Z"
   },
   {
    "duration": 5,
    "start_time": "2022-12-28T21:31:36.320Z"
   },
   {
    "duration": 12,
    "start_time": "2022-12-28T21:31:36.528Z"
   },
   {
    "duration": 239,
    "start_time": "2022-12-28T21:31:36.751Z"
   },
   {
    "duration": 210,
    "start_time": "2022-12-28T21:31:36.991Z"
   },
   {
    "duration": 599,
    "start_time": "2022-12-28T21:31:37.202Z"
   },
   {
    "duration": 6,
    "start_time": "2022-12-28T21:31:37.803Z"
   },
   {
    "duration": 891,
    "start_time": "2022-12-28T21:31:37.810Z"
   },
   {
    "duration": 567,
    "start_time": "2022-12-28T21:31:38.702Z"
   },
   {
    "duration": 3205,
    "start_time": "2022-12-28T21:31:39.271Z"
   },
   {
    "duration": 404,
    "start_time": "2022-12-28T21:31:42.480Z"
   },
   {
    "duration": 4,
    "start_time": "2022-12-28T21:31:43.054Z"
   },
   {
    "duration": 3,
    "start_time": "2022-12-28T21:31:43.871Z"
   },
   {
    "duration": 9,
    "start_time": "2022-12-28T21:31:45.417Z"
   },
   {
    "duration": 828,
    "start_time": "2022-12-28T21:31:48.863Z"
   },
   {
    "duration": 5,
    "start_time": "2022-12-28T21:32:24.050Z"
   },
   {
    "duration": 894,
    "start_time": "2022-12-28T21:32:26.546Z"
   },
   {
    "duration": 7,
    "start_time": "2022-12-28T21:33:00.071Z"
   },
   {
    "duration": 752,
    "start_time": "2022-12-28T21:33:00.983Z"
   },
   {
    "duration": 9,
    "start_time": "2022-12-28T21:33:34.884Z"
   },
   {
    "duration": 26,
    "start_time": "2022-12-28T21:33:35.419Z"
   },
   {
    "duration": 42,
    "start_time": "2022-12-28T21:33:38.917Z"
   },
   {
    "duration": 6,
    "start_time": "2022-12-28T21:33:50.924Z"
   },
   {
    "duration": 705,
    "start_time": "2022-12-28T21:33:51.452Z"
   },
   {
    "duration": 6,
    "start_time": "2022-12-28T21:37:18.881Z"
   },
   {
    "duration": 710,
    "start_time": "2022-12-28T21:37:19.528Z"
   },
   {
    "duration": 5,
    "start_time": "2022-12-28T21:39:04.263Z"
   },
   {
    "duration": 774,
    "start_time": "2022-12-28T21:39:04.819Z"
   },
   {
    "duration": 4,
    "start_time": "2022-12-28T21:42:00.635Z"
   },
   {
    "duration": 4,
    "start_time": "2022-12-28T21:44:24.574Z"
   },
   {
    "duration": 27,
    "start_time": "2022-12-28T21:44:25.370Z"
   },
   {
    "duration": 35,
    "start_time": "2022-12-28T21:44:33.164Z"
   },
   {
    "duration": 4,
    "start_time": "2022-12-28T21:45:17.179Z"
   },
   {
    "duration": 20,
    "start_time": "2022-12-28T21:45:17.738Z"
   },
   {
    "duration": 31,
    "start_time": "2022-12-28T21:45:21.939Z"
   },
   {
    "duration": 1701,
    "start_time": "2022-12-28T21:45:45.875Z"
   },
   {
    "duration": 56,
    "start_time": "2022-12-28T21:45:47.578Z"
   },
   {
    "duration": 6,
    "start_time": "2022-12-28T21:45:47.636Z"
   },
   {
    "duration": 11,
    "start_time": "2022-12-28T21:45:47.644Z"
   },
   {
    "duration": 20,
    "start_time": "2022-12-28T21:45:47.656Z"
   },
   {
    "duration": 5,
    "start_time": "2022-12-28T21:45:47.678Z"
   },
   {
    "duration": 14,
    "start_time": "2022-12-28T21:45:47.842Z"
   },
   {
    "duration": 259,
    "start_time": "2022-12-28T21:45:48.020Z"
   },
   {
    "duration": 231,
    "start_time": "2022-12-28T21:45:48.281Z"
   },
   {
    "duration": 667,
    "start_time": "2022-12-28T21:45:48.514Z"
   },
   {
    "duration": 7,
    "start_time": "2022-12-28T21:45:49.183Z"
   },
   {
    "duration": 909,
    "start_time": "2022-12-28T21:45:49.192Z"
   },
   {
    "duration": 538,
    "start_time": "2022-12-28T21:45:50.103Z"
   },
   {
    "duration": 3737,
    "start_time": "2022-12-28T21:45:50.643Z"
   },
   {
    "duration": 367,
    "start_time": "2022-12-28T21:45:54.384Z"
   },
   {
    "duration": 4,
    "start_time": "2022-12-28T21:45:54.753Z"
   },
   {
    "duration": 27,
    "start_time": "2022-12-28T21:45:54.759Z"
   },
   {
    "duration": 4,
    "start_time": "2022-12-28T21:45:58.332Z"
   },
   {
    "duration": 31,
    "start_time": "2022-12-28T21:45:58.924Z"
   },
   {
    "duration": 50,
    "start_time": "2022-12-28T21:46:04.893Z"
   },
   {
    "duration": 149,
    "start_time": "2022-12-28T21:46:31.641Z"
   },
   {
    "duration": 5,
    "start_time": "2022-12-28T21:47:08.141Z"
   },
   {
    "duration": 29,
    "start_time": "2022-12-28T21:47:08.773Z"
   },
   {
    "duration": 1685,
    "start_time": "2022-12-28T21:49:30.168Z"
   },
   {
    "duration": 47,
    "start_time": "2022-12-28T21:49:31.854Z"
   },
   {
    "duration": 6,
    "start_time": "2022-12-28T21:49:31.903Z"
   },
   {
    "duration": 89,
    "start_time": "2022-12-28T21:49:31.910Z"
   },
   {
    "duration": 72,
    "start_time": "2022-12-28T21:49:32.000Z"
   },
   {
    "duration": 61,
    "start_time": "2022-12-28T21:49:32.074Z"
   },
   {
    "duration": 67,
    "start_time": "2022-12-28T21:49:32.137Z"
   },
   {
    "duration": 249,
    "start_time": "2022-12-28T21:49:32.635Z"
   },
   {
    "duration": 216,
    "start_time": "2022-12-28T21:49:32.885Z"
   },
   {
    "duration": 614,
    "start_time": "2022-12-28T21:49:33.103Z"
   },
   {
    "duration": 6,
    "start_time": "2022-12-28T21:49:33.719Z"
   },
   {
    "duration": 879,
    "start_time": "2022-12-28T21:49:33.727Z"
   },
   {
    "duration": 607,
    "start_time": "2022-12-28T21:49:34.608Z"
   },
   {
    "duration": 2060,
    "start_time": "2022-12-28T21:49:35.217Z"
   },
   {
    "duration": 362,
    "start_time": "2022-12-28T21:49:37.285Z"
   },
   {
    "duration": 3,
    "start_time": "2022-12-28T21:49:41.004Z"
   },
   {
    "duration": 3,
    "start_time": "2022-12-28T21:49:41.533Z"
   },
   {
    "duration": 6,
    "start_time": "2022-12-28T21:49:42.272Z"
   },
   {
    "duration": 35,
    "start_time": "2022-12-28T21:49:48.333Z"
   },
   {
    "duration": 31,
    "start_time": "2022-12-28T21:50:56.933Z"
   },
   {
    "duration": 32,
    "start_time": "2022-12-28T21:51:40.833Z"
   },
   {
    "duration": 26,
    "start_time": "2022-12-28T21:51:42.133Z"
   },
   {
    "duration": 18,
    "start_time": "2022-12-28T21:52:07.576Z"
   },
   {
    "duration": 43,
    "start_time": "2022-12-28T21:52:08.221Z"
   },
   {
    "duration": 97,
    "start_time": "2022-12-28T21:52:22.880Z"
   },
   {
    "duration": 7,
    "start_time": "2022-12-28T21:52:24.069Z"
   },
   {
    "duration": 131,
    "start_time": "2022-12-28T21:52:26.683Z"
   },
   {
    "duration": 189,
    "start_time": "2022-12-28T21:53:19.441Z"
   },
   {
    "duration": 25,
    "start_time": "2022-12-28T21:53:40.662Z"
   },
   {
    "duration": 25,
    "start_time": "2022-12-28T21:53:45.458Z"
   },
   {
    "duration": 5,
    "start_time": "2022-12-28T21:53:46.286Z"
   },
   {
    "duration": 196,
    "start_time": "2022-12-28T21:53:47.647Z"
   },
   {
    "duration": 1688,
    "start_time": "2022-12-28T21:54:37.762Z"
   },
   {
    "duration": 50,
    "start_time": "2022-12-28T21:54:39.451Z"
   },
   {
    "duration": 6,
    "start_time": "2022-12-28T21:54:39.502Z"
   },
   {
    "duration": 29,
    "start_time": "2022-12-28T21:54:39.509Z"
   },
   {
    "duration": 25,
    "start_time": "2022-12-28T21:54:39.540Z"
   },
   {
    "duration": 4,
    "start_time": "2022-12-28T21:54:40.899Z"
   },
   {
    "duration": 12,
    "start_time": "2022-12-28T21:54:41.172Z"
   },
   {
    "duration": 241,
    "start_time": "2022-12-28T21:54:41.478Z"
   },
   {
    "duration": 228,
    "start_time": "2022-12-28T21:54:41.854Z"
   },
   {
    "duration": 618,
    "start_time": "2022-12-28T21:54:42.191Z"
   },
   {
    "duration": 7,
    "start_time": "2022-12-28T21:54:42.811Z"
   },
   {
    "duration": 903,
    "start_time": "2022-12-28T21:54:42.934Z"
   },
   {
    "duration": 577,
    "start_time": "2022-12-28T21:54:43.839Z"
   },
   {
    "duration": 2178,
    "start_time": "2022-12-28T21:54:44.899Z"
   },
   {
    "duration": 364,
    "start_time": "2022-12-28T21:54:47.080Z"
   },
   {
    "duration": 3,
    "start_time": "2022-12-28T21:54:47.502Z"
   },
   {
    "duration": 3,
    "start_time": "2022-12-28T21:54:47.886Z"
   },
   {
    "duration": 4,
    "start_time": "2022-12-28T21:54:48.295Z"
   },
   {
    "duration": 30,
    "start_time": "2022-12-28T21:54:48.687Z"
   },
   {
    "duration": 32,
    "start_time": "2022-12-28T21:54:49.360Z"
   },
   {
    "duration": 31,
    "start_time": "2022-12-28T21:54:50.971Z"
   },
   {
    "duration": 42,
    "start_time": "2022-12-28T21:55:00.537Z"
   },
   {
    "duration": 28,
    "start_time": "2022-12-28T21:55:16.272Z"
   },
   {
    "duration": 14,
    "start_time": "2022-12-28T21:56:09.001Z"
   },
   {
    "duration": 26,
    "start_time": "2022-12-28T21:56:09.585Z"
   },
   {
    "duration": 21,
    "start_time": "2022-12-28T21:56:15.368Z"
   },
   {
    "duration": 6,
    "start_time": "2022-12-28T21:56:15.936Z"
   },
   {
    "duration": 176,
    "start_time": "2022-12-28T21:56:17.813Z"
   },
   {
    "duration": 84,
    "start_time": "2022-12-28T21:56:58.994Z"
   },
   {
    "duration": 6,
    "start_time": "2022-12-28T21:57:00.073Z"
   },
   {
    "duration": 197,
    "start_time": "2022-12-28T21:57:03.154Z"
   },
   {
    "duration": 58,
    "start_time": "2022-12-28T21:59:51.725Z"
   },
   {
    "duration": 5,
    "start_time": "2022-12-28T21:59:54.201Z"
   },
   {
    "duration": 142,
    "start_time": "2022-12-28T22:01:47.604Z"
   },
   {
    "duration": 181,
    "start_time": "2022-12-28T22:03:31.526Z"
   },
   {
    "duration": 15,
    "start_time": "2022-12-28T22:03:55.047Z"
   },
   {
    "duration": 21,
    "start_time": "2022-12-28T22:05:52.956Z"
   },
   {
    "duration": 34,
    "start_time": "2022-12-28T22:05:53.600Z"
   },
   {
    "duration": 35,
    "start_time": "2022-12-28T22:05:56.734Z"
   },
   {
    "duration": 27,
    "start_time": "2022-12-28T22:05:57.578Z"
   },
   {
    "duration": 199,
    "start_time": "2022-12-28T22:05:59.578Z"
   },
   {
    "duration": 6,
    "start_time": "2022-12-28T22:06:01.962Z"
   },
   {
    "duration": 170,
    "start_time": "2022-12-28T22:06:11.850Z"
   },
   {
    "duration": 2,
    "start_time": "2022-12-28T22:07:01.007Z"
   },
   {
    "duration": 3,
    "start_time": "2022-12-28T22:07:21.325Z"
   },
   {
    "duration": 4,
    "start_time": "2022-12-28T22:07:33.251Z"
   },
   {
    "duration": 26243,
    "start_time": "2022-12-28T22:08:06.883Z"
   },
   {
    "duration": 4,
    "start_time": "2022-12-28T22:10:30.472Z"
   },
   {
    "duration": 2,
    "start_time": "2022-12-28T22:10:44.225Z"
   },
   {
    "duration": 3,
    "start_time": "2022-12-28T22:10:58.750Z"
   },
   {
    "duration": 93,
    "start_time": "2022-12-28T22:11:14.438Z"
   },
   {
    "duration": 21,
    "start_time": "2022-12-28T22:11:29.478Z"
   },
   {
    "duration": 6,
    "start_time": "2022-12-28T22:11:57.018Z"
   },
   {
    "duration": 183,
    "start_time": "2022-12-28T22:12:33.823Z"
   },
   {
    "duration": 171,
    "start_time": "2022-12-28T22:12:57.996Z"
   },
   {
    "duration": 27,
    "start_time": "2022-12-28T22:13:18.126Z"
   },
   {
    "duration": 26,
    "start_time": "2022-12-28T22:13:27.409Z"
   },
   {
    "duration": 6,
    "start_time": "2022-12-28T22:13:54.493Z"
   },
   {
    "duration": 6,
    "start_time": "2022-12-28T22:14:09.045Z"
   },
   {
    "duration": 22,
    "start_time": "2022-12-28T22:15:02.089Z"
   },
   {
    "duration": 6,
    "start_time": "2022-12-28T22:15:02.831Z"
   },
   {
    "duration": 5,
    "start_time": "2022-12-28T22:15:50.263Z"
   },
   {
    "duration": 23,
    "start_time": "2022-12-28T22:15:59.200Z"
   },
   {
    "duration": 6,
    "start_time": "2022-12-28T22:15:59.784Z"
   },
   {
    "duration": 140,
    "start_time": "2022-12-28T22:16:11.236Z"
   },
   {
    "duration": 5,
    "start_time": "2022-12-28T22:16:12.152Z"
   },
   {
    "duration": 79821,
    "start_time": "2022-12-28T22:17:02.361Z"
   },
   {
    "duration": 81606,
    "start_time": "2022-12-28T22:18:22.184Z"
   },
   {
    "duration": 84,
    "start_time": "2022-12-28T22:19:43.793Z"
   },
   {
    "duration": 8,
    "start_time": "2022-12-28T22:19:43.879Z"
   },
   {
    "duration": 8,
    "start_time": "2022-12-28T22:19:43.889Z"
   },
   {
    "duration": 71,
    "start_time": "2022-12-28T22:19:43.898Z"
   },
   {
    "duration": 16,
    "start_time": "2022-12-28T22:20:52.136Z"
   },
   {
    "duration": 6,
    "start_time": "2022-12-28T22:21:30.951Z"
   },
   {
    "duration": 196,
    "start_time": "2022-12-28T22:22:11.146Z"
   },
   {
    "duration": 2,
    "start_time": "2022-12-28T22:26:16.038Z"
   },
   {
    "duration": 4,
    "start_time": "2022-12-28T22:26:16.898Z"
   },
   {
    "duration": 29238,
    "start_time": "2022-12-28T22:26:18.153Z"
   },
   {
    "duration": 3,
    "start_time": "2022-12-28T22:26:47.393Z"
   },
   {
    "duration": 6,
    "start_time": "2022-12-28T22:26:47.397Z"
   },
   {
    "duration": 8,
    "start_time": "2022-12-28T22:26:47.405Z"
   },
   {
    "duration": 23,
    "start_time": "2022-12-28T22:26:47.414Z"
   },
   {
    "duration": 4,
    "start_time": "2022-12-28T22:26:47.439Z"
   },
   {
    "duration": 209,
    "start_time": "2022-12-28T22:26:47.445Z"
   },
   {
    "duration": 2,
    "start_time": "2022-12-28T22:28:51.254Z"
   },
   {
    "duration": 4,
    "start_time": "2022-12-28T22:28:51.934Z"
   },
   {
    "duration": 58405,
    "start_time": "2022-12-28T22:28:52.621Z"
   },
   {
    "duration": 4,
    "start_time": "2022-12-28T22:29:51.027Z"
   },
   {
    "duration": 17,
    "start_time": "2022-12-28T22:29:51.032Z"
   },
   {
    "duration": 7,
    "start_time": "2022-12-28T22:29:51.051Z"
   },
   {
    "duration": 44,
    "start_time": "2022-12-28T22:29:51.060Z"
   },
   {
    "duration": 6,
    "start_time": "2022-12-28T22:29:51.105Z"
   },
   {
    "duration": 207,
    "start_time": "2022-12-28T22:29:51.113Z"
   },
   {
    "duration": 86750,
    "start_time": "2022-12-28T22:32:24.142Z"
   },
   {
    "duration": 76591,
    "start_time": "2022-12-28T22:33:50.894Z"
   },
   {
    "duration": 4,
    "start_time": "2022-12-28T22:35:07.487Z"
   },
   {
    "duration": 7,
    "start_time": "2022-12-28T22:35:07.493Z"
   },
   {
    "duration": 12,
    "start_time": "2022-12-28T22:35:07.502Z"
   },
   {
    "duration": 67,
    "start_time": "2022-12-28T22:35:07.515Z"
   },
   {
    "duration": 5,
    "start_time": "2022-12-28T22:35:07.584Z"
   },
   {
    "duration": 245,
    "start_time": "2022-12-28T22:35:07.591Z"
   },
   {
    "duration": 5,
    "start_time": "2022-12-28T22:35:19.250Z"
   },
   {
    "duration": 46591,
    "start_time": "2022-12-28T22:35:20.902Z"
   },
   {
    "duration": 8,
    "start_time": "2022-12-28T22:37:41.253Z"
   },
   {
    "duration": 1722,
    "start_time": "2022-12-28T22:42:29.860Z"
   },
   {
    "duration": 49,
    "start_time": "2022-12-28T22:42:31.584Z"
   },
   {
    "duration": 6,
    "start_time": "2022-12-28T22:42:31.635Z"
   },
   {
    "duration": 18,
    "start_time": "2022-12-28T22:42:31.643Z"
   },
   {
    "duration": 16,
    "start_time": "2022-12-28T22:42:31.663Z"
   },
   {
    "duration": 4,
    "start_time": "2022-12-28T22:42:33.781Z"
   },
   {
    "duration": 14,
    "start_time": "2022-12-28T22:42:34.211Z"
   },
   {
    "duration": 317,
    "start_time": "2022-12-28T22:42:34.675Z"
   },
   {
    "duration": 249,
    "start_time": "2022-12-28T22:42:35.158Z"
   },
   {
    "duration": 678,
    "start_time": "2022-12-28T22:42:35.583Z"
   },
   {
    "duration": 6,
    "start_time": "2022-12-28T22:42:36.263Z"
   },
   {
    "duration": 979,
    "start_time": "2022-12-28T22:42:36.464Z"
   },
   {
    "duration": 612,
    "start_time": "2022-12-28T22:42:37.445Z"
   },
   {
    "duration": 2815,
    "start_time": "2022-12-28T22:42:38.772Z"
   },
   {
    "duration": 477,
    "start_time": "2022-12-28T22:42:41.590Z"
   },
   {
    "duration": 3,
    "start_time": "2022-12-28T22:42:42.077Z"
   },
   {
    "duration": 3,
    "start_time": "2022-12-28T22:42:42.535Z"
   },
   {
    "duration": 4,
    "start_time": "2022-12-28T22:42:43.023Z"
   },
   {
    "duration": 34,
    "start_time": "2022-12-28T22:42:43.536Z"
   },
   {
    "duration": 35,
    "start_time": "2022-12-28T22:42:44.108Z"
   },
   {
    "duration": 43,
    "start_time": "2022-12-28T22:42:45.372Z"
   },
   {
    "duration": 27,
    "start_time": "2022-12-28T22:42:45.900Z"
   },
   {
    "duration": 182,
    "start_time": "2022-12-28T22:42:46.999Z"
   },
   {
    "duration": 8,
    "start_time": "2022-12-28T22:42:47.495Z"
   },
   {
    "duration": 225,
    "start_time": "2022-12-28T22:42:48.047Z"
   },
   {
    "duration": 3,
    "start_time": "2022-12-28T22:42:49.112Z"
   },
   {
    "duration": 3,
    "start_time": "2022-12-28T22:42:49.584Z"
   },
   {
    "duration": 4,
    "start_time": "2022-12-28T22:42:50.028Z"
   },
   {
    "duration": 56002,
    "start_time": "2022-12-28T22:42:50.467Z"
   },
   {
    "duration": 4,
    "start_time": "2022-12-28T22:43:46.475Z"
   },
   {
    "duration": 5,
    "start_time": "2022-12-28T22:43:46.480Z"
   },
   {
    "duration": 5,
    "start_time": "2022-12-28T22:43:46.487Z"
   },
   {
    "duration": 38,
    "start_time": "2022-12-28T22:43:46.493Z"
   },
   {
    "duration": 6,
    "start_time": "2022-12-28T22:43:46.532Z"
   },
   {
    "duration": 205,
    "start_time": "2022-12-28T22:43:46.539Z"
   },
   {
    "duration": 71433,
    "start_time": "2022-12-28T22:43:46.745Z"
   },
   {
    "duration": 77716,
    "start_time": "2022-12-28T22:44:58.179Z"
   },
   {
    "duration": 4,
    "start_time": "2022-12-28T22:46:15.897Z"
   },
   {
    "duration": 3,
    "start_time": "2022-12-28T22:46:15.977Z"
   },
   {
    "duration": 19,
    "start_time": "2022-12-28T22:46:15.981Z"
   },
   {
    "duration": 25,
    "start_time": "2022-12-28T22:46:16.002Z"
   },
   {
    "duration": 50,
    "start_time": "2022-12-28T22:46:16.029Z"
   },
   {
    "duration": 190,
    "start_time": "2022-12-28T22:46:16.081Z"
   },
   {
    "duration": 3,
    "start_time": "2022-12-28T22:46:16.276Z"
   },
   {
    "duration": 7,
    "start_time": "2022-12-28T22:46:16.280Z"
   },
   {
    "duration": 8,
    "start_time": "2022-12-28T22:46:16.288Z"
   },
   {
    "duration": 111912,
    "start_time": "2022-12-28T22:46:16.298Z"
   },
   {
    "duration": 6,
    "start_time": "2022-12-28T22:48:08.212Z"
   },
   {
    "duration": 5,
    "start_time": "2022-12-28T22:48:08.219Z"
   },
   {
    "duration": 6,
    "start_time": "2022-12-28T22:48:08.225Z"
   },
   {
    "duration": 9,
    "start_time": "2022-12-28T22:48:08.276Z"
   },
   {
    "duration": 24,
    "start_time": "2022-12-28T22:48:08.287Z"
   },
   {
    "duration": 196,
    "start_time": "2022-12-28T22:48:08.313Z"
   },
   {
    "duration": 3,
    "start_time": "2022-12-28T22:48:08.511Z"
   },
   {
    "duration": 9,
    "start_time": "2022-12-28T22:48:08.515Z"
   },
   {
    "duration": 3,
    "start_time": "2022-12-28T22:48:08.527Z"
   },
   {
    "duration": 7,
    "start_time": "2022-12-28T22:48:08.531Z"
   },
   {
    "duration": 9,
    "start_time": "2022-12-28T22:48:49.420Z"
   },
   {
    "duration": 6,
    "start_time": "2022-12-28T22:48:50.287Z"
   },
   {
    "duration": 177,
    "start_time": "2022-12-28T22:48:52.796Z"
   },
   {
    "duration": 73465,
    "start_time": "2022-12-28T22:50:27.412Z"
   },
   {
    "duration": 86199,
    "start_time": "2022-12-28T22:51:40.880Z"
   },
   {
    "duration": 4,
    "start_time": "2022-12-28T22:53:07.080Z"
   },
   {
    "duration": 11,
    "start_time": "2022-12-28T22:53:07.086Z"
   },
   {
    "duration": 27,
    "start_time": "2022-12-28T22:53:07.098Z"
   },
   {
    "duration": 49,
    "start_time": "2022-12-28T22:53:07.127Z"
   },
   {
    "duration": 5,
    "start_time": "2022-12-28T22:53:07.178Z"
   },
   {
    "duration": 199,
    "start_time": "2022-12-28T22:53:07.184Z"
   },
   {
    "duration": 3,
    "start_time": "2022-12-28T22:55:52.029Z"
   },
   {
    "duration": 3,
    "start_time": "2022-12-28T22:55:52.493Z"
   },
   {
    "duration": 5,
    "start_time": "2022-12-28T22:55:52.924Z"
   },
   {
    "duration": 1605,
    "start_time": "2022-12-28T23:02:40.999Z"
   },
   {
    "duration": 47,
    "start_time": "2022-12-28T23:02:44.942Z"
   },
   {
    "duration": 5,
    "start_time": "2022-12-28T23:02:45.399Z"
   },
   {
    "duration": 9,
    "start_time": "2022-12-28T23:02:45.838Z"
   },
   {
    "duration": 10,
    "start_time": "2022-12-28T23:02:46.281Z"
   },
   {
    "duration": 5,
    "start_time": "2022-12-28T23:02:47.986Z"
   },
   {
    "duration": 13,
    "start_time": "2022-12-28T23:02:48.419Z"
   },
   {
    "duration": 238,
    "start_time": "2022-12-28T23:02:48.802Z"
   },
   {
    "duration": 195,
    "start_time": "2022-12-28T23:02:49.200Z"
   },
   {
    "duration": 582,
    "start_time": "2022-12-28T23:02:49.567Z"
   },
   {
    "duration": 7,
    "start_time": "2022-12-28T23:02:50.151Z"
   },
   {
    "duration": 826,
    "start_time": "2022-12-28T23:02:50.278Z"
   },
   {
    "duration": 515,
    "start_time": "2022-12-28T23:02:51.106Z"
   },
   {
    "duration": 1781,
    "start_time": "2022-12-28T23:02:52.194Z"
   },
   {
    "duration": 368,
    "start_time": "2022-12-28T23:02:53.978Z"
   },
   {
    "duration": 3,
    "start_time": "2022-12-28T23:02:54.729Z"
   },
   {
    "duration": 2,
    "start_time": "2022-12-28T23:02:55.078Z"
   },
   {
    "duration": 3,
    "start_time": "2022-12-28T23:02:55.366Z"
   },
   {
    "duration": 29,
    "start_time": "2022-12-28T23:02:55.766Z"
   },
   {
    "duration": 29,
    "start_time": "2022-12-28T23:02:56.159Z"
   },
   {
    "duration": 38,
    "start_time": "2022-12-28T23:02:56.965Z"
   },
   {
    "duration": 25,
    "start_time": "2022-12-28T23:02:57.351Z"
   },
   {
    "duration": 85,
    "start_time": "2022-12-28T23:02:58.098Z"
   },
   {
    "duration": 5,
    "start_time": "2022-12-28T23:02:58.387Z"
   },
   {
    "duration": 163,
    "start_time": "2022-12-28T23:02:58.674Z"
   },
   {
    "duration": 3,
    "start_time": "2022-12-28T23:02:59.330Z"
   },
   {
    "duration": 3,
    "start_time": "2022-12-28T23:02:59.682Z"
   },
   {
    "duration": 4,
    "start_time": "2022-12-28T23:03:00.050Z"
   },
   {
    "duration": 52636,
    "start_time": "2022-12-28T23:03:00.306Z"
   },
   {
    "duration": 4,
    "start_time": "2022-12-28T23:03:52.944Z"
   },
   {
    "duration": 7,
    "start_time": "2022-12-28T23:03:52.949Z"
   },
   {
    "duration": 6,
    "start_time": "2022-12-28T23:03:52.958Z"
   },
   {
    "duration": 40,
    "start_time": "2022-12-28T23:03:52.965Z"
   },
   {
    "duration": 4,
    "start_time": "2022-12-28T23:03:53.006Z"
   },
   {
    "duration": 174,
    "start_time": "2022-12-28T23:03:53.012Z"
   },
   {
    "duration": 73106,
    "start_time": "2022-12-28T23:03:53.187Z"
   },
   {
    "duration": 64216,
    "start_time": "2022-12-28T23:05:06.377Z"
   },
   {
    "duration": 4,
    "start_time": "2022-12-28T23:06:10.595Z"
   },
   {
    "duration": 10,
    "start_time": "2022-12-28T23:06:10.600Z"
   },
   {
    "duration": 5,
    "start_time": "2022-12-28T23:06:10.612Z"
   },
   {
    "duration": 12,
    "start_time": "2022-12-28T23:06:10.677Z"
   },
   {
    "duration": 10,
    "start_time": "2022-12-28T23:06:10.691Z"
   },
   {
    "duration": 245,
    "start_time": "2022-12-28T23:06:10.702Z"
   },
   {
    "duration": 3,
    "start_time": "2022-12-28T23:06:10.948Z"
   },
   {
    "duration": 7,
    "start_time": "2022-12-28T23:06:10.952Z"
   },
   {
    "duration": 16,
    "start_time": "2022-12-28T23:06:10.960Z"
   },
   {
    "duration": 102305,
    "start_time": "2022-12-28T23:06:10.977Z"
   },
   {
    "duration": 6,
    "start_time": "2022-12-28T23:07:53.283Z"
   },
   {
    "duration": 19,
    "start_time": "2022-12-28T23:07:53.290Z"
   },
   {
    "duration": 18,
    "start_time": "2022-12-28T23:07:53.310Z"
   },
   {
    "duration": 26,
    "start_time": "2022-12-28T23:07:53.329Z"
   },
   {
    "duration": 21,
    "start_time": "2022-12-28T23:07:53.356Z"
   },
   {
    "duration": 171,
    "start_time": "2022-12-28T23:07:53.378Z"
   },
   {
    "duration": 3,
    "start_time": "2022-12-28T23:07:53.550Z"
   },
   {
    "duration": 33,
    "start_time": "2022-12-28T23:07:53.554Z"
   },
   {
    "duration": 25,
    "start_time": "2022-12-28T23:07:53.590Z"
   },
   {
    "duration": 29,
    "start_time": "2022-12-28T23:07:53.616Z"
   },
   {
    "duration": 30,
    "start_time": "2022-12-28T23:07:53.646Z"
   },
   {
    "duration": 39,
    "start_time": "2022-12-28T23:07:53.677Z"
   },
   {
    "duration": 19,
    "start_time": "2022-12-28T23:07:53.717Z"
   },
   {
    "duration": 6,
    "start_time": "2022-12-28T23:25:30.018Z"
   },
   {
    "duration": 1911,
    "start_time": "2022-12-29T19:37:56.372Z"
   },
   {
    "duration": 321,
    "start_time": "2022-12-29T19:37:58.285Z"
   },
   {
    "duration": 6,
    "start_time": "2022-12-29T19:37:58.608Z"
   },
   {
    "duration": 11,
    "start_time": "2022-12-29T19:37:58.930Z"
   },
   {
    "duration": 10,
    "start_time": "2022-12-29T19:37:59.426Z"
   },
   {
    "duration": 5,
    "start_time": "2022-12-29T19:38:01.471Z"
   },
   {
    "duration": 19,
    "start_time": "2022-12-29T19:38:01.910Z"
   },
   {
    "duration": 256,
    "start_time": "2022-12-29T19:38:02.326Z"
   },
   {
    "duration": 218,
    "start_time": "2022-12-29T19:38:02.739Z"
   },
   {
    "duration": 642,
    "start_time": "2022-12-29T19:38:03.183Z"
   },
   {
    "duration": 6,
    "start_time": "2022-12-29T19:38:03.828Z"
   },
   {
    "duration": 973,
    "start_time": "2022-12-29T19:38:04.029Z"
   },
   {
    "duration": 563,
    "start_time": "2022-12-29T19:38:05.004Z"
   },
   {
    "duration": 2054,
    "start_time": "2022-12-29T19:38:06.459Z"
   },
   {
    "duration": 369,
    "start_time": "2022-12-29T19:38:08.516Z"
   },
   {
    "duration": 2,
    "start_time": "2022-12-29T19:38:09.550Z"
   },
   {
    "duration": 3,
    "start_time": "2022-12-29T19:38:09.910Z"
   },
   {
    "duration": 4,
    "start_time": "2022-12-29T19:38:10.564Z"
   },
   {
    "duration": 31,
    "start_time": "2022-12-29T19:38:11.139Z"
   },
   {
    "duration": 32,
    "start_time": "2022-12-29T19:38:11.428Z"
   },
   {
    "duration": 36,
    "start_time": "2022-12-29T19:38:12.234Z"
   },
   {
    "duration": 24,
    "start_time": "2022-12-29T19:38:12.765Z"
   },
   {
    "duration": 68,
    "start_time": "2022-12-29T19:38:13.359Z"
   },
   {
    "duration": 7,
    "start_time": "2022-12-29T19:38:13.626Z"
   },
   {
    "duration": 177,
    "start_time": "2022-12-29T19:38:13.886Z"
   },
   {
    "duration": 2,
    "start_time": "2022-12-29T19:38:14.463Z"
   },
   {
    "duration": 3,
    "start_time": "2022-12-29T19:38:14.750Z"
   },
   {
    "duration": 4,
    "start_time": "2022-12-29T19:38:15.134Z"
   },
   {
    "duration": 36904,
    "start_time": "2022-12-29T19:38:16.042Z"
   },
   {
    "duration": 4,
    "start_time": "2022-12-29T19:38:52.947Z"
   },
   {
    "duration": 15,
    "start_time": "2022-12-29T19:38:52.952Z"
   },
   {
    "duration": 11,
    "start_time": "2022-12-29T19:38:52.969Z"
   },
   {
    "duration": 52,
    "start_time": "2022-12-29T19:38:52.982Z"
   },
   {
    "duration": 5,
    "start_time": "2022-12-29T19:38:53.036Z"
   },
   {
    "duration": 197,
    "start_time": "2022-12-29T19:38:53.043Z"
   },
   {
    "duration": 1790,
    "start_time": "2022-12-29T19:45:01.000Z"
   },
   {
    "duration": 55,
    "start_time": "2022-12-29T19:45:02.792Z"
   },
   {
    "duration": 5,
    "start_time": "2022-12-29T19:45:02.849Z"
   },
   {
    "duration": 8,
    "start_time": "2022-12-29T19:45:02.994Z"
   },
   {
    "duration": 11,
    "start_time": "2022-12-29T19:45:03.232Z"
   },
   {
    "duration": 4,
    "start_time": "2022-12-29T19:45:04.326Z"
   },
   {
    "duration": 14,
    "start_time": "2022-12-29T19:45:04.529Z"
   },
   {
    "duration": 262,
    "start_time": "2022-12-29T19:45:04.756Z"
   },
   {
    "duration": 216,
    "start_time": "2022-12-29T19:45:05.027Z"
   },
   {
    "duration": 638,
    "start_time": "2022-12-29T19:45:05.267Z"
   },
   {
    "duration": 9,
    "start_time": "2022-12-29T19:45:05.907Z"
   },
   {
    "duration": 935,
    "start_time": "2022-12-29T19:45:05.918Z"
   },
   {
    "duration": 554,
    "start_time": "2022-12-29T19:45:06.855Z"
   },
   {
    "duration": 2816,
    "start_time": "2022-12-29T19:45:07.413Z"
   },
   {
    "duration": 450,
    "start_time": "2022-12-29T19:45:10.232Z"
   },
   {
    "duration": 3,
    "start_time": "2022-12-29T19:45:10.683Z"
   },
   {
    "duration": 42,
    "start_time": "2022-12-29T19:45:10.688Z"
   },
   {
    "duration": 18,
    "start_time": "2022-12-29T19:45:10.732Z"
   },
   {
    "duration": 62,
    "start_time": "2022-12-29T19:45:10.752Z"
   },
   {
    "duration": 41,
    "start_time": "2022-12-29T19:45:10.815Z"
   },
   {
    "duration": 32,
    "start_time": "2022-12-29T19:45:10.879Z"
   },
   {
    "duration": 31,
    "start_time": "2022-12-29T19:45:11.308Z"
   },
   {
    "duration": 4,
    "start_time": "2022-12-29T19:45:12.010Z"
   },
   {
    "duration": 3,
    "start_time": "2022-12-29T19:45:12.232Z"
   },
   {
    "duration": 4,
    "start_time": "2022-12-29T19:45:12.456Z"
   },
   {
    "duration": 37391,
    "start_time": "2022-12-29T19:45:12.904Z"
   },
   {
    "duration": 12,
    "start_time": "2022-12-29T19:45:50.296Z"
   },
   {
    "duration": 4,
    "start_time": "2022-12-29T19:45:50.310Z"
   },
   {
    "duration": 32,
    "start_time": "2022-12-29T19:45:50.316Z"
   },
   {
    "duration": 938067,
    "start_time": "2022-12-29T19:45:50.350Z"
   },
   {
    "duration": 70817,
    "start_time": "2022-12-29T20:01:28.418Z"
   },
   {
    "duration": 77,
    "start_time": "2022-12-29T20:02:39.236Z"
   },
   {
    "duration": 33,
    "start_time": "2022-12-29T20:02:39.316Z"
   },
   {
    "duration": 18,
    "start_time": "2022-12-29T20:02:39.351Z"
   },
   {
    "duration": 29,
    "start_time": "2022-12-29T20:02:39.372Z"
   },
   {
    "duration": 14,
    "start_time": "2022-12-29T20:02:39.403Z"
   },
   {
    "duration": 41,
    "start_time": "2022-12-29T20:02:39.418Z"
   },
   {
    "duration": 271153,
    "start_time": "2022-12-29T20:02:39.460Z"
   },
   {
    "duration": 6,
    "start_time": "2022-12-29T20:07:10.614Z"
   },
   {
    "duration": 3,
    "start_time": "2022-12-29T20:07:10.622Z"
   },
   {
    "duration": 7,
    "start_time": "2022-12-29T20:07:10.626Z"
   },
   {
    "duration": 5,
    "start_time": "2022-12-29T20:07:10.634Z"
   },
   {
    "duration": 8,
    "start_time": "2022-12-29T20:07:10.641Z"
   },
   {
    "duration": 5,
    "start_time": "2022-12-29T20:07:10.650Z"
   },
   {
    "duration": 8,
    "start_time": "2022-12-29T20:07:10.656Z"
   },
   {
    "duration": 52,
    "start_time": "2022-12-29T20:07:10.665Z"
   },
   {
    "duration": 6,
    "start_time": "2022-12-29T20:07:10.718Z"
   },
   {
    "duration": 232,
    "start_time": "2022-12-29T20:07:10.725Z"
   },
   {
    "duration": 1604,
    "start_time": "2022-12-29T20:12:57.868Z"
   },
   {
    "duration": 47,
    "start_time": "2022-12-29T20:12:59.474Z"
   },
   {
    "duration": 5,
    "start_time": "2022-12-29T20:12:59.523Z"
   },
   {
    "duration": 11,
    "start_time": "2022-12-29T20:12:59.530Z"
   },
   {
    "duration": 10,
    "start_time": "2022-12-29T20:12:59.542Z"
   },
   {
    "duration": 5,
    "start_time": "2022-12-29T20:12:59.923Z"
   },
   {
    "duration": 12,
    "start_time": "2022-12-29T20:13:00.115Z"
   },
   {
    "duration": 276,
    "start_time": "2022-12-29T20:13:00.308Z"
   },
   {
    "duration": 215,
    "start_time": "2022-12-29T20:13:00.586Z"
   },
   {
    "duration": 622,
    "start_time": "2022-12-29T20:13:00.803Z"
   },
   {
    "duration": 6,
    "start_time": "2022-12-29T20:13:01.427Z"
   },
   {
    "duration": 919,
    "start_time": "2022-12-29T20:13:01.435Z"
   },
   {
    "duration": 515,
    "start_time": "2022-12-29T20:13:02.356Z"
   },
   {
    "duration": 1540,
    "start_time": "2022-12-29T20:13:02.873Z"
   },
   {
    "duration": 366,
    "start_time": "2022-12-29T20:13:04.418Z"
   },
   {
    "duration": 3,
    "start_time": "2022-12-29T20:13:04.785Z"
   },
   {
    "duration": 41,
    "start_time": "2022-12-29T20:13:04.789Z"
   },
   {
    "duration": 3,
    "start_time": "2022-12-29T20:13:04.934Z"
   },
   {
    "duration": 30,
    "start_time": "2022-12-29T20:13:05.460Z"
   },
   {
    "duration": 33,
    "start_time": "2022-12-29T20:13:05.733Z"
   },
   {
    "duration": 38,
    "start_time": "2022-12-29T20:13:06.879Z"
   },
   {
    "duration": 26,
    "start_time": "2022-12-29T20:13:07.328Z"
   },
   {
    "duration": 2,
    "start_time": "2022-12-29T20:13:08.072Z"
   },
   {
    "duration": 3,
    "start_time": "2022-12-29T20:13:08.360Z"
   },
   {
    "duration": 4,
    "start_time": "2022-12-29T20:13:08.616Z"
   },
   {
    "duration": 123,
    "start_time": "2022-12-29T20:13:09.956Z"
   },
   {
    "duration": 11,
    "start_time": "2022-12-29T20:13:10.260Z"
   },
   {
    "duration": 11,
    "start_time": "2022-12-29T20:13:10.548Z"
   },
   {
    "duration": 13597,
    "start_time": "2022-12-29T20:13:22.759Z"
   },
   {
    "duration": 4,
    "start_time": "2022-12-29T20:13:36.358Z"
   },
   {
    "duration": 16,
    "start_time": "2022-12-29T20:13:36.363Z"
   },
   {
    "duration": 9,
    "start_time": "2022-12-29T20:13:36.381Z"
   },
   {
    "duration": 91,
    "start_time": "2022-12-29T20:14:40.436Z"
   },
   {
    "duration": 1685,
    "start_time": "2022-12-29T20:15:07.209Z"
   },
   {
    "duration": 55,
    "start_time": "2022-12-29T20:15:08.896Z"
   },
   {
    "duration": 6,
    "start_time": "2022-12-29T20:15:08.953Z"
   },
   {
    "duration": 48,
    "start_time": "2022-12-29T20:15:08.961Z"
   },
   {
    "duration": 51,
    "start_time": "2022-12-29T20:15:09.011Z"
   },
   {
    "duration": 4,
    "start_time": "2022-12-29T20:15:09.526Z"
   },
   {
    "duration": 14,
    "start_time": "2022-12-29T20:15:09.721Z"
   },
   {
    "duration": 277,
    "start_time": "2022-12-29T20:15:09.899Z"
   },
   {
    "duration": 264,
    "start_time": "2022-12-29T20:15:10.178Z"
   },
   {
    "duration": 644,
    "start_time": "2022-12-29T20:15:10.445Z"
   },
   {
    "duration": 6,
    "start_time": "2022-12-29T20:15:11.090Z"
   },
   {
    "duration": 936,
    "start_time": "2022-12-29T20:15:11.098Z"
   },
   {
    "duration": 541,
    "start_time": "2022-12-29T20:15:12.036Z"
   },
   {
    "duration": 3139,
    "start_time": "2022-12-29T20:15:12.579Z"
   },
   {
    "duration": 357,
    "start_time": "2022-12-29T20:15:15.722Z"
   },
   {
    "duration": 3,
    "start_time": "2022-12-29T20:15:16.081Z"
   },
   {
    "duration": 7,
    "start_time": "2022-12-29T20:15:16.086Z"
   },
   {
    "duration": 6,
    "start_time": "2022-12-29T20:15:16.094Z"
   },
   {
    "duration": 31,
    "start_time": "2022-12-29T20:15:16.116Z"
   },
   {
    "duration": 32,
    "start_time": "2022-12-29T20:15:16.148Z"
   },
   {
    "duration": 57,
    "start_time": "2022-12-29T20:15:16.182Z"
   },
   {
    "duration": 26,
    "start_time": "2022-12-29T20:15:16.241Z"
   },
   {
    "duration": 3,
    "start_time": "2022-12-29T20:15:16.268Z"
   },
   {
    "duration": 7,
    "start_time": "2022-12-29T20:15:16.272Z"
   },
   {
    "duration": 5,
    "start_time": "2022-12-29T20:15:16.281Z"
   },
   {
    "duration": 14172,
    "start_time": "2022-12-29T20:15:16.810Z"
   },
   {
    "duration": 3,
    "start_time": "2022-12-29T20:15:30.984Z"
   },
   {
    "duration": 8,
    "start_time": "2022-12-29T20:15:30.988Z"
   },
   {
    "duration": 33,
    "start_time": "2022-12-29T20:15:30.998Z"
   },
   {
    "duration": 500097,
    "start_time": "2022-12-29T20:15:31.033Z"
   },
   {
    "duration": 186893,
    "start_time": "2022-12-29T20:23:51.132Z"
   },
   {
    "duration": 3,
    "start_time": "2022-12-29T20:26:58.027Z"
   },
   {
    "duration": 13,
    "start_time": "2022-12-29T20:26:58.032Z"
   },
   {
    "duration": 10,
    "start_time": "2022-12-29T20:26:58.047Z"
   },
   {
    "duration": 8,
    "start_time": "2022-12-29T20:26:58.060Z"
   },
   {
    "duration": 43,
    "start_time": "2022-12-29T20:26:58.070Z"
   },
   {
    "duration": 3,
    "start_time": "2022-12-29T20:26:58.115Z"
   }
  ],
  "kernelspec": {
   "display_name": ".venv",
   "language": "python",
   "name": "python3"
  },
  "language_info": {
   "codemirror_mode": {
    "name": "ipython",
    "version": 3
   },
   "file_extension": ".py",
   "mimetype": "text/x-python",
   "name": "python",
   "nbconvert_exporter": "python",
   "pygments_lexer": "ipython3",
   "version": "3.12.1"
  },
  "toc": {
   "base_numbering": 1,
   "nav_menu": {},
   "number_sections": true,
   "sideBar": true,
   "skip_h1_title": true,
   "title_cell": "Содержание",
   "title_sidebar": "Contents",
   "toc_cell": true,
   "toc_position": {},
   "toc_section_display": true,
   "toc_window_display": false
  }
 },
 "nbformat": 4,
 "nbformat_minor": 2
}
