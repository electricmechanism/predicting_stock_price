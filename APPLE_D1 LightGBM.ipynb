{
 "cells": [
  {
   "attachments": {},
   "cell_type": "markdown",
   "metadata": {},
   "source": [
    "## Подготовка"
   ]
  },
  {
   "cell_type": "code",
   "execution_count": 1,
   "metadata": {},
   "outputs": [],
   "source": [
    "import warnings\n",
    "\n",
    "warnings.filterwarnings('ignore')\n",
    "\n",
    "import lightgbm as lgb\n",
    "import numpy as np\n",
    "import optuna\n",
    "import pandas as pd\n",
    "from sklearn.decomposition import PCA\n",
    "from sklearn.metrics import classification_report, precision_score\n",
    "from sklearn.model_selection import train_test_split\n",
    "from sklearn.preprocessing import MinMaxScaler"
   ]
  },
  {
   "cell_type": "code",
   "execution_count": 2,
   "metadata": {},
   "outputs": [],
   "source": [
    "data = pd.read_csv('APLE_PERIOD_D1.csv', index_col=[0], parse_dates=[0])"
   ]
  },
  {
   "cell_type": "code",
   "execution_count": 3,
   "metadata": {},
   "outputs": [
    {
     "data": {
      "text/html": [
       "<div>\n",
       "<style scoped>\n",
       "    .dataframe tbody tr th:only-of-type {\n",
       "        vertical-align: middle;\n",
       "    }\n",
       "\n",
       "    .dataframe tbody tr th {\n",
       "        vertical-align: top;\n",
       "    }\n",
       "\n",
       "    .dataframe thead th {\n",
       "        text-align: right;\n",
       "    }\n",
       "</style>\n",
       "<table border=\"1\" class=\"dataframe\">\n",
       "  <thead>\n",
       "    <tr style=\"text-align: right;\">\n",
       "      <th></th>\n",
       "      <th>A1</th>\n",
       "      <th>A2</th>\n",
       "      <th>A3</th>\n",
       "      <th>A4</th>\n",
       "      <th>A5</th>\n",
       "      <th>A6</th>\n",
       "      <th>A7</th>\n",
       "      <th>A8</th>\n",
       "      <th>A9</th>\n",
       "      <th>A10</th>\n",
       "      <th>...</th>\n",
       "      <th>A30</th>\n",
       "      <th>A31</th>\n",
       "      <th>A32</th>\n",
       "      <th>A33</th>\n",
       "      <th>A34</th>\n",
       "      <th>A35</th>\n",
       "      <th>A36</th>\n",
       "      <th>A37</th>\n",
       "      <th>A38</th>\n",
       "      <th>Close</th>\n",
       "    </tr>\n",
       "    <tr>\n",
       "      <th>data</th>\n",
       "      <th></th>\n",
       "      <th></th>\n",
       "      <th></th>\n",
       "      <th></th>\n",
       "      <th></th>\n",
       "      <th></th>\n",
       "      <th></th>\n",
       "      <th></th>\n",
       "      <th></th>\n",
       "      <th></th>\n",
       "      <th></th>\n",
       "      <th></th>\n",
       "      <th></th>\n",
       "      <th></th>\n",
       "      <th></th>\n",
       "      <th></th>\n",
       "      <th></th>\n",
       "      <th></th>\n",
       "      <th></th>\n",
       "      <th></th>\n",
       "      <th></th>\n",
       "    </tr>\n",
       "  </thead>\n",
       "  <tbody>\n",
       "    <tr>\n",
       "      <th>2017-11-30</th>\n",
       "      <td>0.035</td>\n",
       "      <td>-0.015</td>\n",
       "      <td>0.0875</td>\n",
       "      <td>0.0075</td>\n",
       "      <td>-0.0175</td>\n",
       "      <td>-0.0375</td>\n",
       "      <td>0.0875</td>\n",
       "      <td>0.0075</td>\n",
       "      <td>1.000000e-02</td>\n",
       "      <td>7.105427e-15</td>\n",
       "      <td>...</td>\n",
       "      <td>-0.06</td>\n",
       "      <td>0.000050</td>\n",
       "      <td>-0.029931</td>\n",
       "      <td>0.000000</td>\n",
       "      <td>0.000000</td>\n",
       "      <td>0.03</td>\n",
       "      <td>0.03</td>\n",
       "      <td>3.552714e-15</td>\n",
       "      <td>-0.037431</td>\n",
       "      <td>1</td>\n",
       "    </tr>\n",
       "    <tr>\n",
       "      <th>2017-12-01</th>\n",
       "      <td>-0.015</td>\n",
       "      <td>-0.045</td>\n",
       "      <td>0.0075</td>\n",
       "      <td>0.0225</td>\n",
       "      <td>-0.0375</td>\n",
       "      <td>-0.1125</td>\n",
       "      <td>0.0075</td>\n",
       "      <td>0.0225</td>\n",
       "      <td>7.105427e-15</td>\n",
       "      <td>-6.000000e-02</td>\n",
       "      <td>...</td>\n",
       "      <td>-0.15</td>\n",
       "      <td>-0.029931</td>\n",
       "      <td>0.000069</td>\n",
       "      <td>0.000000</td>\n",
       "      <td>0.000000</td>\n",
       "      <td>0.00</td>\n",
       "      <td>0.00</td>\n",
       "      <td>1.500000e-01</td>\n",
       "      <td>-0.022431</td>\n",
       "      <td>0</td>\n",
       "    </tr>\n",
       "    <tr>\n",
       "      <th>2017-12-04</th>\n",
       "      <td>-0.045</td>\n",
       "      <td>0.060</td>\n",
       "      <td>0.0225</td>\n",
       "      <td>0.1500</td>\n",
       "      <td>-0.1125</td>\n",
       "      <td>-0.0300</td>\n",
       "      <td>0.0225</td>\n",
       "      <td>0.1500</td>\n",
       "      <td>-6.000000e-02</td>\n",
       "      <td>7.500000e-02</td>\n",
       "      <td>...</td>\n",
       "      <td>-0.03</td>\n",
       "      <td>0.000069</td>\n",
       "      <td>-0.029912</td>\n",
       "      <td>0.000000</td>\n",
       "      <td>0.000000</td>\n",
       "      <td>0.03</td>\n",
       "      <td>0.03</td>\n",
       "      <td>3.750000e-02</td>\n",
       "      <td>-0.179912</td>\n",
       "      <td>1</td>\n",
       "    </tr>\n",
       "    <tr>\n",
       "      <th>2017-12-05</th>\n",
       "      <td>0.060</td>\n",
       "      <td>-0.060</td>\n",
       "      <td>0.1500</td>\n",
       "      <td>0.0300</td>\n",
       "      <td>-0.0300</td>\n",
       "      <td>-0.1500</td>\n",
       "      <td>0.1500</td>\n",
       "      <td>0.0300</td>\n",
       "      <td>7.500000e-02</td>\n",
       "      <td>-7.500000e-02</td>\n",
       "      <td>...</td>\n",
       "      <td>-0.09</td>\n",
       "      <td>-0.029912</td>\n",
       "      <td>0.000088</td>\n",
       "      <td>0.000000</td>\n",
       "      <td>0.000000</td>\n",
       "      <td>0.00</td>\n",
       "      <td>0.00</td>\n",
       "      <td>1.875000e-01</td>\n",
       "      <td>-0.029912</td>\n",
       "      <td>0</td>\n",
       "    </tr>\n",
       "    <tr>\n",
       "      <th>2017-12-06</th>\n",
       "      <td>-0.060</td>\n",
       "      <td>0.045</td>\n",
       "      <td>0.0300</td>\n",
       "      <td>0.1125</td>\n",
       "      <td>-0.1500</td>\n",
       "      <td>-0.0225</td>\n",
       "      <td>0.0300</td>\n",
       "      <td>0.1125</td>\n",
       "      <td>-7.500000e-02</td>\n",
       "      <td>4.500000e-02</td>\n",
       "      <td>...</td>\n",
       "      <td>0.00</td>\n",
       "      <td>0.000088</td>\n",
       "      <td>0.000088</td>\n",
       "      <td>0.000000</td>\n",
       "      <td>0.000000</td>\n",
       "      <td>0.00</td>\n",
       "      <td>0.00</td>\n",
       "      <td>2.250000e-02</td>\n",
       "      <td>-0.112412</td>\n",
       "      <td>1</td>\n",
       "    </tr>\n",
       "    <tr>\n",
       "      <th>...</th>\n",
       "      <td>...</td>\n",
       "      <td>...</td>\n",
       "      <td>...</td>\n",
       "      <td>...</td>\n",
       "      <td>...</td>\n",
       "      <td>...</td>\n",
       "      <td>...</td>\n",
       "      <td>...</td>\n",
       "      <td>...</td>\n",
       "      <td>...</td>\n",
       "      <td>...</td>\n",
       "      <td>...</td>\n",
       "      <td>...</td>\n",
       "      <td>...</td>\n",
       "      <td>...</td>\n",
       "      <td>...</td>\n",
       "      <td>...</td>\n",
       "      <td>...</td>\n",
       "      <td>...</td>\n",
       "      <td>...</td>\n",
       "      <td>...</td>\n",
       "    </tr>\n",
       "    <tr>\n",
       "      <th>2024-03-15</th>\n",
       "      <td>0.075</td>\n",
       "      <td>0.165</td>\n",
       "      <td>0.1875</td>\n",
       "      <td>0.4125</td>\n",
       "      <td>-0.0375</td>\n",
       "      <td>-0.0825</td>\n",
       "      <td>0.3250</td>\n",
       "      <td>0.2375</td>\n",
       "      <td>1.350000e-01</td>\n",
       "      <td>1.100000e-01</td>\n",
       "      <td>...</td>\n",
       "      <td>-0.24</td>\n",
       "      <td>0.026316</td>\n",
       "      <td>0.056391</td>\n",
       "      <td>0.094411</td>\n",
       "      <td>0.014286</td>\n",
       "      <td>-0.09</td>\n",
       "      <td>0.32</td>\n",
       "      <td>6.928571e-02</td>\n",
       "      <td>-0.356109</td>\n",
       "      <td>0</td>\n",
       "    </tr>\n",
       "    <tr>\n",
       "      <th>2024-03-18</th>\n",
       "      <td>0.165</td>\n",
       "      <td>0.070</td>\n",
       "      <td>0.4125</td>\n",
       "      <td>0.1750</td>\n",
       "      <td>-0.0825</td>\n",
       "      <td>-0.0350</td>\n",
       "      <td>0.2375</td>\n",
       "      <td>0.1500</td>\n",
       "      <td>1.100000e-01</td>\n",
       "      <td>6.500000e-02</td>\n",
       "      <td>...</td>\n",
       "      <td>-0.12</td>\n",
       "      <td>0.056391</td>\n",
       "      <td>-0.033477</td>\n",
       "      <td>0.014286</td>\n",
       "      <td>-0.085777</td>\n",
       "      <td>0.02</td>\n",
       "      <td>0.31</td>\n",
       "      <td>-5.327694e-02</td>\n",
       "      <td>-0.208477</td>\n",
       "      <td>1</td>\n",
       "    </tr>\n",
       "    <tr>\n",
       "      <th>2024-03-19</th>\n",
       "      <td>0.070</td>\n",
       "      <td>-0.095</td>\n",
       "      <td>0.1750</td>\n",
       "      <td>0.0475</td>\n",
       "      <td>-0.0350</td>\n",
       "      <td>-0.2375</td>\n",
       "      <td>0.1500</td>\n",
       "      <td>0.0725</td>\n",
       "      <td>6.500000e-02</td>\n",
       "      <td>-5.000000e-02</td>\n",
       "      <td>...</td>\n",
       "      <td>-0.31</td>\n",
       "      <td>-0.033477</td>\n",
       "      <td>-0.183252</td>\n",
       "      <td>-0.085777</td>\n",
       "      <td>-0.145802</td>\n",
       "      <td>0.27</td>\n",
       "      <td>0.40</td>\n",
       "      <td>-2.080201e-02</td>\n",
       "      <td>-0.230752</td>\n",
       "      <td>1</td>\n",
       "    </tr>\n",
       "    <tr>\n",
       "      <th>2024-03-20</th>\n",
       "      <td>-0.095</td>\n",
       "      <td>0.010</td>\n",
       "      <td>0.0475</td>\n",
       "      <td>0.0250</td>\n",
       "      <td>-0.2375</td>\n",
       "      <td>-0.0050</td>\n",
       "      <td>0.0725</td>\n",
       "      <td>0.0100</td>\n",
       "      <td>-5.000000e-02</td>\n",
       "      <td>-1.050000e-01</td>\n",
       "      <td>...</td>\n",
       "      <td>-0.35</td>\n",
       "      <td>-0.183252</td>\n",
       "      <td>0.056823</td>\n",
       "      <td>-0.145802</td>\n",
       "      <td>-0.135833</td>\n",
       "      <td>0.09</td>\n",
       "      <td>0.17</td>\n",
       "      <td>1.266667e-01</td>\n",
       "      <td>0.031823</td>\n",
       "      <td>1</td>\n",
       "    </tr>\n",
       "    <tr>\n",
       "      <th>2024-03-21</th>\n",
       "      <td>0.010</td>\n",
       "      <td>-0.005</td>\n",
       "      <td>0.0250</td>\n",
       "      <td>0.0025</td>\n",
       "      <td>-0.0050</td>\n",
       "      <td>-0.0125</td>\n",
       "      <td>0.0100</td>\n",
       "      <td>0.0025</td>\n",
       "      <td>-1.050000e-01</td>\n",
       "      <td>2.500000e-02</td>\n",
       "      <td>...</td>\n",
       "      <td>-0.36</td>\n",
       "      <td>0.056823</td>\n",
       "      <td>0.026917</td>\n",
       "      <td>-0.135833</td>\n",
       "      <td>-0.105883</td>\n",
       "      <td>0.12</td>\n",
       "      <td>0.23</td>\n",
       "      <td>-9.338346e-02</td>\n",
       "      <td>0.024417</td>\n",
       "      <td>0</td>\n",
       "    </tr>\n",
       "  </tbody>\n",
       "</table>\n",
       "<p>1586 rows × 39 columns</p>\n",
       "</div>"
      ],
      "text/plain": [
       "               A1     A2      A3      A4      A5      A6      A7      A8  \\\n",
       "data                                                                       \n",
       "2017-11-30  0.035 -0.015  0.0875  0.0075 -0.0175 -0.0375  0.0875  0.0075   \n",
       "2017-12-01 -0.015 -0.045  0.0075  0.0225 -0.0375 -0.1125  0.0075  0.0225   \n",
       "2017-12-04 -0.045  0.060  0.0225  0.1500 -0.1125 -0.0300  0.0225  0.1500   \n",
       "2017-12-05  0.060 -0.060  0.1500  0.0300 -0.0300 -0.1500  0.1500  0.0300   \n",
       "2017-12-06 -0.060  0.045  0.0300  0.1125 -0.1500 -0.0225  0.0300  0.1125   \n",
       "...           ...    ...     ...     ...     ...     ...     ...     ...   \n",
       "2024-03-15  0.075  0.165  0.1875  0.4125 -0.0375 -0.0825  0.3250  0.2375   \n",
       "2024-03-18  0.165  0.070  0.4125  0.1750 -0.0825 -0.0350  0.2375  0.1500   \n",
       "2024-03-19  0.070 -0.095  0.1750  0.0475 -0.0350 -0.2375  0.1500  0.0725   \n",
       "2024-03-20 -0.095  0.010  0.0475  0.0250 -0.2375 -0.0050  0.0725  0.0100   \n",
       "2024-03-21  0.010 -0.005  0.0250  0.0025 -0.0050 -0.0125  0.0100  0.0025   \n",
       "\n",
       "                      A9           A10  ...   A30       A31       A32  \\\n",
       "data                                    ...                             \n",
       "2017-11-30  1.000000e-02  7.105427e-15  ... -0.06  0.000050 -0.029931   \n",
       "2017-12-01  7.105427e-15 -6.000000e-02  ... -0.15 -0.029931  0.000069   \n",
       "2017-12-04 -6.000000e-02  7.500000e-02  ... -0.03  0.000069 -0.029912   \n",
       "2017-12-05  7.500000e-02 -7.500000e-02  ... -0.09 -0.029912  0.000088   \n",
       "2017-12-06 -7.500000e-02  4.500000e-02  ...  0.00  0.000088  0.000088   \n",
       "...                  ...           ...  ...   ...       ...       ...   \n",
       "2024-03-15  1.350000e-01  1.100000e-01  ... -0.24  0.026316  0.056391   \n",
       "2024-03-18  1.100000e-01  6.500000e-02  ... -0.12  0.056391 -0.033477   \n",
       "2024-03-19  6.500000e-02 -5.000000e-02  ... -0.31 -0.033477 -0.183252   \n",
       "2024-03-20 -5.000000e-02 -1.050000e-01  ... -0.35 -0.183252  0.056823   \n",
       "2024-03-21 -1.050000e-01  2.500000e-02  ... -0.36  0.056823  0.026917   \n",
       "\n",
       "                 A33       A34   A35   A36           A37       A38  Close  \n",
       "data                                                                       \n",
       "2017-11-30  0.000000  0.000000  0.03  0.03  3.552714e-15 -0.037431      1  \n",
       "2017-12-01  0.000000  0.000000  0.00  0.00  1.500000e-01 -0.022431      0  \n",
       "2017-12-04  0.000000  0.000000  0.03  0.03  3.750000e-02 -0.179912      1  \n",
       "2017-12-05  0.000000  0.000000  0.00  0.00  1.875000e-01 -0.029912      0  \n",
       "2017-12-06  0.000000  0.000000  0.00  0.00  2.250000e-02 -0.112412      1  \n",
       "...              ...       ...   ...   ...           ...       ...    ...  \n",
       "2024-03-15  0.094411  0.014286 -0.09  0.32  6.928571e-02 -0.356109      0  \n",
       "2024-03-18  0.014286 -0.085777  0.02  0.31 -5.327694e-02 -0.208477      1  \n",
       "2024-03-19 -0.085777 -0.145802  0.27  0.40 -2.080201e-02 -0.230752      1  \n",
       "2024-03-20 -0.145802 -0.135833  0.09  0.17  1.266667e-01  0.031823      1  \n",
       "2024-03-21 -0.135833 -0.105883  0.12  0.23 -9.338346e-02  0.024417      0  \n",
       "\n",
       "[1586 rows x 39 columns]"
      ]
     },
     "execution_count": 3,
     "metadata": {},
     "output_type": "execute_result"
    }
   ],
   "source": [
    "data = data.iloc[::-1]\n",
    "data"
   ]
  },
  {
   "cell_type": "code",
   "execution_count": 4,
   "metadata": {},
   "outputs": [
    {
     "name": "stdout",
     "output_type": "stream",
     "text": [
      "<class 'pandas.core.frame.DataFrame'>\n",
      "DatetimeIndex: 1586 entries, 2017-11-30 to 2024-03-21\n",
      "Data columns (total 39 columns):\n",
      " #   Column  Non-Null Count  Dtype  \n",
      "---  ------  --------------  -----  \n",
      " 0   A1      1586 non-null   float64\n",
      " 1   A2      1586 non-null   float64\n",
      " 2   A3      1586 non-null   float64\n",
      " 3   A4      1586 non-null   float64\n",
      " 4   A5      1586 non-null   float64\n",
      " 5   A6      1586 non-null   float64\n",
      " 6   A7      1586 non-null   float64\n",
      " 7   A8      1586 non-null   float64\n",
      " 8   A9      1586 non-null   float64\n",
      " 9   A10     1586 non-null   float64\n",
      " 10  A11     1586 non-null   float64\n",
      " 11  A12     1586 non-null   float64\n",
      " 12  A13     1586 non-null   float64\n",
      " 13  A14     1586 non-null   float64\n",
      " 14  A15     1586 non-null   float64\n",
      " 15  A16     1586 non-null   float64\n",
      " 16  A17     1586 non-null   float64\n",
      " 17  A18     1586 non-null   float64\n",
      " 18  A19     1586 non-null   float64\n",
      " 19  A20     1586 non-null   float64\n",
      " 20  A21     1586 non-null   float64\n",
      " 21  A22     1586 non-null   float64\n",
      " 22  A23     1586 non-null   float64\n",
      " 23  A24     1586 non-null   float64\n",
      " 24  A25     1586 non-null   float64\n",
      " 25  A26     1586 non-null   float64\n",
      " 26  A27     1586 non-null   float64\n",
      " 27  A28     1586 non-null   float64\n",
      " 28  A29     1586 non-null   float64\n",
      " 29  A30     1586 non-null   float64\n",
      " 30  A31     1586 non-null   float64\n",
      " 31  A32     1586 non-null   float64\n",
      " 32  A33     1586 non-null   float64\n",
      " 33  A34     1586 non-null   float64\n",
      " 34  A35     1586 non-null   float64\n",
      " 35  A36     1586 non-null   float64\n",
      " 36  A37     1586 non-null   float64\n",
      " 37  A38     1586 non-null   float64\n",
      " 38  Close   1586 non-null   int64  \n",
      "dtypes: float64(38), int64(1)\n",
      "memory usage: 495.6 KB\n"
     ]
    }
   ],
   "source": [
    "data.info()"
   ]
  },
  {
   "attachments": {},
   "cell_type": "markdown",
   "metadata": {},
   "source": [
    "## Обучение"
   ]
  },
  {
   "cell_type": "code",
   "execution_count": 5,
   "metadata": {},
   "outputs": [],
   "source": [
    "X = data.drop('Close', axis=1)\n",
    "y = data[['Close']]"
   ]
  },
  {
   "cell_type": "code",
   "execution_count": 6,
   "metadata": {},
   "outputs": [],
   "source": [
    "X_train, X_test, y_train, y_test = train_test_split(X, y, shuffle=False, random_state=42)"
   ]
  },
  {
   "cell_type": "code",
   "execution_count": 7,
   "metadata": {},
   "outputs": [],
   "source": [
    "scaler = MinMaxScaler()\n",
    "X_train_scaled = scaler.fit_transform(X_train)\n",
    "X_test_scaled = scaler.transform(X_test)"
   ]
  },
  {
   "cell_type": "code",
   "execution_count": 8,
   "metadata": {},
   "outputs": [],
   "source": [
    "pca = PCA(n_components=7)\n",
    "X_train_pca = pca.fit_transform(X_train_scaled)\n",
    "X_test_pca = pca.transform(X_test_scaled)"
   ]
  },
  {
   "cell_type": "code",
   "execution_count": 9,
   "metadata": {},
   "outputs": [
    {
     "data": {
      "text/plain": [
       "array([0.57315351, 0.09923983, 0.08368575, 0.07269912, 0.03499105,\n",
       "       0.02666934, 0.02303646])"
      ]
     },
     "execution_count": 9,
     "metadata": {},
     "output_type": "execute_result"
    }
   ],
   "source": [
    "pca.explained_variance_ratio_"
   ]
  },
  {
   "cell_type": "code",
   "execution_count": 10,
   "metadata": {},
   "outputs": [
    {
     "name": "stdout",
     "output_type": "stream",
     "text": [
      "Суммарная доля объяснённой дисперсии: 0.9134750655407532\n"
     ]
    }
   ],
   "source": [
    "cumulative_variance = np.cumsum(pca.explained_variance_ratio_)\n",
    "print(\"Суммарная доля объяснённой дисперсии:\", cumulative_variance[-1])"
   ]
  },
  {
   "cell_type": "markdown",
   "metadata": {},
   "source": [
    "#### Модель LightGBM"
   ]
  },
  {
   "cell_type": "code",
   "execution_count": 11,
   "metadata": {},
   "outputs": [
    {
     "name": "stdout",
     "output_type": "stream",
     "text": [
      "Training until validation scores don't improve for 50 rounds\n",
      "[10]\ttrain's binary_logloss: 0.562629\tvalid's binary_logloss: 0.632678\n",
      "[20]\ttrain's binary_logloss: 0.483412\tvalid's binary_logloss: 0.617783\n",
      "[30]\ttrain's binary_logloss: 0.425084\tvalid's binary_logloss: 0.618664\n",
      "[40]\ttrain's binary_logloss: 0.373981\tvalid's binary_logloss: 0.621302\n",
      "[50]\ttrain's binary_logloss: 0.329234\tvalid's binary_logloss: 0.627306\n",
      "[60]\ttrain's binary_logloss: 0.291211\tvalid's binary_logloss: 0.638099\n",
      "[70]\ttrain's binary_logloss: 0.258406\tvalid's binary_logloss: 0.647431\n",
      "Early stopping, best iteration is:\n",
      "[27]\ttrain's binary_logloss: 0.441735\tvalid's binary_logloss: 0.617009\n"
     ]
    }
   ],
   "source": [
    "train_set = lgb.Dataset(X_train, label=y_train)\n",
    "test_set = lgb.Dataset(X_test, label=y_test, reference=train_set)\n",
    "params = {\n",
    "    'objective': 'binary',\n",
    "    'metric': 'binary_logloss',\n",
    "    'boosting_type': 'gbdt',\n",
    "    'num_leaves': 31,\n",
    "    'learning_rate': 0.05,\n",
    "    'verbose': -1\n",
    "}\n",
    "early_stopping_cb = lgb.early_stopping(stopping_rounds=50)\n",
    "model = lgb.train(\n",
    "    params=params,\n",
    "    train_set=train_set,\n",
    "    num_boost_round=500,\n",
    "    valid_sets=[train_set, test_set],\n",
    "    valid_names=['train', 'valid'],\n",
    "    callbacks=[early_stopping_cb, lgb.log_evaluation(10)]\n",
    ")\n",
    "y_pred = model.predict(X_test)\n",
    "y_pred_binary = [1 if prob > 0.5 else 0 for prob in y_pred]"
   ]
  },
  {
   "cell_type": "code",
   "execution_count": 12,
   "metadata": {},
   "outputs": [
    {
     "name": "stdout",
     "output_type": "stream",
     "text": [
      "              precision    recall  f1-score   support\n",
      "\n",
      "           0       0.71      0.70      0.71       200\n",
      "           1       0.70      0.71      0.70       197\n",
      "\n",
      "    accuracy                           0.71       397\n",
      "   macro avg       0.71      0.71      0.71       397\n",
      "weighted avg       0.71      0.71      0.71       397\n",
      "\n"
     ]
    }
   ],
   "source": [
    "print(classification_report(y_test, y_pred_binary))"
   ]
  },
  {
   "cell_type": "markdown",
   "metadata": {},
   "source": [
    "#### Подбор параметров"
   ]
  },
  {
   "cell_type": "code",
   "execution_count": 13,
   "metadata": {},
   "outputs": [],
   "source": [
    "def objective(trial):\n",
    "    params = {\n",
    "        'objective': 'binary',\n",
    "        'metric': 'precision',\n",
    "        'boosting_type': 'gbdt',\n",
    "        'num_leaves': trial.suggest_int('num_leaves', 20, 150),\n",
    "        'learning_rate': trial.suggest_float('learning_rate', 0.01, 0.1),\n",
    "        'max_depth': trial.suggest_int('max_depth', 3, 15),\n",
    "        'n_estimators': trial.suggest_int('n_estimators', 100, 1000),\n",
    "        'random_state': 42\n",
    "    }\n",
    "    model = lgb.LGBMClassifier(**params)\n",
    "    model.fit(X_train, y_train)\n",
    "    y_pred = model.predict(X_test)\n",
    "    return precision_score(y_test, y_pred, average='weighted')"
   ]
  },
  {
   "cell_type": "code",
   "execution_count": 14,
   "metadata": {},
   "outputs": [
    {
     "name": "stderr",
     "output_type": "stream",
     "text": [
      "[I 2024-12-23 17:25:43,583] A new study created in memory with name: no-name-35986093-691f-427a-99a7-a4b68d84b610\n",
      "[I 2024-12-23 17:25:44,082] Trial 0 finished with value: 0.6545793207922483 and parameters: {'num_leaves': 70, 'learning_rate': 0.09579353997832771, 'max_depth': 11, 'n_estimators': 812}. Best is trial 0 with value: 0.6545793207922483.\n",
      "[I 2024-12-23 17:25:44,464] Trial 1 finished with value: 0.6698675239505361 and parameters: {'num_leaves': 53, 'learning_rate': 0.023596489832408266, 'max_depth': 13, 'n_estimators': 502}. Best is trial 1 with value: 0.6698675239505361.\n",
      "[I 2024-12-23 17:25:44,802] Trial 2 finished with value: 0.6714947675206147 and parameters: {'num_leaves': 104, 'learning_rate': 0.05644013221922972, 'max_depth': 12, 'n_estimators': 446}. Best is trial 2 with value: 0.6714947675206147.\n",
      "[I 2024-12-23 17:25:45,098] Trial 3 finished with value: 0.6815292992013747 and parameters: {'num_leaves': 76, 'learning_rate': 0.06790211740853942, 'max_depth': 11, 'n_estimators': 390}. Best is trial 3 with value: 0.6815292992013747.\n",
      "[I 2024-12-23 17:25:45,409] Trial 4 finished with value: 0.6823943659244344 and parameters: {'num_leaves': 125, 'learning_rate': 0.0725928425686958, 'max_depth': 14, 'n_estimators': 389}. Best is trial 4 with value: 0.6823943659244344.\n",
      "[I 2024-12-23 17:25:45,923] Trial 5 finished with value: 0.6675255738014565 and parameters: {'num_leaves': 147, 'learning_rate': 0.01175473934237805, 'max_depth': 9, 'n_estimators': 812}. Best is trial 4 with value: 0.6823943659244344.\n",
      "[I 2024-12-23 17:25:45,985] Trial 6 finished with value: 0.7106664685947205 and parameters: {'num_leaves': 35, 'learning_rate': 0.029150162627503563, 'max_depth': 4, 'n_estimators': 162}. Best is trial 6 with value: 0.7106664685947205.\n",
      "[I 2024-12-23 17:25:46,391] Trial 7 finished with value: 0.6494003778665427 and parameters: {'num_leaves': 95, 'learning_rate': 0.09570786018290135, 'max_depth': 9, 'n_estimators': 729}. Best is trial 6 with value: 0.7106664685947205.\n",
      "[I 2024-12-23 17:25:46,637] Trial 8 finished with value: 0.6745625473178898 and parameters: {'num_leaves': 146, 'learning_rate': 0.05785224806946158, 'max_depth': 10, 'n_estimators': 330}. Best is trial 6 with value: 0.7106664685947205.\n",
      "[I 2024-12-23 17:25:47,002] Trial 9 finished with value: 0.6671224150892341 and parameters: {'num_leaves': 121, 'learning_rate': 0.09021716166037735, 'max_depth': 14, 'n_estimators': 441}. Best is trial 6 with value: 0.7106664685947205.\n",
      "[I 2024-12-23 17:25:47,041] Trial 10 finished with value: 0.716764052679646 and parameters: {'num_leaves': 22, 'learning_rate': 0.034344358580084014, 'max_depth': 3, 'n_estimators': 123}. Best is trial 10 with value: 0.716764052679646.\n",
      "[I 2024-12-23 17:25:47,073] Trial 11 finished with value: 0.7188118872814561 and parameters: {'num_leaves': 20, 'learning_rate': 0.03716440985850545, 'max_depth': 3, 'n_estimators': 126}. Best is trial 11 with value: 0.7188118872814561.\n",
      "[I 2024-12-23 17:25:47,116] Trial 12 finished with value: 0.7164334110103853 and parameters: {'num_leaves': 22, 'learning_rate': 0.03825468316286485, 'max_depth': 3, 'n_estimators': 105}. Best is trial 11 with value: 0.7188118872814561.\n",
      "[I 2024-12-23 17:25:47,232] Trial 13 finished with value: 0.6706870130988518 and parameters: {'num_leaves': 48, 'learning_rate': 0.043228513707730655, 'max_depth': 6, 'n_estimators': 251}. Best is trial 11 with value: 0.7188118872814561.\n",
      "[I 2024-12-23 17:25:47,567] Trial 14 finished with value: 0.6334050980819762 and parameters: {'num_leaves': 20, 'learning_rate': 0.0415448601685036, 'max_depth': 6, 'n_estimators': 996}. Best is trial 11 with value: 0.7188118872814561.\n",
      "[I 2024-12-23 17:25:47,706] Trial 15 finished with value: 0.7230546491313544 and parameters: {'num_leaves': 49, 'learning_rate': 0.0110470413274893, 'max_depth': 6, 'n_estimators': 226}. Best is trial 15 with value: 0.7230546491313544.\n",
      "[I 2024-12-23 17:25:47,851] Trial 16 finished with value: 0.7129765248706348 and parameters: {'num_leaves': 59, 'learning_rate': 0.010026858591564665, 'max_depth': 6, 'n_estimators': 265}. Best is trial 15 with value: 0.7230546491313544.\n",
      "[I 2024-12-23 17:25:48,046] Trial 17 finished with value: 0.6694770430043038 and parameters: {'num_leaves': 41, 'learning_rate': 0.020495697204016484, 'max_depth': 5, 'n_estimators': 628}. Best is trial 15 with value: 0.7230546491313544.\n",
      "[I 2024-12-23 17:25:48,211] Trial 18 finished with value: 0.6911486004981339 and parameters: {'num_leaves': 68, 'learning_rate': 0.020296382293204563, 'max_depth': 8, 'n_estimators': 226}. Best is trial 15 with value: 0.7230546491313544.\n",
      "[I 2024-12-23 17:25:48,486] Trial 19 finished with value: 0.6573220571854393 and parameters: {'num_leaves': 36, 'learning_rate': 0.04859143623128249, 'max_depth': 7, 'n_estimators': 587}. Best is trial 15 with value: 0.7230546491313544.\n",
      "[I 2024-12-23 17:25:48,553] Trial 20 finished with value: 0.6884882572669756 and parameters: {'num_leaves': 84, 'learning_rate': 0.027443638460934217, 'max_depth': 4, 'n_estimators': 215}. Best is trial 15 with value: 0.7230546491313544.\n",
      "[I 2024-12-23 17:25:48,584] Trial 21 finished with value: 0.7211987622881829 and parameters: {'num_leaves': 29, 'learning_rate': 0.034152884743319394, 'max_depth': 3, 'n_estimators': 108}. Best is trial 15 with value: 0.7230546491313544.\n",
      "[I 2024-12-23 17:25:48,672] Trial 22 finished with value: 0.6733264422597354 and parameters: {'num_leaves': 33, 'learning_rate': 0.04991431195871104, 'max_depth': 4, 'n_estimators': 310}. Best is trial 15 with value: 0.7230546491313544.\n",
      "[I 2024-12-23 17:25:48,741] Trial 23 finished with value: 0.6955383398448846 and parameters: {'num_leaves': 46, 'learning_rate': 0.03207183138104351, 'max_depth': 5, 'n_estimators': 143}. Best is trial 15 with value: 0.7230546491313544.\n",
      "[I 2024-12-23 17:25:48,801] Trial 24 finished with value: 0.7140629839733383 and parameters: {'num_leaves': 59, 'learning_rate': 0.017147779624005335, 'max_depth': 3, 'n_estimators': 186}. Best is trial 15 with value: 0.7230546491313544.\n",
      "[I 2024-12-23 17:25:48,896] Trial 25 finished with value: 0.6685207599009593 and parameters: {'num_leaves': 30, 'learning_rate': 0.06728877154186155, 'max_depth': 5, 'n_estimators': 313}. Best is trial 15 with value: 0.7230546491313544.\n",
      "[I 2024-12-23 17:25:48,974] Trial 26 finished with value: 0.6786412541392658 and parameters: {'num_leaves': 28, 'learning_rate': 0.04729058713313587, 'max_depth': 7, 'n_estimators': 102}. Best is trial 15 with value: 0.7230546491313544.\n",
      "[I 2024-12-23 17:25:49,027] Trial 27 finished with value: 0.698596133938469 and parameters: {'num_leaves': 42, 'learning_rate': 0.03682864863443837, 'max_depth': 3, 'n_estimators': 189}. Best is trial 15 with value: 0.7230546491313544.\n",
      "[I 2024-12-23 17:25:49,121] Trial 28 finished with value: 0.7060452375313835 and parameters: {'num_leaves': 53, 'learning_rate': 0.014653564689016404, 'max_depth': 4, 'n_estimators': 309}. Best is trial 15 with value: 0.7230546491313544.\n",
      "[I 2024-12-23 17:25:49,268] Trial 29 finished with value: 0.6830133521738241 and parameters: {'num_leaves': 67, 'learning_rate': 0.02416034172960899, 'max_depth': 7, 'n_estimators': 238}. Best is trial 15 with value: 0.7230546491313544.\n",
      "[I 2024-12-23 17:25:49,386] Trial 30 finished with value: 0.675738188017785 and parameters: {'num_leaves': 29, 'learning_rate': 0.029494554457384126, 'max_depth': 5, 'n_estimators': 377}. Best is trial 15 with value: 0.7230546491313544.\n",
      "[I 2024-12-23 17:25:49,421] Trial 31 finished with value: 0.7191232310924914 and parameters: {'num_leaves': 20, 'learning_rate': 0.035890480620923454, 'max_depth': 3, 'n_estimators': 107}. Best is trial 15 with value: 0.7230546491313544.\n",
      "[I 2024-12-23 17:25:49,481] Trial 32 finished with value: 0.7036500722742159 and parameters: {'num_leaves': 22, 'learning_rate': 0.039656071083221334, 'max_depth': 3, 'n_estimators': 161}. Best is trial 15 with value: 0.7230546491313544.\n",
      "[I 2024-12-23 17:25:49,527] Trial 33 finished with value: 0.7108598379474175 and parameters: {'num_leaves': 39, 'learning_rate': 0.054087767894614266, 'max_depth': 4, 'n_estimators': 110}. Best is trial 15 with value: 0.7230546491313544.\n",
      "[I 2024-12-23 17:25:49,606] Trial 34 finished with value: 0.7108598379474175 and parameters: {'num_leaves': 54, 'learning_rate': 0.024253189273599877, 'max_depth': 5, 'n_estimators': 185}. Best is trial 15 with value: 0.7230546491313544.\n",
      "[I 2024-12-23 17:25:49,671] Trial 35 finished with value: 0.6709207520883325 and parameters: {'num_leaves': 30, 'learning_rate': 0.06174518846936988, 'max_depth': 3, 'n_estimators': 269}. Best is trial 15 with value: 0.7230546491313544.\n",
      "[I 2024-12-23 17:25:49,955] Trial 36 finished with value: 0.6499582816789454 and parameters: {'num_leaves': 45, 'learning_rate': 0.0809308887295175, 'max_depth': 8, 'n_estimators': 521}. Best is trial 15 with value: 0.7230546491313544.\n",
      "[I 2024-12-23 17:25:50,206] Trial 37 finished with value: 0.660079141483794 and parameters: {'num_leaves': 27, 'learning_rate': 0.03385211250693493, 'max_depth': 12, 'n_estimators': 469}. Best is trial 15 with value: 0.7230546491313544.\n",
      "[I 2024-12-23 17:25:50,257] Trial 38 finished with value: 0.6887617483775722 and parameters: {'num_leaves': 37, 'learning_rate': 0.04518496823346724, 'max_depth': 4, 'n_estimators': 147}. Best is trial 15 with value: 0.7230546491313544.\n",
      "[I 2024-12-23 17:25:50,351] Trial 39 finished with value: 0.6555334883420525 and parameters: {'num_leaves': 75, 'learning_rate': 0.05220310353707061, 'max_depth': 6, 'n_estimators': 198}. Best is trial 15 with value: 0.7230546491313544.\n",
      "[I 2024-12-23 17:25:50,589] Trial 40 finished with value: 0.6509347258955167 and parameters: {'num_leaves': 104, 'learning_rate': 0.01876127710116004, 'max_depth': 8, 'n_estimators': 367}. Best is trial 15 with value: 0.7230546491313544.\n",
      "[I 2024-12-23 17:25:50,636] Trial 41 finished with value: 0.7140629839733383 and parameters: {'num_leaves': 21, 'learning_rate': 0.034561645167009304, 'max_depth': 3, 'n_estimators': 138}. Best is trial 15 with value: 0.7230546491313544.\n",
      "[I 2024-12-23 17:25:50,676] Trial 42 finished with value: 0.7104085846897416 and parameters: {'num_leaves': 20, 'learning_rate': 0.027870434786198148, 'max_depth': 4, 'n_estimators': 108}. Best is trial 15 with value: 0.7230546491313544.\n",
      "[I 2024-12-23 17:25:50,721] Trial 43 finished with value: 0.7137579489457093 and parameters: {'num_leaves': 26, 'learning_rate': 0.03196949807978018, 'max_depth': 3, 'n_estimators': 152}. Best is trial 15 with value: 0.7230546491313544.\n",
      "[I 2024-12-23 17:25:50,946] Trial 44 finished with value: 0.6675255738014565 and parameters: {'num_leaves': 34, 'learning_rate': 0.05902117542674576, 'max_depth': 15, 'n_estimators': 277}. Best is trial 15 with value: 0.7230546491313544.\n",
      "[I 2024-12-23 17:25:51,448] Trial 45 finished with value: 0.6581866839862137 and parameters: {'num_leaves': 50, 'learning_rate': 0.042757734219437474, 'max_depth': 10, 'n_estimators': 742}. Best is trial 15 with value: 0.7230546491313544.\n",
      "[I 2024-12-23 17:25:51,607] Trial 46 finished with value: 0.6813174921035764 and parameters: {'num_leaves': 26, 'learning_rate': 0.013698055613521418, 'max_depth': 3, 'n_estimators': 924}. Best is trial 15 with value: 0.7230546491313544.\n",
      "[I 2024-12-23 17:25:51,681] Trial 47 finished with value: 0.6880577911572566 and parameters: {'num_leaves': 41, 'learning_rate': 0.03765986316753915, 'max_depth': 4, 'n_estimators': 220}. Best is trial 15 with value: 0.7230546491313544.\n",
      "[I 2024-12-23 17:25:51,746] Trial 48 finished with value: 0.7207518877612777 and parameters: {'num_leaves': 59, 'learning_rate': 0.02348654432603904, 'max_depth': 5, 'n_estimators': 102}. Best is trial 15 with value: 0.7230546491313544.\n",
      "[I 2024-12-23 17:25:51,811] Trial 49 finished with value: 0.7028984006099149 and parameters: {'num_leaves': 59, 'learning_rate': 0.024660290680345934, 'max_depth': 5, 'n_estimators': 177}. Best is trial 15 with value: 0.7230546491313544.\n",
      "[I 2024-12-23 17:25:51,905] Trial 50 finished with value: 0.7153815409387982 and parameters: {'num_leaves': 82, 'learning_rate': 0.015955178286765785, 'max_depth': 6, 'n_estimators': 135}. Best is trial 15 with value: 0.7230546491313544.\n",
      "[I 2024-12-23 17:25:51,981] Trial 51 finished with value: 0.7082355470909871 and parameters: {'num_leaves': 95, 'learning_rate': 0.021183444190401843, 'max_depth': 4, 'n_estimators': 116}. Best is trial 15 with value: 0.7230546491313544.\n",
      "[I 2024-12-23 17:25:52,031] Trial 52 finished with value: 0.7036500722742159 and parameters: {'num_leaves': 35, 'learning_rate': 0.028818851864242157, 'max_depth': 3, 'n_estimators': 228}. Best is trial 15 with value: 0.7230546491313544.\n",
      "[I 2024-12-23 17:25:52,091] Trial 53 finished with value: 0.700331867176412 and parameters: {'num_leaves': 24, 'learning_rate': 0.03524586269006239, 'max_depth': 4, 'n_estimators': 101}. Best is trial 15 with value: 0.7230546491313544.\n",
      "[I 2024-12-23 17:25:52,170] Trial 54 finished with value: 0.7159062638881224 and parameters: {'num_leaves': 63, 'learning_rate': 0.01039610100907063, 'max_depth': 5, 'n_estimators': 165}. Best is trial 15 with value: 0.7230546491313544.\n",
      "[I 2024-12-23 17:25:52,251] Trial 55 finished with value: 0.6863812864715864 and parameters: {'num_leaves': 136, 'learning_rate': 0.04232974147419998, 'max_depth': 3, 'n_estimators': 277}. Best is trial 15 with value: 0.7230546491313544.\n",
      "[I 2024-12-23 17:25:52,351] Trial 56 finished with value: 0.6884882572669756 and parameters: {'num_leaves': 32, 'learning_rate': 0.031610608603033365, 'max_depth': 6, 'n_estimators': 199}. Best is trial 15 with value: 0.7230546491313544.\n",
      "[I 2024-12-23 17:25:52,501] Trial 57 finished with value: 0.6603955785403692 and parameters: {'num_leaves': 46, 'learning_rate': 0.021948908864006356, 'max_depth': 4, 'n_estimators': 655}. Best is trial 15 with value: 0.7230546491313544.\n",
      "[I 2024-12-23 17:25:52,636] Trial 58 finished with value: 0.6632185655882417 and parameters: {'num_leaves': 72, 'learning_rate': 0.03959121449714683, 'max_depth': 5, 'n_estimators': 348}. Best is trial 15 with value: 0.7230546491313544.\n",
      "[I 2024-12-23 17:25:52,747] Trial 59 finished with value: 0.7053702259330767 and parameters: {'num_leaves': 52, 'learning_rate': 0.02634357162306436, 'max_depth': 7, 'n_estimators': 140}. Best is trial 15 with value: 0.7230546491313544.\n",
      "[I 2024-12-23 17:25:52,837] Trial 60 finished with value: 0.716764052679646 and parameters: {'num_leaves': 41, 'learning_rate': 0.013038834336235403, 'max_depth': 3, 'n_estimators': 411}. Best is trial 15 with value: 0.7230546491313544.\n",
      "[I 2024-12-23 17:25:52,897] Trial 61 finished with value: 0.7140629839733383 and parameters: {'num_leaves': 39, 'learning_rate': 0.017338840360880903, 'max_depth': 3, 'n_estimators': 245}. Best is trial 15 with value: 0.7230546491313544.\n",
      "[I 2024-12-23 17:25:52,987] Trial 62 finished with value: 0.7120682067654902 and parameters: {'num_leaves': 43, 'learning_rate': 0.011210334643773008, 'max_depth': 3, 'n_estimators': 419}. Best is trial 15 with value: 0.7230546491313544.\n",
      "[I 2024-12-23 17:25:53,046] Trial 63 finished with value: 0.7080653016050115 and parameters: {'num_leaves': 24, 'learning_rate': 0.01344263045189734, 'max_depth': 4, 'n_estimators': 131}. Best is trial 15 with value: 0.7230546491313544.\n",
      "[I 2024-12-23 17:25:53,106] Trial 64 finished with value: 0.7188118872814561 and parameters: {'num_leaves': 31, 'learning_rate': 0.019694655095376004, 'max_depth': 3, 'n_estimators': 168}. Best is trial 15 with value: 0.7230546491313544.\n",
      "[I 2024-12-23 17:25:53,177] Trial 65 finished with value: 0.6908917127745842 and parameters: {'num_leaves': 32, 'learning_rate': 0.046064766886646034, 'max_depth': 5, 'n_estimators': 167}. Best is trial 15 with value: 0.7230546491313544.\n",
      "[I 2024-12-23 17:25:53,306] Trial 66 finished with value: 0.6959428876935174 and parameters: {'num_leaves': 28, 'learning_rate': 0.022503830707555426, 'max_depth': 9, 'n_estimators': 208}. Best is trial 15 with value: 0.7230546491313544.\n",
      "[I 2024-12-23 17:25:53,366] Trial 67 finished with value: 0.7137579489457093 and parameters: {'num_leaves': 20, 'learning_rate': 0.030827881103451554, 'max_depth': 3, 'n_estimators': 174}. Best is trial 15 with value: 0.7230546491313544.\n",
      "[I 2024-12-23 17:25:53,413] Trial 68 finished with value: 0.7155561225566461 and parameters: {'num_leaves': 37, 'learning_rate': 0.01889015635398948, 'max_depth': 4, 'n_estimators': 123}. Best is trial 15 with value: 0.7230546491313544.\n",
      "[I 2024-12-23 17:25:53,486] Trial 69 finished with value: 0.6957205601253033 and parameters: {'num_leaves': 56, 'learning_rate': 0.026024046159578547, 'max_depth': 4, 'n_estimators': 220}. Best is trial 15 with value: 0.7230546491313544.\n",
      "[I 2024-12-23 17:25:53,532] Trial 70 finished with value: 0.7164334110103853 and parameters: {'num_leaves': 31, 'learning_rate': 0.03621732381269742, 'max_depth': 3, 'n_estimators': 100}. Best is trial 15 with value: 0.7230546491313544.\n",
      "[I 2024-12-23 17:25:53,647] Trial 71 finished with value: 0.6933023611487377 and parameters: {'num_leaves': 48, 'learning_rate': 0.016153905392124975, 'max_depth': 3, 'n_estimators': 557}. Best is trial 15 with value: 0.7230546491313544.\n",
      "[I 2024-12-23 17:25:53,687] Trial 72 finished with value: 0.7164334110103853 and parameters: {'num_leaves': 24, 'learning_rate': 0.01992565587491203, 'max_depth': 3, 'n_estimators': 149}. Best is trial 15 with value: 0.7230546491313544.\n",
      "[I 2024-12-23 17:25:53,756] Trial 73 finished with value: 0.6765664474262242 and parameters: {'num_leaves': 35, 'learning_rate': 0.03970630794567429, 'max_depth': 3, 'n_estimators': 297}. Best is trial 15 with value: 0.7230546491313544.\n",
      "[I 2024-12-23 17:25:53,876] Trial 74 finished with value: 0.7005810494281632 and parameters: {'num_leaves': 42, 'learning_rate': 0.011796435210782781, 'max_depth': 4, 'n_estimators': 470}. Best is trial 15 with value: 0.7230546491313544.\n",
      "[I 2024-12-23 17:25:53,970] Trial 75 finished with value: 0.7033997032152535 and parameters: {'num_leaves': 28, 'learning_rate': 0.02333938424944573, 'max_depth': 5, 'n_estimators': 195}. Best is trial 15 with value: 0.7230546491313544.\n",
      "[I 2024-12-23 17:25:54,026] Trial 76 finished with value: 0.6688040483252893 and parameters: {'num_leaves': 38, 'learning_rate': 0.049709153626725816, 'max_depth': 3, 'n_estimators': 256}. Best is trial 15 with value: 0.7230546491313544.\n",
      "[I 2024-12-23 17:25:54,144] Trial 77 finished with value: 0.6727766409157504 and parameters: {'num_leaves': 20, 'learning_rate': 0.033396565166363565, 'max_depth': 4, 'n_estimators': 409}. Best is trial 15 with value: 0.7230546491313544.\n",
      "[I 2024-12-23 17:25:54,206] Trial 78 finished with value: 0.7155561225566461 and parameters: {'num_leaves': 25, 'learning_rate': 0.017921106833784166, 'max_depth': 4, 'n_estimators': 165}. Best is trial 15 with value: 0.7230546491313544.\n",
      "[I 2024-12-23 17:25:54,344] Trial 79 finished with value: 0.6877002625012195 and parameters: {'num_leaves': 113, 'learning_rate': 0.014024218002230956, 'max_depth': 10, 'n_estimators': 128}. Best is trial 15 with value: 0.7230546491313544.\n",
      "[I 2024-12-23 17:25:54,476] Trial 80 finished with value: 0.6800596593893946 and parameters: {'num_leaves': 31, 'learning_rate': 0.08385430402404381, 'max_depth': 12, 'n_estimators': 188}. Best is trial 15 with value: 0.7230546491313544.\n",
      "[I 2024-12-23 17:25:54,524] Trial 81 finished with value: 0.7211987622881829 and parameters: {'num_leaves': 23, 'learning_rate': 0.029195926445159115, 'max_depth': 3, 'n_estimators': 122}. Best is trial 15 with value: 0.7230546491313544.\n",
      "[I 2024-12-23 17:25:54,566] Trial 82 finished with value: 0.7164334110103853 and parameters: {'num_leaves': 24, 'learning_rate': 0.02946114685674261, 'max_depth': 3, 'n_estimators': 125}. Best is trial 15 with value: 0.7230546491313544.\n",
      "[I 2024-12-23 17:25:54,622] Trial 83 finished with value: 0.7188118872814561 and parameters: {'num_leaves': 34, 'learning_rate': 0.02713904482227522, 'max_depth': 3, 'n_estimators': 153}. Best is trial 15 with value: 0.7230546491313544.\n",
      "[I 2024-12-23 17:25:54,676] Trial 84 finished with value: 0.7257945973445564 and parameters: {'num_leaves': 29, 'learning_rate': 0.026816740560162155, 'max_depth': 4, 'n_estimators': 151}. Best is trial 84 with value: 0.7257945973445564.\n",
      "[I 2024-12-23 17:25:54,742] Trial 85 finished with value: 0.7155561225566461 and parameters: {'num_leaves': 34, 'learning_rate': 0.026413914966574796, 'max_depth': 4, 'n_estimators': 153}. Best is trial 84 with value: 0.7257945973445564.\n",
      "[I 2024-12-23 17:25:54,806] Trial 86 finished with value: 0.7108598379474175 and parameters: {'num_leaves': 29, 'learning_rate': 0.029894887755509313, 'max_depth': 5, 'n_estimators': 100}. Best is trial 84 with value: 0.7257945973445564.\n",
      "[I 2024-12-23 17:25:54,866] Trial 87 finished with value: 0.6957205601253033 and parameters: {'num_leaves': 23, 'learning_rate': 0.03304950824330844, 'max_depth': 4, 'n_estimators': 173}. Best is trial 84 with value: 0.7257945973445564.\n",
      "[I 2024-12-23 17:25:54,926] Trial 88 finished with value: 0.7164334110103853 and parameters: {'num_leaves': 27, 'learning_rate': 0.025039840902645657, 'max_depth': 3, 'n_estimators': 203}. Best is trial 84 with value: 0.7257945973445564.\n",
      "[I 2024-12-23 17:25:55,026] Trial 89 finished with value: 0.6755348563624838 and parameters: {'num_leaves': 33, 'learning_rate': 0.027620886155946323, 'max_depth': 5, 'n_estimators': 236}. Best is trial 84 with value: 0.7257945973445564.\n",
      "[I 2024-12-23 17:25:55,116] Trial 90 finished with value: 0.7079374627402749 and parameters: {'num_leaves': 63, 'learning_rate': 0.021248132135076432, 'max_depth': 6, 'n_estimators': 122}. Best is trial 84 with value: 0.7257945973445564.\n",
      "[I 2024-12-23 17:25:55,164] Trial 91 finished with value: 0.7185457163150273 and parameters: {'num_leaves': 20, 'learning_rate': 0.035894446833131935, 'max_depth': 3, 'n_estimators': 145}. Best is trial 84 with value: 0.7257945973445564.\n",
      "[I 2024-12-23 17:25:55,206] Trial 92 finished with value: 0.6661261089995466 and parameters: {'num_leaves': 20, 'learning_rate': 0.099202721387633, 'max_depth': 3, 'n_estimators': 147}. Best is trial 84 with value: 0.7257945973445564.\n",
      "[I 2024-12-23 17:25:55,264] Trial 93 finished with value: 0.7209526898288272 and parameters: {'num_leaves': 26, 'learning_rate': 0.038366027333298976, 'max_depth': 3, 'n_estimators': 154}. Best is trial 84 with value: 0.7257945973445564.\n",
      "[I 2024-12-23 17:25:55,326] Trial 94 finished with value: 0.6789392581532343 and parameters: {'num_leaves': 30, 'learning_rate': 0.04423617676584737, 'max_depth': 4, 'n_estimators': 179}. Best is trial 84 with value: 0.7257945973445564.\n",
      "[I 2024-12-23 17:25:55,386] Trial 95 finished with value: 0.6979828271223655 and parameters: {'num_leaves': 45, 'learning_rate': 0.040683755314078085, 'max_depth': 4, 'n_estimators': 118}. Best is trial 84 with value: 0.7257945973445564.\n",
      "[I 2024-12-23 17:25:55,426] Trial 96 finished with value: 0.7087040106099626 and parameters: {'num_leaves': 26, 'learning_rate': 0.037941675268385766, 'max_depth': 3, 'n_estimators': 158}. Best is trial 84 with value: 0.7257945973445564.\n",
      "[I 2024-12-23 17:25:55,499] Trial 97 finished with value: 0.7058134120067128 and parameters: {'num_leaves': 37, 'learning_rate': 0.03161870041940764, 'max_depth': 3, 'n_estimators': 206}. Best is trial 84 with value: 0.7257945973445564.\n",
      "[I 2024-12-23 17:25:55,546] Trial 98 finished with value: 0.7154469434464065 and parameters: {'num_leaves': 27, 'learning_rate': 0.028321639640533303, 'max_depth': 4, 'n_estimators': 137}. Best is trial 84 with value: 0.7257945973445564.\n",
      "[I 2024-12-23 17:25:55,696] Trial 99 finished with value: 0.6634605127818061 and parameters: {'num_leaves': 39, 'learning_rate': 0.034941468731467466, 'max_depth': 3, 'n_estimators': 896}. Best is trial 84 with value: 0.7257945973445564.\n",
      "[I 2024-12-23 17:25:55,776] Trial 100 finished with value: 0.6955383398448846 and parameters: {'num_leaves': 81, 'learning_rate': 0.023217035191121164, 'max_depth': 4, 'n_estimators': 229}. Best is trial 84 with value: 0.7257945973445564.\n",
      "[I 2024-12-23 17:25:55,818] Trial 101 finished with value: 0.7117002583116361 and parameters: {'num_leaves': 23, 'learning_rate': 0.03701744268322787, 'max_depth': 3, 'n_estimators': 100}. Best is trial 84 with value: 0.7257945973445564.\n",
      "[I 2024-12-23 17:25:55,871] Trial 102 finished with value: 0.7211987622881829 and parameters: {'num_leaves': 30, 'learning_rate': 0.033495497321788144, 'max_depth': 3, 'n_estimators': 152}. Best is trial 84 with value: 0.7257945973445564.\n",
      "[I 2024-12-23 17:25:55,930] Trial 103 finished with value: 0.7161475873692498 and parameters: {'num_leaves': 32, 'learning_rate': 0.03247615528940046, 'max_depth': 3, 'n_estimators': 186}. Best is trial 84 with value: 0.7257945973445564.\n",
      "[I 2024-12-23 17:25:55,977] Trial 104 finished with value: 0.7164334110103853 and parameters: {'num_leaves': 35, 'learning_rate': 0.03045583605240144, 'max_depth': 3, 'n_estimators': 119}. Best is trial 84 with value: 0.7257945973445564.\n",
      "[I 2024-12-23 17:25:56,049] Trial 105 finished with value: 0.7129765248706348 and parameters: {'num_leaves': 30, 'learning_rate': 0.02513448663521411, 'max_depth': 4, 'n_estimators': 166}. Best is trial 84 with value: 0.7257945973445564.\n",
      "[I 2024-12-23 17:25:56,126] Trial 106 finished with value: 0.7137579489457093 and parameters: {'num_leaves': 50, 'learning_rate': 0.03879084479641131, 'max_depth': 5, 'n_estimators': 131}. Best is trial 84 with value: 0.7257945973445564.\n",
      "[I 2024-12-23 17:25:56,176] Trial 107 finished with value: 0.7063194868054847 and parameters: {'num_leaves': 26, 'learning_rate': 0.041830243981352544, 'max_depth': 3, 'n_estimators': 155}. Best is trial 84 with value: 0.7257945973445564.\n",
      "[I 2024-12-23 17:25:56,226] Trial 108 finished with value: 0.7110964124503167 and parameters: {'num_leaves': 22, 'learning_rate': 0.027382277607589364, 'max_depth': 3, 'n_estimators': 211}. Best is trial 84 with value: 0.7257945973445564.\n",
      "[I 2024-12-23 17:25:56,287] Trial 109 finished with value: 0.7131065388463345 and parameters: {'num_leaves': 43, 'learning_rate': 0.034123991736776035, 'max_depth': 4, 'n_estimators': 118}. Best is trial 84 with value: 0.7257945973445564.\n",
      "[I 2024-12-23 17:25:56,346] Trial 110 finished with value: 0.7117002583116361 and parameters: {'num_leaves': 29, 'learning_rate': 0.019847446641856694, 'max_depth': 3, 'n_estimators': 250}. Best is trial 84 with value: 0.7257945973445564.\n",
      "[I 2024-12-23 17:25:56,396] Trial 111 finished with value: 0.716764052679646 and parameters: {'num_leaves': 22, 'learning_rate': 0.03582962732795818, 'max_depth': 3, 'n_estimators': 143}. Best is trial 84 with value: 0.7257945973445564.\n",
      "[I 2024-12-23 17:25:56,446] Trial 112 finished with value: 0.7012625247030344 and parameters: {'num_leaves': 25, 'learning_rate': 0.03676683853189043, 'max_depth': 3, 'n_estimators': 178}. Best is trial 84 with value: 0.7257945973445564.\n",
      "[I 2024-12-23 17:25:56,496] Trial 113 finished with value: 0.7140629839733383 and parameters: {'num_leaves': 20, 'learning_rate': 0.029064150872356927, 'max_depth': 3, 'n_estimators': 133}. Best is trial 84 with value: 0.7257945973445564.\n",
      "[I 2024-12-23 17:25:56,556] Trial 114 finished with value: 0.7105161010191311 and parameters: {'num_leaves': 35, 'learning_rate': 0.030718438238469058, 'max_depth': 4, 'n_estimators': 151}. Best is trial 84 with value: 0.7257945973445564.\n",
      "[I 2024-12-23 17:25:56,606] Trial 115 finished with value: 0.7157091781779992 and parameters: {'num_leaves': 32, 'learning_rate': 0.03311222502007834, 'max_depth': 4, 'n_estimators': 115}. Best is trial 84 with value: 0.7257945973445564.\n",
      "[I 2024-12-23 17:25:56,666] Trial 116 finished with value: 0.7140629839733383 and parameters: {'num_leaves': 23, 'learning_rate': 0.01606702112396707, 'max_depth': 3, 'n_estimators': 183}. Best is trial 84 with value: 0.7257945973445564.\n",
      "[I 2024-12-23 17:25:56,716] Trial 117 finished with value: 0.6908917127745842 and parameters: {'num_leaves': 39, 'learning_rate': 0.04677401281707168, 'max_depth': 3, 'n_estimators': 166}. Best is trial 84 with value: 0.7257945973445564.\n",
      "[I 2024-12-23 17:25:56,786] Trial 118 finished with value: 0.7106664685947205 and parameters: {'num_leaves': 28, 'learning_rate': 0.023562431552155358, 'max_depth': 4, 'n_estimators': 194}. Best is trial 84 with value: 0.7257945973445564.\n",
      "[I 2024-12-23 17:25:56,826] Trial 119 finished with value: 0.7084483742485115 and parameters: {'num_leaves': 96, 'learning_rate': 0.0660714632278006, 'max_depth': 3, 'n_estimators': 101}. Best is trial 84 with value: 0.7257945973445564.\n",
      "[I 2024-12-23 17:25:57,200] Trial 120 finished with value: 0.664391538690718 and parameters: {'num_leaves': 25, 'learning_rate': 0.03527958608856, 'max_depth': 13, 'n_estimators': 672}. Best is trial 84 with value: 0.7257945973445564.\n",
      "[I 2024-12-23 17:25:57,246] Trial 121 finished with value: 0.7188118872814561 and parameters: {'num_leaves': 20, 'learning_rate': 0.02648957309749745, 'max_depth': 3, 'n_estimators': 138}. Best is trial 84 with value: 0.7257945973445564.\n",
      "[I 2024-12-23 17:25:57,286] Trial 122 finished with value: 0.7185457163150273 and parameters: {'num_leaves': 20, 'learning_rate': 0.02686894657172038, 'max_depth': 3, 'n_estimators': 141}. Best is trial 84 with value: 0.7257945973445564.\n",
      "[I 2024-12-23 17:25:57,346] Trial 123 finished with value: 0.7204853022030712 and parameters: {'num_leaves': 22, 'learning_rate': 0.021718622050518267, 'max_depth': 4, 'n_estimators': 158}. Best is trial 84 with value: 0.7257945973445564.\n",
      "[I 2024-12-23 17:25:57,419] Trial 124 finished with value: 0.7033997032152535 and parameters: {'num_leaves': 28, 'learning_rate': 0.02156179266655935, 'max_depth': 4, 'n_estimators': 161}. Best is trial 84 with value: 0.7257945973445564.\n",
      "[I 2024-12-23 17:25:57,476] Trial 125 finished with value: 0.7131065388463345 and parameters: {'num_leaves': 23, 'learning_rate': 0.019049739116690965, 'max_depth': 4, 'n_estimators': 116}. Best is trial 84 with value: 0.7257945973445564.\n",
      "[I 2024-12-23 17:25:57,586] Trial 126 finished with value: 0.6830133521738241 and parameters: {'num_leaves': 33, 'learning_rate': 0.02393420588635624, 'max_depth': 6, 'n_estimators': 217}. Best is trial 84 with value: 0.7257945973445564.\n",
      "[I 2024-12-23 17:25:57,676] Trial 127 finished with value: 0.6830133521738241 and parameters: {'num_leaves': 30, 'learning_rate': 0.02580511516695779, 'max_depth': 8, 'n_estimators': 135}. Best is trial 84 with value: 0.7257945973445564.\n",
      "[I 2024-12-23 17:25:57,766] Trial 128 finished with value: 0.6931022301406894 and parameters: {'num_leaves': 26, 'learning_rate': 0.028295114301461186, 'max_depth': 5, 'n_estimators': 194}. Best is trial 84 with value: 0.7257945973445564.\n",
      "[I 2024-12-23 17:25:57,826] Trial 129 finished with value: 0.7164334110103853 and parameters: {'num_leaves': 23, 'learning_rate': 0.022529015315079906, 'max_depth': 3, 'n_estimators': 172}. Best is trial 84 with value: 0.7257945973445564.\n",
      "[I 2024-12-23 17:25:57,886] Trial 130 finished with value: 0.7103438214914994 and parameters: {'num_leaves': 36, 'learning_rate': 0.01725930024808675, 'max_depth': 4, 'n_estimators': 100}. Best is trial 84 with value: 0.7257945973445564.\n",
      "[I 2024-12-23 17:25:57,926] Trial 131 finished with value: 0.7209526898288272 and parameters: {'num_leaves': 20, 'learning_rate': 0.031404734097200154, 'max_depth': 3, 'n_estimators': 148}. Best is trial 84 with value: 0.7257945973445564.\n",
      "[I 2024-12-23 17:25:57,977] Trial 132 finished with value: 0.7161475873692498 and parameters: {'num_leaves': 56, 'learning_rate': 0.030959477474651546, 'max_depth': 3, 'n_estimators': 151}. Best is trial 84 with value: 0.7257945973445564.\n",
      "[I 2024-12-23 17:25:58,026] Trial 133 finished with value: 0.7144124925510423 and parameters: {'num_leaves': 25, 'learning_rate': 0.032704634744130726, 'max_depth': 3, 'n_estimators': 129}. Best is trial 84 with value: 0.7257945973445564.\n",
      "[I 2024-12-23 17:25:58,066] Trial 134 finished with value: 0.7188118872814561 and parameters: {'num_leaves': 28, 'learning_rate': 0.02917167037713711, 'max_depth': 3, 'n_estimators': 116}. Best is trial 84 with value: 0.7257945973445564.\n",
      "[I 2024-12-23 17:25:58,139] Trial 135 finished with value: 0.7155561225566461 and parameters: {'num_leaves': 22, 'learning_rate': 0.024611568921201116, 'max_depth': 4, 'n_estimators': 163}. Best is trial 84 with value: 0.7257945973445564.\n",
      "[I 2024-12-23 17:25:58,186] Trial 136 finished with value: 0.7113764489079352 and parameters: {'num_leaves': 32, 'learning_rate': 0.02655690684696097, 'max_depth': 3, 'n_estimators': 183}. Best is trial 84 with value: 0.7257945973445564.\n",
      "[I 2024-12-23 17:25:58,246] Trial 137 finished with value: 0.7033997032152535 and parameters: {'num_leaves': 150, 'learning_rate': 0.03437856806966147, 'max_depth': 4, 'n_estimators': 133}. Best is trial 84 with value: 0.7257945973445564.\n",
      "[I 2024-12-23 17:25:58,306] Trial 138 finished with value: 0.7063194868054847 and parameters: {'num_leaves': 20, 'learning_rate': 0.03997760012461988, 'max_depth': 3, 'n_estimators': 149}. Best is trial 84 with value: 0.7257945973445564.\n",
      "[I 2024-12-23 17:25:58,366] Trial 139 finished with value: 0.7110964124503167 and parameters: {'num_leaves': 68, 'learning_rate': 0.020301699294313816, 'max_depth': 3, 'n_estimators': 207}. Best is trial 84 with value: 0.7257945973445564.\n",
      "[I 2024-12-23 17:25:58,406] Trial 140 finished with value: 0.7188118872814561 and parameters: {'num_leaves': 63, 'learning_rate': 0.03087135360783827, 'max_depth': 3, 'n_estimators': 118}. Best is trial 84 with value: 0.7257945973445564.\n",
      "[I 2024-12-23 17:25:58,459] Trial 141 finished with value: 0.7164334110103853 and parameters: {'num_leaves': 28, 'learning_rate': 0.02892527040377707, 'max_depth': 3, 'n_estimators': 113}. Best is trial 84 with value: 0.7257945973445564.\n",
      "[I 2024-12-23 17:25:58,506] Trial 142 finished with value: 0.7090027368541849 and parameters: {'num_leaves': 26, 'learning_rate': 0.037673229574423664, 'max_depth': 3, 'n_estimators': 133}. Best is trial 84 with value: 0.7257945973445564.\n",
      "[I 2024-12-23 17:25:58,559] Trial 143 finished with value: 0.716764052679646 and parameters: {'num_leaves': 30, 'learning_rate': 0.027634746887261794, 'max_depth': 3, 'n_estimators': 163}. Best is trial 84 with value: 0.7257945973445564.\n",
      "[I 2024-12-23 17:25:58,599] Trial 144 finished with value: 0.7211987622881829 and parameters: {'num_leaves': 23, 'learning_rate': 0.032267039367356073, 'max_depth': 3, 'n_estimators': 100}. Best is trial 84 with value: 0.7257945973445564.\n",
      "[I 2024-12-23 17:25:58,646] Trial 145 finished with value: 0.7134970452817694 and parameters: {'num_leaves': 23, 'learning_rate': 0.03197898437950199, 'max_depth': 4, 'n_estimators': 105}. Best is trial 84 with value: 0.7257945973445564.\n",
      "[I 2024-12-23 17:25:58,703] Trial 146 finished with value: 0.7015726695756163 and parameters: {'num_leaves': 25, 'learning_rate': 0.04372091071627811, 'max_depth': 3, 'n_estimators': 147}. Best is trial 84 with value: 0.7257945973445564.\n",
      "[I 2024-12-23 17:25:58,766] Trial 147 finished with value: 0.6931022301406894 and parameters: {'num_leaves': 20, 'learning_rate': 0.033962167874421655, 'max_depth': 4, 'n_estimators': 176}. Best is trial 84 with value: 0.7257945973445564.\n",
      "[I 2024-12-23 17:25:58,866] Trial 148 finished with value: 0.7036500722742159 and parameters: {'num_leaves': 34, 'learning_rate': 0.025595629831658563, 'max_depth': 5, 'n_estimators': 228}. Best is trial 84 with value: 0.7257945973445564.\n",
      "[I 2024-12-23 17:25:58,906] Trial 149 finished with value: 0.7113764489079352 and parameters: {'num_leaves': 23, 'learning_rate': 0.038315673709970376, 'max_depth': 3, 'n_estimators': 129}. Best is trial 84 with value: 0.7257945973445564.\n",
      "[I 2024-12-23 17:25:58,965] Trial 150 finished with value: 0.7259991157695321 and parameters: {'num_leaves': 30, 'learning_rate': 0.012271195685342127, 'max_depth': 3, 'n_estimators': 154}. Best is trial 150 with value: 0.7259991157695321.\n",
      "[I 2024-12-23 17:25:59,055] Trial 151 finished with value: 0.71327998607442 and parameters: {'num_leaves': 30, 'learning_rate': 0.010302790045268788, 'max_depth': 3, 'n_estimators': 154}. Best is trial 150 with value: 0.7259991157695321.\n",
      "[I 2024-12-23 17:25:59,106] Trial 152 finished with value: 0.7161475873692498 and parameters: {'num_leaves': 26, 'learning_rate': 0.01221396622184507, 'max_depth': 3, 'n_estimators': 195}. Best is trial 150 with value: 0.7259991157695321.\n",
      "[I 2024-12-23 17:25:59,158] Trial 153 finished with value: 0.71327998607442 and parameters: {'num_leaves': 22, 'learning_rate': 0.015304404651968272, 'max_depth': 3, 'n_estimators': 100}. Best is trial 150 with value: 0.7259991157695321.\n",
      "[I 2024-12-23 17:25:59,206] Trial 154 finished with value: 0.7282302505703037 and parameters: {'num_leaves': 28, 'learning_rate': 0.014140314280658029, 'max_depth': 3, 'n_estimators': 135}. Best is trial 154 with value: 0.7282302505703037.\n",
      "[I 2024-12-23 17:25:59,267] Trial 155 finished with value: 0.7154469434464065 and parameters: {'num_leaves': 32, 'learning_rate': 0.013983244443010464, 'max_depth': 4, 'n_estimators': 121}. Best is trial 154 with value: 0.7282302505703037.\n",
      "[I 2024-12-23 17:25:59,331] Trial 156 finished with value: 0.7134970452817694 and parameters: {'num_leaves': 38, 'learning_rate': 0.01414981030930272, 'max_depth': 3, 'n_estimators': 165}. Best is trial 154 with value: 0.7282302505703037.\n",
      "[I 2024-12-23 17:25:59,516] Trial 157 finished with value: 0.6884882572669756 and parameters: {'num_leaves': 28, 'learning_rate': 0.01702231407112781, 'max_depth': 4, 'n_estimators': 809}. Best is trial 154 with value: 0.7282302505703037.\n",
      "[I 2024-12-23 17:25:59,566] Trial 158 finished with value: 0.7282302505703037 and parameters: {'num_leaves': 34, 'learning_rate': 0.01254780481752233, 'max_depth': 3, 'n_estimators': 146}. Best is trial 154 with value: 0.7282302505703037.\n",
      "[I 2024-12-23 17:25:59,626] Trial 159 finished with value: 0.7161475873692498 and parameters: {'num_leaves': 30, 'learning_rate': 0.012488750766184, 'max_depth': 3, 'n_estimators': 181}. Best is trial 154 with value: 0.7282302505703037.\n",
      "[I 2024-12-23 17:25:59,766] Trial 160 finished with value: 0.6877812142188353 and parameters: {'num_leaves': 75, 'learning_rate': 0.010653539340987294, 'max_depth': 15, 'n_estimators': 139}. Best is trial 154 with value: 0.7282302505703037.\n",
      "[I 2024-12-23 17:25:59,816] Trial 161 finished with value: 0.7231890133289806 and parameters: {'num_leaves': 36, 'learning_rate': 0.014953970844476533, 'max_depth': 3, 'n_estimators': 120}. Best is trial 154 with value: 0.7282302505703037.\n",
      "[I 2024-12-23 17:25:59,866] Trial 162 finished with value: 0.728413303024718 and parameters: {'num_leaves': 132, 'learning_rate': 0.015849644409331655, 'max_depth': 3, 'n_estimators': 118}. Best is trial 162 with value: 0.728413303024718.\n",
      "[I 2024-12-23 17:25:59,916] Trial 163 finished with value: 0.7259991157695321 and parameters: {'num_leaves': 126, 'learning_rate': 0.015223283962777584, 'max_depth': 3, 'n_estimators': 117}. Best is trial 162 with value: 0.728413303024718.\n",
      "[I 2024-12-23 17:25:59,966] Trial 164 finished with value: 0.7235943873482853 and parameters: {'num_leaves': 142, 'learning_rate': 0.014739405076576222, 'max_depth': 3, 'n_estimators': 116}. Best is trial 162 with value: 0.728413303024718.\n",
      "[I 2024-12-23 17:26:00,026] Trial 165 finished with value: 0.7235943873482853 and parameters: {'num_leaves': 135, 'learning_rate': 0.01530809859579384, 'max_depth': 3, 'n_estimators': 116}. Best is trial 162 with value: 0.728413303024718.\n",
      "[I 2024-12-23 17:26:00,076] Trial 166 finished with value: 0.7185457163150273 and parameters: {'num_leaves': 137, 'learning_rate': 0.01497218156381885, 'max_depth': 3, 'n_estimators': 114}. Best is trial 162 with value: 0.728413303024718.\n",
      "[I 2024-12-23 17:26:00,196] Trial 167 finished with value: 0.7053061020442005 and parameters: {'num_leaves': 135, 'learning_rate': 0.01154206826315346, 'max_depth': 7, 'n_estimators': 123}. Best is trial 162 with value: 0.728413303024718.\n",
      "[I 2024-12-23 17:26:00,247] Trial 168 finished with value: 0.7205961440941614 and parameters: {'num_leaves': 137, 'learning_rate': 0.015772045522061295, 'max_depth': 3, 'n_estimators': 103}. Best is trial 162 with value: 0.728413303024718.\n",
      "[I 2024-12-23 17:26:00,366] Trial 169 finished with value: 0.6979828271223655 and parameters: {'num_leaves': 126, 'learning_rate': 0.012636781296539524, 'max_depth': 11, 'n_estimators': 100}. Best is trial 162 with value: 0.728413303024718.\n",
      "[I 2024-12-23 17:26:00,423] Trial 170 finished with value: 0.7137579489457093 and parameters: {'num_leaves': 143, 'learning_rate': 0.01852248618390387, 'max_depth': 3, 'n_estimators': 138}. Best is trial 162 with value: 0.728413303024718.\n",
      "[I 2024-12-23 17:26:00,466] Trial 171 finished with value: 0.7106664685947205 and parameters: {'num_leaves': 131, 'learning_rate': 0.015416070590853717, 'max_depth': 3, 'n_estimators': 100}. Best is trial 162 with value: 0.728413303024718.\n",
      "[I 2024-12-23 17:26:00,526] Trial 172 finished with value: 0.7259991157695321 and parameters: {'num_leaves': 143, 'learning_rate': 0.01638961209818809, 'max_depth': 3, 'n_estimators': 123}. Best is trial 162 with value: 0.728413303024718.\n",
      "[I 2024-12-23 17:26:00,576] Trial 173 finished with value: 0.7110964124503167 and parameters: {'num_leaves': 145, 'learning_rate': 0.012681877167412522, 'max_depth': 3, 'n_estimators': 124}. Best is trial 162 with value: 0.728413303024718.\n",
      "[I 2024-12-23 17:26:00,626] Trial 174 finished with value: 0.7087040106099626 and parameters: {'num_leaves': 140, 'learning_rate': 0.018056578978658037, 'max_depth': 3, 'n_estimators': 141}. Best is trial 162 with value: 0.728413303024718.\n",
      "[I 2024-12-23 17:26:00,676] Trial 175 finished with value: 0.7183244250578524 and parameters: {'num_leaves': 130, 'learning_rate': 0.01389882272340394, 'max_depth': 3, 'n_estimators': 120}. Best is trial 162 with value: 0.728413303024718.\n",
      "[I 2024-12-23 17:26:00,739] Trial 176 finished with value: 0.7106664685947205 and parameters: {'num_leaves': 143, 'learning_rate': 0.010018044100516016, 'max_depth': 3, 'n_estimators': 149}. Best is trial 162 with value: 0.728413303024718.\n",
      "[I 2024-12-23 17:26:00,786] Trial 177 finished with value: 0.71327998607442 and parameters: {'num_leaves': 114, 'learning_rate': 0.016631029025062846, 'max_depth': 3, 'n_estimators': 129}. Best is trial 162 with value: 0.728413303024718.\n",
      "[I 2024-12-23 17:26:00,839] Trial 178 finished with value: 0.7209526898288272 and parameters: {'num_leaves': 133, 'learning_rate': 0.01419042816578299, 'max_depth': 3, 'n_estimators': 118}. Best is trial 162 with value: 0.728413303024718.\n",
      "[I 2024-12-23 17:26:00,899] Trial 179 finished with value: 0.7161475873692498 and parameters: {'num_leaves': 131, 'learning_rate': 0.014182722457968875, 'max_depth': 3, 'n_estimators': 168}. Best is trial 162 with value: 0.728413303024718.\n",
      "[I 2024-12-23 17:26:00,946] Trial 180 finished with value: 0.7137579489457093 and parameters: {'num_leaves': 124, 'learning_rate': 0.017878479614275997, 'max_depth': 3, 'n_estimators': 145}. Best is trial 162 with value: 0.728413303024718.\n",
      "[I 2024-12-23 17:26:01,005] Trial 181 finished with value: 0.7082355470909871 and parameters: {'num_leaves': 135, 'learning_rate': 0.012099623833920888, 'max_depth': 3, 'n_estimators': 118}. Best is trial 162 with value: 0.728413303024718.\n",
      "[I 2024-12-23 17:26:01,046] Trial 182 finished with value: 0.7282302505703037 and parameters: {'num_leaves': 127, 'learning_rate': 0.015411344149654605, 'max_depth': 3, 'n_estimators': 128}. Best is trial 162 with value: 0.728413303024718.\n",
      "[I 2024-12-23 17:26:01,106] Trial 183 finished with value: 0.7159062638881224 and parameters: {'num_leaves': 125, 'learning_rate': 0.016143394382370106, 'max_depth': 3, 'n_estimators': 131}. Best is trial 162 with value: 0.728413303024718.\n",
      "[I 2024-12-23 17:26:01,246] Trial 184 finished with value: 0.698146669124122 and parameters: {'num_leaves': 133, 'learning_rate': 0.013855172450689946, 'max_depth': 9, 'n_estimators': 153}. Best is trial 162 with value: 0.728413303024718.\n",
      "[I 2024-12-23 17:26:01,308] Trial 185 finished with value: 0.7282302505703037 and parameters: {'num_leaves': 128, 'learning_rate': 0.015277094265872104, 'max_depth': 3, 'n_estimators': 121}. Best is trial 162 with value: 0.728413303024718.\n",
      "[I 2024-12-23 17:26:01,366] Trial 186 finished with value: 0.7108598379474175 and parameters: {'num_leaves': 128, 'learning_rate': 0.011776111346873244, 'max_depth': 3, 'n_estimators': 137}. Best is trial 162 with value: 0.728413303024718.\n",
      "[I 2024-12-23 17:26:01,426] Trial 187 finished with value: 0.7117002583116361 and parameters: {'num_leaves': 119, 'learning_rate': 0.01650537932683681, 'max_depth': 3, 'n_estimators': 168}. Best is trial 162 with value: 0.728413303024718.\n",
      "[I 2024-12-23 17:26:01,487] Trial 188 finished with value: 0.7308373069278351 and parameters: {'num_leaves': 148, 'learning_rate': 0.010207755877428068, 'max_depth': 3, 'n_estimators': 186}. Best is trial 188 with value: 0.7308373069278351.\n",
      "[I 2024-12-23 17:26:01,556] Trial 189 finished with value: 0.7259991157695321 and parameters: {'num_leaves': 149, 'learning_rate': 0.01035506146616527, 'max_depth': 3, 'n_estimators': 187}. Best is trial 188 with value: 0.7308373069278351.\n",
      "[I 2024-12-23 17:26:01,626] Trial 190 finished with value: 0.7209526898288272 and parameters: {'num_leaves': 150, 'learning_rate': 0.010571331812361771, 'max_depth': 3, 'n_estimators': 189}. Best is trial 188 with value: 0.7308373069278351.\n",
      "[I 2024-12-23 17:26:01,676] Trial 191 finished with value: 0.7110964124503167 and parameters: {'num_leaves': 122, 'learning_rate': 0.013032644112130905, 'max_depth': 3, 'n_estimators': 172}. Best is trial 188 with value: 0.7308373069278351.\n",
      "[I 2024-12-23 17:26:01,736] Trial 192 finished with value: 0.7084483742485115 and parameters: {'num_leaves': 145, 'learning_rate': 0.011528111072342266, 'max_depth': 3, 'n_estimators': 117}. Best is trial 188 with value: 0.7308373069278351.\n",
      "[I 2024-12-23 17:26:01,786] Trial 193 finished with value: 0.7164334110103853 and parameters: {'num_leaves': 149, 'learning_rate': 0.015641095466324882, 'max_depth': 3, 'n_estimators': 154}. Best is trial 188 with value: 0.7308373069278351.\n",
      "[I 2024-12-23 17:26:01,916] Trial 194 finished with value: 0.7009940626124506 and parameters: {'num_leaves': 140, 'learning_rate': 0.010332760415192934, 'max_depth': 3, 'n_estimators': 607}. Best is trial 188 with value: 0.7308373069278351.\n",
      "[I 2024-12-23 17:26:01,966] Trial 195 finished with value: 0.7207518877612777 and parameters: {'num_leaves': 147, 'learning_rate': 0.01882664464225826, 'max_depth': 3, 'n_estimators': 100}. Best is trial 188 with value: 0.7308373069278351.\n",
      "[I 2024-12-23 17:26:02,036] Trial 196 finished with value: 0.7181477760876576 and parameters: {'num_leaves': 139, 'learning_rate': 0.014976014804605644, 'max_depth': 4, 'n_estimators': 199}. Best is trial 188 with value: 0.7308373069278351.\n",
      "[I 2024-12-23 17:26:02,096] Trial 197 finished with value: 0.7164334110103853 and parameters: {'num_leaves': 147, 'learning_rate': 0.01279312150419235, 'max_depth': 3, 'n_estimators': 133}. Best is trial 188 with value: 0.7308373069278351.\n",
      "[I 2024-12-23 17:26:02,156] Trial 198 finished with value: 0.7164334110103853 and parameters: {'num_leaves': 147, 'learning_rate': 0.01760238823398964, 'max_depth': 3, 'n_estimators': 159}. Best is trial 188 with value: 0.7308373069278351.\n",
      "[I 2024-12-23 17:26:02,252] Trial 199 finished with value: 0.71327998607442 and parameters: {'num_leaves': 127, 'learning_rate': 0.014053687013276035, 'max_depth': 4, 'n_estimators': 186}. Best is trial 188 with value: 0.7308373069278351.\n",
      "[I 2024-12-23 17:26:02,307] Trial 200 finished with value: 0.7082355470909871 and parameters: {'num_leaves': 142, 'learning_rate': 0.012225945307077223, 'max_depth': 3, 'n_estimators': 128}. Best is trial 188 with value: 0.7308373069278351.\n",
      "[I 2024-12-23 17:26:02,378] Trial 201 finished with value: 0.7134970452817694 and parameters: {'num_leaves': 142, 'learning_rate': 0.015025559203762839, 'max_depth': 3, 'n_estimators': 144}. Best is trial 188 with value: 0.7308373069278351.\n",
      "[I 2024-12-23 17:26:02,558] Trial 202 finished with value: 0.6882536901154797 and parameters: {'num_leaves': 129, 'learning_rate': 0.010439389146166636, 'max_depth': 3, 'n_estimators': 997}. Best is trial 188 with value: 0.7308373069278351.\n",
      "[I 2024-12-23 17:26:02,617] Trial 203 finished with value: 0.7259991157695321 and parameters: {'num_leaves': 145, 'learning_rate': 0.016419727245680076, 'max_depth': 3, 'n_estimators': 117}. Best is trial 188 with value: 0.7308373069278351.\n",
      "[I 2024-12-23 17:26:02,724] Trial 204 finished with value: 0.6858405378556512 and parameters: {'num_leaves': 145, 'learning_rate': 0.020233357717148213, 'max_depth': 3, 'n_estimators': 514}. Best is trial 188 with value: 0.7308373069278351.\n",
      "[I 2024-12-23 17:26:02,767] Trial 205 finished with value: 0.7185457163150273 and parameters: {'num_leaves': 139, 'learning_rate': 0.017322916389526547, 'max_depth': 3, 'n_estimators': 113}. Best is trial 188 with value: 0.7308373069278351.\n",
      "[I 2024-12-23 17:26:02,824] Trial 206 finished with value: 0.7159062638881224 and parameters: {'num_leaves': 144, 'learning_rate': 0.0163499215170501, 'max_depth': 3, 'n_estimators': 129}. Best is trial 188 with value: 0.7308373069278351.\n",
      "[I 2024-12-23 17:26:02,887] Trial 207 finished with value: 0.7153598685235213 and parameters: {'num_leaves': 100, 'learning_rate': 0.013115911904273808, 'max_depth': 4, 'n_estimators': 100}. Best is trial 188 with value: 0.7308373069278351.\n",
      "[I 2024-12-23 17:26:02,941] Trial 208 finished with value: 0.7082355470909871 and parameters: {'num_leaves': 147, 'learning_rate': 0.010081751444087187, 'max_depth': 3, 'n_estimators': 120}. Best is trial 188 with value: 0.7308373069278351.\n",
      "[I 2024-12-23 17:26:02,993] Trial 209 finished with value: 0.7033997032152535 and parameters: {'num_leaves': 134, 'learning_rate': 0.05458987953865959, 'max_depth': 3, 'n_estimators': 143}. Best is trial 188 with value: 0.7308373069278351.\n",
      "[I 2024-12-23 17:26:03,053] Trial 210 finished with value: 0.7140629839733383 and parameters: {'num_leaves': 150, 'learning_rate': 0.01923482437200173, 'max_depth': 3, 'n_estimators': 172}. Best is trial 188 with value: 0.7308373069278351.\n",
      "[I 2024-12-23 17:26:03,107] Trial 211 finished with value: 0.7134970452817694 and parameters: {'num_leaves': 141, 'learning_rate': 0.015136379234446915, 'max_depth': 3, 'n_estimators': 154}. Best is trial 188 with value: 0.7308373069278351.\n",
      "[I 2024-12-23 17:26:03,167] Trial 212 finished with value: 0.7188118872814561 and parameters: {'num_leaves': 137, 'learning_rate': 0.012921981778257978, 'max_depth': 3, 'n_estimators': 140}. Best is trial 188 with value: 0.7308373069278351.\n",
      "[I 2024-12-23 17:26:03,224] Trial 213 finished with value: 0.7106664685947205 and parameters: {'num_leaves': 146, 'learning_rate': 0.014278782335354595, 'max_depth': 3, 'n_estimators': 113}. Best is trial 188 with value: 0.7308373069278351.\n",
      "[I 2024-12-23 17:26:03,277] Trial 214 finished with value: 0.7084483742485115 and parameters: {'num_leaves': 119, 'learning_rate': 0.01194223822286711, 'max_depth': 3, 'n_estimators': 130}. Best is trial 188 with value: 0.7308373069278351.\n",
      "[I 2024-12-23 17:26:03,343] Trial 215 finished with value: 0.7161475873692498 and parameters: {'num_leaves': 123, 'learning_rate': 0.016912824450823247, 'max_depth': 3, 'n_estimators': 157}. Best is trial 188 with value: 0.7308373069278351.\n",
      "[I 2024-12-23 17:26:03,400] Trial 216 finished with value: 0.7235943873482853 and parameters: {'num_leaves': 132, 'learning_rate': 0.014456075081414263, 'max_depth': 3, 'n_estimators': 118}. Best is trial 188 with value: 0.7308373069278351.\n",
      "[I 2024-12-23 17:26:03,467] Trial 217 finished with value: 0.7080653016050115 and parameters: {'num_leaves': 89, 'learning_rate': 0.015518786728175988, 'max_depth': 4, 'n_estimators': 120}. Best is trial 188 with value: 0.7308373069278351.\n",
      "[I 2024-12-23 17:26:03,518] Trial 218 finished with value: 0.7082355470909871 and parameters: {'num_leaves': 131, 'learning_rate': 0.013477236617302768, 'max_depth': 3, 'n_estimators': 100}. Best is trial 188 with value: 0.7308373069278351.\n",
      "[I 2024-12-23 17:26:03,580] Trial 219 finished with value: 0.7161475873692498 and parameters: {'num_leaves': 131, 'learning_rate': 0.01835586078435543, 'max_depth': 3, 'n_estimators': 136}. Best is trial 188 with value: 0.7308373069278351.\n",
      "[I 2024-12-23 17:26:03,650] Trial 220 finished with value: 0.7178841309823678 and parameters: {'num_leaves': 138, 'learning_rate': 0.011401145463130223, 'max_depth': 4, 'n_estimators': 118}. Best is trial 188 with value: 0.7308373069278351.\n",
      "[I 2024-12-23 17:26:03,713] Trial 221 finished with value: 0.7108598379474175 and parameters: {'num_leaves': 126, 'learning_rate': 0.01508304608348019, 'max_depth': 3, 'n_estimators': 148}. Best is trial 188 with value: 0.7308373069278351.\n",
      "[I 2024-12-23 17:26:03,777] Trial 222 finished with value: 0.7161475873692498 and parameters: {'num_leaves': 128, 'learning_rate': 0.013311523717808995, 'max_depth': 3, 'n_estimators': 174}. Best is trial 188 with value: 0.7308373069278351.\n",
      "[I 2024-12-23 17:26:03,886] Trial 223 finished with value: 0.7027707808564232 and parameters: {'num_leaves': 143, 'learning_rate': 0.032080261746081196, 'max_depth': 7, 'n_estimators': 140}. Best is trial 188 with value: 0.7308373069278351.\n",
      "[I 2024-12-23 17:26:03,976] Trial 224 finished with value: 0.7063194868054847 and parameters: {'num_leaves': 133, 'learning_rate': 0.016805592188553865, 'max_depth': 3, 'n_estimators': 338}. Best is trial 188 with value: 0.7308373069278351.\n",
      "[I 2024-12-23 17:26:04,026] Trial 225 finished with value: 0.7106664685947205 and parameters: {'num_leaves': 27, 'learning_rate': 0.010023964662043973, 'max_depth': 3, 'n_estimators': 115}. Best is trial 188 with value: 0.7308373069278351.\n",
      "[I 2024-12-23 17:26:04,086] Trial 226 finished with value: 0.6735810070201127 and parameters: {'num_leaves': 33, 'learning_rate': 0.07683965810970743, 'max_depth': 3, 'n_estimators': 158}. Best is trial 188 with value: 0.7308373069278351.\n",
      "[I 2024-12-23 17:26:04,138] Trial 227 finished with value: 0.7259991157695321 and parameters: {'num_leaves': 28, 'learning_rate': 0.01452755486916985, 'max_depth': 3, 'n_estimators': 136}. Best is trial 188 with value: 0.7308373069278351.\n",
      "[I 2024-12-23 17:26:04,197] Trial 228 finished with value: 0.7183244250578524 and parameters: {'num_leaves': 108, 'learning_rate': 0.012500848147409201, 'max_depth': 3, 'n_estimators': 130}. Best is trial 188 with value: 0.7308373069278351.\n",
      "[I 2024-12-23 17:26:04,247] Trial 229 finished with value: 0.7209526898288272 and parameters: {'num_leaves': 148, 'learning_rate': 0.014836604431531194, 'max_depth': 3, 'n_estimators': 114}. Best is trial 188 with value: 0.7308373069278351.\n",
      "[I 2024-12-23 17:26:04,298] Trial 230 finished with value: 0.7185457163150273 and parameters: {'num_leaves': 30, 'learning_rate': 0.017131870869262066, 'max_depth': 3, 'n_estimators': 101}. Best is trial 188 with value: 0.7308373069278351.\n",
      "[I 2024-12-23 17:26:04,346] Trial 231 finished with value: 0.7235943873482853 and parameters: {'num_leaves': 25, 'learning_rate': 0.011975818096231931, 'max_depth': 3, 'n_estimators': 142}. Best is trial 188 with value: 0.7308373069278351.\n",
      "[I 2024-12-23 17:26:04,401] Trial 232 finished with value: 0.7108598379474175 and parameters: {'num_leaves': 28, 'learning_rate': 0.012162257278053156, 'max_depth': 3, 'n_estimators': 131}. Best is trial 188 with value: 0.7308373069278351.\n",
      "[I 2024-12-23 17:26:04,463] Trial 233 finished with value: 0.7134970452817694 and parameters: {'num_leaves': 30, 'learning_rate': 0.013641451899371864, 'max_depth': 3, 'n_estimators': 163}. Best is trial 188 with value: 0.7308373069278351.\n",
      "[I 2024-12-23 17:26:04,557] Trial 234 finished with value: 0.6938219954967254 and parameters: {'num_leaves': 35, 'learning_rate': 0.015282598541644224, 'max_depth': 3, 'n_estimators': 465}. Best is trial 188 with value: 0.7308373069278351.\n",
      "[I 2024-12-23 17:26:04,606] Trial 235 finished with value: 0.7211987622881829 and parameters: {'num_leaves': 27, 'learning_rate': 0.011668826318083771, 'max_depth': 3, 'n_estimators': 146}. Best is trial 188 with value: 0.7308373069278351.\n",
      "[I 2024-12-23 17:26:04,661] Trial 236 finished with value: 0.7108598379474175 and parameters: {'num_leaves': 26, 'learning_rate': 0.01150594316934207, 'max_depth': 3, 'n_estimators': 130}. Best is trial 188 with value: 0.7308373069278351.\n",
      "[I 2024-12-23 17:26:04,707] Trial 237 finished with value: 0.7209526898288272 and parameters: {'num_leaves': 135, 'learning_rate': 0.013470722010034866, 'max_depth': 3, 'n_estimators': 145}. Best is trial 188 with value: 0.7308373069278351.\n",
      "[I 2024-12-23 17:26:04,764] Trial 238 finished with value: 0.7106664685947205 and parameters: {'num_leaves': 32, 'learning_rate': 0.010037545341053479, 'max_depth': 3, 'n_estimators': 115}. Best is trial 188 with value: 0.7308373069278351.\n",
      "[I 2024-12-23 17:26:04,826] Trial 239 finished with value: 0.7134970452817694 and parameters: {'num_leaves': 28, 'learning_rate': 0.011871317554567513, 'max_depth': 3, 'n_estimators': 182}. Best is trial 188 with value: 0.7308373069278351.\n",
      "[I 2024-12-23 17:26:04,897] Trial 240 finished with value: 0.7056237590114418 and parameters: {'num_leaves': 129, 'learning_rate': 0.01606270577863563, 'max_depth': 4, 'n_estimators': 128}. Best is trial 188 with value: 0.7308373069278351.\n",
      "[I 2024-12-23 17:26:04,957] Trial 241 finished with value: 0.7134970452817694 and parameters: {'num_leaves': 25, 'learning_rate': 0.014161828566530359, 'max_depth': 3, 'n_estimators': 152}. Best is trial 188 with value: 0.7308373069278351.\n",
      "[I 2024-12-23 17:26:05,006] Trial 242 finished with value: 0.7134970452817694 and parameters: {'num_leaves': 25, 'learning_rate': 0.011732487916899606, 'max_depth': 3, 'n_estimators': 142}. Best is trial 188 with value: 0.7308373069278351.\n",
      "[I 2024-12-23 17:26:05,056] Trial 243 finished with value: 0.7205961440941614 and parameters: {'num_leaves': 30, 'learning_rate': 0.018468921432524682, 'max_depth': 3, 'n_estimators': 114}. Best is trial 188 with value: 0.7308373069278351.\n",
      "[I 2024-12-23 17:26:05,122] Trial 244 finished with value: 0.7161475873692498 and parameters: {'num_leaves': 27, 'learning_rate': 0.014522104639842676, 'max_depth': 3, 'n_estimators': 169}. Best is trial 188 with value: 0.7308373069278351.\n",
      "[I 2024-12-23 17:26:05,166] Trial 245 finished with value: 0.7161475873692498 and parameters: {'num_leaves': 144, 'learning_rate': 0.01642825000124919, 'max_depth': 3, 'n_estimators': 129}. Best is trial 188 with value: 0.7308373069278351.\n",
      "[I 2024-12-23 17:26:05,227] Trial 246 finished with value: 0.7108598379474175 and parameters: {'num_leaves': 24, 'learning_rate': 0.012790498536824287, 'max_depth': 3, 'n_estimators': 100}. Best is trial 188 with value: 0.7308373069278351.\n",
      "[I 2024-12-23 17:26:05,293] Trial 247 finished with value: 0.6792747291370688 and parameters: {'num_leaves': 32, 'learning_rate': 0.09250966714426676, 'max_depth': 3, 'n_estimators': 156}. Best is trial 188 with value: 0.7308373069278351.\n",
      "[I 2024-12-23 17:26:05,357] Trial 248 finished with value: 0.7082355470909871 and parameters: {'num_leaves': 150, 'learning_rate': 0.010135433443130053, 'max_depth': 3, 'n_estimators': 137}. Best is trial 188 with value: 0.7308373069278351.\n",
      "[I 2024-12-23 17:26:05,538] Trial 249 finished with value: 0.6461363679925677 and parameters: {'num_leaves': 37, 'learning_rate': 0.05179093762552156, 'max_depth': 3, 'n_estimators': 959}. Best is trial 188 with value: 0.7308373069278351.\n",
      "[I 2024-12-23 17:26:05,599] Trial 250 finished with value: 0.7161475873692498 and parameters: {'num_leaves': 141, 'learning_rate': 0.019876176803643238, 'max_depth': 3, 'n_estimators': 119}. Best is trial 188 with value: 0.7308373069278351.\n",
      "[I 2024-12-23 17:26:05,664] Trial 251 finished with value: 0.7137579489457093 and parameters: {'num_leaves': 28, 'learning_rate': 0.014877775460142633, 'max_depth': 3, 'n_estimators': 190}. Best is trial 188 with value: 0.7308373069278351.\n",
      "[I 2024-12-23 17:26:05,752] Trial 252 finished with value: 0.7079374627402749 and parameters: {'num_leaves': 132, 'learning_rate': 0.01317148706324701, 'max_depth': 4, 'n_estimators': 162}. Best is trial 188 with value: 0.7308373069278351.\n",
      "[I 2024-12-23 17:26:05,867] Trial 253 finished with value: 0.6959428876935174 and parameters: {'num_leaves': 87, 'learning_rate': 0.015837277191615824, 'max_depth': 8, 'n_estimators': 139}. Best is trial 188 with value: 0.7308373069278351.\n",
      "[I 2024-12-23 17:26:05,938] Trial 254 finished with value: 0.716764052679646 and parameters: {'num_leaves': 34, 'learning_rate': 0.017720267605611552, 'max_depth': 3, 'n_estimators': 206}. Best is trial 188 with value: 0.7308373069278351.\n",
      "[I 2024-12-23 17:26:05,999] Trial 255 finished with value: 0.7106664685947205 and parameters: {'num_leaves': 146, 'learning_rate': 0.011755021300560229, 'max_depth': 3, 'n_estimators': 117}. Best is trial 188 with value: 0.7308373069278351.\n",
      "[I 2024-12-23 17:26:06,047] Trial 256 finished with value: 0.7159062638881224 and parameters: {'num_leaves': 24, 'learning_rate': 0.013471868003107826, 'max_depth': 3, 'n_estimators': 150}. Best is trial 188 with value: 0.7308373069278351.\n",
      "[I 2024-12-23 17:26:06,122] Trial 257 finished with value: 0.7185457163150273 and parameters: {'num_leaves': 127, 'learning_rate': 0.011663485693273024, 'max_depth': 3, 'n_estimators': 173}. Best is trial 188 with value: 0.7308373069278351.\n",
      "[I 2024-12-23 17:26:06,186] Trial 258 finished with value: 0.7079374627402749 and parameters: {'num_leaves': 31, 'learning_rate': 0.03388547753653604, 'max_depth': 4, 'n_estimators': 116}. Best is trial 188 with value: 0.7308373069278351.\n",
      "[I 2024-12-23 17:26:06,237] Trial 259 finished with value: 0.7084483742485115 and parameters: {'num_leaves': 28, 'learning_rate': 0.016302457993603206, 'max_depth': 3, 'n_estimators': 101}. Best is trial 188 with value: 0.7308373069278351.\n",
      "[I 2024-12-23 17:26:06,287] Trial 260 finished with value: 0.7308373069278351 and parameters: {'num_leaves': 137, 'learning_rate': 0.014520361148638191, 'max_depth': 3, 'n_estimators': 134}. Best is trial 188 with value: 0.7308373069278351.\n",
      "[I 2024-12-23 17:26:06,421] Trial 261 finished with value: 0.6685207599009593 and parameters: {'num_leaves': 136, 'learning_rate': 0.06089118637286072, 'max_depth': 11, 'n_estimators': 133}. Best is trial 188 with value: 0.7308373069278351.\n",
      "[I 2024-12-23 17:26:06,466] Trial 262 finished with value: 0.7082355470909871 and parameters: {'num_leaves': 134, 'learning_rate': 0.014482718645457507, 'max_depth': 3, 'n_estimators': 100}. Best is trial 188 with value: 0.7308373069278351.\n",
      "[I 2024-12-23 17:26:06,520] Trial 263 finished with value: 0.7161475873692498 and parameters: {'num_leaves': 140, 'learning_rate': 0.01825550311474894, 'max_depth': 3, 'n_estimators': 127}. Best is trial 188 with value: 0.7308373069278351.\n",
      "[I 2024-12-23 17:26:06,587] Trial 264 finished with value: 0.7204853022030712 and parameters: {'num_leaves': 136, 'learning_rate': 0.020453257239999023, 'max_depth': 4, 'n_estimators': 143}. Best is trial 188 with value: 0.7308373069278351.\n",
      "[I 2024-12-23 17:26:06,706] Trial 265 finished with value: 0.6935421956027223 and parameters: {'num_leaves': 143, 'learning_rate': 0.013250993423067634, 'max_depth': 3, 'n_estimators': 547}. Best is trial 188 with value: 0.7308373069278351.\n",
      "[I 2024-12-23 17:26:06,767] Trial 266 finished with value: 0.7233688640412851 and parameters: {'num_leaves': 138, 'learning_rate': 0.01544569439952865, 'max_depth': 3, 'n_estimators': 119}. Best is trial 188 with value: 0.7308373069278351.\n",
      "[I 2024-12-23 17:26:06,824] Trial 267 finished with value: 0.7157091781779992 and parameters: {'num_leaves': 137, 'learning_rate': 0.017085749384697212, 'max_depth': 3, 'n_estimators': 118}. Best is trial 188 with value: 0.7308373069278351.\n",
      "[I 2024-12-23 17:26:06,876] Trial 268 finished with value: 0.7157091781779992 and parameters: {'num_leaves': 142, 'learning_rate': 0.015342550054040342, 'max_depth': 3, 'n_estimators': 100}. Best is trial 188 with value: 0.7308373069278351.\n",
      "[I 2024-12-23 17:26:07,062] Trial 269 finished with value: 0.6781563480489636 and parameters: {'num_leaves': 138, 'learning_rate': 0.018059292049439537, 'max_depth': 4, 'n_estimators': 733}. Best is trial 188 with value: 0.7308373069278351.\n",
      "[I 2024-12-23 17:26:07,160] Trial 270 finished with value: 0.7129765248706348 and parameters: {'num_leaves': 139, 'learning_rate': 0.01481047853054809, 'max_depth': 6, 'n_estimators': 120}. Best is trial 188 with value: 0.7308373069278351.\n",
      "[I 2024-12-23 17:26:07,305] Trial 271 finished with value: 0.6759777141907827 and parameters: {'num_leaves': 133, 'learning_rate': 0.016368581059953192, 'max_depth': 3, 'n_estimators': 708}. Best is trial 188 with value: 0.7308373069278351.\n",
      "[I 2024-12-23 17:26:07,361] Trial 272 finished with value: 0.7211987622881829 and parameters: {'num_leaves': 148, 'learning_rate': 0.013468522113712161, 'max_depth': 3, 'n_estimators': 133}. Best is trial 188 with value: 0.7308373069278351.\n",
      "[I 2024-12-23 17:26:07,419] Trial 273 finished with value: 0.7137579489457093 and parameters: {'num_leaves': 145, 'learning_rate': 0.010095543565428692, 'max_depth': 3, 'n_estimators': 162}. Best is trial 188 with value: 0.7308373069278351.\n",
      "[I 2024-12-23 17:26:07,486] Trial 274 finished with value: 0.7256361656316764 and parameters: {'num_leaves': 131, 'learning_rate': 0.019379837622469347, 'max_depth': 4, 'n_estimators': 121}. Best is trial 188 with value: 0.7308373069278351.\n",
      "[I 2024-12-23 17:26:07,558] Trial 275 finished with value: 0.7207518877612777 and parameters: {'num_leaves': 130, 'learning_rate': 0.019802337599057092, 'max_depth': 4, 'n_estimators': 182}. Best is trial 188 with value: 0.7308373069278351.\n",
      "[I 2024-12-23 17:26:07,627] Trial 276 finished with value: 0.7104085846897416 and parameters: {'num_leaves': 130, 'learning_rate': 0.017174203871934416, 'max_depth': 4, 'n_estimators': 147}. Best is trial 188 with value: 0.7308373069278351.\n",
      "[I 2024-12-23 17:26:07,698] Trial 277 finished with value: 0.7155561225566461 and parameters: {'num_leaves': 133, 'learning_rate': 0.02140748199381084, 'max_depth': 4, 'n_estimators': 128}. Best is trial 188 with value: 0.7308373069278351.\n",
      "[I 2024-12-23 17:26:07,766] Trial 278 finished with value: 0.7110964124503167 and parameters: {'num_leaves': 140, 'learning_rate': 0.015311911866543933, 'max_depth': 3, 'n_estimators': 164}. Best is trial 188 with value: 0.7308373069278351.\n",
      "[I 2024-12-23 17:26:07,827] Trial 279 finished with value: 0.7108598379474175 and parameters: {'num_leaves': 125, 'learning_rate': 0.019093678939081454, 'max_depth': 3, 'n_estimators': 115}. Best is trial 188 with value: 0.7308373069278351.\n",
      "[I 2024-12-23 17:26:07,902] Trial 280 finished with value: 0.7233688640412851 and parameters: {'num_leaves': 135, 'learning_rate': 0.01404151033872223, 'max_depth': 3, 'n_estimators': 142}. Best is trial 188 with value: 0.7308373069278351.\n",
      "[I 2024-12-23 17:26:07,976] Trial 281 finished with value: 0.7080653016050115 and parameters: {'num_leaves': 135, 'learning_rate': 0.014013849538773304, 'max_depth': 4, 'n_estimators': 135}. Best is trial 188 with value: 0.7308373069278351.\n",
      "[I 2024-12-23 17:26:08,261] Trial 282 finished with value: 0.6832050190822216 and parameters: {'num_leaves': 120, 'learning_rate': 0.016036500701801352, 'max_depth': 13, 'n_estimators': 287}. Best is trial 188 with value: 0.7308373069278351.\n",
      "[I 2024-12-23 17:26:08,324] Trial 283 finished with value: 0.7082355470909871 and parameters: {'num_leaves': 129, 'learning_rate': 0.012542712776698503, 'max_depth': 3, 'n_estimators': 120}. Best is trial 188 with value: 0.7308373069278351.\n",
      "[I 2024-12-23 17:26:08,377] Trial 284 finished with value: 0.7183244250578524 and parameters: {'num_leaves': 137, 'learning_rate': 0.014377166572289246, 'max_depth': 3, 'n_estimators': 143}. Best is trial 188 with value: 0.7308373069278351.\n",
      "[I 2024-12-23 17:26:08,505] Trial 285 finished with value: 0.700766986066008 and parameters: {'num_leaves': 133, 'learning_rate': 0.01771075678448559, 'max_depth': 6, 'n_estimators': 173}. Best is trial 188 with value: 0.7308373069278351.\n",
      "[I 2024-12-23 17:26:08,562] Trial 286 finished with value: 0.7106664685947205 and parameters: {'num_leaves': 127, 'learning_rate': 0.011842572286552609, 'max_depth': 3, 'n_estimators': 116}. Best is trial 188 with value: 0.7308373069278351.\n",
      "[I 2024-12-23 17:26:08,623] Trial 287 finished with value: 0.7137579489457093 and parameters: {'num_leaves': 141, 'learning_rate': 0.01579117016671398, 'max_depth': 3, 'n_estimators': 152}. Best is trial 188 with value: 0.7308373069278351.\n",
      "[I 2024-12-23 17:26:08,677] Trial 288 finished with value: 0.7259991157695321 and parameters: {'num_leaves': 138, 'learning_rate': 0.013316213483354546, 'max_depth': 3, 'n_estimators': 134}. Best is trial 188 with value: 0.7308373069278351.\n",
      "[I 2024-12-23 17:26:08,767] Trial 289 finished with value: 0.7154469434464065 and parameters: {'num_leaves': 138, 'learning_rate': 0.013398571214758768, 'max_depth': 4, 'n_estimators': 215}. Best is trial 188 with value: 0.7308373069278351.\n",
      "[I 2024-12-23 17:26:08,827] Trial 290 finished with value: 0.7082355470909871 and parameters: {'num_leaves': 135, 'learning_rate': 0.010067906236023065, 'max_depth': 3, 'n_estimators': 133}. Best is trial 188 with value: 0.7308373069278351.\n",
      "[I 2024-12-23 17:26:08,887] Trial 291 finished with value: 0.7233688640412851 and parameters: {'num_leaves': 132, 'learning_rate': 0.012057026630394575, 'max_depth': 3, 'n_estimators': 158}. Best is trial 188 with value: 0.7308373069278351.\n",
      "[I 2024-12-23 17:26:09,067] Trial 292 finished with value: 0.6882536901154797 and parameters: {'num_leaves': 132, 'learning_rate': 0.012213109437592025, 'max_depth': 12, 'n_estimators': 200}. Best is trial 188 with value: 0.7308373069278351.\n",
      "[I 2024-12-23 17:26:09,139] Trial 293 finished with value: 0.7161475873692498 and parameters: {'num_leaves': 131, 'learning_rate': 0.013786740787203983, 'max_depth': 3, 'n_estimators': 170}. Best is trial 188 with value: 0.7308373069278351.\n",
      "[I 2024-12-23 17:26:09,204] Trial 294 finished with value: 0.7159062638881224 and parameters: {'num_leaves': 135, 'learning_rate': 0.011697061087827632, 'max_depth': 3, 'n_estimators': 181}. Best is trial 188 with value: 0.7308373069278351.\n",
      "[I 2024-12-23 17:26:09,367] Trial 295 finished with value: 0.6933023611487377 and parameters: {'num_leaves': 143, 'learning_rate': 0.01480345901614177, 'max_depth': 10, 'n_estimators': 155}. Best is trial 188 with value: 0.7308373069278351.\n",
      "[I 2024-12-23 17:26:09,461] Trial 296 finished with value: 0.7131065388463345 and parameters: {'num_leaves': 139, 'learning_rate': 0.016595216703810273, 'max_depth': 5, 'n_estimators': 158}. Best is trial 188 with value: 0.7308373069278351.\n",
      "[I 2024-12-23 17:26:09,518] Trial 297 finished with value: 0.7235943873482853 and parameters: {'num_leaves': 123, 'learning_rate': 0.013215018600875896, 'max_depth': 3, 'n_estimators': 140}. Best is trial 188 with value: 0.7308373069278351.\n",
      "[I 2024-12-23 17:26:09,567] Trial 298 finished with value: 0.7185457163150273 and parameters: {'num_leaves': 122, 'learning_rate': 0.018408373709886062, 'max_depth': 3, 'n_estimators': 138}. Best is trial 188 with value: 0.7308373069278351.\n",
      "[I 2024-12-23 17:26:09,627] Trial 299 finished with value: 0.7282302505703037 and parameters: {'num_leaves': 78, 'learning_rate': 0.014939880816639122, 'max_depth': 3, 'n_estimators': 133}. Best is trial 188 with value: 0.7308373069278351.\n",
      "[I 2024-12-23 17:26:09,687] Trial 300 finished with value: 0.728413303024718 and parameters: {'num_leaves': 71, 'learning_rate': 0.013004372190401414, 'max_depth': 3, 'n_estimators': 140}. Best is trial 188 with value: 0.7308373069278351.\n",
      "[I 2024-12-23 17:26:09,747] Trial 301 finished with value: 0.7164334110103853 and parameters: {'num_leaves': 70, 'learning_rate': 0.016294087350179537, 'max_depth': 3, 'n_estimators': 138}. Best is trial 188 with value: 0.7308373069278351.\n",
      "[I 2024-12-23 17:26:09,898] Trial 302 finished with value: 0.6858405378556512 and parameters: {'num_leaves': 104, 'learning_rate': 0.013726283328416258, 'max_depth': 3, 'n_estimators': 841}. Best is trial 188 with value: 0.7308373069278351.\n",
      "[I 2024-12-23 17:26:09,957] Trial 303 finished with value: 0.728413303024718 and parameters: {'num_leaves': 80, 'learning_rate': 0.014989379178989697, 'max_depth': 3, 'n_estimators': 128}. Best is trial 188 with value: 0.7308373069278351.\n",
      "[I 2024-12-23 17:26:10,007] Trial 304 finished with value: 0.7183244250578524 and parameters: {'num_leaves': 123, 'learning_rate': 0.018787288443180086, 'max_depth': 3, 'n_estimators': 114}. Best is trial 188 with value: 0.7308373069278351.\n",
      "[I 2024-12-23 17:26:10,077] Trial 305 finished with value: 0.7056237590114418 and parameters: {'num_leaves': 128, 'learning_rate': 0.017024931476781004, 'max_depth': 4, 'n_estimators': 126}. Best is trial 188 with value: 0.7308373069278351.\n",
      "[I 2024-12-23 17:26:10,127] Trial 306 finished with value: 0.7157091781779992 and parameters: {'num_leaves': 117, 'learning_rate': 0.015449548034238007, 'max_depth': 3, 'n_estimators': 131}. Best is trial 188 with value: 0.7308373069278351.\n",
      "[I 2024-12-23 17:26:10,187] Trial 307 finished with value: 0.7082355470909871 and parameters: {'num_leaves': 82, 'learning_rate': 0.012791560200518538, 'max_depth': 3, 'n_estimators': 110}. Best is trial 188 with value: 0.7308373069278351.\n",
      "[I 2024-12-23 17:26:10,247] Trial 308 finished with value: 0.7106664685947205 and parameters: {'num_leaves': 80, 'learning_rate': 0.015355433001641085, 'max_depth': 3, 'n_estimators': 100}. Best is trial 188 with value: 0.7308373069278351.\n",
      "[I 2024-12-23 17:26:10,307] Trial 309 finished with value: 0.7211987622881829 and parameters: {'num_leaves': 73, 'learning_rate': 0.01167890937277865, 'max_depth': 3, 'n_estimators': 151}. Best is trial 188 with value: 0.7308373069278351.\n",
      "[I 2024-12-23 17:26:10,387] Trial 310 finished with value: 0.7128463476070529 and parameters: {'num_leaves': 77, 'learning_rate': 0.010044661901936945, 'max_depth': 4, 'n_estimators': 128}. Best is trial 188 with value: 0.7308373069278351.\n",
      "[I 2024-12-23 17:26:10,458] Trial 311 finished with value: 0.7188118872814561 and parameters: {'num_leaves': 91, 'learning_rate': 0.02095339584546007, 'max_depth': 3, 'n_estimators': 173}. Best is trial 188 with value: 0.7308373069278351.\n",
      "[I 2024-12-23 17:26:10,517] Trial 312 finished with value: 0.7137579489457093 and parameters: {'num_leaves': 74, 'learning_rate': 0.017573907672939506, 'max_depth': 3, 'n_estimators': 146}. Best is trial 188 with value: 0.7308373069278351.\n",
      "[I 2024-12-23 17:26:10,577] Trial 313 finished with value: 0.7154469434464065 and parameters: {'num_leaves': 78, 'learning_rate': 0.013640771964296534, 'max_depth': 4, 'n_estimators': 115}. Best is trial 188 with value: 0.7308373069278351.\n",
      "[I 2024-12-23 17:26:10,633] Trial 314 finished with value: 0.7257945973445564 and parameters: {'num_leaves': 125, 'learning_rate': 0.015242276993873479, 'max_depth': 3, 'n_estimators': 133}. Best is trial 188 with value: 0.7308373069278351.\n",
      "[I 2024-12-23 17:26:10,699] Trial 315 finished with value: 0.7183244250578524 and parameters: {'num_leaves': 125, 'learning_rate': 0.012991767322221093, 'max_depth': 3, 'n_estimators': 164}. Best is trial 188 with value: 0.7308373069278351.\n",
      "[I 2024-12-23 17:26:10,759] Trial 316 finished with value: 0.7137579489457093 and parameters: {'num_leaves': 83, 'learning_rate': 0.017102870110676727, 'max_depth': 3, 'n_estimators': 148}. Best is trial 188 with value: 0.7308373069278351.\n",
      "[I 2024-12-23 17:26:10,825] Trial 317 finished with value: 0.7188118872814561 and parameters: {'num_leaves': 126, 'learning_rate': 0.019569973834403186, 'max_depth': 3, 'n_estimators': 185}. Best is trial 188 with value: 0.7308373069278351.\n",
      "[I 2024-12-23 17:26:10,887] Trial 318 finished with value: 0.7235943873482853 and parameters: {'num_leaves': 79, 'learning_rate': 0.014839791671777389, 'max_depth': 3, 'n_estimators': 136}. Best is trial 188 with value: 0.7308373069278351.\n",
      "[I 2024-12-23 17:26:10,947] Trial 319 finished with value: 0.7183244250578524 and parameters: {'num_leaves': 124, 'learning_rate': 0.011223241314186363, 'max_depth': 3, 'n_estimators': 160}. Best is trial 188 with value: 0.7308373069278351.\n",
      "[I 2024-12-23 17:26:11,007] Trial 320 finished with value: 0.6678800352235261 and parameters: {'num_leaves': 148, 'learning_rate': 0.08535541046639228, 'max_depth': 4, 'n_estimators': 129}. Best is trial 188 with value: 0.7308373069278351.\n",
      "[I 2024-12-23 17:26:11,067] Trial 321 finished with value: 0.7257945973445564 and parameters: {'num_leaves': 129, 'learning_rate': 0.013265347068882756, 'max_depth': 3, 'n_estimators': 141}. Best is trial 188 with value: 0.7308373069278351.\n",
      "[I 2024-12-23 17:26:11,124] Trial 322 finished with value: 0.7009940626124506 and parameters: {'num_leaves': 129, 'learning_rate': 0.06839798547376116, 'max_depth': 3, 'n_estimators': 115}. Best is trial 188 with value: 0.7308373069278351.\n",
      "[I 2024-12-23 17:26:11,201] Trial 323 finished with value: 0.7082355470909871 and parameters: {'num_leaves': 66, 'learning_rate': 0.01592491421851093, 'max_depth': 4, 'n_estimators': 165}. Best is trial 188 with value: 0.7308373069278351.\n",
      "[I 2024-12-23 17:26:11,266] Trial 324 finished with value: 0.7164334110103853 and parameters: {'num_leaves': 128, 'learning_rate': 0.018880491819632347, 'max_depth': 3, 'n_estimators': 147}. Best is trial 188 with value: 0.7308373069278351.\n",
      "[I 2024-12-23 17:26:11,327] Trial 325 finished with value: 0.7137579489457093 and parameters: {'num_leaves': 76, 'learning_rate': 0.014290340402705841, 'max_depth': 3, 'n_estimators': 185}. Best is trial 188 with value: 0.7308373069278351.\n",
      "[I 2024-12-23 17:26:11,387] Trial 326 finished with value: 0.7082355470909871 and parameters: {'num_leaves': 146, 'learning_rate': 0.012429133478471553, 'max_depth': 3, 'n_estimators': 100}. Best is trial 188 with value: 0.7308373069278351.\n",
      "[I 2024-12-23 17:26:11,442] Trial 327 finished with value: 0.7137579489457093 and parameters: {'num_leaves': 87, 'learning_rate': 0.016984008912148983, 'max_depth': 3, 'n_estimators': 130}. Best is trial 188 with value: 0.7308373069278351.\n",
      "[I 2024-12-23 17:26:11,502] Trial 328 finished with value: 0.7106664685947205 and parameters: {'num_leaves': 85, 'learning_rate': 0.0109978398945911, 'max_depth': 3, 'n_estimators': 127}. Best is trial 188 with value: 0.7308373069278351.\n",
      "[I 2024-12-23 17:26:11,577] Trial 329 finished with value: 0.7105161010191311 and parameters: {'num_leaves': 145, 'learning_rate': 0.01469150523904754, 'max_depth': 4, 'n_estimators': 151}. Best is trial 188 with value: 0.7308373069278351.\n",
      "[I 2024-12-23 17:26:11,627] Trial 330 finished with value: 0.7082355470909871 and parameters: {'num_leaves': 129, 'learning_rate': 0.013021425540159934, 'max_depth': 3, 'n_estimators': 116}. Best is trial 188 with value: 0.7308373069278351.\n",
      "[I 2024-12-23 17:26:11,700] Trial 331 finished with value: 0.7188118872814561 and parameters: {'num_leaves': 150, 'learning_rate': 0.017292436472642444, 'max_depth': 3, 'n_estimators': 174}. Best is trial 188 with value: 0.7308373069278351.\n",
      "[I 2024-12-23 17:26:11,787] Trial 332 finished with value: 0.7110964124503167 and parameters: {'num_leaves': 93, 'learning_rate': 0.014684487910586118, 'max_depth': 3, 'n_estimators': 373}. Best is trial 188 with value: 0.7308373069278351.\n",
      "[I 2024-12-23 17:26:11,847] Trial 333 finished with value: 0.7185457163150273 and parameters: {'num_leaves': 141, 'learning_rate': 0.012005783518880417, 'max_depth': 3, 'n_estimators': 140}. Best is trial 188 with value: 0.7308373069278351.\n",
      "[I 2024-12-23 17:26:11,907] Trial 334 finished with value: 0.7082355470909871 and parameters: {'num_leaves': 132, 'learning_rate': 0.010214186038695033, 'max_depth': 3, 'n_estimators': 111}. Best is trial 188 with value: 0.7308373069278351.\n",
      "[I 2024-12-23 17:26:11,967] Trial 335 finished with value: 0.7154469434464065 and parameters: {'num_leaves': 57, 'learning_rate': 0.016379150819565116, 'max_depth': 4, 'n_estimators': 100}. Best is trial 188 with value: 0.7308373069278351.\n",
      "[I 2024-12-23 17:26:12,027] Trial 336 finished with value: 0.7140629839733383 and parameters: {'num_leaves': 145, 'learning_rate': 0.01894577976521862, 'max_depth': 3, 'n_estimators': 161}. Best is trial 188 with value: 0.7308373069278351.\n",
      "[I 2024-12-23 17:26:12,108] Trial 337 finished with value: 0.7161475873692498 and parameters: {'num_leaves': 131, 'learning_rate': 0.013710961497692836, 'max_depth': 3, 'n_estimators': 195}. Best is trial 188 with value: 0.7308373069278351.\n",
      "[I 2024-12-23 17:26:12,169] Trial 338 finished with value: 0.7207518877612777 and parameters: {'num_leaves': 134, 'learning_rate': 0.015632961142753428, 'max_depth': 3, 'n_estimators': 132}. Best is trial 188 with value: 0.7308373069278351.\n",
      "[I 2024-12-23 17:26:12,233] Trial 339 finished with value: 0.7106664685947205 and parameters: {'num_leaves': 71, 'learning_rate': 0.010003053164825066, 'max_depth': 3, 'n_estimators': 149}. Best is trial 188 with value: 0.7308373069278351.\n",
      "[I 2024-12-23 17:26:12,315] Trial 340 finished with value: 0.7129765248706348 and parameters: {'num_leaves': 52, 'learning_rate': 0.022649955352329353, 'max_depth': 4, 'n_estimators': 126}. Best is trial 188 with value: 0.7308373069278351.\n",
      "[I 2024-12-23 17:26:12,377] Trial 341 finished with value: 0.7185457163150273 and parameters: {'num_leaves': 127, 'learning_rate': 0.012083158591319908, 'max_depth': 3, 'n_estimators': 168}. Best is trial 188 with value: 0.7308373069278351.\n",
      "[I 2024-12-23 17:26:12,459] Trial 342 finished with value: 0.7053702259330767 and parameters: {'num_leaves': 147, 'learning_rate': 0.017530497645669628, 'max_depth': 4, 'n_estimators': 137}. Best is trial 188 with value: 0.7308373069278351.\n",
      "[I 2024-12-23 17:26:12,519] Trial 343 finished with value: 0.7161475873692498 and parameters: {'num_leaves': 81, 'learning_rate': 0.014439176707037583, 'max_depth': 3, 'n_estimators': 117}. Best is trial 188 with value: 0.7308373069278351.\n",
      "[I 2024-12-23 17:26:12,619] Trial 344 finished with value: 0.6962055626005841 and parameters: {'num_leaves': 126, 'learning_rate': 0.02009914595121679, 'max_depth': 3, 'n_estimators': 438}. Best is trial 188 with value: 0.7308373069278351.\n",
      "[I 2024-12-23 17:26:12,684] Trial 345 finished with value: 0.7231890133289806 and parameters: {'num_leaves': 85, 'learning_rate': 0.013044204138624563, 'max_depth': 3, 'n_estimators': 147}. Best is trial 188 with value: 0.7308373069278351.\n",
      "[I 2024-12-23 17:26:12,745] Trial 346 finished with value: 0.7108598379474175 and parameters: {'num_leaves': 140, 'learning_rate': 0.015510695177286364, 'max_depth': 3, 'n_estimators': 101}. Best is trial 188 with value: 0.7308373069278351.\n",
      "[I 2024-12-23 17:26:12,807] Trial 347 finished with value: 0.71327998607442 and parameters: {'num_leaves': 143, 'learning_rate': 0.011533735396125067, 'max_depth': 3, 'n_estimators': 125}. Best is trial 188 with value: 0.7308373069278351.\n",
      "[I 2024-12-23 17:26:12,874] Trial 348 finished with value: 0.716764052679646 and parameters: {'num_leaves': 109, 'learning_rate': 0.016333495837214742, 'max_depth': 3, 'n_estimators': 179}. Best is trial 188 with value: 0.7308373069278351.\n",
      "[I 2024-12-23 17:26:12,936] Trial 349 finished with value: 0.7161475873692498 and parameters: {'num_leaves': 137, 'learning_rate': 0.013733467013890884, 'max_depth': 3, 'n_estimators': 156}. Best is trial 188 with value: 0.7308373069278351.\n",
      "[I 2024-12-23 17:26:12,996] Trial 350 finished with value: 0.7161475873692498 and parameters: {'num_leaves': 129, 'learning_rate': 0.01847487440087518, 'max_depth': 3, 'n_estimators': 138}. Best is trial 188 with value: 0.7308373069278351.\n",
      "[I 2024-12-23 17:26:13,115] Trial 351 finished with value: 0.6858405378556512 and parameters: {'num_leaves': 121, 'learning_rate': 0.014836025176405174, 'max_depth': 4, 'n_estimators': 393}. Best is trial 188 with value: 0.7308373069278351.\n",
      "[I 2024-12-23 17:26:13,179] Trial 352 finished with value: 0.7106664685947205 and parameters: {'num_leaves': 150, 'learning_rate': 0.012059191349734141, 'max_depth': 3, 'n_estimators': 113}. Best is trial 188 with value: 0.7308373069278351.\n",
      "[I 2024-12-23 17:26:13,244] Trial 353 finished with value: 0.7137579489457093 and parameters: {'num_leaves': 131, 'learning_rate': 0.017064398845246895, 'max_depth': 3, 'n_estimators': 161}. Best is trial 188 with value: 0.7308373069278351.\n",
      "[I 2024-12-23 17:26:13,440] Trial 354 finished with value: 0.686709807237443 and parameters: {'num_leaves': 61, 'learning_rate': 0.013683918118994918, 'max_depth': 4, 'n_estimators': 774}. Best is trial 188 with value: 0.7308373069278351.\n",
      "[I 2024-12-23 17:26:13,507] Trial 355 finished with value: 0.7161475873692498 and parameters: {'num_leaves': 143, 'learning_rate': 0.021165630861077474, 'max_depth': 3, 'n_estimators': 128}. Best is trial 188 with value: 0.7308373069278351.\n",
      "[I 2024-12-23 17:26:13,570] Trial 356 finished with value: 0.7106664685947205 and parameters: {'num_leaves': 134, 'learning_rate': 0.01004548013863634, 'max_depth': 3, 'n_estimators': 147}. Best is trial 188 with value: 0.7308373069278351.\n",
      "[I 2024-12-23 17:26:13,650] Trial 357 finished with value: 0.7164334110103853 and parameters: {'num_leaves': 125, 'learning_rate': 0.01598732354703445, 'max_depth': 3, 'n_estimators': 198}. Best is trial 188 with value: 0.7308373069278351.\n",
      "[I 2024-12-23 17:26:13,708] Trial 358 finished with value: 0.7082355470909871 and parameters: {'num_leaves': 78, 'learning_rate': 0.012664481089458734, 'max_depth': 3, 'n_estimators': 100}. Best is trial 188 with value: 0.7308373069278351.\n",
      "[I 2024-12-23 17:26:13,880] Trial 359 finished with value: 0.6632185655882417 and parameters: {'num_leaves': 130, 'learning_rate': 0.017875454811441538, 'max_depth': 4, 'n_estimators': 658}. Best is trial 188 with value: 0.7308373069278351.\n",
      "[I 2024-12-23 17:26:13,941] Trial 360 finished with value: 0.7259991157695321 and parameters: {'num_leaves': 137, 'learning_rate': 0.014858484357176481, 'max_depth': 3, 'n_estimators': 122}. Best is trial 188 with value: 0.7308373069278351.\n",
      "[I 2024-12-23 17:26:13,996] Trial 361 finished with value: 0.7209526898288272 and parameters: {'num_leaves': 135, 'learning_rate': 0.015558520803867612, 'max_depth': 3, 'n_estimators': 117}. Best is trial 188 with value: 0.7308373069278351.\n",
      "[I 2024-12-23 17:26:14,132] Trial 362 finished with value: 0.6931022301406894 and parameters: {'num_leaves': 98, 'learning_rate': 0.019371095677023862, 'max_depth': 14, 'n_estimators': 124}. Best is trial 188 with value: 0.7308373069278351.\n",
      "[I 2024-12-23 17:26:14,191] Trial 363 finished with value: 0.7233688640412851 and parameters: {'num_leaves': 138, 'learning_rate': 0.014553511317904985, 'max_depth': 3, 'n_estimators': 118}. Best is trial 188 with value: 0.7308373069278351.\n",
      "[I 2024-12-23 17:26:14,300] Trial 364 finished with value: 0.6807893629367181 and parameters: {'num_leaves': 140, 'learning_rate': 0.017738142460161116, 'max_depth': 4, 'n_estimators': 313}. Best is trial 188 with value: 0.7308373069278351.\n",
      "[I 2024-12-23 17:26:14,366] Trial 365 finished with value: 0.7191232310924914 and parameters: {'num_leaves': 142, 'learning_rate': 0.01623500772323901, 'max_depth': 3, 'n_estimators': 171}. Best is trial 188 with value: 0.7308373069278351.\n",
      "[I 2024-12-23 17:26:14,430] Trial 366 finished with value: 0.728413303024718 and parameters: {'num_leaves': 133, 'learning_rate': 0.013632627596614448, 'max_depth': 3, 'n_estimators': 141}. Best is trial 188 with value: 0.7308373069278351.\n",
      "[I 2024-12-23 17:26:14,494] Trial 367 finished with value: 0.7209526898288272 and parameters: {'num_leaves': 137, 'learning_rate': 0.011813322324302138, 'max_depth': 3, 'n_estimators': 149}. Best is trial 188 with value: 0.7308373069278351.\n",
      "[I 2024-12-23 17:26:14,560] Trial 368 finished with value: 0.7185457163150273 and parameters: {'num_leaves': 148, 'learning_rate': 0.013921043111243604, 'max_depth': 3, 'n_estimators': 182}. Best is trial 188 with value: 0.7308373069278351.\n",
      "[I 2024-12-23 17:26:14,619] Trial 369 finished with value: 0.7233688640412851 and parameters: {'num_leaves': 145, 'learning_rate': 0.013360964985691188, 'max_depth': 3, 'n_estimators': 143}. Best is trial 188 with value: 0.7308373069278351.\n",
      "[I 2024-12-23 17:26:14,697] Trial 370 finished with value: 0.7106664685947205 and parameters: {'num_leaves': 135, 'learning_rate': 0.016000228097418644, 'max_depth': 4, 'n_estimators': 157}. Best is trial 188 with value: 0.7308373069278351.\n",
      "[I 2024-12-23 17:26:14,759] Trial 371 finished with value: 0.7185457163150273 and parameters: {'num_leaves': 139, 'learning_rate': 0.01850335002919822, 'max_depth': 3, 'n_estimators': 133}. Best is trial 188 with value: 0.7308373069278351.\n",
      "[I 2024-12-23 17:26:14,831] Trial 372 finished with value: 0.7113764489079352 and parameters: {'num_leaves': 133, 'learning_rate': 0.01179172931240297, 'max_depth': 3, 'n_estimators': 238}. Best is trial 188 with value: 0.7308373069278351.\n",
      "[I 2024-12-23 17:26:14,896] Trial 373 finished with value: 0.7161475873692498 and parameters: {'num_leaves': 128, 'learning_rate': 0.014763491762129755, 'max_depth': 3, 'n_estimators': 168}. Best is trial 188 with value: 0.7308373069278351.\n",
      "[I 2024-12-23 17:26:14,946] Trial 374 finished with value: 0.7159062638881224 and parameters: {'num_leaves': 141, 'learning_rate': 0.02130968851372373, 'max_depth': 3, 'n_estimators': 101}. Best is trial 188 with value: 0.7308373069278351.\n",
      "[I 2024-12-23 17:26:15,018] Trial 375 finished with value: 0.7113764489079352 and parameters: {'num_leaves': 147, 'learning_rate': 0.01707282864982124, 'max_depth': 3, 'n_estimators': 133}. Best is trial 188 with value: 0.7308373069278351.\n",
      "[I 2024-12-23 17:26:15,077] Trial 376 finished with value: 0.7233688640412851 and parameters: {'num_leaves': 118, 'learning_rate': 0.01321020034759459, 'max_depth': 3, 'n_estimators': 152}. Best is trial 188 with value: 0.7308373069278351.\n",
      "[I 2024-12-23 17:26:15,147] Trial 377 finished with value: 0.7164334110103853 and parameters: {'num_leaves': 137, 'learning_rate': 0.01520520012875383, 'max_depth': 3, 'n_estimators': 217}. Best is trial 188 with value: 0.7308373069278351.\n",
      "[I 2024-12-23 17:26:15,277] Trial 378 finished with value: 0.695293508419747 and parameters: {'num_leaves': 132, 'learning_rate': 0.011530699337563916, 'max_depth': 7, 'n_estimators': 128}. Best is trial 188 with value: 0.7308373069278351.\n",
      "[I 2024-12-23 17:26:15,358] Trial 379 finished with value: 0.720419260386097 and parameters: {'num_leaves': 144, 'learning_rate': 0.01010622198580973, 'max_depth': 4, 'n_estimators': 114}. Best is trial 188 with value: 0.7308373069278351.\n",
      "[I 2024-12-23 17:26:15,539] Trial 380 finished with value: 0.6832050190822216 and parameters: {'num_leaves': 125, 'learning_rate': 0.01930763792234792, 'max_depth': 10, 'n_estimators': 192}. Best is trial 188 with value: 0.7308373069278351.\n",
      "[I 2024-12-23 17:26:15,623] Trial 381 finished with value: 0.7181477760876576 and parameters: {'num_leaves': 76, 'learning_rate': 0.01697851425821826, 'max_depth': 4, 'n_estimators': 163}. Best is trial 188 with value: 0.7308373069278351.\n",
      "[I 2024-12-23 17:26:15,677] Trial 382 finished with value: 0.7235943873482853 and parameters: {'num_leaves': 66, 'learning_rate': 0.01336755744730845, 'max_depth': 3, 'n_estimators': 140}. Best is trial 188 with value: 0.7308373069278351.\n",
      "[I 2024-12-23 17:26:15,743] Trial 383 finished with value: 0.7157091781779992 and parameters: {'num_leaves': 83, 'learning_rate': 0.015151643805313399, 'max_depth': 3, 'n_estimators': 100}. Best is trial 188 with value: 0.7308373069278351.\n",
      "[I 2024-12-23 17:26:15,887] Trial 384 finished with value: 0.6826623512698726 and parameters: {'num_leaves': 130, 'learning_rate': 0.013133729018547573, 'max_depth': 15, 'n_estimators': 126}. Best is trial 188 with value: 0.7308373069278351.\n",
      "[I 2024-12-23 17:26:15,957] Trial 385 finished with value: 0.7140629839733383 and parameters: {'num_leaves': 47, 'learning_rate': 0.016163404175881364, 'max_depth': 3, 'n_estimators': 177}. Best is trial 188 with value: 0.7308373069278351.\n",
      "[I 2024-12-23 17:26:16,067] Trial 386 finished with value: 0.7113764489079352 and parameters: {'num_leaves': 135, 'learning_rate': 0.011525970424648795, 'max_depth': 3, 'n_estimators': 488}. Best is trial 188 with value: 0.7308373069278351.\n",
      "[I 2024-12-23 17:26:16,217] Trial 387 finished with value: 0.6959428876935174 and parameters: {'num_leaves': 142, 'learning_rate': 0.014544566898508356, 'max_depth': 8, 'n_estimators': 146}. Best is trial 188 with value: 0.7308373069278351.\n",
      "[I 2024-12-23 17:26:16,267] Trial 388 finished with value: 0.7185457163150273 and parameters: {'num_leaves': 114, 'learning_rate': 0.017975433677518134, 'max_depth': 3, 'n_estimators': 115}. Best is trial 188 with value: 0.7308373069278351.\n",
      "[I 2024-12-23 17:26:16,347] Trial 389 finished with value: 0.7230546491313544 and parameters: {'num_leaves': 127, 'learning_rate': 0.020015521223442252, 'max_depth': 4, 'n_estimators': 157}. Best is trial 188 with value: 0.7308373069278351.\n",
      "[I 2024-12-23 17:26:16,407] Trial 390 finished with value: 0.7257945973445564 and parameters: {'num_leaves': 150, 'learning_rate': 0.013054613858340156, 'max_depth': 3, 'n_estimators': 136}. Best is trial 188 with value: 0.7308373069278351.\n",
      "[I 2024-12-23 17:26:16,605] Trial 391 finished with value: 0.7036500722742159 and parameters: {'num_leaves': 150, 'learning_rate': 0.011551271690063819, 'max_depth': 9, 'n_estimators': 175}. Best is trial 188 with value: 0.7308373069278351.\n",
      "[I 2024-12-23 17:26:16,667] Trial 392 finished with value: 0.728413303024718 and parameters: {'num_leaves': 150, 'learning_rate': 0.013307952026941365, 'max_depth': 3, 'n_estimators': 137}. Best is trial 188 with value: 0.7308373069278351.\n",
      "[I 2024-12-23 17:26:16,765] Trial 393 finished with value: 0.7209526898288272 and parameters: {'num_leaves': 149, 'learning_rate': 0.012913464572106167, 'max_depth': 5, 'n_estimators': 158}. Best is trial 188 with value: 0.7308373069278351.\n",
      "[I 2024-12-23 17:26:16,840] Trial 394 finished with value: 0.7209526898288272 and parameters: {'num_leaves': 147, 'learning_rate': 0.010159324210804734, 'max_depth': 3, 'n_estimators': 202}. Best is trial 188 with value: 0.7308373069278351.\n",
      "[I 2024-12-23 17:26:16,906] Trial 395 finished with value: 0.7259991157695321 and parameters: {'num_leaves': 150, 'learning_rate': 0.012913475164758525, 'max_depth': 3, 'n_estimators': 141}. Best is trial 188 with value: 0.7308373069278351.\n",
      "[I 2024-12-23 17:26:16,977] Trial 396 finished with value: 0.7159062638881224 and parameters: {'num_leaves': 149, 'learning_rate': 0.012400055889683301, 'max_depth': 3, 'n_estimators': 178}. Best is trial 188 with value: 0.7308373069278351.\n",
      "[I 2024-12-23 17:26:17,042] Trial 397 finished with value: 0.71327998607442 and parameters: {'num_leaves': 150, 'learning_rate': 0.0113667481993552, 'max_depth': 3, 'n_estimators': 144}. Best is trial 188 with value: 0.7308373069278351.\n",
      "[I 2024-12-23 17:26:17,106] Trial 398 finished with value: 0.7108598379474175 and parameters: {'num_leaves': 147, 'learning_rate': 0.013424065891703477, 'max_depth': 3, 'n_estimators': 162}. Best is trial 188 with value: 0.7308373069278351.\n",
      "[I 2024-12-23 17:26:17,167] Trial 399 finished with value: 0.7084483742485115 and parameters: {'num_leaves': 147, 'learning_rate': 0.011517415637304297, 'max_depth': 3, 'n_estimators': 139}. Best is trial 188 with value: 0.7308373069278351.\n",
      "[I 2024-12-23 17:26:17,239] Trial 400 finished with value: 0.7161475873692498 and parameters: {'num_leaves': 150, 'learning_rate': 0.013709346096294588, 'max_depth': 3, 'n_estimators': 184}. Best is trial 188 with value: 0.7308373069278351.\n",
      "[I 2024-12-23 17:26:17,299] Trial 401 finished with value: 0.71327998607442 and parameters: {'num_leaves': 145, 'learning_rate': 0.010291597436758566, 'max_depth': 3, 'n_estimators': 138}. Best is trial 188 with value: 0.7308373069278351.\n",
      "[I 2024-12-23 17:26:17,363] Trial 402 finished with value: 0.7084483742485115 and parameters: {'num_leaves': 148, 'learning_rate': 0.014337364446878992, 'max_depth': 3, 'n_estimators': 154}. Best is trial 188 with value: 0.7308373069278351.\n",
      "[I 2024-12-23 17:26:17,427] Trial 403 finished with value: 0.7161475873692498 and parameters: {'num_leaves': 143, 'learning_rate': 0.012866671395111398, 'max_depth': 3, 'n_estimators': 166}. Best is trial 188 with value: 0.7308373069278351.\n",
      "[I 2024-12-23 17:26:17,555] Trial 404 finished with value: 0.6640466674090949 and parameters: {'num_leaves': 150, 'learning_rate': 0.07479842920831671, 'max_depth': 3, 'n_estimators': 546}. Best is trial 188 with value: 0.7308373069278351.\n",
      "[I 2024-12-23 17:26:17,620] Trial 405 finished with value: 0.7137579489457093 and parameters: {'num_leaves': 146, 'learning_rate': 0.01607722262397799, 'max_depth': 3, 'n_estimators': 135}. Best is trial 188 with value: 0.7308373069278351.\n",
      "[I 2024-12-23 17:26:17,700] Trial 406 finished with value: 0.7188118872814561 and parameters: {'num_leaves': 146, 'learning_rate': 0.014503586016168793, 'max_depth': 3, 'n_estimators': 262}. Best is trial 188 with value: 0.7308373069278351.\n",
      "[I 2024-12-23 17:26:17,761] Trial 407 finished with value: 0.7082355470909871 and parameters: {'num_leaves': 150, 'learning_rate': 0.011699896449314663, 'max_depth': 3, 'n_estimators': 133}. Best is trial 188 with value: 0.7308373069278351.\n",
      "[I 2024-12-23 17:26:17,893] Trial 408 finished with value: 0.6938219954967254 and parameters: {'num_leaves': 147, 'learning_rate': 0.012809711646345725, 'max_depth': 3, 'n_estimators': 622}. Best is trial 188 with value: 0.7308373069278351.\n",
      "[I 2024-12-23 17:26:17,960] Trial 409 finished with value: 0.7134970452817694 and parameters: {'num_leaves': 145, 'learning_rate': 0.01608153602094001, 'max_depth': 3, 'n_estimators': 153}. Best is trial 188 with value: 0.7308373069278351.\n",
      "[I 2024-12-23 17:26:18,077] Trial 410 finished with value: 0.664391538690718 and parameters: {'num_leaves': 80, 'learning_rate': 0.05800632674386057, 'max_depth': 3, 'n_estimators': 587}. Best is trial 188 with value: 0.7308373069278351.\n",
      "[I 2024-12-23 17:26:18,158] Trial 411 finished with value: 0.7164334110103853 and parameters: {'num_leaves': 88, 'learning_rate': 0.014428807882424542, 'max_depth': 3, 'n_estimators': 198}. Best is trial 188 with value: 0.7308373069278351.\n",
      "[I 2024-12-23 17:26:18,220] Trial 412 finished with value: 0.7082355470909871 and parameters: {'num_leaves': 123, 'learning_rate': 0.010112513590310509, 'max_depth': 3, 'n_estimators': 127}. Best is trial 188 with value: 0.7308373069278351.\n",
      "[I 2024-12-23 17:26:18,276] Trial 413 finished with value: 0.6908917127745842 and parameters: {'num_leaves': 73, 'learning_rate': 0.04905535010377364, 'max_depth': 3, 'n_estimators': 174}. Best is trial 188 with value: 0.7308373069278351.\n",
      "[I 2024-12-23 17:26:18,346] Trial 414 finished with value: 0.7188118872814561 and parameters: {'num_leaves': 150, 'learning_rate': 0.017395541834162243, 'max_depth': 3, 'n_estimators': 148}. Best is trial 188 with value: 0.7308373069278351.\n",
      "[I 2024-12-23 17:26:18,424] Trial 415 finished with value: 0.7153815409387982 and parameters: {'num_leaves': 144, 'learning_rate': 0.012933570413794403, 'max_depth': 4, 'n_estimators': 119}. Best is trial 188 with value: 0.7308373069278351.\n",
      "[I 2024-12-23 17:26:18,487] Trial 416 finished with value: 0.7137579489457093 and parameters: {'num_leaves': 147, 'learning_rate': 0.015865212561919084, 'max_depth': 3, 'n_estimators': 165}. Best is trial 188 with value: 0.7308373069278351.\n",
      "[I 2024-12-23 17:26:18,547] Trial 417 finished with value: 0.7282302505703037 and parameters: {'num_leaves': 148, 'learning_rate': 0.014200862485196588, 'max_depth': 3, 'n_estimators': 135}. Best is trial 188 with value: 0.7308373069278351.\n",
      "[I 2024-12-23 17:26:18,626] Trial 418 finished with value: 0.7080653016050115 and parameters: {'num_leaves': 143, 'learning_rate': 0.01732069149544516, 'max_depth': 4, 'n_estimators': 115}. Best is trial 188 with value: 0.7308373069278351.\n",
      "[I 2024-12-23 17:26:18,687] Trial 419 finished with value: 0.7084483742485115 and parameters: {'num_leaves': 32, 'learning_rate': 0.014847335849007692, 'max_depth': 3, 'n_estimators': 148}. Best is trial 188 with value: 0.7308373069278351.\n",
      "[I 2024-12-23 17:26:18,746] Trial 420 finished with value: 0.7134970452817694 and parameters: {'num_leaves': 70, 'learning_rate': 0.011347396194930677, 'max_depth': 3, 'n_estimators': 188}. Best is trial 188 with value: 0.7308373069278351.\n",
      "[I 2024-12-23 17:26:18,807] Trial 421 finished with value: 0.7106664685947205 and parameters: {'num_leaves': 140, 'learning_rate': 0.01488184534101709, 'max_depth': 3, 'n_estimators': 101}. Best is trial 188 with value: 0.7308373069278351.\n",
      "[I 2024-12-23 17:26:18,867] Trial 422 finished with value: 0.7082355470909871 and parameters: {'num_leaves': 42, 'learning_rate': 0.010017567911858493, 'max_depth': 3, 'n_estimators': 131}. Best is trial 188 with value: 0.7308373069278351.\n",
      "[I 2024-12-23 17:26:18,987] Trial 423 finished with value: 0.6613514077093959 and parameters: {'num_leaves': 145, 'learning_rate': 0.06440768951831766, 'max_depth': 4, 'n_estimators': 353}. Best is trial 188 with value: 0.7308373069278351.\n",
      "[I 2024-12-23 17:26:19,047] Trial 424 finished with value: 0.7137579489457093 and parameters: {'num_leaves': 84, 'learning_rate': 0.016326354029750266, 'max_depth': 3, 'n_estimators': 157}. Best is trial 188 with value: 0.7308373069278351.\n",
      "[I 2024-12-23 17:26:19,123] Trial 425 finished with value: 0.7164334110103853 and parameters: {'num_leaves': 128, 'learning_rate': 0.013061311792744983, 'max_depth': 3, 'n_estimators': 217}. Best is trial 188 with value: 0.7308373069278351.\n",
      "[I 2024-12-23 17:26:19,177] Trial 426 finished with value: 0.7087040106099626 and parameters: {'num_leaves': 147, 'learning_rate': 0.017768746644607904, 'max_depth': 3, 'n_estimators': 128}. Best is trial 188 with value: 0.7308373069278351.\n",
      "[I 2024-12-23 17:26:19,241] Trial 427 finished with value: 0.7157091781779992 and parameters: {'num_leaves': 30, 'learning_rate': 0.01429423250712373, 'max_depth': 3, 'n_estimators': 145}. Best is trial 188 with value: 0.7308373069278351.\n",
      "[I 2024-12-23 17:26:19,319] Trial 428 finished with value: 0.7153815409387982 and parameters: {'num_leaves': 122, 'learning_rate': 0.012285761377541553, 'max_depth': 4, 'n_estimators': 113}. Best is trial 188 with value: 0.7308373069278351.\n",
      "[I 2024-12-23 17:26:19,396] Trial 429 finished with value: 0.7137579489457093 and parameters: {'num_leaves': 141, 'learning_rate': 0.015676261595032905, 'max_depth': 3, 'n_estimators': 168}. Best is trial 188 with value: 0.7308373069278351.\n",
      "[I 2024-12-23 17:26:19,466] Trial 430 finished with value: 0.7134970452817694 and parameters: {'num_leaves': 148, 'learning_rate': 0.018538774182451544, 'max_depth': 3, 'n_estimators': 132}. Best is trial 188 with value: 0.7308373069278351.\n",
      "[I 2024-12-23 17:26:19,526] Trial 431 finished with value: 0.720419260386097 and parameters: {'num_leaves': 107, 'learning_rate': 0.011387857633050235, 'max_depth': 4, 'n_estimators': 100}. Best is trial 188 with value: 0.7308373069278351.\n",
      "[I 2024-12-23 17:26:19,601] Trial 432 finished with value: 0.7134970452817694 and parameters: {'num_leaves': 34, 'learning_rate': 0.013869992292230024, 'max_depth': 3, 'n_estimators': 155}. Best is trial 188 with value: 0.7308373069278351.\n",
      "[I 2024-12-23 17:26:19,666] Trial 433 finished with value: 0.7140629839733383 and parameters: {'num_leaves': 138, 'learning_rate': 0.022836620819602107, 'max_depth': 3, 'n_estimators': 185}. Best is trial 188 with value: 0.7308373069278351.\n",
      "[I 2024-12-23 17:26:19,806] Trial 434 finished with value: 0.6928202763491953 and parameters: {'num_leaves': 145, 'learning_rate': 0.0163230494323262, 'max_depth': 11, 'n_estimators': 119}. Best is trial 188 with value: 0.7308373069278351.\n",
      "[I 2024-12-23 17:26:19,877] Trial 435 finished with value: 0.7235943873482853 and parameters: {'num_leaves': 79, 'learning_rate': 0.01376808641044323, 'max_depth': 3, 'n_estimators': 141}. Best is trial 188 with value: 0.7308373069278351.\n",
      "[I 2024-12-23 17:26:19,946] Trial 436 finished with value: 0.728413303024718 and parameters: {'num_leaves': 143, 'learning_rate': 0.012048738499024526, 'max_depth': 3, 'n_estimators': 162}. Best is trial 188 with value: 0.7308373069278351.\n",
      "[I 2024-12-23 17:26:20,019] Trial 437 finished with value: 0.7188118872814561 and parameters: {'num_leaves': 148, 'learning_rate': 0.010126181739417874, 'max_depth': 3, 'n_estimators': 175}. Best is trial 188 with value: 0.7308373069278351.\n",
      "[I 2024-12-23 17:26:20,099] Trial 438 finished with value: 0.7030240643636885 and parameters: {'num_leaves': 143, 'learning_rate': 0.01194870566583965, 'max_depth': 4, 'n_estimators': 163}. Best is trial 188 with value: 0.7308373069278351.\n",
      "[I 2024-12-23 17:26:20,166] Trial 439 finished with value: 0.7164334110103853 and parameters: {'num_leaves': 141, 'learning_rate': 0.015387955900090004, 'max_depth': 3, 'n_estimators': 198}. Best is trial 188 with value: 0.7308373069278351.\n",
      "[I 2024-12-23 17:26:20,243] Trial 440 finished with value: 0.7194800974650148 and parameters: {'num_leaves': 144, 'learning_rate': 0.020342320786362163, 'max_depth': 3, 'n_estimators': 120}. Best is trial 188 with value: 0.7308373069278351.\n",
      "[I 2024-12-23 17:26:20,327] Trial 441 finished with value: 0.7178841309823678 and parameters: {'num_leaves': 138, 'learning_rate': 0.010014268649517991, 'max_depth': 4, 'n_estimators': 154}. Best is trial 188 with value: 0.7308373069278351.\n",
      "[I 2024-12-23 17:26:20,403] Trial 442 finished with value: 0.7191232310924914 and parameters: {'num_leaves': 144, 'learning_rate': 0.01741669164789671, 'max_depth': 3, 'n_estimators': 177}. Best is trial 188 with value: 0.7308373069278351.\n",
      "[I 2024-12-23 17:26:20,543] Trial 443 finished with value: 0.664391538690718 and parameters: {'num_leaves': 140, 'learning_rate': 0.052328546594720894, 'max_depth': 3, 'n_estimators': 696}. Best is trial 188 with value: 0.7308373069278351.\n",
      "[I 2024-12-23 17:26:20,605] Trial 444 finished with value: 0.7084483742485115 and parameters: {'num_leaves': 103, 'learning_rate': 0.01185637726487142, 'max_depth': 3, 'n_estimators': 135}. Best is trial 188 with value: 0.7308373069278351.\n",
      "[I 2024-12-23 17:26:20,666] Trial 445 finished with value: 0.7157091781779992 and parameters: {'num_leaves': 147, 'learning_rate': 0.014255600209389815, 'max_depth': 3, 'n_estimators': 114}. Best is trial 188 with value: 0.7308373069278351.\n",
      "[I 2024-12-23 17:26:20,822] Trial 446 finished with value: 0.6929415898810425 and parameters: {'num_leaves': 50, 'learning_rate': 0.012629040980601303, 'max_depth': 14, 'n_estimators': 148}. Best is trial 188 with value: 0.7308373069278351.\n",
      "[I 2024-12-23 17:26:20,887] Trial 447 finished with value: 0.7188118872814561 and parameters: {'num_leaves': 29, 'learning_rate': 0.015548062828374114, 'max_depth': 3, 'n_estimators': 213}. Best is trial 188 with value: 0.7308373069278351.\n",
      "[I 2024-12-23 17:26:20,946] Trial 448 finished with value: 0.7161475873692498 and parameters: {'num_leaves': 150, 'learning_rate': 0.01772894972025672, 'max_depth': 3, 'n_estimators': 129}. Best is trial 188 with value: 0.7308373069278351.\n",
      "[I 2024-12-23 17:26:21,006] Trial 449 finished with value: 0.7106664685947205 and parameters: {'num_leaves': 75, 'learning_rate': 0.013869206030486593, 'max_depth': 3, 'n_estimators': 100}. Best is trial 188 with value: 0.7308373069278351.\n",
      "[I 2024-12-23 17:26:21,076] Trial 450 finished with value: 0.7183244250578524 and parameters: {'num_leaves': 146, 'learning_rate': 0.011861610345424599, 'max_depth': 3, 'n_estimators': 169}. Best is trial 188 with value: 0.7308373069278351.\n",
      "[I 2024-12-23 17:26:21,157] Trial 451 finished with value: 0.6762536977355664 and parameters: {'num_leaves': 137, 'learning_rate': 0.09699363527556928, 'max_depth': 4, 'n_estimators': 148}. Best is trial 188 with value: 0.7308373069278351.\n",
      "[I 2024-12-23 17:26:21,219] Trial 452 finished with value: 0.7207518877612777 and parameters: {'num_leaves': 93, 'learning_rate': 0.015701423677303806, 'max_depth': 3, 'n_estimators': 129}. Best is trial 188 with value: 0.7308373069278351.\n",
      "[I 2024-12-23 17:26:21,276] Trial 453 finished with value: 0.7140629839733383 and parameters: {'num_leaves': 143, 'learning_rate': 0.0192349741433012, 'max_depth': 3, 'n_estimators': 183}. Best is trial 188 with value: 0.7308373069278351.\n",
      "[I 2024-12-23 17:26:21,347] Trial 454 finished with value: 0.7108598379474175 and parameters: {'num_leaves': 148, 'learning_rate': 0.013018335478299843, 'max_depth': 3, 'n_estimators': 163}. Best is trial 188 with value: 0.7308373069278351.\n",
      "[I 2024-12-23 17:26:21,406] Trial 455 finished with value: 0.7207518877612777 and parameters: {'num_leaves': 39, 'learning_rate': 0.016685362134869597, 'max_depth': 3, 'n_estimators': 115}. Best is trial 188 with value: 0.7308373069278351.\n",
      "[I 2024-12-23 17:26:21,476] Trial 456 finished with value: 0.7134970452817694 and parameters: {'num_leaves': 141, 'learning_rate': 0.011920059466114793, 'max_depth': 3, 'n_estimators': 140}. Best is trial 188 with value: 0.7308373069278351.\n",
      "[I 2024-12-23 17:26:21,546] Trial 457 finished with value: 0.712889818657954 and parameters: {'num_leaves': 33, 'learning_rate': 0.014540301394601983, 'max_depth': 4, 'n_estimators': 127}. Best is trial 188 with value: 0.7308373069278351.\n",
      "[I 2024-12-23 17:26:21,606] Trial 458 finished with value: 0.7108598379474175 and parameters: {'num_leaves': 145, 'learning_rate': 0.010089904075041779, 'max_depth': 3, 'n_estimators': 159}. Best is trial 188 with value: 0.7308373069278351.\n",
      "[I 2024-12-23 17:26:21,677] Trial 459 finished with value: 0.7140629839733383 and parameters: {'num_leaves': 133, 'learning_rate': 0.014786206185948269, 'max_depth': 3, 'n_estimators': 198}. Best is trial 188 with value: 0.7308373069278351.\n",
      "[I 2024-12-23 17:26:21,740] Trial 460 finished with value: 0.7009940626124506 and parameters: {'num_leaves': 62, 'learning_rate': 0.07055234647751084, 'max_depth': 3, 'n_estimators': 100}. Best is trial 188 with value: 0.7308373069278351.\n",
      "[I 2024-12-23 17:26:21,800] Trial 461 finished with value: 0.716764052679646 and parameters: {'num_leaves': 150, 'learning_rate': 0.017706572927010486, 'max_depth': 3, 'n_estimators': 143}. Best is trial 188 with value: 0.7308373069278351.\n",
      "[I 2024-12-23 17:26:21,866] Trial 462 finished with value: 0.7178841309823678 and parameters: {'num_leaves': 136, 'learning_rate': 0.013058211857903401, 'max_depth': 4, 'n_estimators': 121}. Best is trial 188 with value: 0.7308373069278351.\n",
      "[I 2024-12-23 17:26:21,941] Trial 463 finished with value: 0.7113764489079352 and parameters: {'num_leaves': 27, 'learning_rate': 0.016184195523128782, 'max_depth': 3, 'n_estimators': 164}. Best is trial 188 with value: 0.7308373069278351.\n",
      "[I 2024-12-23 17:26:21,997] Trial 464 finished with value: 0.7164334110103853 and parameters: {'num_leaves': 81, 'learning_rate': 0.02158166897097167, 'max_depth': 3, 'n_estimators': 139}. Best is trial 188 with value: 0.7308373069278351.\n",
      "[I 2024-12-23 17:26:22,063] Trial 465 finished with value: 0.7153815409387982 and parameters: {'num_leaves': 139, 'learning_rate': 0.01130389888011063, 'max_depth': 4, 'n_estimators': 120}. Best is trial 188 with value: 0.7308373069278351.\n",
      "[I 2024-12-23 17:26:22,126] Trial 466 finished with value: 0.7161475873692498 and parameters: {'num_leaves': 142, 'learning_rate': 0.013787599699369537, 'max_depth': 3, 'n_estimators': 185}. Best is trial 188 with value: 0.7308373069278351.\n",
      "[I 2024-12-23 17:26:22,186] Trial 467 finished with value: 0.7087040106099626 and parameters: {'num_leaves': 54, 'learning_rate': 0.016178373091101005, 'max_depth': 3, 'n_estimators': 152}. Best is trial 188 with value: 0.7308373069278351.\n",
      "[I 2024-12-23 17:26:22,247] Trial 468 finished with value: 0.7082355470909871 and parameters: {'num_leaves': 36, 'learning_rate': 0.011590329319094525, 'max_depth': 3, 'n_estimators': 114}. Best is trial 188 with value: 0.7308373069278351.\n",
      "[I 2024-12-23 17:26:22,306] Trial 469 finished with value: 0.7113764489079352 and parameters: {'num_leaves': 31, 'learning_rate': 0.019135477036097616, 'max_depth': 3, 'n_estimators': 134}. Best is trial 188 with value: 0.7308373069278351.\n",
      "[I 2024-12-23 17:26:22,386] Trial 470 finished with value: 0.6745625473178898 and parameters: {'num_leaves': 111, 'learning_rate': 0.08788290218452238, 'max_depth': 3, 'n_estimators': 235}. Best is trial 188 with value: 0.7308373069278351.\n",
      "[I 2024-12-23 17:26:22,566] Trial 471 finished with value: 0.6816381273318337 and parameters: {'num_leaves': 148, 'learning_rate': 0.014696203016815925, 'max_depth': 3, 'n_estimators': 891}. Best is trial 188 with value: 0.7308373069278351.\n",
      "[I 2024-12-23 17:26:22,626] Trial 472 finished with value: 0.7153598685235213 and parameters: {'num_leaves': 116, 'learning_rate': 0.012714631081079134, 'max_depth': 4, 'n_estimators': 100}. Best is trial 188 with value: 0.7308373069278351.\n",
      "[I 2024-12-23 17:26:22,706] Trial 473 finished with value: 0.7188118872814561 and parameters: {'num_leaves': 146, 'learning_rate': 0.01706523055320259, 'max_depth': 3, 'n_estimators': 170}. Best is trial 188 with value: 0.7308373069278351.\n",
      "[I 2024-12-23 17:26:22,776] Trial 474 finished with value: 0.7134970452817694 and parameters: {'num_leaves': 126, 'learning_rate': 0.01471918799739621, 'max_depth': 3, 'n_estimators': 151}. Best is trial 188 with value: 0.7308373069278351.\n",
      "[I 2024-12-23 17:26:22,841] Trial 475 finished with value: 0.7084483742485115 and parameters: {'num_leaves': 134, 'learning_rate': 0.011374454873342946, 'max_depth': 3, 'n_estimators': 137}. Best is trial 188 with value: 0.7308373069278351.\n",
      "[I 2024-12-23 17:26:22,902] Trial 476 finished with value: 0.7106664685947205 and parameters: {'num_leaves': 143, 'learning_rate': 0.01003743452707669, 'max_depth': 3, 'n_estimators': 115}. Best is trial 188 with value: 0.7308373069278351.\n",
      "[I 2024-12-23 17:26:22,960] Trial 477 finished with value: 0.7188118872814561 and parameters: {'num_leaves': 76, 'learning_rate': 0.013486960917912757, 'max_depth': 3, 'n_estimators': 128}. Best is trial 188 with value: 0.7308373069278351.\n",
      "[I 2024-12-23 17:26:23,040] Trial 478 finished with value: 0.7180155870009947 and parameters: {'num_leaves': 120, 'learning_rate': 0.018023752020277062, 'max_depth': 4, 'n_estimators': 155}. Best is trial 188 with value: 0.7308373069278351.\n",
      "[I 2024-12-23 17:26:23,107] Trial 479 finished with value: 0.7137579489457093 and parameters: {'num_leaves': 139, 'learning_rate': 0.015043088339049184, 'max_depth': 3, 'n_estimators': 181}. Best is trial 188 with value: 0.7308373069278351.\n",
      "[I 2024-12-23 17:26:23,263] Trial 480 finished with value: 0.6853159933315556 and parameters: {'num_leaves': 45, 'learning_rate': 0.012812541548838013, 'max_depth': 12, 'n_estimators': 143}. Best is trial 188 with value: 0.7308373069278351.\n",
      "[I 2024-12-23 17:26:23,326] Trial 481 finished with value: 0.7113764489079352 and parameters: {'num_leaves': 29, 'learning_rate': 0.015783502805258635, 'max_depth': 3, 'n_estimators': 167}. Best is trial 188 with value: 0.7308373069278351.\n",
      "[I 2024-12-23 17:26:23,405] Trial 482 finished with value: 0.7129765248706348 and parameters: {'num_leaves': 150, 'learning_rate': 0.019278128235621694, 'max_depth': 4, 'n_estimators': 119}. Best is trial 188 with value: 0.7308373069278351.\n",
      "[I 2024-12-23 17:26:23,466] Trial 483 finished with value: 0.7235943873482853 and parameters: {'num_leaves': 146, 'learning_rate': 0.012926331805788805, 'max_depth': 3, 'n_estimators': 133}. Best is trial 188 with value: 0.7308373069278351.\n",
      "[I 2024-12-23 17:26:23,526] Trial 484 finished with value: 0.7106664685947205 and parameters: {'num_leaves': 85, 'learning_rate': 0.01002868494674937, 'max_depth': 3, 'n_estimators': 115}. Best is trial 188 with value: 0.7308373069278351.\n",
      "[I 2024-12-23 17:26:23,606] Trial 485 finished with value: 0.7188118872814561 and parameters: {'num_leaves': 144, 'learning_rate': 0.01666061255702232, 'max_depth': 3, 'n_estimators': 192}. Best is trial 188 with value: 0.7308373069278351.\n",
      "[I 2024-12-23 17:26:23,676] Trial 486 finished with value: 0.7183244250578524 and parameters: {'num_leaves': 124, 'learning_rate': 0.01407546655721625, 'max_depth': 3, 'n_estimators': 155}. Best is trial 188 with value: 0.7308373069278351.\n",
      "[I 2024-12-23 17:26:23,747] Trial 487 finished with value: 0.7153815409387982 and parameters: {'num_leaves': 78, 'learning_rate': 0.011794332766189155, 'max_depth': 4, 'n_estimators': 135}. Best is trial 188 with value: 0.7308373069278351.\n",
      "[I 2024-12-23 17:26:23,827] Trial 488 finished with value: 0.7191232310924914 and parameters: {'num_leaves': 130, 'learning_rate': 0.020989899966583393, 'max_depth': 3, 'n_estimators': 207}. Best is trial 188 with value: 0.7308373069278351.\n",
      "[I 2024-12-23 17:26:23,977] Trial 489 finished with value: 0.7058134120067128 and parameters: {'num_leaves': 135, 'learning_rate': 0.015269402780398393, 'max_depth': 7, 'n_estimators': 168}. Best is trial 188 with value: 0.7308373069278351.\n",
      "[I 2024-12-23 17:26:24,045] Trial 490 finished with value: 0.7185457163150273 and parameters: {'num_leaves': 26, 'learning_rate': 0.017548805536051128, 'max_depth': 3, 'n_estimators': 110}. Best is trial 188 with value: 0.7308373069278351.\n",
      "[I 2024-12-23 17:26:24,106] Trial 491 finished with value: 0.7106664685947205 and parameters: {'num_leaves': 148, 'learning_rate': 0.013563665920572721, 'max_depth': 3, 'n_estimators': 100}. Best is trial 188 with value: 0.7308373069278351.\n",
      "[I 2024-12-23 17:26:24,177] Trial 492 finished with value: 0.7134970452817694 and parameters: {'num_leaves': 141, 'learning_rate': 0.0115087671888123, 'max_depth': 3, 'n_estimators': 147}. Best is trial 188 with value: 0.7308373069278351.\n",
      "[I 2024-12-23 17:26:24,246] Trial 493 finished with value: 0.728413303024718 and parameters: {'num_leaves': 101, 'learning_rate': 0.015822760528384276, 'max_depth': 3, 'n_estimators': 125}. Best is trial 188 with value: 0.7308373069278351.\n",
      "[I 2024-12-23 17:26:24,306] Trial 494 finished with value: 0.716764052679646 and parameters: {'num_leaves': 89, 'learning_rate': 0.047271916921525575, 'max_depth': 3, 'n_estimators': 117}. Best is trial 188 with value: 0.7308373069278351.\n",
      "[I 2024-12-23 17:26:24,366] Trial 495 finished with value: 0.7183244250578524 and parameters: {'num_leaves': 102, 'learning_rate': 0.0181066728287811, 'max_depth': 3, 'n_estimators': 129}. Best is trial 188 with value: 0.7308373069278351.\n",
      "[I 2024-12-23 17:26:24,427] Trial 496 finished with value: 0.7113764489079352 and parameters: {'num_leaves': 136, 'learning_rate': 0.016251289342713682, 'max_depth': 3, 'n_estimators': 151}. Best is trial 188 with value: 0.7308373069278351.\n",
      "[I 2024-12-23 17:26:24,521] Trial 497 finished with value: 0.7080653016050115 and parameters: {'num_leaves': 68, 'learning_rate': 0.0136439616825378, 'max_depth': 4, 'n_estimators': 171}. Best is trial 188 with value: 0.7308373069278351.\n",
      "[I 2024-12-23 17:26:24,664] Trial 498 finished with value: 0.6903560148690707 and parameters: {'num_leaves': 100, 'learning_rate': 0.011779295477799812, 'max_depth': 9, 'n_estimators': 128}. Best is trial 188 with value: 0.7308373069278351.\n",
      "[I 2024-12-23 17:26:24,726] Trial 499 finished with value: 0.7164334110103853 and parameters: {'num_leaves': 59, 'learning_rate': 0.01956750056058046, 'max_depth': 3, 'n_estimators': 152}. Best is trial 188 with value: 0.7308373069278351.\n",
      "[I 2024-12-23 17:26:24,787] Trial 500 finished with value: 0.71327998607442 and parameters: {'num_leaves': 82, 'learning_rate': 0.014402218145940518, 'max_depth': 3, 'n_estimators': 100}. Best is trial 188 with value: 0.7308373069278351.\n",
      "[I 2024-12-23 17:26:24,866] Trial 501 finished with value: 0.7179277298893009 and parameters: {'num_leaves': 139, 'learning_rate': 0.01677440481354823, 'max_depth': 4, 'n_estimators': 182}. Best is trial 188 with value: 0.7308373069278351.\n",
      "[I 2024-12-23 17:26:24,987] Trial 502 finished with value: 0.7056237590114418 and parameters: {'num_leaves': 144, 'learning_rate': 0.023744168635648787, 'max_depth': 6, 'n_estimators': 139}. Best is trial 188 with value: 0.7308373069278351.\n",
      "[I 2024-12-23 17:26:25,047] Trial 503 finished with value: 0.7106664685947205 and parameters: {'num_leaves': 73, 'learning_rate': 0.012428486948812188, 'max_depth': 3, 'n_estimators': 117}. Best is trial 188 with value: 0.7308373069278351.\n",
      "[I 2024-12-23 17:26:25,106] Trial 504 finished with value: 0.7137579489457093 and parameters: {'num_leaves': 97, 'learning_rate': 0.01489474361622087, 'max_depth': 3, 'n_estimators': 162}. Best is trial 188 with value: 0.7308373069278351.\n",
      "[I 2024-12-23 17:26:25,177] Trial 505 finished with value: 0.7211987622881829 and parameters: {'num_leaves': 150, 'learning_rate': 0.013124518910296255, 'max_depth': 3, 'n_estimators': 129}. Best is trial 188 with value: 0.7308373069278351.\n",
      "[I 2024-12-23 17:26:25,247] Trial 506 finished with value: 0.7161475873692498 and parameters: {'num_leaves': 107, 'learning_rate': 0.011264131976403711, 'max_depth': 3, 'n_estimators': 147}. Best is trial 188 with value: 0.7308373069278351.\n",
      "[I 2024-12-23 17:26:25,307] Trial 507 finished with value: 0.6935421956027223 and parameters: {'num_leaves': 65, 'learning_rate': 0.08038979620391055, 'max_depth': 3, 'n_estimators': 114}. Best is trial 188 with value: 0.7308373069278351.\n",
      "[I 2024-12-23 17:26:25,397] Trial 508 finished with value: 0.7028984006099149 and parameters: {'num_leaves': 147, 'learning_rate': 0.016523227945392134, 'max_depth': 4, 'n_estimators': 140}. Best is trial 188 with value: 0.7308373069278351.\n",
      "[I 2024-12-23 17:26:25,466] Trial 509 finished with value: 0.6816381273318337 and parameters: {'num_leaves': 32, 'learning_rate': 0.05583881955331537, 'max_depth': 3, 'n_estimators': 169}. Best is trial 188 with value: 0.7308373069278351.\n",
      "[I 2024-12-23 17:26:25,547] Trial 510 finished with value: 0.7211987622881829 and parameters: {'num_leaves': 141, 'learning_rate': 0.018548805867365382, 'max_depth': 3, 'n_estimators': 194}. Best is trial 188 with value: 0.7308373069278351.\n",
      "[I 2024-12-23 17:26:25,663] Trial 511 finished with value: 0.7039424897350318 and parameters: {'num_leaves': 132, 'learning_rate': 0.01452581129346553, 'max_depth': 3, 'n_estimators': 435}. Best is trial 188 with value: 0.7308373069278351.\n",
      "[I 2024-12-23 17:26:25,727] Trial 512 finished with value: 0.7110964124503167 and parameters: {'num_leaves': 146, 'learning_rate': 0.01268513408328407, 'max_depth': 3, 'n_estimators': 126}. Best is trial 188 with value: 0.7308373069278351.\n",
      "[I 2024-12-23 17:26:25,797] Trial 513 finished with value: 0.7161475873692498 and parameters: {'num_leaves': 35, 'learning_rate': 0.016198017743033515, 'max_depth': 3, 'n_estimators': 154}. Best is trial 188 with value: 0.7308373069278351.\n",
      "[I 2024-12-23 17:26:25,866] Trial 514 finished with value: 0.720419260386097 and parameters: {'num_leaves': 93, 'learning_rate': 0.011375096154282107, 'max_depth': 4, 'n_estimators': 101}. Best is trial 188 with value: 0.7308373069278351.\n",
      "[I 2024-12-23 17:26:25,927] Trial 515 finished with value: 0.728413303024718 and parameters: {'num_leaves': 137, 'learning_rate': 0.014462066638400528, 'max_depth': 3, 'n_estimators': 127}. Best is trial 188 with value: 0.7308373069278351.\n",
      "[I 2024-12-23 17:26:25,998] Trial 516 finished with value: 0.7082355470909871 and parameters: {'num_leaves': 137, 'learning_rate': 0.010007016993377148, 'max_depth': 3, 'n_estimators': 117}. Best is trial 188 with value: 0.7308373069278351.\n",
      "[I 2024-12-23 17:26:26,065] Trial 517 finished with value: 0.7259991157695321 and parameters: {'num_leaves': 138, 'learning_rate': 0.014577049448215064, 'max_depth': 3, 'n_estimators': 131}. Best is trial 188 with value: 0.7308373069278351.\n",
      "[I 2024-12-23 17:26:26,124] Trial 518 finished with value: 0.7082355470909871 and parameters: {'num_leaves': 134, 'learning_rate': 0.0130646463878102, 'max_depth': 3, 'n_estimators': 100}. Best is trial 188 with value: 0.7308373069278351.\n",
      "[I 2024-12-23 17:26:26,177] Trial 519 finished with value: 0.7259991157695321 and parameters: {'num_leaves': 139, 'learning_rate': 0.015580496975534782, 'max_depth': 3, 'n_estimators': 125}. Best is trial 188 with value: 0.7308373069278351.\n",
      "[I 2024-12-23 17:26:26,247] Trial 520 finished with value: 0.7164334110103853 and parameters: {'num_leaves': 142, 'learning_rate': 0.017808231825194157, 'max_depth': 3, 'n_estimators': 142}. Best is trial 188 with value: 0.7308373069278351.\n",
      "[I 2024-12-23 17:26:26,320] Trial 521 finished with value: 0.7134970452817694 and parameters: {'num_leaves': 136, 'learning_rate': 0.013763524144303589, 'max_depth': 3, 'n_estimators': 118}. Best is trial 188 with value: 0.7308373069278351.\n",
      "[I 2024-12-23 17:26:26,387] Trial 522 finished with value: 0.7159062638881224 and parameters: {'num_leaves': 133, 'learning_rate': 0.015633623983101433, 'max_depth': 3, 'n_estimators': 141}. Best is trial 188 with value: 0.7308373069278351.\n",
      "[I 2024-12-23 17:26:26,546] Trial 523 finished with value: 0.6882536901154797 and parameters: {'num_leaves': 144, 'learning_rate': 0.01175161681842092, 'max_depth': 3, 'n_estimators': 767}. Best is trial 188 with value: 0.7308373069278351.\n",
      "[I 2024-12-23 17:26:26,618] Trial 524 finished with value: 0.7161475873692498 and parameters: {'num_leaves': 140, 'learning_rate': 0.013914613940390431, 'max_depth': 3, 'n_estimators': 162}. Best is trial 188 with value: 0.7308373069278351.\n",
      "[I 2024-12-23 17:26:26,677] Trial 525 finished with value: 0.7080653016050115 and parameters: {'num_leaves': 148, 'learning_rate': 0.010040655290549342, 'max_depth': 3, 'n_estimators': 118}. Best is trial 188 with value: 0.7308373069278351.\n",
      "[I 2024-12-23 17:26:26,840] Trial 526 finished with value: 0.6880577911572566 and parameters: {'num_leaves': 132, 'learning_rate': 0.017410975273036308, 'max_depth': 13, 'n_estimators': 143}. Best is trial 188 with value: 0.7308373069278351.\n",
      "[I 2024-12-23 17:26:26,907] Trial 527 finished with value: 0.7110964124503167 and parameters: {'num_leaves': 86, 'learning_rate': 0.012701440549762012, 'max_depth': 3, 'n_estimators': 176}. Best is trial 188 with value: 0.7308373069278351.\n",
      "[I 2024-12-23 17:26:26,973] Trial 528 finished with value: 0.7134970452817694 and parameters: {'num_leaves': 137, 'learning_rate': 0.015544273711971646, 'max_depth': 3, 'n_estimators': 100}. Best is trial 188 with value: 0.7308373069278351.\n",
      "[I 2024-12-23 17:26:27,027] Trial 529 finished with value: 0.7161475873692498 and parameters: {'num_leaves': 150, 'learning_rate': 0.020163642771033833, 'max_depth': 3, 'n_estimators': 129}. Best is trial 188 with value: 0.7308373069278351.\n",
      "[I 2024-12-23 17:26:27,106] Trial 530 finished with value: 0.7134970452817694 and parameters: {'num_leaves': 143, 'learning_rate': 0.014279513238828487, 'max_depth': 3, 'n_estimators': 155}. Best is trial 188 with value: 0.7308373069278351.\n",
      "[I 2024-12-23 17:26:27,167] Trial 531 finished with value: 0.7185457163150273 and parameters: {'num_leaves': 111, 'learning_rate': 0.017203052619356556, 'max_depth': 3, 'n_estimators': 116}. Best is trial 188 with value: 0.7308373069278351.\n",
      "[I 2024-12-23 17:26:27,240] Trial 532 finished with value: 0.7108598379474175 and parameters: {'num_leaves': 79, 'learning_rate': 0.01184033811154202, 'max_depth': 3, 'n_estimators': 133}. Best is trial 188 with value: 0.7308373069278351.\n",
      "[I 2024-12-23 17:26:27,336] Trial 533 finished with value: 0.7154469434464065 and parameters: {'num_leaves': 146, 'learning_rate': 0.013248348132973944, 'max_depth': 4, 'n_estimators': 215}. Best is trial 188 with value: 0.7308373069278351.\n",
      "[I 2024-12-23 17:26:27,487] Trial 534 finished with value: 0.700766986066008 and parameters: {'num_leaves': 141, 'learning_rate': 0.015635762246218238, 'max_depth': 8, 'n_estimators': 159}. Best is trial 188 with value: 0.7308373069278351.\n",
      "[I 2024-12-23 17:26:27,556] Trial 535 finished with value: 0.7164334110103853 and parameters: {'num_leaves': 134, 'learning_rate': 0.018233011922661323, 'max_depth': 3, 'n_estimators': 186}. Best is trial 188 with value: 0.7308373069278351.\n",
      "[I 2024-12-23 17:26:27,644] Trial 536 finished with value: 0.7180155870009947 and parameters: {'num_leaves': 131, 'learning_rate': 0.011616396573116599, 'max_depth': 4, 'n_estimators': 143}. Best is trial 188 with value: 0.7308373069278351.\n",
      "[I 2024-12-23 17:26:27,702] Trial 537 finished with value: 0.7209526898288272 and parameters: {'num_leaves': 137, 'learning_rate': 0.014323526348635337, 'max_depth': 3, 'n_estimators': 120}. Best is trial 188 with value: 0.7308373069278351.\n",
      "[I 2024-12-23 17:26:27,767] Trial 538 finished with value: 0.7134970452817694 and parameters: {'num_leaves': 147, 'learning_rate': 0.01005177722131971, 'max_depth': 3, 'n_estimators': 165}. Best is trial 188 with value: 0.7308373069278351.\n",
      "[I 2024-12-23 17:26:27,840] Trial 539 finished with value: 0.7209526898288272 and parameters: {'num_leaves': 145, 'learning_rate': 0.016802817295159492, 'max_depth': 3, 'n_estimators': 112}. Best is trial 188 with value: 0.7308373069278351.\n",
      "[I 2024-12-23 17:26:27,907] Trial 540 finished with value: 0.7282302505703037 and parameters: {'num_leaves': 142, 'learning_rate': 0.013052594996930851, 'max_depth': 3, 'n_estimators': 139}. Best is trial 188 with value: 0.7308373069278351.\n",
      "[I 2024-12-23 17:26:27,967] Trial 541 finished with value: 0.7106664685947205 and parameters: {'num_leaves': 139, 'learning_rate': 0.015026962233186088, 'max_depth': 3, 'n_estimators': 100}. Best is trial 188 with value: 0.7308373069278351.\n",
      "[I 2024-12-23 17:26:28,027] Trial 542 finished with value: 0.7161475873692498 and parameters: {'num_leaves': 141, 'learning_rate': 0.01872842783976043, 'max_depth': 3, 'n_estimators': 130}. Best is trial 188 with value: 0.7308373069278351.\n",
      "[I 2024-12-23 17:26:28,107] Trial 543 finished with value: 0.7131065388463345 and parameters: {'num_leaves': 136, 'learning_rate': 0.013134091743352803, 'max_depth': 4, 'n_estimators': 144}. Best is trial 188 with value: 0.7308373069278351.\n",
      "[I 2024-12-23 17:26:28,187] Trial 544 finished with value: 0.7140629839733383 and parameters: {'num_leaves': 139, 'learning_rate': 0.016304785669029768, 'max_depth': 3, 'n_estimators': 175}. Best is trial 188 with value: 0.7308373069278351.\n",
      "[I 2024-12-23 17:26:28,261] Trial 545 finished with value: 0.728413303024718 and parameters: {'num_leaves': 142, 'learning_rate': 0.011777100105758258, 'max_depth': 3, 'n_estimators': 155}. Best is trial 188 with value: 0.7308373069278351.\n",
      "[I 2024-12-23 17:26:28,341] Trial 546 finished with value: 0.7235943873482853 and parameters: {'num_leaves': 145, 'learning_rate': 0.010048353842956357, 'max_depth': 3, 'n_estimators': 195}. Best is trial 188 with value: 0.7308373069278351.\n",
      "[I 2024-12-23 17:26:28,507] Trial 547 finished with value: 0.6882536901154797 and parameters: {'num_leaves': 142, 'learning_rate': 0.011801899015149709, 'max_depth': 3, 'n_estimators': 835}. Best is trial 188 with value: 0.7308373069278351.\n",
      "[I 2024-12-23 17:26:28,577] Trial 548 finished with value: 0.7235943873482853 and parameters: {'num_leaves': 144, 'learning_rate': 0.012420428163036292, 'max_depth': 3, 'n_estimators': 161}. Best is trial 188 with value: 0.7308373069278351.\n",
      "[I 2024-12-23 17:26:28,647] Trial 549 finished with value: 0.686709807237443 and parameters: {'num_leaves': 143, 'learning_rate': 0.06099261334906876, 'max_depth': 3, 'n_estimators': 181}. Best is trial 188 with value: 0.7308373069278351.\n",
      "[I 2024-12-23 17:26:28,739] Trial 550 finished with value: 0.7154469434464065 and parameters: {'num_leaves': 90, 'learning_rate': 0.011333966978362319, 'max_depth': 4, 'n_estimators': 157}. Best is trial 188 with value: 0.7308373069278351.\n",
      "[I 2024-12-23 17:26:28,820] Trial 551 finished with value: 0.6545793207922483 and parameters: {'num_leaves': 142, 'learning_rate': 0.0923255413306096, 'max_depth': 3, 'n_estimators': 208}. Best is trial 188 with value: 0.7308373069278351.\n",
      "[I 2024-12-23 17:26:28,887] Trial 552 finished with value: 0.728413303024718 and parameters: {'num_leaves': 76, 'learning_rate': 0.01371416133737469, 'max_depth': 3, 'n_estimators': 147}. Best is trial 188 with value: 0.7308373069278351.\n",
      "[I 2024-12-23 17:26:28,977] Trial 553 finished with value: 0.7104085846897416 and parameters: {'num_leaves': 75, 'learning_rate': 0.013944047272551214, 'max_depth': 4, 'n_estimators': 174}. Best is trial 188 with value: 0.7308373069278351.\n",
      "[I 2024-12-23 17:26:29,043] Trial 554 finished with value: 0.7137579489457093 and parameters: {'num_leaves': 83, 'learning_rate': 0.011462898568277542, 'max_depth': 3, 'n_estimators': 153}. Best is trial 188 with value: 0.7308373069278351.\n",
      "[I 2024-12-23 17:26:29,121] Trial 555 finished with value: 0.7137579489457093 and parameters: {'num_leaves': 75, 'learning_rate': 0.015394394931320556, 'max_depth': 3, 'n_estimators': 184}. Best is trial 188 with value: 0.7308373069278351.\n",
      "[I 2024-12-23 17:26:29,177] Trial 556 finished with value: 0.7106664685947205 and parameters: {'num_leaves': 73, 'learning_rate': 0.010021427695353009, 'max_depth': 3, 'n_estimators': 148}. Best is trial 188 with value: 0.7308373069278351.\n",
      "[I 2024-12-23 17:26:29,365] Trial 557 finished with value: 0.6741987085610774 and parameters: {'num_leaves': 78, 'learning_rate': 0.013651388802138535, 'max_depth': 3, 'n_estimators': 971}. Best is trial 188 with value: 0.7308373069278351.\n",
      "[I 2024-12-23 17:26:29,461] Trial 558 finished with value: 0.7012625247030344 and parameters: {'num_leaves': 77, 'learning_rate': 0.01683117025140325, 'max_depth': 3, 'n_estimators': 397}. Best is trial 188 with value: 0.7308373069278351.\n",
      "[I 2024-12-23 17:26:29,547] Trial 559 finished with value: 0.7140629839733383 and parameters: {'num_leaves': 78, 'learning_rate': 0.012663307202383999, 'max_depth': 3, 'n_estimators': 229}. Best is trial 188 with value: 0.7308373069278351.\n",
      "[I 2024-12-23 17:26:29,607] Trial 560 finished with value: 0.7134970452817694 and parameters: {'num_leaves': 79, 'learning_rate': 0.014654096468137864, 'max_depth': 3, 'n_estimators': 161}. Best is trial 188 with value: 0.7308373069278351.\n",
      "[I 2024-12-23 17:26:29,722] Trial 561 finished with value: 0.7012625247030344 and parameters: {'num_leaves': 69, 'learning_rate': 0.01973031367315578, 'max_depth': 4, 'n_estimators': 297}. Best is trial 188 with value: 0.7308373069278351.\n",
      "[I 2024-12-23 17:26:29,787] Trial 562 finished with value: 0.7110964124503167 and parameters: {'num_leaves': 72, 'learning_rate': 0.01169887190579571, 'max_depth': 3, 'n_estimators': 137}. Best is trial 188 with value: 0.7308373069278351.\n",
      "[I 2024-12-23 17:26:29,961] Trial 563 finished with value: 0.7053702259330767 and parameters: {'num_leaves': 81, 'learning_rate': 0.016308537454452026, 'max_depth': 10, 'n_estimators': 170}. Best is trial 188 with value: 0.7308373069278351.\n",
      "[I 2024-12-23 17:26:30,047] Trial 564 finished with value: 0.7188118872814561 and parameters: {'num_leaves': 81, 'learning_rate': 0.014210375480169107, 'max_depth': 3, 'n_estimators': 200}. Best is trial 188 with value: 0.7308373069278351.\n",
      "[I 2024-12-23 17:26:30,120] Trial 565 finished with value: 0.7161475873692498 and parameters: {'num_leaves': 128, 'learning_rate': 0.017898058674167744, 'max_depth': 3, 'n_estimators': 128}. Best is trial 188 with value: 0.7308373069278351.\n",
      "[I 2024-12-23 17:26:30,177] Trial 566 finished with value: 0.7084483742485115 and parameters: {'num_leaves': 71, 'learning_rate': 0.013149951877074992, 'max_depth': 3, 'n_estimators': 115}. Best is trial 188 with value: 0.7308373069278351.\n",
      "[I 2024-12-23 17:26:30,241] Trial 567 finished with value: 0.7084483742485115 and parameters: {'num_leaves': 76, 'learning_rate': 0.011497180262683086, 'max_depth': 3, 'n_estimators': 142}. Best is trial 188 with value: 0.7308373069278351.\n",
      "[I 2024-12-23 17:26:30,307] Trial 568 finished with value: 0.7134970452817694 and parameters: {'num_leaves': 84, 'learning_rate': 0.01515616632524716, 'max_depth': 3, 'n_estimators': 153}. Best is trial 188 with value: 0.7308373069278351.\n",
      "[I 2024-12-23 17:26:30,405] Trial 569 finished with value: 0.7153598685235213 and parameters: {'num_leaves': 147, 'learning_rate': 0.010002768590372245, 'max_depth': 4, 'n_estimators': 130}. Best is trial 188 with value: 0.7308373069278351.\n",
      "[I 2024-12-23 17:26:30,477] Trial 570 finished with value: 0.7134970452817694 and parameters: {'num_leaves': 144, 'learning_rate': 0.01291128118629464, 'max_depth': 3, 'n_estimators': 171}. Best is trial 188 with value: 0.7308373069278351.\n",
      "[I 2024-12-23 17:26:30,547] Trial 571 finished with value: 0.7282302505703037 and parameters: {'num_leaves': 74, 'learning_rate': 0.016448584041164366, 'max_depth': 3, 'n_estimators': 115}. Best is trial 188 with value: 0.7308373069278351.\n",
      "[I 2024-12-23 17:26:30,607] Trial 572 finished with value: 0.7058134120067128 and parameters: {'num_leaves': 69, 'learning_rate': 0.02125360281837604, 'max_depth': 4, 'n_estimators': 112}. Best is trial 188 with value: 0.7308373069278351.\n",
      "[I 2024-12-23 17:26:30,667] Trial 573 finished with value: 0.7257945973445564 and parameters: {'num_leaves': 72, 'learning_rate': 0.018555649646132585, 'max_depth': 3, 'n_estimators': 100}. Best is trial 188 with value: 0.7308373069278351.\n",
      "[I 2024-12-23 17:26:30,787] Trial 574 finished with value: 0.6935421956027223 and parameters: {'num_leaves': 75, 'learning_rate': 0.016629108301604374, 'max_depth': 3, 'n_estimators': 525}. Best is trial 188 with value: 0.7308373069278351.\n",
      "[I 2024-12-23 17:26:30,847] Trial 575 finished with value: 0.7134970452817694 and parameters: {'num_leaves': 76, 'learning_rate': 0.019908465728272935, 'max_depth': 3, 'n_estimators': 116}. Best is trial 188 with value: 0.7308373069278351.\n",
      "[I 2024-12-23 17:26:30,919] Trial 576 finished with value: 0.7185457163150273 and parameters: {'num_leaves': 73, 'learning_rate': 0.015875121607200886, 'max_depth': 3, 'n_estimators': 133}. Best is trial 188 with value: 0.7308373069278351.\n",
      "[I 2024-12-23 17:26:30,987] Trial 577 finished with value: 0.7108598379474175 and parameters: {'num_leaves': 80, 'learning_rate': 0.014250719699424853, 'max_depth': 3, 'n_estimators': 150}. Best is trial 188 with value: 0.7308373069278351.\n",
      "[I 2024-12-23 17:26:31,059] Trial 578 finished with value: 0.7054760794816161 and parameters: {'num_leaves': 70, 'learning_rate': 0.018073673593598863, 'max_depth': 4, 'n_estimators': 100}. Best is trial 188 with value: 0.7308373069278351.\n",
      "[I 2024-12-23 17:26:31,127] Trial 579 finished with value: 0.7134970452817694 and parameters: {'num_leaves': 81, 'learning_rate': 0.012544824638634284, 'max_depth': 3, 'n_estimators': 125}. Best is trial 188 with value: 0.7308373069278351.\n",
      "[I 2024-12-23 17:26:31,207] Trial 580 finished with value: 0.7117002583116361 and parameters: {'num_leaves': 78, 'learning_rate': 0.01681772044961043, 'max_depth': 3, 'n_estimators': 190}. Best is trial 188 with value: 0.7308373069278351.\n",
      "[I 2024-12-23 17:26:31,277] Trial 581 finished with value: 0.7209526898288272 and parameters: {'num_leaves': 75, 'learning_rate': 0.015433643767459392, 'max_depth': 3, 'n_estimators': 117}. Best is trial 188 with value: 0.7308373069278351.\n",
      "[I 2024-12-23 17:26:31,347] Trial 582 finished with value: 0.7211987622881829 and parameters: {'num_leaves': 74, 'learning_rate': 0.011588317010558062, 'max_depth': 3, 'n_estimators': 148}. Best is trial 188 with value: 0.7308373069278351.\n",
      "[I 2024-12-23 17:26:31,407] Trial 583 finished with value: 0.7211987622881829 and parameters: {'num_leaves': 130, 'learning_rate': 0.013723989528601781, 'max_depth': 3, 'n_estimators': 130}. Best is trial 188 with value: 0.7308373069278351.\n",
      "[I 2024-12-23 17:26:31,498] Trial 584 finished with value: 0.7188118872814561 and parameters: {'num_leaves': 65, 'learning_rate': 0.018773890059654394, 'max_depth': 3, 'n_estimators': 156}. Best is trial 188 with value: 0.7308373069278351.\n",
      "[I 2024-12-23 17:26:31,590] Trial 585 finished with value: 0.6832050190822216 and parameters: {'num_leaves': 146, 'learning_rate': 0.045557431679034976, 'max_depth': 4, 'n_estimators': 171}. Best is trial 188 with value: 0.7308373069278351.\n",
      "[I 2024-12-23 17:26:31,742] Trial 586 finished with value: 0.6877812142188353 and parameters: {'num_leaves': 141, 'learning_rate': 0.015053307906604486, 'max_depth': 11, 'n_estimators': 114}. Best is trial 188 with value: 0.7308373069278351.\n",
      "[I 2024-12-23 17:26:31,858] Trial 587 finished with value: 0.7090027368541849 and parameters: {'num_leaves': 148, 'learning_rate': 0.012710207920494298, 'max_depth': 3, 'n_estimators': 467}. Best is trial 188 with value: 0.7308373069278351.\n",
      "[I 2024-12-23 17:26:31,927] Trial 588 finished with value: 0.7137579489457093 and parameters: {'num_leaves': 127, 'learning_rate': 0.017021363991021762, 'max_depth': 3, 'n_estimators': 140}. Best is trial 188 with value: 0.7308373069278351.\n",
      "[I 2024-12-23 17:26:32,019] Trial 589 finished with value: 0.7113764489079352 and parameters: {'num_leaves': 144, 'learning_rate': 0.010057282634554772, 'max_depth': 3, 'n_estimators': 253}. Best is trial 188 with value: 0.7308373069278351.\n",
      "[I 2024-12-23 17:26:32,083] Trial 590 finished with value: 0.7106664685947205 and parameters: {'num_leaves': 77, 'learning_rate': 0.014196536326092619, 'max_depth': 3, 'n_estimators': 100}. Best is trial 188 with value: 0.7308373069278351.\n",
      "[I 2024-12-23 17:26:32,151] Trial 591 finished with value: 0.7108598379474175 and parameters: {'num_leaves': 141, 'learning_rate': 0.0116265743076022, 'max_depth': 3, 'n_estimators': 130}. Best is trial 188 with value: 0.7308373069278351.\n",
      "[I 2024-12-23 17:26:32,247] Trial 592 finished with value: 0.6941420728951521 and parameters: {'num_leaves': 114, 'learning_rate': 0.022126339370071586, 'max_depth': 3, 'n_estimators': 327}. Best is trial 188 with value: 0.7308373069278351.\n",
      "[I 2024-12-23 17:26:32,341] Trial 593 finished with value: 0.7131065388463345 and parameters: {'num_leaves': 120, 'learning_rate': 0.015724949430596248, 'max_depth': 4, 'n_estimators': 166}. Best is trial 188 with value: 0.7308373069278351.\n",
      "[I 2024-12-23 17:26:32,407] Trial 594 finished with value: 0.7257945973445564 and parameters: {'num_leaves': 148, 'learning_rate': 0.01299090203751045, 'max_depth': 3, 'n_estimators': 145}. Best is trial 188 with value: 0.7308373069278351.\n",
      "[I 2024-12-23 17:26:32,477] Trial 595 finished with value: 0.7185457163150273 and parameters: {'num_leaves': 100, 'learning_rate': 0.01755350757832186, 'max_depth': 3, 'n_estimators': 116}. Best is trial 188 with value: 0.7308373069278351.\n",
      "[I 2024-12-23 17:26:32,563] Trial 596 finished with value: 0.7161475873692498 and parameters: {'num_leaves': 144, 'learning_rate': 0.014450025896577226, 'max_depth': 3, 'n_estimators': 188}. Best is trial 188 with value: 0.7308373069278351.\n",
      "[I 2024-12-23 17:26:32,638] Trial 597 finished with value: 0.7259991157695321 and parameters: {'num_leaves': 72, 'learning_rate': 0.01160254692567368, 'max_depth': 3, 'n_estimators': 154}. Best is trial 188 with value: 0.7308373069278351.\n",
      "[I 2024-12-23 17:26:32,707] Trial 598 finished with value: 0.7129765248706348 and parameters: {'num_leaves': 105, 'learning_rate': 0.019608968530611472, 'max_depth': 4, 'n_estimators': 124}. Best is trial 188 with value: 0.7308373069278351.\n",
      "[I 2024-12-23 17:26:32,777] Trial 599 finished with value: 0.7140629839733383 and parameters: {'num_leaves': 133, 'learning_rate': 0.01606790351205041, 'max_depth': 3, 'n_estimators': 139}. Best is trial 188 with value: 0.7308373069278351.\n",
      "[I 2024-12-23 17:26:32,847] Trial 600 finished with value: 0.7134970452817694 and parameters: {'num_leaves': 54, 'learning_rate': 0.013371803677767998, 'max_depth': 3, 'n_estimators': 172}. Best is trial 188 with value: 0.7308373069278351.\n",
      "[I 2024-12-23 17:26:32,961] Trial 601 finished with value: 0.7080653016050115 and parameters: {'num_leaves': 139, 'learning_rate': 0.011452607720266312, 'max_depth': 4, 'n_estimators': 210}. Best is trial 188 with value: 0.7308373069278351.\n",
      "[I 2024-12-23 17:26:33,024] Trial 602 finished with value: 0.7185457163150273 and parameters: {'num_leaves': 83, 'learning_rate': 0.0145575039325194, 'max_depth': 3, 'n_estimators': 115}. Best is trial 188 with value: 0.7308373069278351.\n",
      "[I 2024-12-23 17:26:33,087] Trial 603 finished with value: 0.7110964124503167 and parameters: {'num_leaves': 145, 'learning_rate': 0.01727007255403539, 'max_depth': 3, 'n_estimators': 141}. Best is trial 188 with value: 0.7308373069278351.\n",
      "[I 2024-12-23 17:26:33,163] Trial 604 finished with value: 0.7259991157695321 and parameters: {'num_leaves': 123, 'learning_rate': 0.0129049904728565, 'max_depth': 3, 'n_estimators': 154}. Best is trial 188 with value: 0.7308373069278351.\n",
      "[I 2024-12-23 17:26:33,287] Trial 605 finished with value: 0.6908917127745842 and parameters: {'num_leaves': 95, 'learning_rate': 0.015684558290353385, 'max_depth': 3, 'n_estimators': 585}. Best is trial 188 with value: 0.7308373069278351.\n",
      "[I 2024-12-23 17:26:33,359] Trial 606 finished with value: 0.7087040106099626 and parameters: {'num_leaves': 117, 'learning_rate': 0.04262092774996257, 'max_depth': 3, 'n_estimators': 128}. Best is trial 188 with value: 0.7308373069278351.\n",
      "[I 2024-12-23 17:26:33,427] Trial 607 finished with value: 0.7164334110103853 and parameters: {'num_leaves': 150, 'learning_rate': 0.020586024387028605, 'max_depth': 3, 'n_estimators': 183}. Best is trial 188 with value: 0.7308373069278351.\n",
      "[I 2024-12-23 17:26:33,677] Trial 608 finished with value: 0.6813174921035764 and parameters: {'num_leaves': 128, 'learning_rate': 0.0100798357196296, 'max_depth': 4, 'n_estimators': 904}. Best is trial 188 with value: 0.7308373069278351.\n",
      "[I 2024-12-23 17:26:33,747] Trial 609 finished with value: 0.7134970452817694 and parameters: {'num_leaves': 142, 'learning_rate': 0.013971999451415638, 'max_depth': 3, 'n_estimators': 113}. Best is trial 188 with value: 0.7308373069278351.\n",
      "[I 2024-12-23 17:26:33,820] Trial 610 finished with value: 0.7140629839733383 and parameters: {'num_leaves': 57, 'learning_rate': 0.017992648094150715, 'max_depth': 3, 'n_estimators': 157}. Best is trial 188 with value: 0.7308373069278351.\n",
      "[I 2024-12-23 17:26:33,887] Trial 611 finished with value: 0.7084483742485115 and parameters: {'num_leaves': 147, 'learning_rate': 0.011933190896535162, 'max_depth': 3, 'n_estimators': 132}. Best is trial 188 with value: 0.7308373069278351.\n",
      "[I 2024-12-23 17:26:33,957] Trial 612 finished with value: 0.6786412541392658 and parameters: {'num_leaves': 135, 'learning_rate': 0.06323886752438729, 'max_depth': 3, 'n_estimators': 168}. Best is trial 188 with value: 0.7308373069278351.\n",
      "[I 2024-12-23 17:26:34,027] Trial 613 finished with value: 0.7106664685947205 and parameters: {'num_leaves': 79, 'learning_rate': 0.015572791497885045, 'max_depth': 3, 'n_estimators': 100}. Best is trial 188 with value: 0.7308373069278351.\n",
      "[I 2024-12-23 17:26:34,107] Trial 614 finished with value: 0.672544080604534 and parameters: {'num_leaves': 131, 'learning_rate': 0.07970632027559353, 'max_depth': 4, 'n_estimators': 145}. Best is trial 188 with value: 0.7308373069278351.\n",
      "[I 2024-12-23 17:26:34,177] Trial 615 finished with value: 0.7211987622881829 and parameters: {'num_leaves': 140, 'learning_rate': 0.013288965907917007, 'max_depth': 3, 'n_estimators': 127}. Best is trial 188 with value: 0.7308373069278351.\n",
      "[I 2024-12-23 17:26:34,262] Trial 616 finished with value: 0.7235943873482853 and parameters: {'num_leaves': 145, 'learning_rate': 0.010010099399381543, 'max_depth': 3, 'n_estimators': 194}. Best is trial 188 with value: 0.7308373069278351.\n",
      "[I 2024-12-23 17:26:34,321] Trial 617 finished with value: 0.728413303024718 and parameters: {'num_leaves': 41, 'learning_rate': 0.016602435910620265, 'max_depth': 3, 'n_estimators': 115}. Best is trial 188 with value: 0.7308373069278351.\n",
      "[I 2024-12-23 17:26:34,401] Trial 618 finished with value: 0.7105161010191311 and parameters: {'num_leaves': 43, 'learning_rate': 0.018902490502126678, 'max_depth': 4, 'n_estimators': 113}. Best is trial 188 with value: 0.7308373069278351.\n",
      "[I 2024-12-23 17:26:34,467] Trial 619 finished with value: 0.7207518877612777 and parameters: {'num_leaves': 33, 'learning_rate': 0.014703063357964202, 'max_depth': 3, 'n_estimators': 141}. Best is trial 188 with value: 0.7308373069278351.\n",
      "[I 2024-12-23 17:26:34,544] Trial 620 finished with value: 0.7256361656316764 and parameters: {'num_leaves': 42, 'learning_rate': 0.011879056752893953, 'max_depth': 3, 'n_estimators': 160}. Best is trial 188 with value: 0.7308373069278351.\n",
      "[I 2024-12-23 17:26:34,607] Trial 621 finished with value: 0.7161475873692498 and parameters: {'num_leaves': 87, 'learning_rate': 0.016744185558484885, 'max_depth': 3, 'n_estimators': 100}. Best is trial 188 with value: 0.7308373069278351.\n",
      "[I 2024-12-23 17:26:34,686] Trial 622 finished with value: 0.7235943873482853 and parameters: {'num_leaves': 36, 'learning_rate': 0.013251276191678754, 'max_depth': 3, 'n_estimators': 130}. Best is trial 188 with value: 0.7308373069278351.\n",
      "[I 2024-12-23 17:26:34,856] Trial 623 finished with value: 0.7033997032152535 and parameters: {'num_leaves': 37, 'learning_rate': 0.015023357891304562, 'max_depth': 9, 'n_estimators': 177}. Best is trial 188 with value: 0.7308373069278351.\n",
      "[I 2024-12-23 17:26:34,927] Trial 624 finished with value: 0.7185457163150273 and parameters: {'num_leaves': 125, 'learning_rate': 0.011907539269300263, 'max_depth': 3, 'n_estimators': 148}. Best is trial 188 with value: 0.7308373069278351.\n",
      "[I 2024-12-23 17:26:35,007] Trial 625 finished with value: 0.7137579489457093 and parameters: {'num_leaves': 77, 'learning_rate': 0.01751248507948531, 'max_depth': 3, 'n_estimators': 125}. Best is trial 188 with value: 0.7308373069278351.\n",
      "[I 2024-12-23 17:26:35,142] Trial 626 finished with value: 0.7155561225566461 and parameters: {'num_leaves': 39, 'learning_rate': 0.014025795449596982, 'max_depth': 6, 'n_estimators': 162}. Best is trial 188 with value: 0.7308373069278351.\n",
      "[I 2024-12-23 17:26:35,223] Trial 627 finished with value: 0.7134970452817694 and parameters: {'num_leaves': 51, 'learning_rate': 0.011626155074671084, 'max_depth': 3, 'n_estimators': 138}. Best is trial 188 with value: 0.7308373069278351.\n",
      "[I 2024-12-23 17:26:35,302] Trial 628 finished with value: 0.7054760794816161 and parameters: {'num_leaves': 68, 'learning_rate': 0.016460124508561994, 'max_depth': 4, 'n_estimators': 114}. Best is trial 188 with value: 0.7308373069278351.\n",
      "[I 2024-12-23 17:26:35,447] Trial 629 finished with value: 0.7039424897350318 and parameters: {'num_leaves': 47, 'learning_rate': 0.013389968973316962, 'max_depth': 7, 'n_estimators': 152}. Best is trial 188 with value: 0.7308373069278351.\n",
      "[I 2024-12-23 17:26:35,636] Trial 630 finished with value: 0.690495630261606 and parameters: {'num_leaves': 130, 'learning_rate': 0.019098725957238945, 'max_depth': 8, 'n_estimators': 224}. Best is trial 188 with value: 0.7308373069278351.\n",
      "[I 2024-12-23 17:26:35,707] Trial 631 finished with value: 0.7211987622881829 and parameters: {'num_leaves': 73, 'learning_rate': 0.015773347063082685, 'max_depth': 3, 'n_estimators': 126}. Best is trial 188 with value: 0.7308373069278351.\n",
      "[I 2024-12-23 17:26:35,827] Trial 632 finished with value: 0.7113764489079352 and parameters: {'num_leaves': 82, 'learning_rate': 0.011360957297549514, 'max_depth': 3, 'n_estimators': 491}. Best is trial 188 with value: 0.7308373069278351.\n",
      "[I 2024-12-23 17:26:35,904] Trial 633 finished with value: 0.7137579489457093 and parameters: {'num_leaves': 29, 'learning_rate': 0.014843398819025723, 'max_depth': 3, 'n_estimators': 181}. Best is trial 188 with value: 0.7308373069278351.\n",
      "[I 2024-12-23 17:26:36,047] Trial 634 finished with value: 0.6830133521738241 and parameters: {'num_leaves': 136, 'learning_rate': 0.013055076619291459, 'max_depth': 15, 'n_estimators': 113}. Best is trial 188 with value: 0.7308373069278351.\n",
      "[I 2024-12-23 17:26:36,132] Trial 635 finished with value: 0.7140629839733383 and parameters: {'num_leaves': 134, 'learning_rate': 0.021290613037609842, 'max_depth': 3, 'n_estimators': 142}. Best is trial 188 with value: 0.7308373069278351.\n",
      "[I 2024-12-23 17:26:36,217] Trial 636 finished with value: 0.7140629839733383 and parameters: {'num_leaves': 80, 'learning_rate': 0.017002784403480076, 'max_depth': 3, 'n_estimators': 202}. Best is trial 188 with value: 0.7308373069278351.\n",
      "[I 2024-12-23 17:26:36,287] Trial 637 finished with value: 0.7128463476070529 and parameters: {'num_leaves': 38, 'learning_rate': 0.014792698994337168, 'max_depth': 4, 'n_estimators': 100}. Best is trial 188 with value: 0.7308373069278351.\n",
      "[I 2024-12-23 17:26:36,367] Trial 638 finished with value: 0.728413303024718 and parameters: {'num_leaves': 74, 'learning_rate': 0.0117862083996595, 'max_depth': 3, 'n_estimators': 158}. Best is trial 188 with value: 0.7308373069278351.\n",
      "[I 2024-12-23 17:26:36,442] Trial 639 finished with value: 0.7137579489457093 and parameters: {'num_leaves': 72, 'learning_rate': 0.016288659222710583, 'max_depth': 3, 'n_estimators': 162}. Best is trial 188 with value: 0.7308373069278351.\n",
      "[I 2024-12-23 17:26:36,507] Trial 640 finished with value: 0.7233688640412851 and parameters: {'num_leaves': 71, 'learning_rate': 0.01807258936465802, 'max_depth': 3, 'n_estimators': 132}. Best is trial 188 with value: 0.7308373069278351.\n",
      "[I 2024-12-23 17:26:36,587] Trial 641 finished with value: 0.71327998607442 and parameters: {'num_leaves': 75, 'learning_rate': 0.013861912770746557, 'max_depth': 4, 'n_estimators': 145}. Best is trial 188 with value: 0.7308373069278351.\n",
      "[I 2024-12-23 17:26:36,658] Trial 642 finished with value: 0.7108598379474175 and parameters: {'num_leaves': 75, 'learning_rate': 0.012707549724469388, 'max_depth': 3, 'n_estimators': 123}. Best is trial 188 with value: 0.7308373069278351.\n",
      "[I 2024-12-23 17:26:36,727] Trial 643 finished with value: 0.7161475873692498 and parameters: {'num_leaves': 77, 'learning_rate': 0.015232293803102696, 'max_depth': 3, 'n_estimators': 166}. Best is trial 188 with value: 0.7308373069278351.\n",
      "[I 2024-12-23 17:26:36,787] Trial 644 finished with value: 0.7161475873692498 and parameters: {'num_leaves': 74, 'learning_rate': 0.019303023166049024, 'max_depth': 3, 'n_estimators': 143}. Best is trial 188 with value: 0.7308373069278351.\n",
      "[I 2024-12-23 17:26:36,867] Trial 645 finished with value: 0.7153819329804165 and parameters: {'num_leaves': 78, 'learning_rate': 0.012724112619026878, 'max_depth': 4, 'n_estimators': 114}. Best is trial 188 with value: 0.7308373069278351.\n",
      "[I 2024-12-23 17:26:37,027] Trial 646 finished with value: 0.6858405378556512 and parameters: {'num_leaves': 67, 'learning_rate': 0.01665506240266956, 'max_depth': 14, 'n_estimators': 128}. Best is trial 188 with value: 0.7308373069278351.\n",
      "[I 2024-12-23 17:26:37,101] Trial 647 finished with value: 0.7134970452817694 and parameters: {'num_leaves': 69, 'learning_rate': 0.014247244164857637, 'max_depth': 3, 'n_estimators': 155}. Best is trial 188 with value: 0.7308373069278351.\n",
      "[I 2024-12-23 17:26:37,177] Trial 648 finished with value: 0.7084483742485115 and parameters: {'num_leaves': 63, 'learning_rate': 0.011536722392287868, 'max_depth': 3, 'n_estimators': 135}. Best is trial 188 with value: 0.7308373069278351.\n",
      "[I 2024-12-23 17:26:37,247] Trial 649 finished with value: 0.7235943873482853 and parameters: {'num_leaves': 71, 'learning_rate': 0.01530089261708084, 'max_depth': 3, 'n_estimators': 115}. Best is trial 188 with value: 0.7308373069278351.\n",
      "[I 2024-12-23 17:26:37,322] Trial 650 finished with value: 0.7164334110103853 and parameters: {'num_leaves': 74, 'learning_rate': 0.017769871406567203, 'max_depth': 3, 'n_estimators': 171}. Best is trial 188 with value: 0.7308373069278351.\n",
      "[I 2024-12-23 17:26:37,387] Trial 651 finished with value: 0.7082355470909871 and parameters: {'num_leaves': 40, 'learning_rate': 0.012896799555603964, 'max_depth': 3, 'n_estimators': 100}. Best is trial 188 with value: 0.7308373069278351.\n",
      "[I 2024-12-23 17:26:37,477] Trial 652 finished with value: 0.7154469434464065 and parameters: {'num_leaves': 80, 'learning_rate': 0.011152195343949532, 'max_depth': 4, 'n_estimators': 150}. Best is trial 188 with value: 0.7308373069278351.\n",
      "[I 2024-12-23 17:26:37,547] Trial 653 finished with value: 0.7282302505703037 and parameters: {'num_leaves': 133, 'learning_rate': 0.014277629681372792, 'max_depth': 3, 'n_estimators': 131}. Best is trial 188 with value: 0.7308373069278351.\n",
      "[I 2024-12-23 17:26:37,627] Trial 654 finished with value: 0.7110964124503167 and parameters: {'num_leaves': 132, 'learning_rate': 0.013477544274838011, 'max_depth': 3, 'n_estimators': 162}. Best is trial 188 with value: 0.7308373069278351.\n",
      "[I 2024-12-23 17:26:37,699] Trial 655 finished with value: 0.7108598379474175 and parameters: {'num_leaves': 128, 'learning_rate': 0.01134633478105736, 'max_depth': 3, 'n_estimators': 139}. Best is trial 188 with value: 0.7308373069278351.\n",
      "[I 2024-12-23 17:26:37,790] Trial 656 finished with value: 0.7161475873692498 and parameters: {'num_leaves': 131, 'learning_rate': 0.014547300484942753, 'max_depth': 3, 'n_estimators': 175}. Best is trial 188 with value: 0.7308373069278351.\n",
      "[I 2024-12-23 17:26:37,867] Trial 657 finished with value: 0.7108598379474175 and parameters: {'num_leaves': 134, 'learning_rate': 0.010268573742999143, 'max_depth': 3, 'n_estimators': 129}. Best is trial 188 with value: 0.7308373069278351.\n",
      "[I 2024-12-23 17:26:37,966] Trial 658 finished with value: 0.7080653016050115 and parameters: {'num_leaves': 129, 'learning_rate': 0.01279694002689797, 'max_depth': 4, 'n_estimators': 152}. Best is trial 188 with value: 0.7308373069278351.\n",
      "[I 2024-12-23 17:26:38,027] Trial 659 finished with value: 0.7235943873482853 and parameters: {'num_leaves': 127, 'learning_rate': 0.015265192482279416, 'max_depth': 3, 'n_estimators': 118}. Best is trial 188 with value: 0.7308373069278351.\n",
      "[I 2024-12-23 17:26:38,197] Trial 660 finished with value: 0.6902551496630823 and parameters: {'num_leaves': 133, 'learning_rate': 0.013725028794110333, 'max_depth': 12, 'n_estimators': 137}. Best is trial 188 with value: 0.7308373069278351.\n",
      "[I 2024-12-23 17:26:38,277] Trial 661 finished with value: 0.7259991157695321 and parameters: {'num_leaves': 136, 'learning_rate': 0.011826524759835193, 'max_depth': 3, 'n_estimators': 154}. Best is trial 188 with value: 0.7308373069278351.\n",
      "[I 2024-12-23 17:26:38,347] Trial 662 finished with value: 0.7113764489079352 and parameters: {'num_leaves': 33, 'learning_rate': 0.016318182653091835, 'max_depth': 3, 'n_estimators': 174}. Best is trial 188 with value: 0.7308373069278351.\n",
      "[I 2024-12-23 17:26:38,407] Trial 663 finished with value: 0.7082355470909871 and parameters: {'num_leaves': 130, 'learning_rate': 0.010099165582362842, 'max_depth': 3, 'n_estimators': 100}. Best is trial 188 with value: 0.7308373069278351.\n",
      "[I 2024-12-23 17:26:38,477] Trial 664 finished with value: 0.7235943873482853 and parameters: {'num_leaves': 77, 'learning_rate': 0.014369637887894278, 'max_depth': 3, 'n_estimators': 126}. Best is trial 188 with value: 0.7308373069278351.\n",
      "[I 2024-12-23 17:26:38,577] Trial 665 finished with value: 0.7030240643636885 and parameters: {'num_leaves': 85, 'learning_rate': 0.013094222842116232, 'max_depth': 4, 'n_estimators': 144}. Best is trial 188 with value: 0.7308373069278351.\n",
      "[I 2024-12-23 17:26:38,707] Trial 666 finished with value: 0.6467598139756338 and parameters: {'num_leaves': 122, 'learning_rate': 0.07258218834885824, 'max_depth': 3, 'n_estimators': 689}. Best is trial 188 with value: 0.7308373069278351.\n",
      "[I 2024-12-23 17:26:38,777] Trial 667 finished with value: 0.7259991157695321 and parameters: {'num_leaves': 133, 'learning_rate': 0.01608311959740274, 'max_depth': 3, 'n_estimators': 115}. Best is trial 188 with value: 0.7308373069278351.\n",
      "[I 2024-12-23 17:26:38,887] Trial 668 finished with value: 0.6938219954967254 and parameters: {'num_leaves': 137, 'learning_rate': 0.01802689881247776, 'max_depth': 3, 'n_estimators': 419}. Best is trial 188 with value: 0.7308373069278351.\n",
      "[I 2024-12-23 17:26:38,961] Trial 669 finished with value: 0.7259991157695321 and parameters: {'num_leaves': 30, 'learning_rate': 0.011643931512515906, 'max_depth': 3, 'n_estimators': 159}. Best is trial 188 with value: 0.7308373069278351.\n",
      "[I 2024-12-23 17:26:39,041] Trial 670 finished with value: 0.7137579489457093 and parameters: {'num_leaves': 131, 'learning_rate': 0.01482482072380622, 'max_depth': 3, 'n_estimators': 188}. Best is trial 188 with value: 0.7308373069278351.\n",
      "[I 2024-12-23 17:26:39,107] Trial 671 finished with value: 0.728413303024718 and parameters: {'num_leaves': 81, 'learning_rate': 0.012856233076678485, 'max_depth': 3, 'n_estimators': 139}. Best is trial 188 with value: 0.7308373069278351.\n",
      "[I 2024-12-23 17:26:39,167] Trial 672 finished with value: 0.7161475873692498 and parameters: {'num_leaves': 83, 'learning_rate': 0.012298710846183336, 'max_depth': 3, 'n_estimators': 171}. Best is trial 188 with value: 0.7308373069278351.\n",
      "[I 2024-12-23 17:26:39,259] Trial 673 finished with value: 0.7153815409387982 and parameters: {'num_leaves': 81, 'learning_rate': 0.010153998131938676, 'max_depth': 4, 'n_estimators': 150}. Best is trial 188 with value: 0.7308373069278351.\n",
      "[I 2024-12-23 17:26:39,327] Trial 674 finished with value: 0.7235943873482853 and parameters: {'num_leaves': 80, 'learning_rate': 0.012891921977203813, 'max_depth': 3, 'n_estimators': 141}. Best is trial 188 with value: 0.7308373069278351.\n",
      "[I 2024-12-23 17:26:39,401] Trial 675 finished with value: 0.7188118872814561 and parameters: {'num_leaves': 84, 'learning_rate': 0.011642467406685226, 'max_depth': 3, 'n_estimators': 181}. Best is trial 188 with value: 0.7308373069278351.\n",
      "[I 2024-12-23 17:26:39,467] Trial 676 finished with value: 0.7157091781779992 and parameters: {'num_leaves': 86, 'learning_rate': 0.010010341161815177, 'max_depth': 3, 'n_estimators': 162}. Best is trial 188 with value: 0.7308373069278351.\n",
      "[I 2024-12-23 17:26:39,547] Trial 677 finished with value: 0.7155561225566461 and parameters: {'num_leaves': 78, 'learning_rate': 0.013911656721418454, 'max_depth': 4, 'n_estimators': 131}. Best is trial 188 with value: 0.7308373069278351.\n",
      "[I 2024-12-23 17:26:39,627] Trial 678 finished with value: 0.728413303024718 and parameters: {'num_leaves': 75, 'learning_rate': 0.013239182958609978, 'max_depth': 3, 'n_estimators': 141}. Best is trial 188 with value: 0.7308373069278351.\n",
      "[I 2024-12-23 17:26:39,701] Trial 679 finished with value: 0.7209526898288272 and parameters: {'num_leaves': 75, 'learning_rate': 0.016106492450380157, 'max_depth': 3, 'n_estimators': 129}. Best is trial 188 with value: 0.7308373069278351.\n",
      "[I 2024-12-23 17:26:39,787] Trial 680 finished with value: 0.7181477760876576 and parameters: {'num_leaves': 73, 'learning_rate': 0.01431920646936835, 'max_depth': 3, 'n_estimators': 148}. Best is trial 188 with value: 0.7308373069278351.\n",
      "[I 2024-12-23 17:26:39,847] Trial 681 finished with value: 0.7106664685947205 and parameters: {'num_leaves': 77, 'learning_rate': 0.052872012607122626, 'max_depth': 3, 'n_estimators': 117}. Best is trial 188 with value: 0.7308373069278351.\n",
      "[I 2024-12-23 17:26:39,907] Trial 682 finished with value: 0.7235943873482853 and parameters: {'num_leaves': 81, 'learning_rate': 0.012909732045954669, 'max_depth': 3, 'n_estimators': 135}. Best is trial 188 with value: 0.7308373069278351.\n",
      "[I 2024-12-23 17:26:39,977] Trial 683 finished with value: 0.7137579489457093 and parameters: {'num_leaves': 76, 'learning_rate': 0.016896872406657527, 'max_depth': 3, 'n_estimators': 160}. Best is trial 188 with value: 0.7308373069278351.\n",
      "[I 2024-12-23 17:26:40,047] Trial 684 finished with value: 0.7209526898288272 and parameters: {'num_leaves': 79, 'learning_rate': 0.014935612654962023, 'max_depth': 3, 'n_estimators': 113}. Best is trial 188 with value: 0.7308373069278351.\n",
      "[I 2024-12-23 17:26:40,137] Trial 685 finished with value: 0.7129765248706348 and parameters: {'num_leaves': 69, 'learning_rate': 0.01248519020477487, 'max_depth': 4, 'n_estimators': 140}. Best is trial 188 with value: 0.7308373069278351.\n",
      "[I 2024-12-23 17:26:40,207] Trial 686 finished with value: 0.7183244250578524 and parameters: {'num_leaves': 72, 'learning_rate': 0.01853007987065864, 'max_depth': 3, 'n_estimators': 130}. Best is trial 188 with value: 0.7308373069278351.\n",
      "[I 2024-12-23 17:26:40,287] Trial 687 finished with value: 0.7161475873692498 and parameters: {'num_leaves': 83, 'learning_rate': 0.013968971827401042, 'max_depth': 3, 'n_estimators': 162}. Best is trial 188 with value: 0.7308373069278351.\n",
      "[I 2024-12-23 17:26:40,365] Trial 688 finished with value: 0.7259991157695321 and parameters: {'num_leaves': 76, 'learning_rate': 0.01588218503376392, 'max_depth': 3, 'n_estimators': 118}. Best is trial 188 with value: 0.7308373069278351.\n",
      "[I 2024-12-23 17:26:40,547] Trial 689 finished with value: 0.6911486004981339 and parameters: {'num_leaves': 74, 'learning_rate': 0.02026056750872919, 'max_depth': 11, 'n_estimators': 191}. Best is trial 188 with value: 0.7308373069278351.\n",
      "[I 2024-12-23 17:26:40,703] Trial 690 finished with value: 0.6935421956027223 and parameters: {'num_leaves': 70, 'learning_rate': 0.011833852351934331, 'max_depth': 3, 'n_estimators': 639}. Best is trial 188 with value: 0.7308373069278351.\n",
      "[I 2024-12-23 17:26:40,787] Trial 691 finished with value: 0.7106664685947205 and parameters: {'num_leaves': 91, 'learning_rate': 0.014514584103089576, 'max_depth': 4, 'n_estimators': 148}. Best is trial 188 with value: 0.7308373069278351.\n",
      "[I 2024-12-23 17:26:40,865] Trial 692 finished with value: 0.7164334110103853 and parameters: {'num_leaves': 79, 'learning_rate': 0.01690698693418946, 'max_depth': 3, 'n_estimators': 171}. Best is trial 188 with value: 0.7308373069278351.\n",
      "[I 2024-12-23 17:26:40,940] Trial 693 finished with value: 0.7084483742485115 and parameters: {'num_leaves': 73, 'learning_rate': 0.011500873862308242, 'max_depth': 3, 'n_estimators': 132}. Best is trial 188 with value: 0.7308373069278351.\n",
      "[I 2024-12-23 17:26:41,007] Trial 694 finished with value: 0.71327998607442 and parameters: {'num_leaves': 82, 'learning_rate': 0.013285822292621114, 'max_depth': 3, 'n_estimators': 113}. Best is trial 188 with value: 0.7308373069278351.\n",
      "[I 2024-12-23 17:26:41,087] Trial 695 finished with value: 0.7134970452817694 and parameters: {'num_leaves': 77, 'learning_rate': 0.015408273245810088, 'max_depth': 3, 'n_estimators': 148}. Best is trial 188 with value: 0.7308373069278351.\n",
      "[I 2024-12-23 17:26:41,158] Trial 696 finished with value: 0.7108598379474175 and parameters: {'num_leaves': 71, 'learning_rate': 0.010031465978826553, 'max_depth': 3, 'n_estimators': 129}. Best is trial 188 with value: 0.7308373069278351.\n",
      "[I 2024-12-23 17:26:41,227] Trial 697 finished with value: 0.7161475873692498 and parameters: {'num_leaves': 67, 'learning_rate': 0.017477131111373827, 'max_depth': 3, 'n_estimators': 100}. Best is trial 188 with value: 0.7308373069278351.\n",
      "[I 2024-12-23 17:26:41,467] Trial 698 finished with value: 0.6929415898810425 and parameters: {'num_leaves': 87, 'learning_rate': 0.013442783551689187, 'max_depth': 10, 'n_estimators': 271}. Best is trial 188 with value: 0.7308373069278351.\n",
      "[I 2024-12-23 17:26:41,577] Trial 699 finished with value: 0.700436057944101 and parameters: {'num_leaves': 60, 'learning_rate': 0.011680267887053487, 'max_depth': 4, 'n_estimators': 175}. Best is trial 188 with value: 0.7308373069278351.\n",
      "[I 2024-12-23 17:26:41,667] Trial 700 finished with value: 0.6832050190822216 and parameters: {'num_leaves': 111, 'learning_rate': 0.05885260372995608, 'max_depth': 3, 'n_estimators': 154}. Best is trial 188 with value: 0.7308373069278351.\n",
      "[I 2024-12-23 17:26:41,747] Trial 701 finished with value: 0.7134970452817694 and parameters: {'num_leaves': 80, 'learning_rate': 0.015356135226522486, 'max_depth': 3, 'n_estimators': 139}. Best is trial 188 with value: 0.7308373069278351.\n",
      "[I 2024-12-23 17:26:41,840] Trial 702 finished with value: 0.7164334110103853 and parameters: {'num_leaves': 75, 'learning_rate': 0.04041000565974434, 'max_depth': 3, 'n_estimators': 117}. Best is trial 188 with value: 0.7308373069278351.\n",
      "[I 2024-12-23 17:26:41,938] Trial 703 finished with value: 0.7155561225566461 and parameters: {'num_leaves': 138, 'learning_rate': 0.019066232258901514, 'max_depth': 4, 'n_estimators': 161}. Best is trial 188 with value: 0.7308373069278351.\n",
      "[I 2024-12-23 17:26:42,023] Trial 704 finished with value: 0.7235943873482853 and parameters: {'num_leaves': 79, 'learning_rate': 0.01344231139789867, 'max_depth': 3, 'n_estimators': 133}. Best is trial 188 with value: 0.7308373069278351.\n",
      "[I 2024-12-23 17:26:42,106] Trial 705 finished with value: 0.7188118872814561 and parameters: {'num_leaves': 135, 'learning_rate': 0.016712318447256437, 'max_depth': 3, 'n_estimators': 196}. Best is trial 188 with value: 0.7308373069278351.\n",
      "[I 2024-12-23 17:26:42,177] Trial 706 finished with value: 0.6830133521738241 and parameters: {'num_leaves': 83, 'learning_rate': 0.08294083359967167, 'max_depth': 3, 'n_estimators': 145}. Best is trial 188 with value: 0.7308373069278351.\n",
      "[I 2024-12-23 17:26:42,247] Trial 707 finished with value: 0.7056237590114418 and parameters: {'num_leaves': 75, 'learning_rate': 0.011723441543790836, 'max_depth': 3, 'n_estimators': 100}. Best is trial 188 with value: 0.7308373069278351.\n",
      "[I 2024-12-23 17:26:42,327] Trial 708 finished with value: 0.7181477760876576 and parameters: {'num_leaves': 138, 'learning_rate': 0.014391066427462976, 'max_depth': 4, 'n_estimators': 117}. Best is trial 188 with value: 0.7308373069278351.\n",
      "[I 2024-12-23 17:26:42,403] Trial 709 finished with value: 0.7191232310924914 and parameters: {'num_leaves': 77, 'learning_rate': 0.022278195040184683, 'max_depth': 3, 'n_estimators': 180}. Best is trial 188 with value: 0.7308373069278351.\n",
      "[I 2024-12-23 17:26:42,507] Trial 710 finished with value: 0.7157091781779992 and parameters: {'num_leaves': 71, 'learning_rate': 0.012923754410922993, 'max_depth': 5, 'n_estimators': 155}. Best is trial 188 with value: 0.7308373069278351.\n",
      "[I 2024-12-23 17:26:42,587] Trial 711 finished with value: 0.6887617483775722 and parameters: {'num_leaves': 135, 'learning_rate': 0.06649439195617232, 'max_depth': 3, 'n_estimators': 125}. Best is trial 188 with value: 0.7308373069278351.\n",
      "[I 2024-12-23 17:26:42,659] Trial 712 finished with value: 0.71327998607442 and parameters: {'num_leaves': 73, 'learning_rate': 0.015501660520263437, 'max_depth': 3, 'n_estimators': 141}. Best is trial 188 with value: 0.7308373069278351.\n",
      "[I 2024-12-23 17:26:42,737] Trial 713 finished with value: 0.7140629839733383 and parameters: {'num_leaves': 79, 'learning_rate': 0.018279358678811364, 'max_depth': 3, 'n_estimators': 162}. Best is trial 188 with value: 0.7308373069278351.\n",
      "[I 2024-12-23 17:26:42,802] Trial 714 finished with value: 0.7108598379474175 and parameters: {'num_leaves': 66, 'learning_rate': 0.010155836415841913, 'max_depth': 3, 'n_estimators': 117}. Best is trial 188 with value: 0.7308373069278351.\n",
      "[I 2024-12-23 17:26:42,923] Trial 715 finished with value: 0.7154469434464065 and parameters: {'num_leaves': 138, 'learning_rate': 0.01412887857522652, 'max_depth': 6, 'n_estimators': 137}. Best is trial 188 with value: 0.7308373069278351.\n",
      "[I 2024-12-23 17:26:43,005] Trial 716 finished with value: 0.7207518877612777 and parameters: {'num_leaves': 89, 'learning_rate': 0.012029734824256882, 'max_depth': 3, 'n_estimators': 172}. Best is trial 188 with value: 0.7308373069278351.\n",
      "[I 2024-12-23 17:26:43,077] Trial 717 finished with value: 0.7282302505703037 and parameters: {'num_leaves': 140, 'learning_rate': 0.016454821346911622, 'max_depth': 3, 'n_estimators': 115}. Best is trial 188 with value: 0.7308373069278351.\n",
      "[I 2024-12-23 17:26:43,166] Trial 718 finished with value: 0.7155561225566461 and parameters: {'num_leaves': 98, 'learning_rate': 0.013864299278189208, 'max_depth': 4, 'n_estimators': 148}. Best is trial 188 with value: 0.7308373069278351.\n",
      "[I 2024-12-23 17:26:43,227] Trial 719 finished with value: 0.7108598379474175 and parameters: {'num_leaves': 85, 'learning_rate': 0.02045024854314873, 'max_depth': 3, 'n_estimators': 100}. Best is trial 188 with value: 0.7308373069278351.\n",
      "[I 2024-12-23 17:26:43,307] Trial 720 finished with value: 0.71327998607442 and parameters: {'num_leaves': 81, 'learning_rate': 0.011645556258996903, 'max_depth': 3, 'n_estimators': 128}. Best is trial 188 with value: 0.7308373069278351.\n",
      "[I 2024-12-23 17:26:43,407] Trial 721 finished with value: 0.71327998607442 and parameters: {'num_leaves': 46, 'learning_rate': 0.015229380668850523, 'max_depth': 4, 'n_estimators': 187}. Best is trial 188 with value: 0.7308373069278351.\n",
      "[I 2024-12-23 17:26:43,487] Trial 722 finished with value: 0.7140629839733383 and parameters: {'num_leaves': 76, 'learning_rate': 0.017514041319142866, 'max_depth': 3, 'n_estimators': 161}. Best is trial 188 with value: 0.7308373069278351.\n",
      "[I 2024-12-23 17:26:43,559] Trial 723 finished with value: 0.7259991157695321 and parameters: {'num_leaves': 136, 'learning_rate': 0.013249765435950817, 'max_depth': 3, 'n_estimators': 134}. Best is trial 188 with value: 0.7308373069278351.\n",
      "[I 2024-12-23 17:26:43,664] Trial 724 finished with value: 0.7110964124503167 and parameters: {'num_leaves': 133, 'learning_rate': 0.016208428920749564, 'max_depth': 3, 'n_estimators': 353}. Best is trial 188 with value: 0.7308373069278351.\n",
      "[I 2024-12-23 17:26:43,747] Trial 725 finished with value: 0.7188118872814561 and parameters: {'num_leaves': 140, 'learning_rate': 0.011723869599303835, 'max_depth': 3, 'n_estimators': 206}. Best is trial 188 with value: 0.7308373069278351.\n",
      "[I 2024-12-23 17:26:43,827] Trial 726 finished with value: 0.7084483742485115 and parameters: {'num_leaves': 78, 'learning_rate': 0.010136534050880773, 'max_depth': 3, 'n_estimators': 150}. Best is trial 188 with value: 0.7308373069278351.\n",
      "[I 2024-12-23 17:26:43,897] Trial 727 finished with value: 0.6840068630672069 and parameters: {'num_leaves': 74, 'learning_rate': 0.09945861496808711, 'max_depth': 3, 'n_estimators': 100}. Best is trial 188 with value: 0.7308373069278351.\n",
      "[I 2024-12-23 17:26:44,107] Trial 728 finished with value: 0.675738188017785 and parameters: {'num_leaves': 82, 'learning_rate': 0.014281426263328548, 'max_depth': 4, 'n_estimators': 797}. Best is trial 188 with value: 0.7308373069278351.\n",
      "[I 2024-12-23 17:26:44,177] Trial 729 finished with value: 0.7159062638881224 and parameters: {'num_leaves': 134, 'learning_rate': 0.018672385883696713, 'max_depth': 3, 'n_estimators': 126}. Best is trial 188 with value: 0.7308373069278351.\n",
      "[I 2024-12-23 17:26:44,267] Trial 730 finished with value: 0.7108598379474175 and parameters: {'num_leaves': 71, 'learning_rate': 0.013007436936308101, 'max_depth': 3, 'n_estimators': 170}. Best is trial 188 with value: 0.7308373069278351.\n",
      "[I 2024-12-23 17:26:44,347] Trial 731 finished with value: 0.7084483742485115 and parameters: {'num_leaves': 142, 'learning_rate': 0.015609979757131314, 'max_depth': 3, 'n_estimators': 143}. Best is trial 188 with value: 0.7308373069278351.\n",
      "[I 2024-12-23 17:26:44,424] Trial 732 finished with value: 0.6957205601253033 and parameters: {'num_leaves': 78, 'learning_rate': 0.050711799846465795, 'max_depth': 4, 'n_estimators': 114}. Best is trial 188 with value: 0.7308373069278351.\n",
      "[I 2024-12-23 17:26:44,503] Trial 733 finished with value: 0.71327998607442 and parameters: {'num_leaves': 41, 'learning_rate': 0.012718043820992734, 'max_depth': 3, 'n_estimators': 126}. Best is trial 188 with value: 0.7308373069278351.\n",
      "[I 2024-12-23 17:26:44,580] Trial 734 finished with value: 0.7137579489457093 and parameters: {'num_leaves': 132, 'learning_rate': 0.014907140884740742, 'max_depth': 3, 'n_estimators': 158}. Best is trial 188 with value: 0.7308373069278351.\n",
      "[I 2024-12-23 17:26:44,669] Trial 735 finished with value: 0.7164334110103853 and parameters: {'num_leaves': 138, 'learning_rate': 0.01715873657892395, 'max_depth': 3, 'n_estimators': 182}. Best is trial 188 with value: 0.7308373069278351.\n",
      "[I 2024-12-23 17:26:44,740] Trial 736 finished with value: 0.7185457163150273 and parameters: {'num_leaves': 49, 'learning_rate': 0.01191473645643875, 'max_depth': 3, 'n_estimators': 144}. Best is trial 188 with value: 0.7308373069278351.\n",
      "[I 2024-12-23 17:26:44,807] Trial 737 finished with value: 0.7209526898288272 and parameters: {'num_leaves': 69, 'learning_rate': 0.014136350050787377, 'max_depth': 3, 'n_estimators': 115}. Best is trial 188 with value: 0.7308373069278351.\n",
      "[I 2024-12-23 17:26:44,903] Trial 738 finished with value: 0.7079374627402749 and parameters: {'num_leaves': 74, 'learning_rate': 0.016600005313797888, 'max_depth': 4, 'n_estimators': 136}. Best is trial 188 with value: 0.7308373069278351.\n",
      "[I 2024-12-23 17:26:44,977] Trial 739 finished with value: 0.7211987622881829 and parameters: {'num_leaves': 64, 'learning_rate': 0.01135182749023092, 'max_depth': 3, 'n_estimators': 165}. Best is trial 188 with value: 0.7308373069278351.\n",
      "[I 2024-12-23 17:26:45,059] Trial 740 finished with value: 0.7134970452817694 and parameters: {'num_leaves': 140, 'learning_rate': 0.019236189275934262, 'max_depth': 3, 'n_estimators': 126}. Best is trial 188 with value: 0.7308373069278351.\n",
      "[I 2024-12-23 17:26:45,141] Trial 741 finished with value: 0.7084483742485115 and parameters: {'num_leaves': 105, 'learning_rate': 0.014898095924244407, 'max_depth': 3, 'n_estimators': 149}. Best is trial 188 with value: 0.7308373069278351.\n",
      "[I 2024-12-23 17:26:45,224] Trial 742 finished with value: 0.7128463476070529 and parameters: {'num_leaves': 136, 'learning_rate': 0.013039898757958707, 'max_depth': 4, 'n_estimators': 115}. Best is trial 188 with value: 0.7308373069278351.\n",
      "[I 2024-12-23 17:26:45,299] Trial 743 finished with value: 0.716764052679646 and parameters: {'num_leaves': 130, 'learning_rate': 0.017720211085497508, 'max_depth': 3, 'n_estimators': 173}. Best is trial 188 with value: 0.7308373069278351.\n",
      "[I 2024-12-23 17:26:45,367] Trial 744 finished with value: 0.7082355470909871 and parameters: {'num_leaves': 77, 'learning_rate': 0.01007505927971071, 'max_depth': 3, 'n_estimators': 136}. Best is trial 188 with value: 0.7308373069278351.\n",
      "[I 2024-12-23 17:26:45,442] Trial 745 finished with value: 0.7159062638881224 and parameters: {'num_leaves': 143, 'learning_rate': 0.015560867910720406, 'max_depth': 3, 'n_estimators': 156}. Best is trial 188 with value: 0.7308373069278351.\n",
      "[I 2024-12-23 17:26:45,567] Trial 746 finished with value: 0.6965088752076063 and parameters: {'num_leaves': 150, 'learning_rate': 0.01312294297894728, 'max_depth': 3, 'n_estimators': 572}. Best is trial 188 with value: 0.7308373069278351.\n",
      "[I 2024-12-23 17:26:45,647] Trial 747 finished with value: 0.7108598379474175 and parameters: {'num_leaves': 82, 'learning_rate': 0.014063127842582453, 'max_depth': 3, 'n_estimators': 114}. Best is trial 188 with value: 0.7308373069278351.\n",
      "[I 2024-12-23 17:26:45,747] Trial 748 finished with value: 0.7054760794816161 and parameters: {'num_leaves': 85, 'learning_rate': 0.01181688012977539, 'max_depth': 4, 'n_estimators': 186}. Best is trial 188 with value: 0.7308373069278351.\n",
      "[I 2024-12-23 17:26:45,824] Trial 749 finished with value: 0.71327998607442 and parameters: {'num_leaves': 56, 'learning_rate': 0.02424981483698359, 'max_depth': 3, 'n_estimators': 100}. Best is trial 188 with value: 0.7308373069278351.\n",
      "[I 2024-12-23 17:26:45,998] Trial 750 finished with value: 0.6863812864715864 and parameters: {'num_leaves': 147, 'learning_rate': 0.016348901327627265, 'max_depth': 13, 'n_estimators': 139}. Best is trial 188 with value: 0.7308373069278351.\n",
      "[I 2024-12-23 17:26:46,067] Trial 751 finished with value: 0.7137579489457093 and parameters: {'num_leaves': 80, 'learning_rate': 0.02055608130671727, 'max_depth': 3, 'n_estimators': 129}. Best is trial 188 with value: 0.7308373069278351.\n",
      "[I 2024-12-23 17:26:46,226] Trial 752 finished with value: 0.6959428876935174 and parameters: {'num_leaves': 22, 'learning_rate': 0.011441203127505288, 'max_depth': 3, 'n_estimators': 747}. Best is trial 188 with value: 0.7308373069278351.\n",
      "[I 2024-12-23 17:26:46,300] Trial 753 finished with value: 0.7157091781779992 and parameters: {'num_leaves': 72, 'learning_rate': 0.010043918234105876, 'max_depth': 3, 'n_estimators': 162}. Best is trial 188 with value: 0.7308373069278351.\n",
      "[I 2024-12-23 17:26:46,377] Trial 754 finished with value: 0.7159062638881224 and parameters: {'num_leaves': 134, 'learning_rate': 0.014716540426364728, 'max_depth': 3, 'n_estimators': 149}. Best is trial 188 with value: 0.7308373069278351.\n",
      "[I 2024-12-23 17:26:46,467] Trial 755 finished with value: 0.7164334110103853 and parameters: {'num_leaves': 142, 'learning_rate': 0.017995108557323607, 'max_depth': 3, 'n_estimators': 200}. Best is trial 188 with value: 0.7308373069278351.\n",
      "[I 2024-12-23 17:26:46,547] Trial 756 finished with value: 0.7153815409387982 and parameters: {'num_leaves': 129, 'learning_rate': 0.013162813550851667, 'max_depth': 4, 'n_estimators': 100}. Best is trial 188 with value: 0.7308373069278351.\n",
      "[I 2024-12-23 17:26:46,625] Trial 757 finished with value: 0.7181477760876576 and parameters: {'num_leaves': 76, 'learning_rate': 0.015752181443469994, 'max_depth': 3, 'n_estimators': 130}. Best is trial 188 with value: 0.7308373069278351.\n",
      "[I 2024-12-23 17:26:46,699] Trial 758 finished with value: 0.6711899033675566 and parameters: {'num_leaves': 94, 'learning_rate': 0.08807483103487788, 'max_depth': 3, 'n_estimators': 168}. Best is trial 188 with value: 0.7308373069278351.\n",
      "[I 2024-12-23 17:26:46,767] Trial 759 finished with value: 0.71327998607442 and parameters: {'num_leaves': 139, 'learning_rate': 0.013248286792132255, 'max_depth': 3, 'n_estimators': 119}. Best is trial 188 with value: 0.7308373069278351.\n",
      "[I 2024-12-23 17:26:46,906] Trial 760 finished with value: 0.7033997032152535 and parameters: {'num_leaves': 126, 'learning_rate': 0.016823332280081323, 'max_depth': 7, 'n_estimators': 146}. Best is trial 188 with value: 0.7308373069278351.\n",
      "[I 2024-12-23 17:26:47,077] Trial 761 finished with value: 0.6856277082438935 and parameters: {'num_leaves': 132, 'learning_rate': 0.011588912239171646, 'max_depth': 4, 'n_estimators': 528}. Best is trial 188 with value: 0.7308373069278351.\n",
      "[I 2024-12-23 17:26:47,147] Trial 762 finished with value: 0.6908917127745842 and parameters: {'num_leaves': 136, 'learning_rate': 0.06895638607422534, 'max_depth': 3, 'n_estimators': 128}. Best is trial 188 with value: 0.7308373069278351.\n",
      "[I 2024-12-23 17:26:47,223] Trial 763 finished with value: 0.7161475873692498 and parameters: {'num_leaves': 146, 'learning_rate': 0.014755283447105205, 'max_depth': 3, 'n_estimators': 152}. Best is trial 188 with value: 0.7308373069278351.\n",
      "[I 2024-12-23 17:26:47,287] Trial 764 finished with value: 0.7108598379474175 and parameters: {'num_leaves': 108, 'learning_rate': 0.012941602869308927, 'max_depth': 3, 'n_estimators': 174}. Best is trial 188 with value: 0.7308373069278351.\n",
      "[I 2024-12-23 17:26:47,359] Trial 765 finished with value: 0.6807893629367181 and parameters: {'num_leaves': 75, 'learning_rate': 0.07835498678204679, 'max_depth': 3, 'n_estimators': 115}. Best is trial 188 with value: 0.7308373069278351.\n",
      "[I 2024-12-23 17:26:47,538] Trial 766 finished with value: 0.676916318882307 and parameters: {'num_leaves': 44, 'learning_rate': 0.018343097642323457, 'max_depth': 3, 'n_estimators': 853}. Best is trial 188 with value: 0.7308373069278351.\n",
      "[I 2024-12-23 17:26:47,607] Trial 767 finished with value: 0.728413303024718 and parameters: {'num_leaves': 79, 'learning_rate': 0.01468129967254427, 'max_depth': 3, 'n_estimators': 138}. Best is trial 188 with value: 0.7308373069278351.\n",
      "[I 2024-12-23 17:26:47,705] Trial 768 finished with value: 0.7131065388463345 and parameters: {'num_leaves': 81, 'learning_rate': 0.015651112049572258, 'max_depth': 4, 'n_estimators': 185}. Best is trial 188 with value: 0.7308373069278351.\n",
      "[I 2024-12-23 17:26:47,807] Trial 769 finished with value: 0.7164334110103853 and parameters: {'num_leaves': 79, 'learning_rate': 0.010044358573247935, 'max_depth': 3, 'n_estimators': 374}. Best is trial 188 with value: 0.7308373069278351.\n",
      "[I 2024-12-23 17:26:47,877] Trial 770 finished with value: 0.7211987622881829 and parameters: {'num_leaves': 83, 'learning_rate': 0.020280456020306516, 'max_depth': 3, 'n_estimators': 157}. Best is trial 188 with value: 0.7308373069278351.\n",
      "[I 2024-12-23 17:26:47,959] Trial 771 finished with value: 0.7161475873692498 and parameters: {'num_leaves': 86, 'learning_rate': 0.01723869097579536, 'max_depth': 3, 'n_estimators': 140}. Best is trial 188 with value: 0.7308373069278351.\n",
      "[I 2024-12-23 17:26:48,047] Trial 772 finished with value: 0.7054760794816161 and parameters: {'num_leaves': 79, 'learning_rate': 0.01275955324229972, 'max_depth': 4, 'n_estimators': 160}. Best is trial 188 with value: 0.7308373069278351.\n",
      "[I 2024-12-23 17:26:48,141] Trial 773 finished with value: 0.7188118872814561 and parameters: {'num_leaves': 77, 'learning_rate': 0.015151078536789927, 'max_depth': 3, 'n_estimators': 216}. Best is trial 188 with value: 0.7308373069278351.\n",
      "[I 2024-12-23 17:26:48,207] Trial 774 finished with value: 0.7082355470909871 and parameters: {'num_leaves': 81, 'learning_rate': 0.011411171063999609, 'max_depth': 3, 'n_estimators': 100}. Best is trial 188 with value: 0.7308373069278351.\n",
      "[I 2024-12-23 17:26:48,267] Trial 775 finished with value: 0.7235943873482853 and parameters: {'num_leaves': 73, 'learning_rate': 0.013737729167094008, 'max_depth': 3, 'n_estimators': 140}. Best is trial 188 with value: 0.7308373069278351.\n",
      "[I 2024-12-23 17:26:48,347] Trial 776 finished with value: 0.7209526898288272 and parameters: {'num_leaves': 84, 'learning_rate': 0.01664645813782784, 'max_depth': 3, 'n_estimators': 117}. Best is trial 188 with value: 0.7308373069278351.\n",
      "[I 2024-12-23 17:26:48,427] Trial 777 finished with value: 0.7188118872814561 and parameters: {'num_leaves': 76, 'learning_rate': 0.018973874670803022, 'max_depth': 3, 'n_estimators': 194}. Best is trial 188 with value: 0.7308373069278351.\n",
      "[I 2024-12-23 17:26:48,527] Trial 778 finished with value: 0.7129765248706348 and parameters: {'num_leaves': 69, 'learning_rate': 0.010016756597615325, 'max_depth': 4, 'n_estimators': 164}. Best is trial 188 with value: 0.7308373069278351.\n",
      "[I 2024-12-23 17:26:48,607] Trial 779 finished with value: 0.7233688640412851 and parameters: {'num_leaves': 91, 'learning_rate': 0.014144419358121198, 'max_depth': 3, 'n_estimators': 142}. Best is trial 188 with value: 0.7308373069278351.\n",
      "[I 2024-12-23 17:26:48,667] Trial 780 finished with value: 0.7082355470909871 and parameters: {'num_leaves': 78, 'learning_rate': 0.012263542077982316, 'max_depth': 3, 'n_estimators': 126}. Best is trial 188 with value: 0.7308373069278351.\n",
      "[I 2024-12-23 17:26:48,847] Trial 781 finished with value: 0.6828591153983964 and parameters: {'num_leaves': 75, 'learning_rate': 0.015984688399619067, 'max_depth': 12, 'n_estimators': 149}. Best is trial 188 with value: 0.7308373069278351.\n",
      "[I 2024-12-23 17:26:48,944] Trial 782 finished with value: 0.7159062638881224 and parameters: {'num_leaves': 82, 'learning_rate': 0.012421027161337184, 'max_depth': 3, 'n_estimators': 179}. Best is trial 188 with value: 0.7308373069278351.\n",
      "[I 2024-12-23 17:26:49,007] Trial 783 finished with value: 0.7259991157695321 and parameters: {'num_leaves': 148, 'learning_rate': 0.014717848825167983, 'max_depth': 3, 'n_estimators': 120}. Best is trial 188 with value: 0.7308373069278351.\n",
      "[I 2024-12-23 17:26:49,087] Trial 784 finished with value: 0.7164334110103853 and parameters: {'num_leaves': 73, 'learning_rate': 0.017736950048990716, 'max_depth': 3, 'n_estimators': 137}. Best is trial 188 with value: 0.7308373069278351.\n",
      "[I 2024-12-23 17:26:49,167] Trial 785 finished with value: 0.7108598379474175 and parameters: {'num_leaves': 37, 'learning_rate': 0.01357644318645178, 'max_depth': 3, 'n_estimators': 164}. Best is trial 188 with value: 0.7308373069278351.\n",
      "[I 2024-12-23 17:26:49,243] Trial 786 finished with value: 0.7054760794816161 and parameters: {'num_leaves': 80, 'learning_rate': 0.022604912888450353, 'max_depth': 4, 'n_estimators': 112}. Best is trial 188 with value: 0.7308373069278351.\n",
      "[I 2024-12-23 17:26:49,333] Trial 787 finished with value: 0.7087040106099626 and parameters: {'num_leaves': 87, 'learning_rate': 0.016064329304829254, 'max_depth': 3, 'n_estimators': 149}. Best is trial 188 with value: 0.7308373069278351.\n",
      "[I 2024-12-23 17:26:49,405] Trial 788 finished with value: 0.7082355470909871 and parameters: {'num_leaves': 143, 'learning_rate': 0.011911309760042461, 'max_depth': 3, 'n_estimators': 100}. Best is trial 188 with value: 0.7308373069278351.\n",
      "[I 2024-12-23 17:26:49,477] Trial 789 finished with value: 0.7233688640412851 and parameters: {'num_leaves': 71, 'learning_rate': 0.014781496535370415, 'max_depth': 3, 'n_estimators': 131}. Best is trial 188 with value: 0.7308373069278351.\n",
      "[I 2024-12-23 17:26:49,566] Trial 790 finished with value: 0.7159062638881224 and parameters: {'num_leaves': 116, 'learning_rate': 0.011470286712592736, 'max_depth': 3, 'n_estimators': 180}. Best is trial 188 with value: 0.7308373069278351.\n",
      "[I 2024-12-23 17:26:49,647] Trial 791 finished with value: 0.7093448876370698 and parameters: {'num_leaves': 76, 'learning_rate': 0.01926735359032394, 'max_depth': 3, 'n_estimators': 157}. Best is trial 188 with value: 0.7308373069278351.\n",
      "[I 2024-12-23 17:26:49,740] Trial 792 finished with value: 0.7154469434464065 and parameters: {'num_leaves': 79, 'learning_rate': 0.013717183560905826, 'max_depth': 4, 'n_estimators': 126}. Best is trial 188 with value: 0.7308373069278351.\n",
      "[I 2024-12-23 17:26:49,818] Trial 793 finished with value: 0.7110964124503167 and parameters: {'num_leaves': 145, 'learning_rate': 0.016756042796452996, 'max_depth': 3, 'n_estimators': 139}. Best is trial 188 with value: 0.7308373069278351.\n",
      "[I 2024-12-23 17:26:49,899] Trial 794 finished with value: 0.7257945973445564 and parameters: {'num_leaves': 150, 'learning_rate': 0.011692913837258241, 'max_depth': 3, 'n_estimators': 170}. Best is trial 188 with value: 0.7308373069278351.\n",
      "[I 2024-12-23 17:26:49,987] Trial 795 finished with value: 0.7235943873482853 and parameters: {'num_leaves': 24, 'learning_rate': 0.01001129110352928, 'max_depth': 3, 'n_estimators': 200}. Best is trial 188 with value: 0.7308373069278351.\n",
      "[I 2024-12-23 17:26:50,126] Trial 796 finished with value: 0.6953960364065858 and parameters: {'num_leaves': 77, 'learning_rate': 0.015465072573672512, 'max_depth': 8, 'n_estimators': 115}. Best is trial 188 with value: 0.7308373069278351.\n",
      "[I 2024-12-23 17:26:50,203] Trial 797 finished with value: 0.7259991157695321 and parameters: {'num_leaves': 68, 'learning_rate': 0.01318367305624529, 'max_depth': 3, 'n_estimators': 151}. Best is trial 188 with value: 0.7308373069278351.\n",
      "[I 2024-12-23 17:26:50,287] Trial 798 finished with value: 0.7053061020442005 and parameters: {'num_leaves': 84, 'learning_rate': 0.01780351996063704, 'max_depth': 4, 'n_estimators': 127}. Best is trial 188 with value: 0.7308373069278351.\n",
      "[I 2024-12-23 17:26:50,366] Trial 799 finished with value: 0.6955383398448846 and parameters: {'num_leaves': 141, 'learning_rate': 0.056863904430661125, 'max_depth': 3, 'n_estimators': 143}. Best is trial 188 with value: 0.7308373069278351.\n",
      "[I 2024-12-23 17:26:50,427] Trial 800 finished with value: 0.7108598379474175 and parameters: {'num_leaves': 74, 'learning_rate': 0.014402695655943435, 'max_depth': 3, 'n_estimators': 115}. Best is trial 188 with value: 0.7308373069278351.\n",
      "[I 2024-12-23 17:26:50,517] Trial 801 finished with value: 0.7137579489457093 and parameters: {'num_leaves': 35, 'learning_rate': 0.016402283635750248, 'max_depth': 3, 'n_estimators': 168}. Best is trial 188 with value: 0.7308373069278351.\n",
      "[I 2024-12-23 17:26:50,577] Trial 802 finished with value: 0.7108598379474175 and parameters: {'num_leaves': 147, 'learning_rate': 0.012770017920782029, 'max_depth': 3, 'n_estimators': 100}. Best is trial 188 with value: 0.7308373069278351.\n",
      "[I 2024-12-23 17:26:50,667] Trial 803 finished with value: 0.7257945973445564 and parameters: {'num_leaves': 101, 'learning_rate': 0.014463023272549448, 'max_depth': 3, 'n_estimators': 132}. Best is trial 188 with value: 0.7308373069278351.\n",
      "[I 2024-12-23 17:26:50,762] Trial 804 finished with value: 0.7205961440941614 and parameters: {'num_leaves': 81, 'learning_rate': 0.01891441218725737, 'max_depth': 4, 'n_estimators': 151}. Best is trial 188 with value: 0.7308373069278351.\n",
      "[I 2024-12-23 17:26:50,841] Trial 805 finished with value: 0.7161475873692498 and parameters: {'num_leaves': 144, 'learning_rate': 0.011917177116760276, 'max_depth': 3, 'n_estimators': 181}. Best is trial 188 with value: 0.7308373069278351.\n",
      "[I 2024-12-23 17:26:50,921] Trial 806 finished with value: 0.7082355470909871 and parameters: {'num_leaves': 78, 'learning_rate': 0.010007316267224274, 'max_depth': 3, 'n_estimators': 116}. Best is trial 188 with value: 0.7308373069278351.\n",
      "[I 2024-12-23 17:26:50,987] Trial 807 finished with value: 0.7159062638881224 and parameters: {'num_leaves': 150, 'learning_rate': 0.015564555457605416, 'max_depth': 3, 'n_estimators': 135}. Best is trial 188 with value: 0.7308373069278351.\n",
      "[I 2024-12-23 17:26:51,064] Trial 808 finished with value: 0.7188118872814561 and parameters: {'num_leaves': 139, 'learning_rate': 0.020739691542335497, 'max_depth': 3, 'n_estimators': 155}. Best is trial 188 with value: 0.7308373069278351.\n",
      "[I 2024-12-23 17:26:51,162] Trial 809 finished with value: 0.7054760794816161 and parameters: {'num_leaves': 73, 'learning_rate': 0.012967629299975088, 'max_depth': 4, 'n_estimators': 169}. Best is trial 188 with value: 0.7308373069278351.\n",
      "[I 2024-12-23 17:26:51,227] Trial 810 finished with value: 0.7183244250578524 and parameters: {'num_leaves': 71, 'learning_rate': 0.016973033703667182, 'max_depth': 3, 'n_estimators': 127}. Best is trial 188 with value: 0.7308373069278351.\n",
      "[I 2024-12-23 17:26:51,318] Trial 811 finished with value: 0.7161475873692498 and parameters: {'num_leaves': 146, 'learning_rate': 0.014103675121770664, 'max_depth': 3, 'n_estimators': 145}. Best is trial 188 with value: 0.7308373069278351.\n",
      "[I 2024-12-23 17:26:51,387] Trial 812 finished with value: 0.7082355470909871 and parameters: {'num_leaves': 88, 'learning_rate': 0.011594856751042213, 'max_depth': 3, 'n_estimators': 114}. Best is trial 188 with value: 0.7308373069278351.\n",
      "[I 2024-12-23 17:26:51,500] Trial 813 finished with value: 0.7164334110103853 and parameters: {'num_leaves': 143, 'learning_rate': 0.01542823368838238, 'max_depth': 3, 'n_estimators': 320}. Best is trial 188 with value: 0.7308373069278351.\n",
      "[I 2024-12-23 17:26:51,577] Trial 814 finished with value: 0.6685207599009593 and parameters: {'num_leaves': 76, 'learning_rate': 0.09678922960584813, 'max_depth': 3, 'n_estimators': 194}. Best is trial 188 with value: 0.7308373069278351.\n",
      "[I 2024-12-23 17:26:51,665] Trial 815 finished with value: 0.7164334110103853 and parameters: {'num_leaves': 82, 'learning_rate': 0.017628643236275533, 'max_depth': 3, 'n_estimators': 160}. Best is trial 188 with value: 0.7308373069278351.\n",
      "[I 2024-12-23 17:26:51,907] Trial 816 finished with value: 0.6729244742069587 and parameters: {'num_leaves': 59, 'learning_rate': 0.013745576679733078, 'max_depth': 4, 'n_estimators': 950}. Best is trial 188 with value: 0.7308373069278351.\n",
      "[I 2024-12-23 17:26:51,977] Trial 817 finished with value: 0.7110964124503167 and parameters: {'num_leaves': 141, 'learning_rate': 0.012123162982124128, 'max_depth': 3, 'n_estimators': 135}. Best is trial 188 with value: 0.7308373069278351.\n",
      "[I 2024-12-23 17:26:52,067] Trial 818 finished with value: 0.7079374627402749 and parameters: {'num_leaves': 40, 'learning_rate': 0.015408987498087688, 'max_depth': 4, 'n_estimators': 112}. Best is trial 188 with value: 0.7308373069278351.\n",
      "[I 2024-12-23 17:26:52,159] Trial 819 finished with value: 0.7233688640412851 and parameters: {'num_leaves': 112, 'learning_rate': 0.01314454934862286, 'max_depth': 3, 'n_estimators': 141}. Best is trial 188 with value: 0.7308373069278351.\n",
      "[I 2024-12-23 17:26:52,338] Trial 820 finished with value: 0.7009940626124506 and parameters: {'num_leaves': 74, 'learning_rate': 0.011377596267043872, 'max_depth': 9, 'n_estimators': 175}. Best is trial 188 with value: 0.7308373069278351.\n",
      "[I 2024-12-23 17:26:52,406] Trial 821 finished with value: 0.7161475873692498 and parameters: {'num_leaves': 79, 'learning_rate': 0.017382415478195048, 'max_depth': 3, 'n_estimators': 100}. Best is trial 188 with value: 0.7308373069278351.\n",
      "[I 2024-12-23 17:26:52,487] Trial 822 finished with value: 0.7259991157695321 and parameters: {'num_leaves': 148, 'learning_rate': 0.014443124365148413, 'max_depth': 3, 'n_estimators': 125}. Best is trial 188 with value: 0.7308373069278351.\n",
      "[I 2024-12-23 17:26:52,566] Trial 823 finished with value: 0.7188118872814561 and parameters: {'num_leaves': 52, 'learning_rate': 0.01968930581901121, 'max_depth': 3, 'n_estimators': 155}. Best is trial 188 with value: 0.7308373069278351.\n",
      "[I 2024-12-23 17:26:52,654] Trial 824 finished with value: 0.7209526898288272 and parameters: {'num_leaves': 66, 'learning_rate': 0.015907911717897016, 'max_depth': 3, 'n_estimators': 127}. Best is trial 188 with value: 0.7308373069278351.\n",
      "[I 2024-12-23 17:26:52,756] Trial 825 finished with value: 0.7161475873692498 and parameters: {'num_leaves': 138, 'learning_rate': 0.010079723583990308, 'max_depth': 3, 'n_estimators': 229}. Best is trial 188 with value: 0.7308373069278351.\n",
      "[I 2024-12-23 17:26:52,841] Trial 826 finished with value: 0.7235943873482853 and parameters: {'num_leaves': 144, 'learning_rate': 0.013124894767686593, 'max_depth': 3, 'n_estimators': 146}. Best is trial 188 with value: 0.7308373069278351.\n",
      "[I 2024-12-23 17:26:52,939] Trial 827 finished with value: 0.7105161010191311 and parameters: {'num_leaves': 83, 'learning_rate': 0.01816837874697514, 'max_depth': 4, 'n_estimators': 184}. Best is trial 188 with value: 0.7308373069278351.\n",
      "[I 2024-12-23 17:26:53,021] Trial 828 finished with value: 0.7233688640412851 and parameters: {'num_leaves': 79, 'learning_rate': 0.011528434260457052, 'max_depth': 3, 'n_estimators': 165}. Best is trial 188 with value: 0.7308373069278351.\n",
      "[I 2024-12-23 17:26:53,095] Trial 829 finished with value: 0.7106664685947205 and parameters: {'num_leaves': 70, 'learning_rate': 0.014223498743086472, 'max_depth': 3, 'n_estimators': 100}. Best is trial 188 with value: 0.7308373069278351.\n",
      "[I 2024-12-23 17:26:53,167] Trial 830 finished with value: 0.7159062638881224 and parameters: {'num_leaves': 148, 'learning_rate': 0.016136524790755162, 'max_depth': 3, 'n_estimators': 129}. Best is trial 188 with value: 0.7308373069278351.\n",
      "[I 2024-12-23 17:26:53,267] Trial 831 finished with value: 0.7113764489079352 and parameters: {'num_leaves': 141, 'learning_rate': 0.01291041146809818, 'max_depth': 3, 'n_estimators': 208}. Best is trial 188 with value: 0.7308373069278351.\n",
      "[I 2024-12-23 17:26:53,347] Trial 832 finished with value: 0.7134970452817694 and parameters: {'num_leaves': 119, 'learning_rate': 0.01501212248170226, 'max_depth': 3, 'n_estimators': 153}. Best is trial 188 with value: 0.7308373069278351.\n",
      "[I 2024-12-23 17:26:53,459] Trial 833 finished with value: 0.7028984006099149 and parameters: {'num_leaves': 75, 'learning_rate': 0.011405596581623103, 'max_depth': 5, 'n_estimators': 118}. Best is trial 188 with value: 0.7308373069278351.\n",
      "[I 2024-12-23 17:26:53,542] Trial 834 finished with value: 0.7134970452817694 and parameters: {'num_leaves': 137, 'learning_rate': 0.016980277797962375, 'max_depth': 3, 'n_estimators': 141}. Best is trial 188 with value: 0.7308373069278351.\n",
      "[I 2024-12-23 17:26:53,647] Trial 835 finished with value: 0.7105161010191311 and parameters: {'num_leaves': 145, 'learning_rate': 0.013433375566776597, 'max_depth': 4, 'n_estimators': 165}. Best is trial 188 with value: 0.7308373069278351.\n",
      "[I 2024-12-23 17:26:53,717] Trial 836 finished with value: 0.7183244250578524 and parameters: {'num_leaves': 77, 'learning_rate': 0.01508555842524922, 'max_depth': 3, 'n_estimators': 116}. Best is trial 188 with value: 0.7308373069278351.\n",
      "[I 2024-12-23 17:26:53,806] Trial 837 finished with value: 0.6731076770157058 and parameters: {'num_leaves': 73, 'learning_rate': 0.07555611879322792, 'max_depth': 4, 'n_estimators': 138}. Best is trial 188 with value: 0.7308373069278351.\n",
      "[I 2024-12-23 17:26:53,877] Trial 838 finished with value: 0.7191232310924914 and parameters: {'num_leaves': 86, 'learning_rate': 0.021487900128652582, 'max_depth': 3, 'n_estimators': 178}. Best is trial 188 with value: 0.7308373069278351.\n",
      "[I 2024-12-23 17:26:53,962] Trial 839 finished with value: 0.7164334110103853 and parameters: {'num_leaves': 125, 'learning_rate': 0.018735268013127467, 'max_depth': 3, 'n_estimators': 147}. Best is trial 188 with value: 0.7308373069278351.\n",
      "[I 2024-12-23 17:26:54,128] Trial 840 finished with value: 0.6938219954967254 and parameters: {'num_leaves': 150, 'learning_rate': 0.011606873132698276, 'max_depth': 3, 'n_estimators': 716}. Best is trial 188 with value: 0.7308373069278351.\n",
      "[I 2024-12-23 17:26:54,207] Trial 841 finished with value: 0.7108598379474175 and parameters: {'num_leaves': 80, 'learning_rate': 0.01333348774022897, 'max_depth': 3, 'n_estimators': 116}. Best is trial 188 with value: 0.7308373069278351.\n",
      "[I 2024-12-23 17:26:54,347] Trial 842 finished with value: 0.7144124925510423 and parameters: {'num_leaves': 141, 'learning_rate': 0.010001885921064152, 'max_depth': 3, 'n_estimators': 454}. Best is trial 188 with value: 0.7308373069278351.\n",
      "[I 2024-12-23 17:26:54,427] Trial 843 finished with value: 0.7110964124503167 and parameters: {'num_leaves': 20, 'learning_rate': 0.016438807031730538, 'max_depth': 3, 'n_estimators': 130}. Best is trial 188 with value: 0.7308373069278351.\n",
      "[I 2024-12-23 17:26:54,507] Trial 844 finished with value: 0.7161475873692498 and parameters: {'num_leaves': 26, 'learning_rate': 0.01426417985350771, 'max_depth': 3, 'n_estimators': 159}. Best is trial 188 with value: 0.7308373069278351.\n",
      "[I 2024-12-23 17:26:54,588] Trial 845 finished with value: 0.7161475873692498 and parameters: {'num_leaves': 98, 'learning_rate': 0.01258394150924339, 'max_depth': 3, 'n_estimators': 193}. Best is trial 188 with value: 0.7308373069278351.\n",
      "[I 2024-12-23 17:26:54,787] Trial 846 finished with value: 0.6903560148690707 and parameters: {'num_leaves': 84, 'learning_rate': 0.015743441582793546, 'max_depth': 7, 'n_estimators': 297}. Best is trial 188 with value: 0.7308373069278351.\n",
      "[I 2024-12-23 17:26:54,867] Trial 847 finished with value: 0.7205961440941614 and parameters: {'num_leaves': 146, 'learning_rate': 0.01822307533778091, 'max_depth': 3, 'n_estimators': 114}. Best is trial 188 with value: 0.7308373069278351.\n",
      "[I 2024-12-23 17:26:54,947] Trial 848 finished with value: 0.7153815409387982 and parameters: {'num_leaves': 136, 'learning_rate': 0.012026555060095872, 'max_depth': 4, 'n_estimators': 100}. Best is trial 188 with value: 0.7308373069278351.\n",
      "[I 2024-12-23 17:26:55,048] Trial 849 finished with value: 0.7030240643636885 and parameters: {'num_leaves': 129, 'learning_rate': 0.014672272689180796, 'max_depth': 4, 'n_estimators': 140}. Best is trial 188 with value: 0.7308373069278351.\n",
      "[I 2024-12-23 17:26:55,127] Trial 850 finished with value: 0.7117002583116361 and parameters: {'num_leaves': 76, 'learning_rate': 0.017108086957620443, 'max_depth': 3, 'n_estimators': 165}. Best is trial 188 with value: 0.7308373069278351.\n",
      "[I 2024-12-23 17:26:55,208] Trial 851 finished with value: 0.7235943873482853 and parameters: {'num_leaves': 71, 'learning_rate': 0.01331473665400948, 'max_depth': 3, 'n_estimators': 129}. Best is trial 188 with value: 0.7308373069278351.\n",
      "[I 2024-12-23 17:26:55,305] Trial 852 finished with value: 0.7185457163150273 and parameters: {'num_leaves': 33, 'learning_rate': 0.011261460603096705, 'max_depth': 3, 'n_estimators': 151}. Best is trial 188 with value: 0.7308373069278351.\n",
      "[I 2024-12-23 17:26:55,388] Trial 853 finished with value: 0.7235943873482853 and parameters: {'num_leaves': 79, 'learning_rate': 0.010025472480725717, 'max_depth': 3, 'n_estimators': 176}. Best is trial 188 with value: 0.7308373069278351.\n",
      "[I 2024-12-23 17:26:55,467] Trial 854 finished with value: 0.7161475873692498 and parameters: {'num_leaves': 142, 'learning_rate': 0.019500439194109855, 'max_depth': 3, 'n_estimators': 127}. Best is trial 188 with value: 0.7308373069278351.\n",
      "[I 2024-12-23 17:26:55,555] Trial 855 finished with value: 0.7108598379474175 and parameters: {'num_leaves': 139, 'learning_rate': 0.01524790762199985, 'max_depth': 3, 'n_estimators': 144}. Best is trial 188 with value: 0.7308373069278351.\n",
      "[I 2024-12-23 17:26:55,647] Trial 856 finished with value: 0.7153815409387982 and parameters: {'num_leaves': 147, 'learning_rate': 0.013127990250599963, 'max_depth': 4, 'n_estimators': 116}. Best is trial 188 with value: 0.7308373069278351.\n",
      "[I 2024-12-23 17:26:55,737] Trial 857 finished with value: 0.7137579489457093 and parameters: {'num_leaves': 68, 'learning_rate': 0.016481729348534226, 'max_depth': 3, 'n_estimators': 159}. Best is trial 188 with value: 0.7308373069278351.\n",
      "[I 2024-12-23 17:26:55,827] Trial 858 finished with value: 0.7259991157695321 and parameters: {'num_leaves': 82, 'learning_rate': 0.014527040123882434, 'max_depth': 3, 'n_estimators': 134}. Best is trial 188 with value: 0.7308373069278351.\n",
      "[I 2024-12-23 17:26:55,907] Trial 859 finished with value: 0.6843507497130601 and parameters: {'num_leaves': 135, 'learning_rate': 0.0443204802343041, 'max_depth': 3, 'n_estimators': 182}. Best is trial 188 with value: 0.7308373069278351.\n",
      "[I 2024-12-23 17:26:55,977] Trial 860 finished with value: 0.7106664685947205 and parameters: {'num_leaves': 143, 'learning_rate': 0.011938785901242826, 'max_depth': 3, 'n_estimators': 114}. Best is trial 188 with value: 0.7308373069278351.\n",
      "[I 2024-12-23 17:26:56,047] Trial 861 finished with value: 0.7161475873692498 and parameters: {'num_leaves': 131, 'learning_rate': 0.016900014067326375, 'max_depth': 3, 'n_estimators': 147}. Best is trial 188 with value: 0.7308373069278351.\n",
      "[I 2024-12-23 17:26:56,137] Trial 862 finished with value: 0.728413303024718 and parameters: {'num_leaves': 77, 'learning_rate': 0.013645286973745986, 'max_depth': 3, 'n_estimators': 130}. Best is trial 188 with value: 0.7308373069278351.\n",
      "[I 2024-12-23 17:26:56,219] Trial 863 finished with value: 0.7211987622881829 and parameters: {'num_leaves': 80, 'learning_rate': 0.011349576761440949, 'max_depth': 3, 'n_estimators': 164}. Best is trial 188 with value: 0.7308373069278351.\n",
      "[I 2024-12-23 17:26:56,297] Trial 864 finished with value: 0.7233688640412851 and parameters: {'num_leaves': 85, 'learning_rate': 0.013064177130276172, 'max_depth': 3, 'n_estimators': 151}. Best is trial 188 with value: 0.7308373069278351.\n",
      "[I 2024-12-23 17:26:56,411] Trial 865 finished with value: 0.7105161010191311 and parameters: {'num_leaves': 78, 'learning_rate': 0.01149316817262215, 'max_depth': 4, 'n_estimators': 200}. Best is trial 188 with value: 0.7308373069278351.\n",
      "[I 2024-12-23 17:26:56,562] Trial 866 finished with value: 0.712889818657954 and parameters: {'num_leaves': 89, 'learning_rate': 0.013652763006656266, 'max_depth': 6, 'n_estimators': 176}. Best is trial 188 with value: 0.7308373069278351.\n",
      "[I 2024-12-23 17:26:56,648] Trial 867 finished with value: 0.7082355470909871 and parameters: {'num_leaves': 82, 'learning_rate': 0.010038499116139424, 'max_depth': 3, 'n_estimators': 133}. Best is trial 188 with value: 0.7308373069278351.\n",
      "[I 2024-12-23 17:26:56,718] Trial 868 finished with value: 0.71327998607442 and parameters: {'num_leaves': 150, 'learning_rate': 0.01439579699460454, 'max_depth': 3, 'n_estimators': 157}. Best is trial 188 with value: 0.7308373069278351.\n",
      "[I 2024-12-23 17:26:56,813] Trial 869 finished with value: 0.7129765248706348 and parameters: {'num_leaves': 127, 'learning_rate': 0.012598516589036875, 'max_depth': 4, 'n_estimators': 136}. Best is trial 188 with value: 0.7308373069278351.\n",
      "[I 2024-12-23 17:26:56,908] Trial 870 finished with value: 0.7214903731128357 and parameters: {'num_leaves': 38, 'learning_rate': 0.014556199497675917, 'max_depth': 3, 'n_estimators': 166}. Best is trial 188 with value: 0.7308373069278351.\n",
      "[I 2024-12-23 17:26:56,995] Trial 871 finished with value: 0.7235943873482853 and parameters: {'num_leaves': 139, 'learning_rate': 0.012636394215589668, 'max_depth': 3, 'n_estimators': 142}. Best is trial 188 with value: 0.7308373069278351.\n",
      "[I 2024-12-23 17:26:57,079] Trial 872 finished with value: 0.710321765459445 and parameters: {'num_leaves': 145, 'learning_rate': 0.011225593121896431, 'max_depth': 4, 'n_estimators': 126}. Best is trial 188 with value: 0.7308373069278351.\n",
      "[I 2024-12-23 17:26:57,184] Trial 873 finished with value: 0.7164334110103853 and parameters: {'num_leaves': 48, 'learning_rate': 0.015132413299476115, 'max_depth': 3, 'n_estimators': 249}. Best is trial 188 with value: 0.7308373069278351.\n",
      "[I 2024-12-23 17:26:57,367] Trial 874 finished with value: 0.6741987085610774 and parameters: {'num_leaves': 76, 'learning_rate': 0.05415255221863017, 'max_depth': 14, 'n_estimators': 180}. Best is trial 188 with value: 0.7308373069278351.\n",
      "[I 2024-12-23 17:26:57,549] Trial 875 finished with value: 0.6931022301406894 and parameters: {'num_leaves': 81, 'learning_rate': 0.012876125851520523, 'max_depth': 8, 'n_estimators': 153}. Best is trial 188 with value: 0.7308373069278351.\n",
      "[I 2024-12-23 17:26:57,649] Trial 876 finished with value: 0.6837015012584189 and parameters: {'num_leaves': 31, 'learning_rate': 0.04882734366450622, 'max_depth': 3, 'n_estimators': 215}. Best is trial 188 with value: 0.7308373069278351.\n",
      "[I 2024-12-23 17:26:57,733] Trial 877 finished with value: 0.7257945973445564 and parameters: {'num_leaves': 104, 'learning_rate': 0.014307047325187845, 'max_depth': 3, 'n_estimators': 128}. Best is trial 188 with value: 0.7308373069278351.\n",
      "[I 2024-12-23 17:26:57,888] Trial 878 finished with value: 0.6929415898810425 and parameters: {'num_leaves': 77, 'learning_rate': 0.011337466385582107, 'max_depth': 15, 'n_estimators': 114}. Best is trial 188 with value: 0.7308373069278351.\n",
      "[I 2024-12-23 17:26:57,970] Trial 879 finished with value: 0.7188118872814561 and parameters: {'num_leaves': 148, 'learning_rate': 0.015822491387923538, 'max_depth': 3, 'n_estimators': 145}. Best is trial 188 with value: 0.7308373069278351.\n",
      "[I 2024-12-23 17:26:58,078] Trial 880 finished with value: 0.7235943873482853 and parameters: {'num_leaves': 123, 'learning_rate': 0.010007664753496874, 'max_depth': 3, 'n_estimators': 196}. Best is trial 188 with value: 0.7308373069278351.\n",
      "[I 2024-12-23 17:26:58,169] Trial 881 finished with value: 0.7079374627402749 and parameters: {'num_leaves': 134, 'learning_rate': 0.013719940312916401, 'max_depth': 4, 'n_estimators': 168}. Best is trial 188 with value: 0.7308373069278351.\n",
      "[I 2024-12-23 17:26:58,262] Trial 882 finished with value: 0.7082355470909871 and parameters: {'num_leaves': 35, 'learning_rate': 0.01249610540485245, 'max_depth': 3, 'n_estimators': 100}. Best is trial 188 with value: 0.7308373069278351.\n",
      "[I 2024-12-23 17:26:58,420] Trial 883 finished with value: 0.6711899033675566 and parameters: {'num_leaves': 138, 'learning_rate': 0.017946700762764244, 'max_depth': 3, 'n_estimators': 666}. Best is trial 188 with value: 0.7308373069278351.\n",
      "[I 2024-12-23 17:26:58,560] Trial 884 finished with value: 0.6935421956027223 and parameters: {'num_leaves': 44, 'learning_rate': 0.015106982830200608, 'max_depth': 3, 'n_estimators': 611}. Best is trial 188 with value: 0.7308373069278351.\n",
      "[I 2024-12-23 17:26:58,638] Trial 885 finished with value: 0.7235943873482853 and parameters: {'num_leaves': 143, 'learning_rate': 0.013382902939485198, 'max_depth': 3, 'n_estimators': 132}. Best is trial 188 with value: 0.7308373069278351.\n",
      "[I 2024-12-23 17:26:58,732] Trial 886 finished with value: 0.7137579489457093 and parameters: {'num_leaves': 27, 'learning_rate': 0.016533141702495497, 'max_depth': 3, 'n_estimators': 153}. Best is trial 188 with value: 0.7308373069278351.\n",
      "[I 2024-12-23 17:26:58,824] Trial 887 finished with value: 0.7153815409387982 and parameters: {'num_leaves': 62, 'learning_rate': 0.011785490370747054, 'max_depth': 4, 'n_estimators': 121}. Best is trial 188 with value: 0.7308373069278351.\n",
      "[I 2024-12-23 17:26:58,898] Trial 888 finished with value: 0.7185457163150273 and parameters: {'num_leaves': 78, 'learning_rate': 0.0151803061719112, 'max_depth': 3, 'n_estimators': 136}. Best is trial 188 with value: 0.7308373069278351.\n",
      "[I 2024-12-23 17:26:58,980] Trial 889 finished with value: 0.7015726695756163 and parameters: {'num_leaves': 92, 'learning_rate': 0.03799049024652565, 'max_depth': 3, 'n_estimators': 168}. Best is trial 188 with value: 0.7308373069278351.\n",
      "[I 2024-12-23 17:26:59,067] Trial 890 finished with value: 0.7235943873482853 and parameters: {'num_leaves': 83, 'learning_rate': 0.012841556028851543, 'max_depth': 3, 'n_estimators': 149}. Best is trial 188 with value: 0.7308373069278351.\n",
      "[I 2024-12-23 17:26:59,149] Trial 891 finished with value: 0.7134970452817694 and parameters: {'num_leaves': 147, 'learning_rate': 0.014297408851527775, 'max_depth': 3, 'n_estimators': 115}. Best is trial 188 with value: 0.7308373069278351.\n",
      "[I 2024-12-23 17:26:59,243] Trial 892 finished with value: 0.7140629839733383 and parameters: {'num_leaves': 133, 'learning_rate': 0.018259432788771082, 'max_depth': 3, 'n_estimators': 186}. Best is trial 188 with value: 0.7308373069278351.\n",
      "[I 2024-12-23 17:26:59,319] Trial 893 finished with value: 0.71327998607442 and parameters: {'num_leaves': 24, 'learning_rate': 0.01135458679957827, 'max_depth': 3, 'n_estimators': 141}. Best is trial 188 with value: 0.7308373069278351.\n",
      "[I 2024-12-23 17:26:59,412] Trial 894 finished with value: 0.7128463476070529 and parameters: {'num_leaves': 141, 'learning_rate': 0.015863291879891557, 'max_depth': 4, 'n_estimators': 100}. Best is trial 188 with value: 0.7308373069278351.\n",
      "[I 2024-12-23 17:26:59,498] Trial 895 finished with value: 0.7259991157695321 and parameters: {'num_leaves': 114, 'learning_rate': 0.013691037569157866, 'max_depth': 3, 'n_estimators': 126}. Best is trial 188 with value: 0.7308373069278351.\n",
      "[I 2024-12-23 17:26:59,585] Trial 896 finished with value: 0.7209526898288272 and parameters: {'num_leaves': 74, 'learning_rate': 0.011514134798293262, 'max_depth': 3, 'n_estimators': 164}. Best is trial 188 with value: 0.7308373069278351.\n",
      "[I 2024-12-23 17:26:59,658] Trial 897 finished with value: 0.7137579489457093 and parameters: {'num_leaves': 130, 'learning_rate': 0.016858303591643167, 'max_depth': 3, 'n_estimators': 148}. Best is trial 188 with value: 0.7308373069278351.\n",
      "[I 2024-12-23 17:26:59,733] Trial 898 finished with value: 0.7257945973445564 and parameters: {'num_leaves': 80, 'learning_rate': 0.014302893375500576, 'max_depth': 3, 'n_estimators': 126}. Best is trial 188 with value: 0.7308373069278351.\n",
      "[I 2024-12-23 17:26:59,848] Trial 899 finished with value: 0.7129765248706348 and parameters: {'num_leaves': 145, 'learning_rate': 0.010063122788817307, 'max_depth': 4, 'n_estimators': 183}. Best is trial 188 with value: 0.7308373069278351.\n",
      "[I 2024-12-23 17:26:59,912] Trial 900 finished with value: 0.7082355470909871 and parameters: {'num_leaves': 136, 'learning_rate': 0.0129012761389133, 'max_depth': 3, 'n_estimators': 100}. Best is trial 188 with value: 0.7308373069278351.\n",
      "[I 2024-12-23 17:27:00,004] Trial 901 finished with value: 0.7188118872814561 and parameters: {'num_leaves': 77, 'learning_rate': 0.020158114763819932, 'max_depth': 3, 'n_estimators': 158}. Best is trial 188 with value: 0.7308373069278351.\n",
      "[I 2024-12-23 17:27:00,080] Trial 902 finished with value: 0.7137579489457093 and parameters: {'num_leaves': 150, 'learning_rate': 0.01579734733919645, 'max_depth': 3, 'n_estimators': 136}. Best is trial 188 with value: 0.7308373069278351.\n",
      "[I 2024-12-23 17:27:00,177] Trial 903 finished with value: 0.7134970452817694 and parameters: {'num_leaves': 86, 'learning_rate': 0.01755100562641366, 'max_depth': 3, 'n_estimators': 118}. Best is trial 188 with value: 0.7308373069278351.\n",
      "[I 2024-12-23 17:27:00,258] Trial 904 finished with value: 0.6714947675206147 and parameters: {'num_leaves': 143, 'learning_rate': 0.09388391634270313, 'max_depth': 3, 'n_estimators': 168}. Best is trial 188 with value: 0.7308373069278351.\n",
      "[I 2024-12-23 17:27:00,421] Trial 905 finished with value: 0.6902551496630823 and parameters: {'num_leaves': 96, 'learning_rate': 0.011755176638574257, 'max_depth': 10, 'n_estimators': 142}. Best is trial 188 with value: 0.7308373069278351.\n",
      "[I 2024-12-23 17:27:00,535] Trial 906 finished with value: 0.7080653016050115 and parameters: {'num_leaves': 139, 'learning_rate': 0.014239891647236387, 'max_depth': 5, 'n_estimators': 114}. Best is trial 188 with value: 0.7308373069278351.\n",
      "[I 2024-12-23 17:27:00,630] Trial 907 finished with value: 0.7082355470909871 and parameters: {'num_leaves': 127, 'learning_rate': 0.010060105776490705, 'max_depth': 3, 'n_estimators': 153}. Best is trial 188 with value: 0.7308373069278351.\n",
      "[I 2024-12-23 17:27:00,715] Trial 908 finished with value: 0.7129765248706348 and parameters: {'num_leaves': 80, 'learning_rate': 0.012940682372331652, 'max_depth': 4, 'n_estimators': 129}. Best is trial 188 with value: 0.7308373069278351.\n",
      "[I 2024-12-23 17:27:00,788] Trial 909 finished with value: 0.7140629839733383 and parameters: {'num_leaves': 72, 'learning_rate': 0.01575316470737328, 'max_depth': 3, 'n_estimators': 191}. Best is trial 188 with value: 0.7308373069278351.\n",
      "[I 2024-12-23 17:27:00,888] Trial 910 finished with value: 0.7188118872814561 and parameters: {'num_leaves': 137, 'learning_rate': 0.018613189903747055, 'max_depth': 3, 'n_estimators': 173}. Best is trial 188 with value: 0.7308373069278351.\n",
      "[I 2024-12-23 17:27:00,972] Trial 911 finished with value: 0.728413303024718 and parameters: {'num_leaves': 75, 'learning_rate': 0.014484866891567728, 'max_depth': 3, 'n_estimators': 138}. Best is trial 188 with value: 0.7308373069278351.\n",
      "[I 2024-12-23 17:27:01,074] Trial 912 finished with value: 0.7054760794816161 and parameters: {'num_leaves': 75, 'learning_rate': 0.017280500996452303, 'max_depth': 4, 'n_estimators': 114}. Best is trial 188 with value: 0.7308373069278351.\n",
      "[I 2024-12-23 17:27:01,158] Trial 913 finished with value: 0.6962055626005841 and parameters: {'num_leaves': 73, 'learning_rate': 0.06358343129109924, 'max_depth': 3, 'n_estimators': 151}. Best is trial 188 with value: 0.7308373069278351.\n",
      "[I 2024-12-23 17:27:01,250] Trial 914 finished with value: 0.7233688640412851 and parameters: {'num_leaves': 78, 'learning_rate': 0.015559054214789442, 'max_depth': 3, 'n_estimators': 129}. Best is trial 188 with value: 0.7308373069278351.\n",
      "[I 2024-12-23 17:27:01,343] Trial 915 finished with value: 0.7257945973445564 and parameters: {'num_leaves': 76, 'learning_rate': 0.01876125836734624, 'max_depth': 3, 'n_estimators': 100}. Best is trial 188 with value: 0.7308373069278351.\n",
      "[I 2024-12-23 17:27:01,538] Trial 916 finished with value: 0.6779689131903913 and parameters: {'num_leaves': 70, 'learning_rate': 0.014998050954641037, 'max_depth': 11, 'n_estimators': 161}. Best is trial 188 with value: 0.7308373069278351.\n",
      "[I 2024-12-23 17:27:01,618] Trial 917 finished with value: 0.7235943873482853 and parameters: {'num_leaves': 75, 'learning_rate': 0.021309188331752292, 'max_depth': 3, 'n_estimators': 135}. Best is trial 188 with value: 0.7308373069278351.\n",
      "[I 2024-12-23 17:27:01,702] Trial 918 finished with value: 0.7257945973445564 and parameters: {'num_leaves': 109, 'learning_rate': 0.016597908258416005, 'max_depth': 3, 'n_estimators': 117}. Best is trial 188 with value: 0.7308373069278351.\n",
      "[I 2024-12-23 17:27:01,802] Trial 919 finished with value: 0.7105161010191311 and parameters: {'num_leaves': 73, 'learning_rate': 0.013892685837276172, 'max_depth': 4, 'n_estimators': 209}. Best is trial 188 with value: 0.7308373069278351.\n",
      "[I 2024-12-23 17:27:01,903] Trial 920 finished with value: 0.7235943873482853 and parameters: {'num_leaves': 83, 'learning_rate': 0.01242043611235427, 'max_depth': 3, 'n_estimators': 147}. Best is trial 188 with value: 0.7308373069278351.\n",
      "[I 2024-12-23 17:27:02,007] Trial 921 finished with value: 0.7131065388463345 and parameters: {'num_leaves': 79, 'learning_rate': 0.01718634475225351, 'max_depth': 4, 'n_estimators': 128}. Best is trial 188 with value: 0.7308373069278351.\n",
      "[I 2024-12-23 17:27:02,094] Trial 922 finished with value: 0.7137579489457093 and parameters: {'num_leaves': 77, 'learning_rate': 0.014993747896949218, 'max_depth': 3, 'n_estimators': 178}. Best is trial 188 with value: 0.7308373069278351.\n",
      "[I 2024-12-23 17:27:02,165] Trial 923 finished with value: 0.7108598379474175 and parameters: {'num_leaves': 81, 'learning_rate': 0.010002792413475925, 'max_depth': 3, 'n_estimators': 158}. Best is trial 188 with value: 0.7308373069278351.\n",
      "[I 2024-12-23 17:27:02,250] Trial 924 finished with value: 0.7233688640412851 and parameters: {'num_leaves': 70, 'learning_rate': 0.013274085943084277, 'max_depth': 3, 'n_estimators': 144}. Best is trial 188 with value: 0.7308373069278351.\n",
      "[I 2024-12-23 17:27:02,427] Trial 925 finished with value: 0.6789392581532343 and parameters: {'num_leaves': 75, 'learning_rate': 0.015746399654389585, 'max_depth': 3, 'n_estimators': 863}. Best is trial 188 with value: 0.7308373069278351.\n",
      "[I 2024-12-23 17:27:02,508] Trial 926 finished with value: 0.716764052679646 and parameters: {'num_leaves': 78, 'learning_rate': 0.0362067031003078, 'max_depth': 3, 'n_estimators': 117}. Best is trial 188 with value: 0.7308373069278351.\n",
      "[I 2024-12-23 17:27:02,579] Trial 927 finished with value: 0.7188118872814561 and parameters: {'num_leaves': 56, 'learning_rate': 0.01938752254571518, 'max_depth': 3, 'n_estimators': 167}. Best is trial 188 with value: 0.7308373069278351.\n",
      "[I 2024-12-23 17:27:02,659] Trial 928 finished with value: 0.7082355470909871 and parameters: {'num_leaves': 73, 'learning_rate': 0.011692749158578777, 'max_depth': 3, 'n_estimators': 100}. Best is trial 188 with value: 0.7308373069278351.\n",
      "[I 2024-12-23 17:27:03,119] Trial 929 finished with value: 0.6887617483775722 and parameters: {'num_leaves': 81, 'learning_rate': 0.014093896904507103, 'max_depth': 13, 'n_estimators': 502}. Best is trial 188 with value: 0.7308373069278351.\n",
      "[I 2024-12-23 17:27:03,212] Trial 930 finished with value: 0.7161475873692498 and parameters: {'num_leaves': 67, 'learning_rate': 0.01755083048840628, 'max_depth': 3, 'n_estimators': 137}. Best is trial 188 with value: 0.7308373069278351.\n",
      "[I 2024-12-23 17:27:03,299] Trial 931 finished with value: 0.7183244250578524 and parameters: {'num_leaves': 83, 'learning_rate': 0.011787728603730544, 'max_depth': 3, 'n_estimators': 188}. Best is trial 188 with value: 0.7308373069278351.\n",
      "[I 2024-12-23 17:27:03,388] Trial 932 finished with value: 0.7280035523519948 and parameters: {'num_leaves': 41, 'learning_rate': 0.02542882542768462, 'max_depth': 4, 'n_estimators': 127}. Best is trial 188 with value: 0.7308373069278351.\n",
      "[I 2024-12-23 17:27:03,473] Trial 933 finished with value: 0.7084483742485115 and parameters: {'num_leaves': 72, 'learning_rate': 0.014338469336468467, 'max_depth': 3, 'n_estimators': 153}. Best is trial 188 with value: 0.7308373069278351.\n",
      "[I 2024-12-23 17:27:03,567] Trial 934 finished with value: 0.7211987622881829 and parameters: {'num_leaves': 77, 'learning_rate': 0.016287800414302545, 'max_depth': 3, 'n_estimators': 119}. Best is trial 188 with value: 0.7308373069278351.\n",
      "[I 2024-12-23 17:27:03,651] Trial 935 finished with value: 0.7159062638881224 and parameters: {'num_leaves': 132, 'learning_rate': 0.012781321448327946, 'max_depth': 3, 'n_estimators': 171}. Best is trial 188 with value: 0.7308373069278351.\n",
      "[I 2024-12-23 17:27:03,735] Trial 936 finished with value: 0.7231890133289806 and parameters: {'num_leaves': 29, 'learning_rate': 0.015269787859258406, 'max_depth': 3, 'n_estimators': 140}. Best is trial 188 with value: 0.7308373069278351.\n",
      "[I 2024-12-23 17:27:03,819] Trial 937 finished with value: 0.720419260386097 and parameters: {'num_leaves': 75, 'learning_rate': 0.010018230990245857, 'max_depth': 4, 'n_estimators': 113}. Best is trial 188 with value: 0.7308373069278351.\n",
      "[I 2024-12-23 17:27:03,946] Trial 938 finished with value: 0.7180155870009947 and parameters: {'num_leaves': 80, 'learning_rate': 0.012849397959031643, 'max_depth': 6, 'n_estimators': 153}. Best is trial 188 with value: 0.7308373069278351.\n",
      "[I 2024-12-23 17:27:04,039] Trial 939 finished with value: 0.7113764489079352 and parameters: {'num_leaves': 88, 'learning_rate': 0.017821719277470234, 'max_depth': 3, 'n_estimators': 136}. Best is trial 188 with value: 0.7308373069278351.\n",
      "[I 2024-12-23 17:27:04,139] Trial 940 finished with value: 0.7185457163150273 and parameters: {'num_leaves': 84, 'learning_rate': 0.01421839017769975, 'max_depth': 3, 'n_estimators': 166}. Best is trial 188 with value: 0.7308373069278351.\n",
      "[I 2024-12-23 17:27:04,224] Trial 941 finished with value: 0.7164334110103853 and parameters: {'num_leaves': 78, 'learning_rate': 0.020109168182303287, 'max_depth': 3, 'n_estimators': 195}. Best is trial 188 with value: 0.7308373069278351.\n",
      "[I 2024-12-23 17:27:04,309] Trial 942 finished with value: 0.7084483742485115 and parameters: {'num_leaves': 34, 'learning_rate': 0.012163295503707554, 'max_depth': 3, 'n_estimators': 127}. Best is trial 188 with value: 0.7308373069278351.\n",
      "[I 2024-12-23 17:27:04,414] Trial 943 finished with value: 0.7106664685947205 and parameters: {'num_leaves': 125, 'learning_rate': 0.015952001035760176, 'max_depth': 4, 'n_estimators': 114}. Best is trial 188 with value: 0.7308373069278351.\n",
      "[I 2024-12-23 17:27:04,509] Trial 944 finished with value: 0.7257945973445564 and parameters: {'num_leaves': 72, 'learning_rate': 0.014012567350393839, 'max_depth': 3, 'n_estimators': 147}. Best is trial 188 with value: 0.7308373069278351.\n",
      "[I 2024-12-23 17:27:04,591] Trial 945 finished with value: 0.7161475873692498 and parameters: {'num_leaves': 129, 'learning_rate': 0.012162026585799736, 'max_depth': 3, 'n_estimators': 178}. Best is trial 188 with value: 0.7308373069278351.\n",
      "[I 2024-12-23 17:27:04,676] Trial 946 finished with value: 0.7080653016050115 and parameters: {'num_leaves': 75, 'learning_rate': 0.017090509433873267, 'max_depth': 4, 'n_estimators': 135}. Best is trial 188 with value: 0.7308373069278351.\n",
      "[I 2024-12-23 17:27:04,758] Trial 947 finished with value: 0.7106664685947205 and parameters: {'num_leaves': 69, 'learning_rate': 0.01464943873018699, 'max_depth': 3, 'n_estimators': 100}. Best is trial 188 with value: 0.7308373069278351.\n",
      "[I 2024-12-23 17:27:04,838] Trial 948 finished with value: 0.7209526898288272 and parameters: {'num_leaves': 121, 'learning_rate': 0.011492810428241008, 'max_depth': 3, 'n_estimators': 155}. Best is trial 188 with value: 0.7308373069278351.\n",
      "[I 2024-12-23 17:27:04,997] Trial 949 finished with value: 0.6423951839568968 and parameters: {'num_leaves': 65, 'learning_rate': 0.08334227494460172, 'max_depth': 3, 'n_estimators': 637}. Best is trial 188 with value: 0.7308373069278351.\n",
      "[I 2024-12-23 17:27:05,069] Trial 950 finished with value: 0.71327998607442 and parameters: {'num_leaves': 22, 'learning_rate': 0.018662731382301297, 'max_depth': 3, 'n_estimators': 127}. Best is trial 188 with value: 0.7308373069278351.\n",
      "[I 2024-12-23 17:27:05,159] Trial 951 finished with value: 0.7161475873692498 and parameters: {'num_leaves': 79, 'learning_rate': 0.015665443957953492, 'max_depth': 3, 'n_estimators': 159}. Best is trial 188 with value: 0.7308373069278351.\n",
      "[I 2024-12-23 17:27:05,234] Trial 952 finished with value: 0.7188118872814561 and parameters: {'num_leaves': 81, 'learning_rate': 0.02325790156680848, 'max_depth': 3, 'n_estimators': 142}. Best is trial 188 with value: 0.7308373069278351.\n",
      "[I 2024-12-23 17:27:05,459] Trial 953 finished with value: 0.6832050190822216 and parameters: {'num_leaves': 131, 'learning_rate': 0.013736814235672091, 'max_depth': 4, 'n_estimators': 563}. Best is trial 188 with value: 0.7308373069278351.\n",
      "[I 2024-12-23 17:27:05,540] Trial 954 finished with value: 0.7082355470909871 and parameters: {'num_leaves': 148, 'learning_rate': 0.011308627177985624, 'max_depth': 3, 'n_estimators': 116}. Best is trial 188 with value: 0.7308373069278351.\n",
      "[I 2024-12-23 17:27:05,640] Trial 955 finished with value: 0.7144124925510423 and parameters: {'num_leaves': 74, 'learning_rate': 0.01650444208815725, 'max_depth': 3, 'n_estimators': 177}. Best is trial 188 with value: 0.7308373069278351.\n",
      "[I 2024-12-23 17:27:05,737] Trial 956 finished with value: 0.7106664685947205 and parameters: {'num_leaves': 134, 'learning_rate': 0.010036272732229892, 'max_depth': 3, 'n_estimators': 141}. Best is trial 188 with value: 0.7308373069278351.\n",
      "[I 2024-12-23 17:27:05,868] Trial 957 finished with value: 0.7030240643636885 and parameters: {'num_leaves': 85, 'learning_rate': 0.01344105467511465, 'max_depth': 4, 'n_estimators': 338}. Best is trial 188 with value: 0.7308373069278351.\n",
      "[I 2024-12-23 17:27:05,947] Trial 958 finished with value: 0.7106664685947205 and parameters: {'num_leaves': 76, 'learning_rate': 0.014577527509758454, 'max_depth': 3, 'n_estimators': 100}. Best is trial 188 with value: 0.7308373069278351.\n",
      "[I 2024-12-23 17:27:06,051] Trial 959 finished with value: 0.7161475873692498 and parameters: {'num_leaves': 78, 'learning_rate': 0.012445454878008487, 'max_depth': 3, 'n_estimators': 205}. Best is trial 188 with value: 0.7308373069278351.\n",
      "[I 2024-12-23 17:27:06,137] Trial 960 finished with value: 0.7183244250578524 and parameters: {'num_leaves': 53, 'learning_rate': 0.018176108594351596, 'max_depth': 3, 'n_estimators': 126}. Best is trial 188 with value: 0.7308373069278351.\n",
      "[I 2024-12-23 17:27:06,307] Trial 961 finished with value: 0.7033997032152535 and parameters: {'num_leaves': 70, 'learning_rate': 0.015883984220064772, 'max_depth': 7, 'n_estimators': 160}. Best is trial 188 with value: 0.7308373069278351.\n",
      "[I 2024-12-23 17:27:06,389] Trial 962 finished with value: 0.7082355470909871 and parameters: {'num_leaves': 150, 'learning_rate': 0.01144368567554619, 'max_depth': 3, 'n_estimators': 117}. Best is trial 188 with value: 0.7308373069278351.\n",
      "[I 2024-12-23 17:27:06,463] Trial 963 finished with value: 0.7257945973445564 and parameters: {'num_leaves': 37, 'learning_rate': 0.01370064761500484, 'max_depth': 3, 'n_estimators': 145}. Best is trial 188 with value: 0.7308373069278351.\n",
      "[I 2024-12-23 17:27:06,558] Trial 964 finished with value: 0.7134970452817694 and parameters: {'num_leaves': 81, 'learning_rate': 0.015557263294830795, 'max_depth': 3, 'n_estimators': 168}. Best is trial 188 with value: 0.7308373069278351.\n",
      "[I 2024-12-23 17:27:06,623] Trial 965 finished with value: 0.7110964124503167 and parameters: {'num_leaves': 128, 'learning_rate': 0.019601245818804156, 'max_depth': 3, 'n_estimators': 129}. Best is trial 188 with value: 0.7308373069278351.\n",
      "[I 2024-12-23 17:27:06,708] Trial 966 finished with value: 0.6759777141907827 and parameters: {'num_leaves': 32, 'learning_rate': 0.07078485998756939, 'max_depth': 3, 'n_estimators': 148}. Best is trial 188 with value: 0.7308373069278351.\n",
      "[I 2024-12-23 17:27:06,828] Trial 967 finished with value: 0.712889818657954 and parameters: {'num_leaves': 146, 'learning_rate': 0.012821001024000094, 'max_depth': 4, 'n_estimators': 189}. Best is trial 188 with value: 0.7308373069278351.\n",
      "[I 2024-12-23 17:27:06,948] Trial 968 finished with value: 0.7012625247030344 and parameters: {'num_leaves': 72, 'learning_rate': 0.01733293505015355, 'max_depth': 3, 'n_estimators': 397}. Best is trial 188 with value: 0.7308373069278351.\n",
      "[I 2024-12-23 17:27:07,060] Trial 969 finished with value: 0.7140629839733383 and parameters: {'num_leaves': 134, 'learning_rate': 0.011600680120459726, 'max_depth': 3, 'n_estimators': 226}. Best is trial 188 with value: 0.7308373069278351.\n",
      "[I 2024-12-23 17:27:07,149] Trial 970 finished with value: 0.7235943873482853 and parameters: {'num_leaves': 75, 'learning_rate': 0.014695369342666596, 'max_depth': 3, 'n_estimators': 118}. Best is trial 188 with value: 0.7308373069278351.\n",
      "[I 2024-12-23 17:27:07,247] Trial 971 finished with value: 0.7233688640412851 and parameters: {'num_leaves': 27, 'learning_rate': 0.013099455723578004, 'max_depth': 3, 'n_estimators': 136}. Best is trial 188 with value: 0.7308373069278351.\n",
      "[I 2024-12-23 17:27:07,318] Trial 972 finished with value: 0.7113764489079352 and parameters: {'num_leaves': 77, 'learning_rate': 0.01615154887706731, 'max_depth': 3, 'n_estimators': 164}. Best is trial 188 with value: 0.7308373069278351.\n",
      "[I 2024-12-23 17:27:07,427] Trial 973 finished with value: 0.7154469434464065 and parameters: {'num_leaves': 118, 'learning_rate': 0.01130613871733742, 'max_depth': 4, 'n_estimators': 150}. Best is trial 188 with value: 0.7308373069278351.\n",
      "[I 2024-12-23 17:27:07,518] Trial 974 finished with value: 0.7106664685947205 and parameters: {'num_leaves': 83, 'learning_rate': 0.014163856524282085, 'max_depth': 3, 'n_estimators': 100}. Best is trial 188 with value: 0.7308373069278351.\n",
      "[I 2024-12-23 17:27:07,605] Trial 975 finished with value: 0.7110964124503167 and parameters: {'num_leaves': 148, 'learning_rate': 0.01716920525005349, 'max_depth': 3, 'n_estimators': 130}. Best is trial 188 with value: 0.7308373069278351.\n",
      "[I 2024-12-23 17:27:07,691] Trial 976 finished with value: 0.7164334110103853 and parameters: {'num_leaves': 136, 'learning_rate': 0.02088581152806878, 'max_depth': 3, 'n_estimators': 180}. Best is trial 188 with value: 0.7308373069278351.\n",
      "[I 2024-12-23 17:27:07,778] Trial 977 finished with value: 0.7211987622881829 and parameters: {'num_leaves': 131, 'learning_rate': 0.029504211353575324, 'max_depth': 3, 'n_estimators': 116}. Best is trial 188 with value: 0.7308373069278351.\n",
      "[I 2024-12-23 17:27:07,879] Trial 978 finished with value: 0.7053702259330767 and parameters: {'num_leaves': 80, 'learning_rate': 0.013161825892965153, 'max_depth': 4, 'n_estimators': 152}. Best is trial 188 with value: 0.7308373069278351.\n",
      "[I 2024-12-23 17:27:07,968] Trial 979 finished with value: 0.7058134120067128 and parameters: {'num_leaves': 150, 'learning_rate': 0.010128388733202775, 'max_depth': 3, 'n_estimators': 132}. Best is trial 188 with value: 0.7308373069278351.\n",
      "[I 2024-12-23 17:27:08,055] Trial 980 finished with value: 0.7161475873692498 and parameters: {'num_leaves': 73, 'learning_rate': 0.015586188614207578, 'max_depth': 3, 'n_estimators': 166}. Best is trial 188 with value: 0.7308373069278351.\n",
      "[I 2024-12-23 17:27:08,137] Trial 981 finished with value: 0.7137579489457093 and parameters: {'num_leaves': 77, 'learning_rate': 0.018307408697930846, 'max_depth': 3, 'n_estimators': 142}. Best is trial 188 with value: 0.7308373069278351.\n",
      "[I 2024-12-23 17:27:08,261] Trial 982 finished with value: 0.7188118872814561 and parameters: {'num_leaves': 126, 'learning_rate': 0.01416993052817144, 'max_depth': 3, 'n_estimators': 280}. Best is trial 188 with value: 0.7308373069278351.\n",
      "[I 2024-12-23 17:27:08,336] Trial 983 finished with value: 0.7179277298893009 and parameters: {'num_leaves': 145, 'learning_rate': 0.012071205968237839, 'max_depth': 4, 'n_estimators': 115}. Best is trial 188 with value: 0.7308373069278351.\n",
      "[I 2024-12-23 17:27:08,436] Trial 984 finished with value: 0.7157091781779992 and parameters: {'num_leaves': 86, 'learning_rate': 0.015609269677366045, 'max_depth': 3, 'n_estimators': 129}. Best is trial 188 with value: 0.7308373069278351.\n",
      "[I 2024-12-23 17:27:08,520] Trial 985 finished with value: 0.7108598379474175 and parameters: {'num_leaves': 132, 'learning_rate': 0.012959975040655485, 'max_depth': 3, 'n_estimators': 175}. Best is trial 188 with value: 0.7308373069278351.\n",
      "[I 2024-12-23 17:27:08,701] Trial 986 finished with value: 0.698146669124122 and parameters: {'num_leaves': 107, 'learning_rate': 0.0116898838763429, 'max_depth': 9, 'n_estimators': 154}. Best is trial 188 with value: 0.7308373069278351.\n",
      "[I 2024-12-23 17:27:08,787] Trial 987 finished with value: 0.7233688640412851 and parameters: {'num_leaves': 80, 'learning_rate': 0.016706281999036374, 'max_depth': 3, 'n_estimators': 120}. Best is trial 188 with value: 0.7308373069278351.\n",
      "[I 2024-12-23 17:27:08,863] Trial 988 finished with value: 0.7106664685947205 and parameters: {'num_leaves': 90, 'learning_rate': 0.014614665552312505, 'max_depth': 3, 'n_estimators': 100}. Best is trial 188 with value: 0.7308373069278351.\n",
      "[I 2024-12-23 17:27:08,999] Trial 989 finished with value: 0.6962055626005841 and parameters: {'num_leaves': 140, 'learning_rate': 0.019581078932423078, 'max_depth': 3, 'n_estimators': 428}. Best is trial 188 with value: 0.7308373069278351.\n",
      "[I 2024-12-23 17:27:09,089] Trial 990 finished with value: 0.7259991157695321 and parameters: {'num_leaves': 68, 'learning_rate': 0.013844374502014957, 'max_depth': 3, 'n_estimators': 140}. Best is trial 188 with value: 0.7308373069278351.\n",
      "[I 2024-12-23 17:27:09,197] Trial 991 finished with value: 0.7082355470909871 and parameters: {'num_leaves': 75, 'learning_rate': 0.010064263927898193, 'max_depth': 4, 'n_estimators': 194}. Best is trial 188 with value: 0.7308373069278351.\n",
      "[I 2024-12-23 17:27:09,299] Trial 992 finished with value: 0.7110964124503167 and parameters: {'num_leaves': 123, 'learning_rate': 0.01725728269572337, 'max_depth': 3, 'n_estimators': 161}. Best is trial 188 with value: 0.7308373069278351.\n",
      "[I 2024-12-23 17:27:09,399] Trial 993 finished with value: 0.7188118872814561 and parameters: {'num_leaves': 83, 'learning_rate': 0.012469208912431182, 'max_depth': 3, 'n_estimators': 139}. Best is trial 188 with value: 0.7308373069278351.\n",
      "[I 2024-12-23 17:27:09,491] Trial 994 finished with value: 0.7233688640412851 and parameters: {'num_leaves': 147, 'learning_rate': 0.015015725453038127, 'max_depth': 3, 'n_estimators': 115}. Best is trial 188 with value: 0.7308373069278351.\n",
      "[I 2024-12-23 17:27:09,578] Trial 995 finished with value: 0.7080653016050115 and parameters: {'num_leaves': 102, 'learning_rate': 0.012842307985278622, 'max_depth': 4, 'n_estimators': 176}. Best is trial 188 with value: 0.7308373069278351.\n",
      "[I 2024-12-23 17:27:09,668] Trial 996 finished with value: 0.7134970452817694 and parameters: {'num_leaves': 136, 'learning_rate': 0.015163941336690547, 'max_depth': 3, 'n_estimators': 151}. Best is trial 188 with value: 0.7308373069278351.\n",
      "[I 2024-12-23 17:27:09,760] Trial 997 finished with value: 0.7082355470909871 and parameters: {'num_leaves': 24, 'learning_rate': 0.011499075116385062, 'max_depth': 3, 'n_estimators': 128}. Best is trial 188 with value: 0.7308373069278351.\n",
      "[I 2024-12-23 17:27:09,840] Trial 998 finished with value: 0.7231890133289806 and parameters: {'num_leaves': 71, 'learning_rate': 0.018560776783273267, 'max_depth': 3, 'n_estimators': 113}. Best is trial 188 with value: 0.7308373069278351.\n",
      "[I 2024-12-23 17:27:09,938] Trial 999 finished with value: 0.7030240643636885 and parameters: {'num_leaves': 129, 'learning_rate': 0.016747576402508693, 'max_depth': 4, 'n_estimators': 142}. Best is trial 188 with value: 0.7308373069278351.\n"
     ]
    }
   ],
   "source": [
    "study = optuna.create_study(direction='maximize')\n",
    "study.optimize(objective, n_trials=1000)"
   ]
  },
  {
   "cell_type": "code",
   "execution_count": 15,
   "metadata": {},
   "outputs": [
    {
     "name": "stdout",
     "output_type": "stream",
     "text": [
      "{'num_leaves': 148, 'learning_rate': 0.010207755877428068, 'max_depth': 3, 'n_estimators': 186}\n"
     ]
    }
   ],
   "source": [
    "best_params = study.best_params\n",
    "print(best_params)"
   ]
  },
  {
   "cell_type": "code",
   "execution_count": 16,
   "metadata": {},
   "outputs": [],
   "source": [
    "best_params.update({\n",
    "    'objective': 'binary',\n",
    "    'metric': 'binary_logloss',\n",
    "    'boosting_type': 'gbdt',\n",
    "})"
   ]
  },
  {
   "cell_type": "markdown",
   "metadata": {},
   "source": [
    "#### Обучение с лучшими параметрами"
   ]
  },
  {
   "cell_type": "code",
   "execution_count": 17,
   "metadata": {},
   "outputs": [
    {
     "name": "stdout",
     "output_type": "stream",
     "text": [
      "Training until validation scores don't improve for 50 rounds\n",
      "[10]\ttrain's binary_logloss: 0.674266\tvalid's binary_logloss: 0.678678\n",
      "[20]\ttrain's binary_logloss: 0.657982\tvalid's binary_logloss: 0.66623\n",
      "[30]\ttrain's binary_logloss: 0.644061\tvalid's binary_logloss: 0.65573\n",
      "[40]\ttrain's binary_logloss: 0.632032\tvalid's binary_logloss: 0.646854\n",
      "[50]\ttrain's binary_logloss: 0.621436\tvalid's binary_logloss: 0.639611\n",
      "[60]\ttrain's binary_logloss: 0.612153\tvalid's binary_logloss: 0.633503\n",
      "[70]\ttrain's binary_logloss: 0.603926\tvalid's binary_logloss: 0.627939\n",
      "[80]\ttrain's binary_logloss: 0.596468\tvalid's binary_logloss: 0.623316\n",
      "[90]\ttrain's binary_logloss: 0.589607\tvalid's binary_logloss: 0.620328\n",
      "[100]\ttrain's binary_logloss: 0.583217\tvalid's binary_logloss: 0.617306\n",
      "[110]\ttrain's binary_logloss: 0.577404\tvalid's binary_logloss: 0.614691\n",
      "[120]\ttrain's binary_logloss: 0.572131\tvalid's binary_logloss: 0.612431\n",
      "[130]\ttrain's binary_logloss: 0.567175\tvalid's binary_logloss: 0.610491\n",
      "[140]\ttrain's binary_logloss: 0.562436\tvalid's binary_logloss: 0.608894\n",
      "[150]\ttrain's binary_logloss: 0.557941\tvalid's binary_logloss: 0.607598\n",
      "[160]\ttrain's binary_logloss: 0.553811\tvalid's binary_logloss: 0.606654\n",
      "[170]\ttrain's binary_logloss: 0.549865\tvalid's binary_logloss: 0.605095\n",
      "[180]\ttrain's binary_logloss: 0.546322\tvalid's binary_logloss: 0.603721\n",
      "Did not meet early stopping. Best iteration is:\n",
      "[186]\ttrain's binary_logloss: 0.544132\tvalid's binary_logloss: 0.602731\n"
     ]
    }
   ],
   "source": [
    "model_best = lgb.train(\n",
    "    params=best_params,\n",
    "    train_set=train_set,\n",
    "    num_boost_round=500,\n",
    "    valid_sets=[train_set, test_set],\n",
    "    valid_names=['train', 'valid'],\n",
    "    callbacks=[early_stopping_cb, lgb.log_evaluation(10)]\n",
    ")\n",
    "y_pred_best = model_best.predict(X_test)\n",
    "y_pred_binary_best = [1 if prob > 0.5 else 0 for prob in y_pred_best]"
   ]
  },
  {
   "cell_type": "code",
   "execution_count": 18,
   "metadata": {},
   "outputs": [
    {
     "name": "stdout",
     "output_type": "stream",
     "text": [
      "              precision    recall  f1-score   support\n",
      "\n",
      "           0       0.74      0.71      0.73       200\n",
      "           1       0.72      0.75      0.73       197\n",
      "\n",
      "    accuracy                           0.73       397\n",
      "   macro avg       0.73      0.73      0.73       397\n",
      "weighted avg       0.73      0.73      0.73       397\n",
      "\n"
     ]
    }
   ],
   "source": [
    "print(classification_report(y_test, y_pred_binary_best))"
   ]
  }
 ],
 "metadata": {
  "ExecuteTimeLog": [
   {
    "duration": 1476,
    "start_time": "2022-12-27T20:59:27.668Z"
   },
   {
    "duration": 155,
    "start_time": "2022-12-27T20:59:39.941Z"
   },
   {
    "duration": 5,
    "start_time": "2022-12-27T20:59:47.270Z"
   },
   {
    "duration": 9,
    "start_time": "2022-12-27T20:59:56.274Z"
   },
   {
    "duration": 10,
    "start_time": "2022-12-27T21:00:07.599Z"
   },
   {
    "duration": 251,
    "start_time": "2022-12-27T21:00:44.875Z"
   },
   {
    "duration": 301,
    "start_time": "2022-12-27T21:02:13.897Z"
   },
   {
    "duration": 238,
    "start_time": "2022-12-27T21:02:20.849Z"
   },
   {
    "duration": 230,
    "start_time": "2022-12-27T21:02:27.654Z"
   },
   {
    "duration": 217,
    "start_time": "2022-12-27T21:02:38.139Z"
   },
   {
    "duration": 225,
    "start_time": "2022-12-27T21:02:45.905Z"
   },
   {
    "duration": 6,
    "start_time": "2022-12-27T21:10:10.358Z"
   },
   {
    "duration": 111,
    "start_time": "2022-12-27T21:10:12.170Z"
   },
   {
    "duration": 10,
    "start_time": "2022-12-27T21:10:17.463Z"
   },
   {
    "duration": 190,
    "start_time": "2022-12-27T21:11:10.968Z"
   },
   {
    "duration": 291,
    "start_time": "2022-12-27T21:13:12.013Z"
   },
   {
    "duration": 212,
    "start_time": "2022-12-27T21:13:28.727Z"
   },
   {
    "duration": 49,
    "start_time": "2022-12-27T21:13:46.907Z"
   },
   {
    "duration": 227,
    "start_time": "2022-12-27T21:13:50.879Z"
   },
   {
    "duration": 198,
    "start_time": "2022-12-27T21:14:00.906Z"
   },
   {
    "duration": 9,
    "start_time": "2022-12-27T21:14:25.329Z"
   },
   {
    "duration": 11,
    "start_time": "2022-12-27T21:15:04.670Z"
   },
   {
    "duration": 4,
    "start_time": "2022-12-27T21:15:58.509Z"
   },
   {
    "duration": 45,
    "start_time": "2022-12-27T21:16:00.287Z"
   },
   {
    "duration": 570,
    "start_time": "2022-12-27T21:16:04.630Z"
   },
   {
    "duration": 673,
    "start_time": "2022-12-27T21:16:18.508Z"
   },
   {
    "duration": 185,
    "start_time": "2022-12-27T21:16:25.788Z"
   },
   {
    "duration": 10,
    "start_time": "2022-12-27T21:16:31.059Z"
   },
   {
    "duration": 4,
    "start_time": "2022-12-27T21:16:46.980Z"
   },
   {
    "duration": 46,
    "start_time": "2022-12-27T21:16:47.413Z"
   },
   {
    "duration": 193,
    "start_time": "2022-12-27T21:16:50.583Z"
   },
   {
    "duration": 565,
    "start_time": "2022-12-27T21:16:51.306Z"
   },
   {
    "duration": 322,
    "start_time": "2022-12-27T21:16:54.952Z"
   },
   {
    "duration": 17,
    "start_time": "2022-12-27T21:18:46.138Z"
   },
   {
    "duration": 4,
    "start_time": "2022-12-27T21:19:36.140Z"
   },
   {
    "duration": 54,
    "start_time": "2022-12-27T21:19:36.604Z"
   },
   {
    "duration": 17,
    "start_time": "2022-12-27T21:19:42.868Z"
   },
   {
    "duration": 11,
    "start_time": "2022-12-27T21:19:51.255Z"
   },
   {
    "duration": 908,
    "start_time": "2022-12-27T21:21:25.125Z"
   },
   {
    "duration": 854,
    "start_time": "2022-12-27T21:21:59.919Z"
   },
   {
    "duration": 604,
    "start_time": "2022-12-27T22:09:29.827Z"
   },
   {
    "duration": 4,
    "start_time": "2022-12-27T22:24:17.255Z"
   },
   {
    "duration": 180,
    "start_time": "2022-12-27T22:33:52.178Z"
   },
   {
    "duration": 13,
    "start_time": "2022-12-27T22:35:18.869Z"
   },
   {
    "duration": 1354,
    "start_time": "2022-12-27T22:35:33.777Z"
   },
   {
    "duration": 3,
    "start_time": "2022-12-27T22:35:58.195Z"
   },
   {
    "duration": 7,
    "start_time": "2022-12-27T22:42:28.439Z"
   },
   {
    "duration": 249,
    "start_time": "2022-12-27T22:42:55.213Z"
   },
   {
    "duration": 145,
    "start_time": "2022-12-27T22:43:41.490Z"
   },
   {
    "duration": 208,
    "start_time": "2022-12-27T22:44:30.858Z"
   },
   {
    "duration": 239,
    "start_time": "2022-12-27T22:44:39.720Z"
   },
   {
    "duration": 223,
    "start_time": "2022-12-27T22:46:05.941Z"
   },
   {
    "duration": 257,
    "start_time": "2022-12-27T22:46:17.397Z"
   },
   {
    "duration": 139,
    "start_time": "2022-12-27T22:48:20.815Z"
   },
   {
    "duration": 371,
    "start_time": "2022-12-27T22:48:32.951Z"
   },
   {
    "duration": 234,
    "start_time": "2022-12-27T22:48:47.432Z"
   },
   {
    "duration": 285,
    "start_time": "2022-12-27T22:48:52.704Z"
   },
   {
    "duration": 257,
    "start_time": "2022-12-27T22:49:03.428Z"
   },
   {
    "duration": 219,
    "start_time": "2022-12-27T22:49:10.045Z"
   },
   {
    "duration": 223,
    "start_time": "2022-12-27T22:51:01.947Z"
   },
   {
    "duration": 249,
    "start_time": "2022-12-27T22:51:08.221Z"
   },
   {
    "duration": 198,
    "start_time": "2022-12-27T22:51:14.366Z"
   },
   {
    "duration": 324,
    "start_time": "2022-12-27T22:51:22.323Z"
   },
   {
    "duration": 334,
    "start_time": "2022-12-27T22:51:29.307Z"
   },
   {
    "duration": 268,
    "start_time": "2022-12-27T22:51:40.825Z"
   },
   {
    "duration": 278,
    "start_time": "2022-12-27T22:53:34.475Z"
   },
   {
    "duration": 232,
    "start_time": "2022-12-27T22:53:41.738Z"
   },
   {
    "duration": 256,
    "start_time": "2022-12-27T22:55:28.586Z"
   },
   {
    "duration": 12,
    "start_time": "2022-12-27T22:58:01.676Z"
   },
   {
    "duration": 311,
    "start_time": "2022-12-27T23:00:06.345Z"
   },
   {
    "duration": 248,
    "start_time": "2022-12-27T23:00:20.531Z"
   },
   {
    "duration": 262,
    "start_time": "2022-12-27T23:00:28.305Z"
   },
   {
    "duration": 224,
    "start_time": "2022-12-27T23:04:48.552Z"
   },
   {
    "duration": 809,
    "start_time": "2022-12-27T23:05:15.162Z"
   },
   {
    "duration": 4083,
    "start_time": "2022-12-27T23:05:21.044Z"
   },
   {
    "duration": 2633,
    "start_time": "2022-12-27T23:05:40.005Z"
   },
   {
    "duration": 485,
    "start_time": "2022-12-27T23:05:50.400Z"
   },
   {
    "duration": 2796,
    "start_time": "2022-12-27T23:06:04.279Z"
   },
   {
    "duration": 4181,
    "start_time": "2022-12-27T23:06:15.504Z"
   },
   {
    "duration": 13595,
    "start_time": "2022-12-27T23:06:39.665Z"
   },
   {
    "duration": 12296,
    "start_time": "2022-12-27T23:07:08.504Z"
   },
   {
    "duration": 16729,
    "start_time": "2022-12-27T23:07:31.688Z"
   },
   {
    "duration": 154,
    "start_time": "2022-12-27T23:09:00.171Z"
   },
   {
    "duration": 115,
    "start_time": "2022-12-27T23:12:07.259Z"
   },
   {
    "duration": 125,
    "start_time": "2022-12-27T23:12:18.931Z"
   },
   {
    "duration": 15979,
    "start_time": "2022-12-27T23:13:03.020Z"
   },
   {
    "duration": 15160,
    "start_time": "2022-12-27T23:13:56.747Z"
   },
   {
    "duration": 103,
    "start_time": "2022-12-27T23:16:38.869Z"
   },
   {
    "duration": 6,
    "start_time": "2022-12-27T23:19:38.702Z"
   },
   {
    "duration": 562,
    "start_time": "2022-12-27T23:20:11.377Z"
   },
   {
    "duration": 333,
    "start_time": "2022-12-27T23:20:23.202Z"
   },
   {
    "duration": 306,
    "start_time": "2022-12-27T23:20:28.766Z"
   },
   {
    "duration": 250,
    "start_time": "2022-12-27T23:20:35.950Z"
   },
   {
    "duration": 299,
    "start_time": "2022-12-27T23:20:44.113Z"
   },
   {
    "duration": 297,
    "start_time": "2022-12-27T23:22:22.309Z"
   },
   {
    "duration": 266,
    "start_time": "2022-12-27T23:22:32.717Z"
   },
   {
    "duration": 271,
    "start_time": "2022-12-27T23:22:42.111Z"
   },
   {
    "duration": 242,
    "start_time": "2022-12-27T23:23:17.441Z"
   },
   {
    "duration": 1624,
    "start_time": "2022-12-27T23:43:25.099Z"
   },
   {
    "duration": 73,
    "start_time": "2022-12-27T23:55:23.216Z"
   },
   {
    "duration": 74,
    "start_time": "2022-12-27T23:55:33.823Z"
   },
   {
    "duration": 2544,
    "start_time": "2022-12-27T23:55:41.773Z"
   },
   {
    "duration": 12,
    "start_time": "2022-12-28T10:21:28.967Z"
   },
   {
    "duration": 6,
    "start_time": "2022-12-28T10:22:49.697Z"
   },
   {
    "duration": 6,
    "start_time": "2022-12-28T10:22:56.388Z"
   },
   {
    "duration": 45,
    "start_time": "2022-12-28T10:29:13.608Z"
   },
   {
    "duration": 7,
    "start_time": "2022-12-28T10:29:36.229Z"
   },
   {
    "duration": 1992,
    "start_time": "2022-12-28T10:29:44.214Z"
   },
   {
    "duration": 199,
    "start_time": "2022-12-28T10:29:46.209Z"
   },
   {
    "duration": 7,
    "start_time": "2022-12-28T10:29:46.411Z"
   },
   {
    "duration": 16,
    "start_time": "2022-12-28T10:29:46.420Z"
   },
   {
    "duration": 24,
    "start_time": "2022-12-28T10:29:46.438Z"
   },
   {
    "duration": 5,
    "start_time": "2022-12-28T10:29:46.728Z"
   },
   {
    "duration": 12,
    "start_time": "2022-12-28T10:29:47.033Z"
   },
   {
    "duration": 293,
    "start_time": "2022-12-28T10:29:47.293Z"
   },
   {
    "duration": 261,
    "start_time": "2022-12-28T10:29:47.588Z"
   },
   {
    "duration": 663,
    "start_time": "2022-12-28T10:29:47.851Z"
   },
   {
    "duration": 6,
    "start_time": "2022-12-28T10:29:48.516Z"
   },
   {
    "duration": 999,
    "start_time": "2022-12-28T10:29:48.524Z"
   },
   {
    "duration": 603,
    "start_time": "2022-12-28T10:29:49.525Z"
   },
   {
    "duration": 1524,
    "start_time": "2022-12-28T10:29:50.180Z"
   },
   {
    "duration": 379,
    "start_time": "2022-12-28T10:29:51.798Z"
   },
   {
    "duration": 9,
    "start_time": "2022-12-28T10:29:54.141Z"
   },
   {
    "duration": 120,
    "start_time": "2022-12-28T10:29:54.813Z"
   },
   {
    "duration": 7,
    "start_time": "2022-12-28T10:31:01.292Z"
   },
   {
    "duration": 32,
    "start_time": "2022-12-28T10:31:02.773Z"
   },
   {
    "duration": 3,
    "start_time": "2022-12-28T10:34:58.971Z"
   },
   {
    "duration": 7,
    "start_time": "2022-12-28T10:34:59.392Z"
   },
   {
    "duration": 33,
    "start_time": "2022-12-28T10:35:00.879Z"
   },
   {
    "duration": 34,
    "start_time": "2022-12-28T10:35:08.827Z"
   },
   {
    "duration": 38,
    "start_time": "2022-12-28T10:42:04.013Z"
   },
   {
    "duration": 35,
    "start_time": "2022-12-28T10:42:04.545Z"
   },
   {
    "duration": 15,
    "start_time": "2022-12-28T10:43:35.918Z"
   },
   {
    "duration": 29,
    "start_time": "2022-12-28T10:43:51.209Z"
   },
   {
    "duration": 6,
    "start_time": "2022-12-28T10:45:53.457Z"
   },
   {
    "duration": 29,
    "start_time": "2022-12-28T10:45:54.670Z"
   },
   {
    "duration": 34,
    "start_time": "2022-12-28T10:45:55.310Z"
   },
   {
    "duration": 384,
    "start_time": "2022-12-28T10:46:02.908Z"
   },
   {
    "duration": 378,
    "start_time": "2022-12-28T10:46:29.247Z"
   },
   {
    "duration": 3,
    "start_time": "2022-12-28T10:48:11.874Z"
   },
   {
    "duration": 6,
    "start_time": "2022-12-28T10:48:14.968Z"
   },
   {
    "duration": 28,
    "start_time": "2022-12-28T10:48:15.605Z"
   },
   {
    "duration": 34,
    "start_time": "2022-12-28T10:48:16.305Z"
   },
   {
    "duration": 3,
    "start_time": "2022-12-28T10:55:15.361Z"
   },
   {
    "duration": 136,
    "start_time": "2022-12-28T10:56:51.965Z"
   },
   {
    "duration": 187,
    "start_time": "2022-12-28T10:58:44.212Z"
   },
   {
    "duration": 6,
    "start_time": "2022-12-28T10:58:44.774Z"
   },
   {
    "duration": 197,
    "start_time": "2022-12-28T10:58:52.435Z"
   },
   {
    "duration": 39,
    "start_time": "2022-12-28T11:03:53.062Z"
   },
   {
    "duration": 22,
    "start_time": "2022-12-28T11:04:11.914Z"
   },
   {
    "duration": 10,
    "start_time": "2022-12-28T11:04:15.570Z"
   },
   {
    "duration": 5,
    "start_time": "2022-12-28T11:04:16.029Z"
   },
   {
    "duration": 31,
    "start_time": "2022-12-28T11:04:45.380Z"
   },
   {
    "duration": 51,
    "start_time": "2022-12-28T11:04:53.153Z"
   },
   {
    "duration": 14,
    "start_time": "2022-12-28T11:05:22.215Z"
   },
   {
    "duration": 37,
    "start_time": "2022-12-28T11:05:22.779Z"
   },
   {
    "duration": 6,
    "start_time": "2022-12-28T11:05:50.510Z"
   },
   {
    "duration": 39,
    "start_time": "2022-12-28T11:05:57.777Z"
   },
   {
    "duration": 149,
    "start_time": "2022-12-28T13:41:14.437Z"
   },
   {
    "duration": 9,
    "start_time": "2022-12-28T13:41:27.534Z"
   },
   {
    "duration": 481,
    "start_time": "2022-12-28T13:42:01.231Z"
   },
   {
    "duration": 420,
    "start_time": "2022-12-28T13:42:38.426Z"
   },
   {
    "duration": 7,
    "start_time": "2022-12-28T13:43:06.822Z"
   },
   {
    "duration": 12,
    "start_time": "2022-12-28T13:43:08.127Z"
   },
   {
    "duration": 8,
    "start_time": "2022-12-28T13:43:20.867Z"
   },
   {
    "duration": 5,
    "start_time": "2022-12-28T13:43:21.276Z"
   },
   {
    "duration": 137,
    "start_time": "2022-12-28T13:43:39.860Z"
   },
   {
    "duration": 5,
    "start_time": "2022-12-28T13:43:40.355Z"
   },
   {
    "duration": 4,
    "start_time": "2022-12-28T13:44:35.850Z"
   },
   {
    "duration": 69,
    "start_time": "2022-12-28T13:44:40.345Z"
   },
   {
    "duration": 5,
    "start_time": "2022-12-28T13:44:40.929Z"
   },
   {
    "duration": 7,
    "start_time": "2022-12-28T13:45:24.743Z"
   },
   {
    "duration": 15,
    "start_time": "2022-12-28T13:45:56.572Z"
   },
   {
    "duration": 12,
    "start_time": "2022-12-28T13:46:06.638Z"
   },
   {
    "duration": 16,
    "start_time": "2022-12-28T13:46:18.684Z"
   },
   {
    "duration": 5,
    "start_time": "2022-12-28T13:46:40.836Z"
   },
   {
    "duration": 63,
    "start_time": "2022-12-28T13:46:41.225Z"
   },
   {
    "duration": 5,
    "start_time": "2022-12-28T13:46:41.532Z"
   },
   {
    "duration": 10,
    "start_time": "2022-12-28T13:46:41.755Z"
   },
   {
    "duration": 11,
    "start_time": "2022-12-28T13:46:41.981Z"
   },
   {
    "duration": 5,
    "start_time": "2022-12-28T13:46:42.929Z"
   },
   {
    "duration": 24,
    "start_time": "2022-12-28T13:46:43.184Z"
   },
   {
    "duration": 266,
    "start_time": "2022-12-28T13:46:43.440Z"
   },
   {
    "duration": 303,
    "start_time": "2022-12-28T13:46:43.760Z"
   },
   {
    "duration": 785,
    "start_time": "2022-12-28T13:46:44.066Z"
   },
   {
    "duration": 7,
    "start_time": "2022-12-28T13:46:44.853Z"
   },
   {
    "duration": 918,
    "start_time": "2022-12-28T13:46:44.862Z"
   },
   {
    "duration": 684,
    "start_time": "2022-12-28T13:46:45.783Z"
   },
   {
    "duration": 4650,
    "start_time": "2022-12-28T13:46:46.469Z"
   },
   {
    "duration": 388,
    "start_time": "2022-12-28T13:46:51.201Z"
   },
   {
    "duration": 4,
    "start_time": "2022-12-28T13:46:51.592Z"
   },
   {
    "duration": 26,
    "start_time": "2022-12-28T13:46:51.598Z"
   },
   {
    "duration": 9,
    "start_time": "2022-12-28T13:46:51.626Z"
   },
   {
    "duration": 36,
    "start_time": "2022-12-28T13:46:51.636Z"
   },
   {
    "duration": 37,
    "start_time": "2022-12-28T13:46:51.861Z"
   },
   {
    "duration": 34,
    "start_time": "2022-12-28T13:46:53.569Z"
   },
   {
    "duration": 44,
    "start_time": "2022-12-28T13:46:54.671Z"
   },
   {
    "duration": 29,
    "start_time": "2022-12-28T13:47:01.821Z"
   },
   {
    "duration": 68,
    "start_time": "2022-12-28T13:47:09.332Z"
   },
   {
    "duration": 6,
    "start_time": "2022-12-28T13:47:10.081Z"
   },
   {
    "duration": 197,
    "start_time": "2022-12-28T13:47:12.844Z"
   },
   {
    "duration": 26,
    "start_time": "2022-12-28T13:47:29.334Z"
   },
   {
    "duration": 1919,
    "start_time": "2022-12-28T13:55:56.715Z"
   },
   {
    "duration": 54,
    "start_time": "2022-12-28T13:55:58.636Z"
   },
   {
    "duration": 6,
    "start_time": "2022-12-28T13:55:58.691Z"
   },
   {
    "duration": 16,
    "start_time": "2022-12-28T13:55:58.700Z"
   },
   {
    "duration": 38,
    "start_time": "2022-12-28T13:55:58.718Z"
   },
   {
    "duration": 6,
    "start_time": "2022-12-28T13:55:59.150Z"
   },
   {
    "duration": 18,
    "start_time": "2022-12-28T13:55:59.437Z"
   },
   {
    "duration": 299,
    "start_time": "2022-12-28T13:55:59.724Z"
   },
   {
    "duration": 283,
    "start_time": "2022-12-28T13:56:00.025Z"
   },
   {
    "duration": 700,
    "start_time": "2022-12-28T13:56:00.310Z"
   },
   {
    "duration": 8,
    "start_time": "2022-12-28T13:56:01.012Z"
   },
   {
    "duration": 1063,
    "start_time": "2022-12-28T13:56:01.022Z"
   },
   {
    "duration": 689,
    "start_time": "2022-12-28T13:56:02.088Z"
   },
   {
    "duration": 1231,
    "start_time": "2022-12-28T13:56:02.779Z"
   },
   {
    "duration": 285,
    "start_time": "2022-12-28T13:56:07.625Z"
   },
   {
    "duration": 3,
    "start_time": "2022-12-28T13:56:10.521Z"
   },
   {
    "duration": 4,
    "start_time": "2022-12-28T13:56:10.999Z"
   },
   {
    "duration": 6,
    "start_time": "2022-12-28T13:56:13.109Z"
   },
   {
    "duration": 26,
    "start_time": "2022-12-28T13:56:14.193Z"
   },
   {
    "duration": 47,
    "start_time": "2022-12-28T13:56:15.113Z"
   },
   {
    "duration": 34,
    "start_time": "2022-12-28T13:56:19.369Z"
   },
   {
    "duration": 25,
    "start_time": "2022-12-28T13:56:19.968Z"
   },
   {
    "duration": 27,
    "start_time": "2022-12-28T13:56:27.425Z"
   },
   {
    "duration": 123,
    "start_time": "2022-12-28T13:56:30.685Z"
   },
   {
    "duration": 5,
    "start_time": "2022-12-28T13:56:31.158Z"
   },
   {
    "duration": 10,
    "start_time": "2022-12-28T21:28:18.398Z"
   },
   {
    "duration": 51,
    "start_time": "2022-12-28T21:28:19.484Z"
   },
   {
    "duration": 1987,
    "start_time": "2022-12-28T21:28:29.780Z"
   },
   {
    "duration": 112,
    "start_time": "2022-12-28T21:28:31.769Z"
   },
   {
    "duration": 5,
    "start_time": "2022-12-28T21:28:31.883Z"
   },
   {
    "duration": 11,
    "start_time": "2022-12-28T21:28:31.889Z"
   },
   {
    "duration": 10,
    "start_time": "2022-12-28T21:28:32.182Z"
   },
   {
    "duration": 4,
    "start_time": "2022-12-28T21:28:33.840Z"
   },
   {
    "duration": 12,
    "start_time": "2022-12-28T21:28:34.224Z"
   },
   {
    "duration": 377,
    "start_time": "2022-12-28T21:28:34.644Z"
   },
   {
    "duration": 231,
    "start_time": "2022-12-28T21:28:35.074Z"
   },
   {
    "duration": 645,
    "start_time": "2022-12-28T21:28:35.476Z"
   },
   {
    "duration": 7,
    "start_time": "2022-12-28T21:28:36.124Z"
   },
   {
    "duration": 957,
    "start_time": "2022-12-28T21:28:36.299Z"
   },
   {
    "duration": 562,
    "start_time": "2022-12-28T21:28:37.487Z"
   },
   {
    "duration": 1767,
    "start_time": "2022-12-28T21:28:38.916Z"
   },
   {
    "duration": 269,
    "start_time": "2022-12-28T21:28:41.300Z"
   },
   {
    "duration": 3,
    "start_time": "2022-12-28T21:28:44.084Z"
   },
   {
    "duration": 2,
    "start_time": "2022-12-28T21:28:44.640Z"
   },
   {
    "duration": 6,
    "start_time": "2022-12-28T21:28:45.691Z"
   },
   {
    "duration": 807,
    "start_time": "2022-12-28T21:28:47.344Z"
   },
   {
    "duration": 1681,
    "start_time": "2022-12-28T21:31:33.847Z"
   },
   {
    "duration": 67,
    "start_time": "2022-12-28T21:31:35.530Z"
   },
   {
    "duration": 5,
    "start_time": "2022-12-28T21:31:35.599Z"
   },
   {
    "duration": 10,
    "start_time": "2022-12-28T21:31:35.606Z"
   },
   {
    "duration": 10,
    "start_time": "2022-12-28T21:31:35.618Z"
   },
   {
    "duration": 5,
    "start_time": "2022-12-28T21:31:36.320Z"
   },
   {
    "duration": 12,
    "start_time": "2022-12-28T21:31:36.528Z"
   },
   {
    "duration": 239,
    "start_time": "2022-12-28T21:31:36.751Z"
   },
   {
    "duration": 210,
    "start_time": "2022-12-28T21:31:36.991Z"
   },
   {
    "duration": 599,
    "start_time": "2022-12-28T21:31:37.202Z"
   },
   {
    "duration": 6,
    "start_time": "2022-12-28T21:31:37.803Z"
   },
   {
    "duration": 891,
    "start_time": "2022-12-28T21:31:37.810Z"
   },
   {
    "duration": 567,
    "start_time": "2022-12-28T21:31:38.702Z"
   },
   {
    "duration": 3205,
    "start_time": "2022-12-28T21:31:39.271Z"
   },
   {
    "duration": 404,
    "start_time": "2022-12-28T21:31:42.480Z"
   },
   {
    "duration": 4,
    "start_time": "2022-12-28T21:31:43.054Z"
   },
   {
    "duration": 3,
    "start_time": "2022-12-28T21:31:43.871Z"
   },
   {
    "duration": 9,
    "start_time": "2022-12-28T21:31:45.417Z"
   },
   {
    "duration": 828,
    "start_time": "2022-12-28T21:31:48.863Z"
   },
   {
    "duration": 5,
    "start_time": "2022-12-28T21:32:24.050Z"
   },
   {
    "duration": 894,
    "start_time": "2022-12-28T21:32:26.546Z"
   },
   {
    "duration": 7,
    "start_time": "2022-12-28T21:33:00.071Z"
   },
   {
    "duration": 752,
    "start_time": "2022-12-28T21:33:00.983Z"
   },
   {
    "duration": 9,
    "start_time": "2022-12-28T21:33:34.884Z"
   },
   {
    "duration": 26,
    "start_time": "2022-12-28T21:33:35.419Z"
   },
   {
    "duration": 42,
    "start_time": "2022-12-28T21:33:38.917Z"
   },
   {
    "duration": 6,
    "start_time": "2022-12-28T21:33:50.924Z"
   },
   {
    "duration": 705,
    "start_time": "2022-12-28T21:33:51.452Z"
   },
   {
    "duration": 6,
    "start_time": "2022-12-28T21:37:18.881Z"
   },
   {
    "duration": 710,
    "start_time": "2022-12-28T21:37:19.528Z"
   },
   {
    "duration": 5,
    "start_time": "2022-12-28T21:39:04.263Z"
   },
   {
    "duration": 774,
    "start_time": "2022-12-28T21:39:04.819Z"
   },
   {
    "duration": 4,
    "start_time": "2022-12-28T21:42:00.635Z"
   },
   {
    "duration": 4,
    "start_time": "2022-12-28T21:44:24.574Z"
   },
   {
    "duration": 27,
    "start_time": "2022-12-28T21:44:25.370Z"
   },
   {
    "duration": 35,
    "start_time": "2022-12-28T21:44:33.164Z"
   },
   {
    "duration": 4,
    "start_time": "2022-12-28T21:45:17.179Z"
   },
   {
    "duration": 20,
    "start_time": "2022-12-28T21:45:17.738Z"
   },
   {
    "duration": 31,
    "start_time": "2022-12-28T21:45:21.939Z"
   },
   {
    "duration": 1701,
    "start_time": "2022-12-28T21:45:45.875Z"
   },
   {
    "duration": 56,
    "start_time": "2022-12-28T21:45:47.578Z"
   },
   {
    "duration": 6,
    "start_time": "2022-12-28T21:45:47.636Z"
   },
   {
    "duration": 11,
    "start_time": "2022-12-28T21:45:47.644Z"
   },
   {
    "duration": 20,
    "start_time": "2022-12-28T21:45:47.656Z"
   },
   {
    "duration": 5,
    "start_time": "2022-12-28T21:45:47.678Z"
   },
   {
    "duration": 14,
    "start_time": "2022-12-28T21:45:47.842Z"
   },
   {
    "duration": 259,
    "start_time": "2022-12-28T21:45:48.020Z"
   },
   {
    "duration": 231,
    "start_time": "2022-12-28T21:45:48.281Z"
   },
   {
    "duration": 667,
    "start_time": "2022-12-28T21:45:48.514Z"
   },
   {
    "duration": 7,
    "start_time": "2022-12-28T21:45:49.183Z"
   },
   {
    "duration": 909,
    "start_time": "2022-12-28T21:45:49.192Z"
   },
   {
    "duration": 538,
    "start_time": "2022-12-28T21:45:50.103Z"
   },
   {
    "duration": 3737,
    "start_time": "2022-12-28T21:45:50.643Z"
   },
   {
    "duration": 367,
    "start_time": "2022-12-28T21:45:54.384Z"
   },
   {
    "duration": 4,
    "start_time": "2022-12-28T21:45:54.753Z"
   },
   {
    "duration": 27,
    "start_time": "2022-12-28T21:45:54.759Z"
   },
   {
    "duration": 4,
    "start_time": "2022-12-28T21:45:58.332Z"
   },
   {
    "duration": 31,
    "start_time": "2022-12-28T21:45:58.924Z"
   },
   {
    "duration": 50,
    "start_time": "2022-12-28T21:46:04.893Z"
   },
   {
    "duration": 149,
    "start_time": "2022-12-28T21:46:31.641Z"
   },
   {
    "duration": 5,
    "start_time": "2022-12-28T21:47:08.141Z"
   },
   {
    "duration": 29,
    "start_time": "2022-12-28T21:47:08.773Z"
   },
   {
    "duration": 1685,
    "start_time": "2022-12-28T21:49:30.168Z"
   },
   {
    "duration": 47,
    "start_time": "2022-12-28T21:49:31.854Z"
   },
   {
    "duration": 6,
    "start_time": "2022-12-28T21:49:31.903Z"
   },
   {
    "duration": 89,
    "start_time": "2022-12-28T21:49:31.910Z"
   },
   {
    "duration": 72,
    "start_time": "2022-12-28T21:49:32.000Z"
   },
   {
    "duration": 61,
    "start_time": "2022-12-28T21:49:32.074Z"
   },
   {
    "duration": 67,
    "start_time": "2022-12-28T21:49:32.137Z"
   },
   {
    "duration": 249,
    "start_time": "2022-12-28T21:49:32.635Z"
   },
   {
    "duration": 216,
    "start_time": "2022-12-28T21:49:32.885Z"
   },
   {
    "duration": 614,
    "start_time": "2022-12-28T21:49:33.103Z"
   },
   {
    "duration": 6,
    "start_time": "2022-12-28T21:49:33.719Z"
   },
   {
    "duration": 879,
    "start_time": "2022-12-28T21:49:33.727Z"
   },
   {
    "duration": 607,
    "start_time": "2022-12-28T21:49:34.608Z"
   },
   {
    "duration": 2060,
    "start_time": "2022-12-28T21:49:35.217Z"
   },
   {
    "duration": 362,
    "start_time": "2022-12-28T21:49:37.285Z"
   },
   {
    "duration": 3,
    "start_time": "2022-12-28T21:49:41.004Z"
   },
   {
    "duration": 3,
    "start_time": "2022-12-28T21:49:41.533Z"
   },
   {
    "duration": 6,
    "start_time": "2022-12-28T21:49:42.272Z"
   },
   {
    "duration": 35,
    "start_time": "2022-12-28T21:49:48.333Z"
   },
   {
    "duration": 31,
    "start_time": "2022-12-28T21:50:56.933Z"
   },
   {
    "duration": 32,
    "start_time": "2022-12-28T21:51:40.833Z"
   },
   {
    "duration": 26,
    "start_time": "2022-12-28T21:51:42.133Z"
   },
   {
    "duration": 18,
    "start_time": "2022-12-28T21:52:07.576Z"
   },
   {
    "duration": 43,
    "start_time": "2022-12-28T21:52:08.221Z"
   },
   {
    "duration": 97,
    "start_time": "2022-12-28T21:52:22.880Z"
   },
   {
    "duration": 7,
    "start_time": "2022-12-28T21:52:24.069Z"
   },
   {
    "duration": 131,
    "start_time": "2022-12-28T21:52:26.683Z"
   },
   {
    "duration": 189,
    "start_time": "2022-12-28T21:53:19.441Z"
   },
   {
    "duration": 25,
    "start_time": "2022-12-28T21:53:40.662Z"
   },
   {
    "duration": 25,
    "start_time": "2022-12-28T21:53:45.458Z"
   },
   {
    "duration": 5,
    "start_time": "2022-12-28T21:53:46.286Z"
   },
   {
    "duration": 196,
    "start_time": "2022-12-28T21:53:47.647Z"
   },
   {
    "duration": 1688,
    "start_time": "2022-12-28T21:54:37.762Z"
   },
   {
    "duration": 50,
    "start_time": "2022-12-28T21:54:39.451Z"
   },
   {
    "duration": 6,
    "start_time": "2022-12-28T21:54:39.502Z"
   },
   {
    "duration": 29,
    "start_time": "2022-12-28T21:54:39.509Z"
   },
   {
    "duration": 25,
    "start_time": "2022-12-28T21:54:39.540Z"
   },
   {
    "duration": 4,
    "start_time": "2022-12-28T21:54:40.899Z"
   },
   {
    "duration": 12,
    "start_time": "2022-12-28T21:54:41.172Z"
   },
   {
    "duration": 241,
    "start_time": "2022-12-28T21:54:41.478Z"
   },
   {
    "duration": 228,
    "start_time": "2022-12-28T21:54:41.854Z"
   },
   {
    "duration": 618,
    "start_time": "2022-12-28T21:54:42.191Z"
   },
   {
    "duration": 7,
    "start_time": "2022-12-28T21:54:42.811Z"
   },
   {
    "duration": 903,
    "start_time": "2022-12-28T21:54:42.934Z"
   },
   {
    "duration": 577,
    "start_time": "2022-12-28T21:54:43.839Z"
   },
   {
    "duration": 2178,
    "start_time": "2022-12-28T21:54:44.899Z"
   },
   {
    "duration": 364,
    "start_time": "2022-12-28T21:54:47.080Z"
   },
   {
    "duration": 3,
    "start_time": "2022-12-28T21:54:47.502Z"
   },
   {
    "duration": 3,
    "start_time": "2022-12-28T21:54:47.886Z"
   },
   {
    "duration": 4,
    "start_time": "2022-12-28T21:54:48.295Z"
   },
   {
    "duration": 30,
    "start_time": "2022-12-28T21:54:48.687Z"
   },
   {
    "duration": 32,
    "start_time": "2022-12-28T21:54:49.360Z"
   },
   {
    "duration": 31,
    "start_time": "2022-12-28T21:54:50.971Z"
   },
   {
    "duration": 42,
    "start_time": "2022-12-28T21:55:00.537Z"
   },
   {
    "duration": 28,
    "start_time": "2022-12-28T21:55:16.272Z"
   },
   {
    "duration": 14,
    "start_time": "2022-12-28T21:56:09.001Z"
   },
   {
    "duration": 26,
    "start_time": "2022-12-28T21:56:09.585Z"
   },
   {
    "duration": 21,
    "start_time": "2022-12-28T21:56:15.368Z"
   },
   {
    "duration": 6,
    "start_time": "2022-12-28T21:56:15.936Z"
   },
   {
    "duration": 176,
    "start_time": "2022-12-28T21:56:17.813Z"
   },
   {
    "duration": 84,
    "start_time": "2022-12-28T21:56:58.994Z"
   },
   {
    "duration": 6,
    "start_time": "2022-12-28T21:57:00.073Z"
   },
   {
    "duration": 197,
    "start_time": "2022-12-28T21:57:03.154Z"
   },
   {
    "duration": 58,
    "start_time": "2022-12-28T21:59:51.725Z"
   },
   {
    "duration": 5,
    "start_time": "2022-12-28T21:59:54.201Z"
   },
   {
    "duration": 142,
    "start_time": "2022-12-28T22:01:47.604Z"
   },
   {
    "duration": 181,
    "start_time": "2022-12-28T22:03:31.526Z"
   },
   {
    "duration": 15,
    "start_time": "2022-12-28T22:03:55.047Z"
   },
   {
    "duration": 21,
    "start_time": "2022-12-28T22:05:52.956Z"
   },
   {
    "duration": 34,
    "start_time": "2022-12-28T22:05:53.600Z"
   },
   {
    "duration": 35,
    "start_time": "2022-12-28T22:05:56.734Z"
   },
   {
    "duration": 27,
    "start_time": "2022-12-28T22:05:57.578Z"
   },
   {
    "duration": 199,
    "start_time": "2022-12-28T22:05:59.578Z"
   },
   {
    "duration": 6,
    "start_time": "2022-12-28T22:06:01.962Z"
   },
   {
    "duration": 170,
    "start_time": "2022-12-28T22:06:11.850Z"
   },
   {
    "duration": 2,
    "start_time": "2022-12-28T22:07:01.007Z"
   },
   {
    "duration": 3,
    "start_time": "2022-12-28T22:07:21.325Z"
   },
   {
    "duration": 4,
    "start_time": "2022-12-28T22:07:33.251Z"
   },
   {
    "duration": 26243,
    "start_time": "2022-12-28T22:08:06.883Z"
   },
   {
    "duration": 4,
    "start_time": "2022-12-28T22:10:30.472Z"
   },
   {
    "duration": 2,
    "start_time": "2022-12-28T22:10:44.225Z"
   },
   {
    "duration": 3,
    "start_time": "2022-12-28T22:10:58.750Z"
   },
   {
    "duration": 93,
    "start_time": "2022-12-28T22:11:14.438Z"
   },
   {
    "duration": 21,
    "start_time": "2022-12-28T22:11:29.478Z"
   },
   {
    "duration": 6,
    "start_time": "2022-12-28T22:11:57.018Z"
   },
   {
    "duration": 183,
    "start_time": "2022-12-28T22:12:33.823Z"
   },
   {
    "duration": 171,
    "start_time": "2022-12-28T22:12:57.996Z"
   },
   {
    "duration": 27,
    "start_time": "2022-12-28T22:13:18.126Z"
   },
   {
    "duration": 26,
    "start_time": "2022-12-28T22:13:27.409Z"
   },
   {
    "duration": 6,
    "start_time": "2022-12-28T22:13:54.493Z"
   },
   {
    "duration": 6,
    "start_time": "2022-12-28T22:14:09.045Z"
   },
   {
    "duration": 22,
    "start_time": "2022-12-28T22:15:02.089Z"
   },
   {
    "duration": 6,
    "start_time": "2022-12-28T22:15:02.831Z"
   },
   {
    "duration": 5,
    "start_time": "2022-12-28T22:15:50.263Z"
   },
   {
    "duration": 23,
    "start_time": "2022-12-28T22:15:59.200Z"
   },
   {
    "duration": 6,
    "start_time": "2022-12-28T22:15:59.784Z"
   },
   {
    "duration": 140,
    "start_time": "2022-12-28T22:16:11.236Z"
   },
   {
    "duration": 5,
    "start_time": "2022-12-28T22:16:12.152Z"
   },
   {
    "duration": 79821,
    "start_time": "2022-12-28T22:17:02.361Z"
   },
   {
    "duration": 81606,
    "start_time": "2022-12-28T22:18:22.184Z"
   },
   {
    "duration": 84,
    "start_time": "2022-12-28T22:19:43.793Z"
   },
   {
    "duration": 8,
    "start_time": "2022-12-28T22:19:43.879Z"
   },
   {
    "duration": 8,
    "start_time": "2022-12-28T22:19:43.889Z"
   },
   {
    "duration": 71,
    "start_time": "2022-12-28T22:19:43.898Z"
   },
   {
    "duration": 16,
    "start_time": "2022-12-28T22:20:52.136Z"
   },
   {
    "duration": 6,
    "start_time": "2022-12-28T22:21:30.951Z"
   },
   {
    "duration": 196,
    "start_time": "2022-12-28T22:22:11.146Z"
   },
   {
    "duration": 2,
    "start_time": "2022-12-28T22:26:16.038Z"
   },
   {
    "duration": 4,
    "start_time": "2022-12-28T22:26:16.898Z"
   },
   {
    "duration": 29238,
    "start_time": "2022-12-28T22:26:18.153Z"
   },
   {
    "duration": 3,
    "start_time": "2022-12-28T22:26:47.393Z"
   },
   {
    "duration": 6,
    "start_time": "2022-12-28T22:26:47.397Z"
   },
   {
    "duration": 8,
    "start_time": "2022-12-28T22:26:47.405Z"
   },
   {
    "duration": 23,
    "start_time": "2022-12-28T22:26:47.414Z"
   },
   {
    "duration": 4,
    "start_time": "2022-12-28T22:26:47.439Z"
   },
   {
    "duration": 209,
    "start_time": "2022-12-28T22:26:47.445Z"
   },
   {
    "duration": 2,
    "start_time": "2022-12-28T22:28:51.254Z"
   },
   {
    "duration": 4,
    "start_time": "2022-12-28T22:28:51.934Z"
   },
   {
    "duration": 58405,
    "start_time": "2022-12-28T22:28:52.621Z"
   },
   {
    "duration": 4,
    "start_time": "2022-12-28T22:29:51.027Z"
   },
   {
    "duration": 17,
    "start_time": "2022-12-28T22:29:51.032Z"
   },
   {
    "duration": 7,
    "start_time": "2022-12-28T22:29:51.051Z"
   },
   {
    "duration": 44,
    "start_time": "2022-12-28T22:29:51.060Z"
   },
   {
    "duration": 6,
    "start_time": "2022-12-28T22:29:51.105Z"
   },
   {
    "duration": 207,
    "start_time": "2022-12-28T22:29:51.113Z"
   },
   {
    "duration": 86750,
    "start_time": "2022-12-28T22:32:24.142Z"
   },
   {
    "duration": 76591,
    "start_time": "2022-12-28T22:33:50.894Z"
   },
   {
    "duration": 4,
    "start_time": "2022-12-28T22:35:07.487Z"
   },
   {
    "duration": 7,
    "start_time": "2022-12-28T22:35:07.493Z"
   },
   {
    "duration": 12,
    "start_time": "2022-12-28T22:35:07.502Z"
   },
   {
    "duration": 67,
    "start_time": "2022-12-28T22:35:07.515Z"
   },
   {
    "duration": 5,
    "start_time": "2022-12-28T22:35:07.584Z"
   },
   {
    "duration": 245,
    "start_time": "2022-12-28T22:35:07.591Z"
   },
   {
    "duration": 5,
    "start_time": "2022-12-28T22:35:19.250Z"
   },
   {
    "duration": 46591,
    "start_time": "2022-12-28T22:35:20.902Z"
   },
   {
    "duration": 8,
    "start_time": "2022-12-28T22:37:41.253Z"
   },
   {
    "duration": 1722,
    "start_time": "2022-12-28T22:42:29.860Z"
   },
   {
    "duration": 49,
    "start_time": "2022-12-28T22:42:31.584Z"
   },
   {
    "duration": 6,
    "start_time": "2022-12-28T22:42:31.635Z"
   },
   {
    "duration": 18,
    "start_time": "2022-12-28T22:42:31.643Z"
   },
   {
    "duration": 16,
    "start_time": "2022-12-28T22:42:31.663Z"
   },
   {
    "duration": 4,
    "start_time": "2022-12-28T22:42:33.781Z"
   },
   {
    "duration": 14,
    "start_time": "2022-12-28T22:42:34.211Z"
   },
   {
    "duration": 317,
    "start_time": "2022-12-28T22:42:34.675Z"
   },
   {
    "duration": 249,
    "start_time": "2022-12-28T22:42:35.158Z"
   },
   {
    "duration": 678,
    "start_time": "2022-12-28T22:42:35.583Z"
   },
   {
    "duration": 6,
    "start_time": "2022-12-28T22:42:36.263Z"
   },
   {
    "duration": 979,
    "start_time": "2022-12-28T22:42:36.464Z"
   },
   {
    "duration": 612,
    "start_time": "2022-12-28T22:42:37.445Z"
   },
   {
    "duration": 2815,
    "start_time": "2022-12-28T22:42:38.772Z"
   },
   {
    "duration": 477,
    "start_time": "2022-12-28T22:42:41.590Z"
   },
   {
    "duration": 3,
    "start_time": "2022-12-28T22:42:42.077Z"
   },
   {
    "duration": 3,
    "start_time": "2022-12-28T22:42:42.535Z"
   },
   {
    "duration": 4,
    "start_time": "2022-12-28T22:42:43.023Z"
   },
   {
    "duration": 34,
    "start_time": "2022-12-28T22:42:43.536Z"
   },
   {
    "duration": 35,
    "start_time": "2022-12-28T22:42:44.108Z"
   },
   {
    "duration": 43,
    "start_time": "2022-12-28T22:42:45.372Z"
   },
   {
    "duration": 27,
    "start_time": "2022-12-28T22:42:45.900Z"
   },
   {
    "duration": 182,
    "start_time": "2022-12-28T22:42:46.999Z"
   },
   {
    "duration": 8,
    "start_time": "2022-12-28T22:42:47.495Z"
   },
   {
    "duration": 225,
    "start_time": "2022-12-28T22:42:48.047Z"
   },
   {
    "duration": 3,
    "start_time": "2022-12-28T22:42:49.112Z"
   },
   {
    "duration": 3,
    "start_time": "2022-12-28T22:42:49.584Z"
   },
   {
    "duration": 4,
    "start_time": "2022-12-28T22:42:50.028Z"
   },
   {
    "duration": 56002,
    "start_time": "2022-12-28T22:42:50.467Z"
   },
   {
    "duration": 4,
    "start_time": "2022-12-28T22:43:46.475Z"
   },
   {
    "duration": 5,
    "start_time": "2022-12-28T22:43:46.480Z"
   },
   {
    "duration": 5,
    "start_time": "2022-12-28T22:43:46.487Z"
   },
   {
    "duration": 38,
    "start_time": "2022-12-28T22:43:46.493Z"
   },
   {
    "duration": 6,
    "start_time": "2022-12-28T22:43:46.532Z"
   },
   {
    "duration": 205,
    "start_time": "2022-12-28T22:43:46.539Z"
   },
   {
    "duration": 71433,
    "start_time": "2022-12-28T22:43:46.745Z"
   },
   {
    "duration": 77716,
    "start_time": "2022-12-28T22:44:58.179Z"
   },
   {
    "duration": 4,
    "start_time": "2022-12-28T22:46:15.897Z"
   },
   {
    "duration": 3,
    "start_time": "2022-12-28T22:46:15.977Z"
   },
   {
    "duration": 19,
    "start_time": "2022-12-28T22:46:15.981Z"
   },
   {
    "duration": 25,
    "start_time": "2022-12-28T22:46:16.002Z"
   },
   {
    "duration": 50,
    "start_time": "2022-12-28T22:46:16.029Z"
   },
   {
    "duration": 190,
    "start_time": "2022-12-28T22:46:16.081Z"
   },
   {
    "duration": 3,
    "start_time": "2022-12-28T22:46:16.276Z"
   },
   {
    "duration": 7,
    "start_time": "2022-12-28T22:46:16.280Z"
   },
   {
    "duration": 8,
    "start_time": "2022-12-28T22:46:16.288Z"
   },
   {
    "duration": 111912,
    "start_time": "2022-12-28T22:46:16.298Z"
   },
   {
    "duration": 6,
    "start_time": "2022-12-28T22:48:08.212Z"
   },
   {
    "duration": 5,
    "start_time": "2022-12-28T22:48:08.219Z"
   },
   {
    "duration": 6,
    "start_time": "2022-12-28T22:48:08.225Z"
   },
   {
    "duration": 9,
    "start_time": "2022-12-28T22:48:08.276Z"
   },
   {
    "duration": 24,
    "start_time": "2022-12-28T22:48:08.287Z"
   },
   {
    "duration": 196,
    "start_time": "2022-12-28T22:48:08.313Z"
   },
   {
    "duration": 3,
    "start_time": "2022-12-28T22:48:08.511Z"
   },
   {
    "duration": 9,
    "start_time": "2022-12-28T22:48:08.515Z"
   },
   {
    "duration": 3,
    "start_time": "2022-12-28T22:48:08.527Z"
   },
   {
    "duration": 7,
    "start_time": "2022-12-28T22:48:08.531Z"
   },
   {
    "duration": 9,
    "start_time": "2022-12-28T22:48:49.420Z"
   },
   {
    "duration": 6,
    "start_time": "2022-12-28T22:48:50.287Z"
   },
   {
    "duration": 177,
    "start_time": "2022-12-28T22:48:52.796Z"
   },
   {
    "duration": 73465,
    "start_time": "2022-12-28T22:50:27.412Z"
   },
   {
    "duration": 86199,
    "start_time": "2022-12-28T22:51:40.880Z"
   },
   {
    "duration": 4,
    "start_time": "2022-12-28T22:53:07.080Z"
   },
   {
    "duration": 11,
    "start_time": "2022-12-28T22:53:07.086Z"
   },
   {
    "duration": 27,
    "start_time": "2022-12-28T22:53:07.098Z"
   },
   {
    "duration": 49,
    "start_time": "2022-12-28T22:53:07.127Z"
   },
   {
    "duration": 5,
    "start_time": "2022-12-28T22:53:07.178Z"
   },
   {
    "duration": 199,
    "start_time": "2022-12-28T22:53:07.184Z"
   },
   {
    "duration": 3,
    "start_time": "2022-12-28T22:55:52.029Z"
   },
   {
    "duration": 3,
    "start_time": "2022-12-28T22:55:52.493Z"
   },
   {
    "duration": 5,
    "start_time": "2022-12-28T22:55:52.924Z"
   },
   {
    "duration": 1605,
    "start_time": "2022-12-28T23:02:40.999Z"
   },
   {
    "duration": 47,
    "start_time": "2022-12-28T23:02:44.942Z"
   },
   {
    "duration": 5,
    "start_time": "2022-12-28T23:02:45.399Z"
   },
   {
    "duration": 9,
    "start_time": "2022-12-28T23:02:45.838Z"
   },
   {
    "duration": 10,
    "start_time": "2022-12-28T23:02:46.281Z"
   },
   {
    "duration": 5,
    "start_time": "2022-12-28T23:02:47.986Z"
   },
   {
    "duration": 13,
    "start_time": "2022-12-28T23:02:48.419Z"
   },
   {
    "duration": 238,
    "start_time": "2022-12-28T23:02:48.802Z"
   },
   {
    "duration": 195,
    "start_time": "2022-12-28T23:02:49.200Z"
   },
   {
    "duration": 582,
    "start_time": "2022-12-28T23:02:49.567Z"
   },
   {
    "duration": 7,
    "start_time": "2022-12-28T23:02:50.151Z"
   },
   {
    "duration": 826,
    "start_time": "2022-12-28T23:02:50.278Z"
   },
   {
    "duration": 515,
    "start_time": "2022-12-28T23:02:51.106Z"
   },
   {
    "duration": 1781,
    "start_time": "2022-12-28T23:02:52.194Z"
   },
   {
    "duration": 368,
    "start_time": "2022-12-28T23:02:53.978Z"
   },
   {
    "duration": 3,
    "start_time": "2022-12-28T23:02:54.729Z"
   },
   {
    "duration": 2,
    "start_time": "2022-12-28T23:02:55.078Z"
   },
   {
    "duration": 3,
    "start_time": "2022-12-28T23:02:55.366Z"
   },
   {
    "duration": 29,
    "start_time": "2022-12-28T23:02:55.766Z"
   },
   {
    "duration": 29,
    "start_time": "2022-12-28T23:02:56.159Z"
   },
   {
    "duration": 38,
    "start_time": "2022-12-28T23:02:56.965Z"
   },
   {
    "duration": 25,
    "start_time": "2022-12-28T23:02:57.351Z"
   },
   {
    "duration": 85,
    "start_time": "2022-12-28T23:02:58.098Z"
   },
   {
    "duration": 5,
    "start_time": "2022-12-28T23:02:58.387Z"
   },
   {
    "duration": 163,
    "start_time": "2022-12-28T23:02:58.674Z"
   },
   {
    "duration": 3,
    "start_time": "2022-12-28T23:02:59.330Z"
   },
   {
    "duration": 3,
    "start_time": "2022-12-28T23:02:59.682Z"
   },
   {
    "duration": 4,
    "start_time": "2022-12-28T23:03:00.050Z"
   },
   {
    "duration": 52636,
    "start_time": "2022-12-28T23:03:00.306Z"
   },
   {
    "duration": 4,
    "start_time": "2022-12-28T23:03:52.944Z"
   },
   {
    "duration": 7,
    "start_time": "2022-12-28T23:03:52.949Z"
   },
   {
    "duration": 6,
    "start_time": "2022-12-28T23:03:52.958Z"
   },
   {
    "duration": 40,
    "start_time": "2022-12-28T23:03:52.965Z"
   },
   {
    "duration": 4,
    "start_time": "2022-12-28T23:03:53.006Z"
   },
   {
    "duration": 174,
    "start_time": "2022-12-28T23:03:53.012Z"
   },
   {
    "duration": 73106,
    "start_time": "2022-12-28T23:03:53.187Z"
   },
   {
    "duration": 64216,
    "start_time": "2022-12-28T23:05:06.377Z"
   },
   {
    "duration": 4,
    "start_time": "2022-12-28T23:06:10.595Z"
   },
   {
    "duration": 10,
    "start_time": "2022-12-28T23:06:10.600Z"
   },
   {
    "duration": 5,
    "start_time": "2022-12-28T23:06:10.612Z"
   },
   {
    "duration": 12,
    "start_time": "2022-12-28T23:06:10.677Z"
   },
   {
    "duration": 10,
    "start_time": "2022-12-28T23:06:10.691Z"
   },
   {
    "duration": 245,
    "start_time": "2022-12-28T23:06:10.702Z"
   },
   {
    "duration": 3,
    "start_time": "2022-12-28T23:06:10.948Z"
   },
   {
    "duration": 7,
    "start_time": "2022-12-28T23:06:10.952Z"
   },
   {
    "duration": 16,
    "start_time": "2022-12-28T23:06:10.960Z"
   },
   {
    "duration": 102305,
    "start_time": "2022-12-28T23:06:10.977Z"
   },
   {
    "duration": 6,
    "start_time": "2022-12-28T23:07:53.283Z"
   },
   {
    "duration": 19,
    "start_time": "2022-12-28T23:07:53.290Z"
   },
   {
    "duration": 18,
    "start_time": "2022-12-28T23:07:53.310Z"
   },
   {
    "duration": 26,
    "start_time": "2022-12-28T23:07:53.329Z"
   },
   {
    "duration": 21,
    "start_time": "2022-12-28T23:07:53.356Z"
   },
   {
    "duration": 171,
    "start_time": "2022-12-28T23:07:53.378Z"
   },
   {
    "duration": 3,
    "start_time": "2022-12-28T23:07:53.550Z"
   },
   {
    "duration": 33,
    "start_time": "2022-12-28T23:07:53.554Z"
   },
   {
    "duration": 25,
    "start_time": "2022-12-28T23:07:53.590Z"
   },
   {
    "duration": 29,
    "start_time": "2022-12-28T23:07:53.616Z"
   },
   {
    "duration": 30,
    "start_time": "2022-12-28T23:07:53.646Z"
   },
   {
    "duration": 39,
    "start_time": "2022-12-28T23:07:53.677Z"
   },
   {
    "duration": 19,
    "start_time": "2022-12-28T23:07:53.717Z"
   },
   {
    "duration": 6,
    "start_time": "2022-12-28T23:25:30.018Z"
   },
   {
    "duration": 1911,
    "start_time": "2022-12-29T19:37:56.372Z"
   },
   {
    "duration": 321,
    "start_time": "2022-12-29T19:37:58.285Z"
   },
   {
    "duration": 6,
    "start_time": "2022-12-29T19:37:58.608Z"
   },
   {
    "duration": 11,
    "start_time": "2022-12-29T19:37:58.930Z"
   },
   {
    "duration": 10,
    "start_time": "2022-12-29T19:37:59.426Z"
   },
   {
    "duration": 5,
    "start_time": "2022-12-29T19:38:01.471Z"
   },
   {
    "duration": 19,
    "start_time": "2022-12-29T19:38:01.910Z"
   },
   {
    "duration": 256,
    "start_time": "2022-12-29T19:38:02.326Z"
   },
   {
    "duration": 218,
    "start_time": "2022-12-29T19:38:02.739Z"
   },
   {
    "duration": 642,
    "start_time": "2022-12-29T19:38:03.183Z"
   },
   {
    "duration": 6,
    "start_time": "2022-12-29T19:38:03.828Z"
   },
   {
    "duration": 973,
    "start_time": "2022-12-29T19:38:04.029Z"
   },
   {
    "duration": 563,
    "start_time": "2022-12-29T19:38:05.004Z"
   },
   {
    "duration": 2054,
    "start_time": "2022-12-29T19:38:06.459Z"
   },
   {
    "duration": 369,
    "start_time": "2022-12-29T19:38:08.516Z"
   },
   {
    "duration": 2,
    "start_time": "2022-12-29T19:38:09.550Z"
   },
   {
    "duration": 3,
    "start_time": "2022-12-29T19:38:09.910Z"
   },
   {
    "duration": 4,
    "start_time": "2022-12-29T19:38:10.564Z"
   },
   {
    "duration": 31,
    "start_time": "2022-12-29T19:38:11.139Z"
   },
   {
    "duration": 32,
    "start_time": "2022-12-29T19:38:11.428Z"
   },
   {
    "duration": 36,
    "start_time": "2022-12-29T19:38:12.234Z"
   },
   {
    "duration": 24,
    "start_time": "2022-12-29T19:38:12.765Z"
   },
   {
    "duration": 68,
    "start_time": "2022-12-29T19:38:13.359Z"
   },
   {
    "duration": 7,
    "start_time": "2022-12-29T19:38:13.626Z"
   },
   {
    "duration": 177,
    "start_time": "2022-12-29T19:38:13.886Z"
   },
   {
    "duration": 2,
    "start_time": "2022-12-29T19:38:14.463Z"
   },
   {
    "duration": 3,
    "start_time": "2022-12-29T19:38:14.750Z"
   },
   {
    "duration": 4,
    "start_time": "2022-12-29T19:38:15.134Z"
   },
   {
    "duration": 36904,
    "start_time": "2022-12-29T19:38:16.042Z"
   },
   {
    "duration": 4,
    "start_time": "2022-12-29T19:38:52.947Z"
   },
   {
    "duration": 15,
    "start_time": "2022-12-29T19:38:52.952Z"
   },
   {
    "duration": 11,
    "start_time": "2022-12-29T19:38:52.969Z"
   },
   {
    "duration": 52,
    "start_time": "2022-12-29T19:38:52.982Z"
   },
   {
    "duration": 5,
    "start_time": "2022-12-29T19:38:53.036Z"
   },
   {
    "duration": 197,
    "start_time": "2022-12-29T19:38:53.043Z"
   },
   {
    "duration": 1790,
    "start_time": "2022-12-29T19:45:01.000Z"
   },
   {
    "duration": 55,
    "start_time": "2022-12-29T19:45:02.792Z"
   },
   {
    "duration": 5,
    "start_time": "2022-12-29T19:45:02.849Z"
   },
   {
    "duration": 8,
    "start_time": "2022-12-29T19:45:02.994Z"
   },
   {
    "duration": 11,
    "start_time": "2022-12-29T19:45:03.232Z"
   },
   {
    "duration": 4,
    "start_time": "2022-12-29T19:45:04.326Z"
   },
   {
    "duration": 14,
    "start_time": "2022-12-29T19:45:04.529Z"
   },
   {
    "duration": 262,
    "start_time": "2022-12-29T19:45:04.756Z"
   },
   {
    "duration": 216,
    "start_time": "2022-12-29T19:45:05.027Z"
   },
   {
    "duration": 638,
    "start_time": "2022-12-29T19:45:05.267Z"
   },
   {
    "duration": 9,
    "start_time": "2022-12-29T19:45:05.907Z"
   },
   {
    "duration": 935,
    "start_time": "2022-12-29T19:45:05.918Z"
   },
   {
    "duration": 554,
    "start_time": "2022-12-29T19:45:06.855Z"
   },
   {
    "duration": 2816,
    "start_time": "2022-12-29T19:45:07.413Z"
   },
   {
    "duration": 450,
    "start_time": "2022-12-29T19:45:10.232Z"
   },
   {
    "duration": 3,
    "start_time": "2022-12-29T19:45:10.683Z"
   },
   {
    "duration": 42,
    "start_time": "2022-12-29T19:45:10.688Z"
   },
   {
    "duration": 18,
    "start_time": "2022-12-29T19:45:10.732Z"
   },
   {
    "duration": 62,
    "start_time": "2022-12-29T19:45:10.752Z"
   },
   {
    "duration": 41,
    "start_time": "2022-12-29T19:45:10.815Z"
   },
   {
    "duration": 32,
    "start_time": "2022-12-29T19:45:10.879Z"
   },
   {
    "duration": 31,
    "start_time": "2022-12-29T19:45:11.308Z"
   },
   {
    "duration": 4,
    "start_time": "2022-12-29T19:45:12.010Z"
   },
   {
    "duration": 3,
    "start_time": "2022-12-29T19:45:12.232Z"
   },
   {
    "duration": 4,
    "start_time": "2022-12-29T19:45:12.456Z"
   },
   {
    "duration": 37391,
    "start_time": "2022-12-29T19:45:12.904Z"
   },
   {
    "duration": 12,
    "start_time": "2022-12-29T19:45:50.296Z"
   },
   {
    "duration": 4,
    "start_time": "2022-12-29T19:45:50.310Z"
   },
   {
    "duration": 32,
    "start_time": "2022-12-29T19:45:50.316Z"
   },
   {
    "duration": 938067,
    "start_time": "2022-12-29T19:45:50.350Z"
   },
   {
    "duration": 70817,
    "start_time": "2022-12-29T20:01:28.418Z"
   },
   {
    "duration": 77,
    "start_time": "2022-12-29T20:02:39.236Z"
   },
   {
    "duration": 33,
    "start_time": "2022-12-29T20:02:39.316Z"
   },
   {
    "duration": 18,
    "start_time": "2022-12-29T20:02:39.351Z"
   },
   {
    "duration": 29,
    "start_time": "2022-12-29T20:02:39.372Z"
   },
   {
    "duration": 14,
    "start_time": "2022-12-29T20:02:39.403Z"
   },
   {
    "duration": 41,
    "start_time": "2022-12-29T20:02:39.418Z"
   },
   {
    "duration": 271153,
    "start_time": "2022-12-29T20:02:39.460Z"
   },
   {
    "duration": 6,
    "start_time": "2022-12-29T20:07:10.614Z"
   },
   {
    "duration": 3,
    "start_time": "2022-12-29T20:07:10.622Z"
   },
   {
    "duration": 7,
    "start_time": "2022-12-29T20:07:10.626Z"
   },
   {
    "duration": 5,
    "start_time": "2022-12-29T20:07:10.634Z"
   },
   {
    "duration": 8,
    "start_time": "2022-12-29T20:07:10.641Z"
   },
   {
    "duration": 5,
    "start_time": "2022-12-29T20:07:10.650Z"
   },
   {
    "duration": 8,
    "start_time": "2022-12-29T20:07:10.656Z"
   },
   {
    "duration": 52,
    "start_time": "2022-12-29T20:07:10.665Z"
   },
   {
    "duration": 6,
    "start_time": "2022-12-29T20:07:10.718Z"
   },
   {
    "duration": 232,
    "start_time": "2022-12-29T20:07:10.725Z"
   },
   {
    "duration": 1604,
    "start_time": "2022-12-29T20:12:57.868Z"
   },
   {
    "duration": 47,
    "start_time": "2022-12-29T20:12:59.474Z"
   },
   {
    "duration": 5,
    "start_time": "2022-12-29T20:12:59.523Z"
   },
   {
    "duration": 11,
    "start_time": "2022-12-29T20:12:59.530Z"
   },
   {
    "duration": 10,
    "start_time": "2022-12-29T20:12:59.542Z"
   },
   {
    "duration": 5,
    "start_time": "2022-12-29T20:12:59.923Z"
   },
   {
    "duration": 12,
    "start_time": "2022-12-29T20:13:00.115Z"
   },
   {
    "duration": 276,
    "start_time": "2022-12-29T20:13:00.308Z"
   },
   {
    "duration": 215,
    "start_time": "2022-12-29T20:13:00.586Z"
   },
   {
    "duration": 622,
    "start_time": "2022-12-29T20:13:00.803Z"
   },
   {
    "duration": 6,
    "start_time": "2022-12-29T20:13:01.427Z"
   },
   {
    "duration": 919,
    "start_time": "2022-12-29T20:13:01.435Z"
   },
   {
    "duration": 515,
    "start_time": "2022-12-29T20:13:02.356Z"
   },
   {
    "duration": 1540,
    "start_time": "2022-12-29T20:13:02.873Z"
   },
   {
    "duration": 366,
    "start_time": "2022-12-29T20:13:04.418Z"
   },
   {
    "duration": 3,
    "start_time": "2022-12-29T20:13:04.785Z"
   },
   {
    "duration": 41,
    "start_time": "2022-12-29T20:13:04.789Z"
   },
   {
    "duration": 3,
    "start_time": "2022-12-29T20:13:04.934Z"
   },
   {
    "duration": 30,
    "start_time": "2022-12-29T20:13:05.460Z"
   },
   {
    "duration": 33,
    "start_time": "2022-12-29T20:13:05.733Z"
   },
   {
    "duration": 38,
    "start_time": "2022-12-29T20:13:06.879Z"
   },
   {
    "duration": 26,
    "start_time": "2022-12-29T20:13:07.328Z"
   },
   {
    "duration": 2,
    "start_time": "2022-12-29T20:13:08.072Z"
   },
   {
    "duration": 3,
    "start_time": "2022-12-29T20:13:08.360Z"
   },
   {
    "duration": 4,
    "start_time": "2022-12-29T20:13:08.616Z"
   },
   {
    "duration": 123,
    "start_time": "2022-12-29T20:13:09.956Z"
   },
   {
    "duration": 11,
    "start_time": "2022-12-29T20:13:10.260Z"
   },
   {
    "duration": 11,
    "start_time": "2022-12-29T20:13:10.548Z"
   },
   {
    "duration": 13597,
    "start_time": "2022-12-29T20:13:22.759Z"
   },
   {
    "duration": 4,
    "start_time": "2022-12-29T20:13:36.358Z"
   },
   {
    "duration": 16,
    "start_time": "2022-12-29T20:13:36.363Z"
   },
   {
    "duration": 9,
    "start_time": "2022-12-29T20:13:36.381Z"
   },
   {
    "duration": 91,
    "start_time": "2022-12-29T20:14:40.436Z"
   },
   {
    "duration": 1685,
    "start_time": "2022-12-29T20:15:07.209Z"
   },
   {
    "duration": 55,
    "start_time": "2022-12-29T20:15:08.896Z"
   },
   {
    "duration": 6,
    "start_time": "2022-12-29T20:15:08.953Z"
   },
   {
    "duration": 48,
    "start_time": "2022-12-29T20:15:08.961Z"
   },
   {
    "duration": 51,
    "start_time": "2022-12-29T20:15:09.011Z"
   },
   {
    "duration": 4,
    "start_time": "2022-12-29T20:15:09.526Z"
   },
   {
    "duration": 14,
    "start_time": "2022-12-29T20:15:09.721Z"
   },
   {
    "duration": 277,
    "start_time": "2022-12-29T20:15:09.899Z"
   },
   {
    "duration": 264,
    "start_time": "2022-12-29T20:15:10.178Z"
   },
   {
    "duration": 644,
    "start_time": "2022-12-29T20:15:10.445Z"
   },
   {
    "duration": 6,
    "start_time": "2022-12-29T20:15:11.090Z"
   },
   {
    "duration": 936,
    "start_time": "2022-12-29T20:15:11.098Z"
   },
   {
    "duration": 541,
    "start_time": "2022-12-29T20:15:12.036Z"
   },
   {
    "duration": 3139,
    "start_time": "2022-12-29T20:15:12.579Z"
   },
   {
    "duration": 357,
    "start_time": "2022-12-29T20:15:15.722Z"
   },
   {
    "duration": 3,
    "start_time": "2022-12-29T20:15:16.081Z"
   },
   {
    "duration": 7,
    "start_time": "2022-12-29T20:15:16.086Z"
   },
   {
    "duration": 6,
    "start_time": "2022-12-29T20:15:16.094Z"
   },
   {
    "duration": 31,
    "start_time": "2022-12-29T20:15:16.116Z"
   },
   {
    "duration": 32,
    "start_time": "2022-12-29T20:15:16.148Z"
   },
   {
    "duration": 57,
    "start_time": "2022-12-29T20:15:16.182Z"
   },
   {
    "duration": 26,
    "start_time": "2022-12-29T20:15:16.241Z"
   },
   {
    "duration": 3,
    "start_time": "2022-12-29T20:15:16.268Z"
   },
   {
    "duration": 7,
    "start_time": "2022-12-29T20:15:16.272Z"
   },
   {
    "duration": 5,
    "start_time": "2022-12-29T20:15:16.281Z"
   },
   {
    "duration": 14172,
    "start_time": "2022-12-29T20:15:16.810Z"
   },
   {
    "duration": 3,
    "start_time": "2022-12-29T20:15:30.984Z"
   },
   {
    "duration": 8,
    "start_time": "2022-12-29T20:15:30.988Z"
   },
   {
    "duration": 33,
    "start_time": "2022-12-29T20:15:30.998Z"
   },
   {
    "duration": 500097,
    "start_time": "2022-12-29T20:15:31.033Z"
   },
   {
    "duration": 186893,
    "start_time": "2022-12-29T20:23:51.132Z"
   },
   {
    "duration": 3,
    "start_time": "2022-12-29T20:26:58.027Z"
   },
   {
    "duration": 13,
    "start_time": "2022-12-29T20:26:58.032Z"
   },
   {
    "duration": 10,
    "start_time": "2022-12-29T20:26:58.047Z"
   },
   {
    "duration": 8,
    "start_time": "2022-12-29T20:26:58.060Z"
   },
   {
    "duration": 43,
    "start_time": "2022-12-29T20:26:58.070Z"
   },
   {
    "duration": 3,
    "start_time": "2022-12-29T20:26:58.115Z"
   }
  ],
  "kernelspec": {
   "display_name": ".venv",
   "language": "python",
   "name": "python3"
  },
  "language_info": {
   "codemirror_mode": {
    "name": "ipython",
    "version": 3
   },
   "file_extension": ".py",
   "mimetype": "text/x-python",
   "name": "python",
   "nbconvert_exporter": "python",
   "pygments_lexer": "ipython3",
   "version": "3.12.1"
  },
  "toc": {
   "base_numbering": 1,
   "nav_menu": {},
   "number_sections": true,
   "sideBar": true,
   "skip_h1_title": true,
   "title_cell": "Содержание",
   "title_sidebar": "Contents",
   "toc_cell": true,
   "toc_position": {},
   "toc_section_display": true,
   "toc_window_display": false
  }
 },
 "nbformat": 4,
 "nbformat_minor": 2
}
